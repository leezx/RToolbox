{
 "cells": [
  {
   "cell_type": "code",
   "execution_count": 14,
   "id": "ca93c0e2",
   "metadata": {},
   "outputs": [],
   "source": [
    "options(stringsAsFactors = F)"
   ]
  },
  {
   "cell_type": "code",
   "execution_count": 182,
   "id": "e2b0afbe",
   "metadata": {},
   "outputs": [],
   "source": [
    "library(CellChat)"
   ]
  },
  {
   "cell_type": "markdown",
   "id": "f1360a73",
   "metadata": {},
   "source": [
    "# human gene anno"
   ]
  },
  {
   "cell_type": "code",
   "execution_count": 15,
   "id": "938ef69d",
   "metadata": {},
   "outputs": [
    {
     "name": "stdout",
     "output_type": "stream",
     "text": [
      "[1] \"gene.anno.GRCh38.v3\"\n"
     ]
    }
   ],
   "source": [
    "print(load(\"../data/gene.anno.GRCh38.v3.rda\"))"
   ]
  },
  {
   "cell_type": "code",
   "execution_count": 16,
   "id": "f34bc632",
   "metadata": {},
   "outputs": [
    {
     "data": {
      "text/html": [
       "<table class=\"dataframe\">\n",
       "<caption>A data.frame: 6 × 6</caption>\n",
       "<thead>\n",
       "\t<tr><th></th><th scope=col>chr</th><th scope=col>start</th><th scope=col>end</th><th scope=col>gene_id</th><th scope=col>gene_name</th><th scope=col>gene_biotype</th></tr>\n",
       "\t<tr><th></th><th scope=col>&lt;chr&gt;</th><th scope=col>&lt;int&gt;</th><th scope=col>&lt;int&gt;</th><th scope=col>&lt;chr&gt;</th><th scope=col>&lt;chr&gt;</th><th scope=col>&lt;chr&gt;</th></tr>\n",
       "</thead>\n",
       "<tbody>\n",
       "\t<tr><th scope=row>1</th><td>1</td><td> 29554</td><td> 31109</td><td>ENSG00000243485</td><td>MIR1302-2HG</td><td>lincRNA       </td></tr>\n",
       "\t<tr><th scope=row>2</th><td>1</td><td> 34554</td><td> 36081</td><td>ENSG00000237613</td><td>FAM138A    </td><td>lincRNA       </td></tr>\n",
       "\t<tr><th scope=row>3</th><td>1</td><td> 65419</td><td> 71585</td><td>ENSG00000186092</td><td>OR4F5      </td><td>protein_coding</td></tr>\n",
       "\t<tr><th scope=row>4</th><td>1</td><td> 89295</td><td>133723</td><td>ENSG00000238009</td><td>AL627309.1 </td><td>lincRNA       </td></tr>\n",
       "\t<tr><th scope=row>5</th><td>1</td><td> 89551</td><td> 91105</td><td>ENSG00000239945</td><td>AL627309.3 </td><td>lincRNA       </td></tr>\n",
       "\t<tr><th scope=row>6</th><td>1</td><td>139790</td><td>140339</td><td>ENSG00000239906</td><td>AL627309.2 </td><td>antisense     </td></tr>\n",
       "</tbody>\n",
       "</table>\n"
      ],
      "text/latex": [
       "A data.frame: 6 × 6\n",
       "\\begin{tabular}{r|llllll}\n",
       "  & chr & start & end & gene\\_id & gene\\_name & gene\\_biotype\\\\\n",
       "  & <chr> & <int> & <int> & <chr> & <chr> & <chr>\\\\\n",
       "\\hline\n",
       "\t1 & 1 &  29554 &  31109 & ENSG00000243485 & MIR1302-2HG & lincRNA       \\\\\n",
       "\t2 & 1 &  34554 &  36081 & ENSG00000237613 & FAM138A     & lincRNA       \\\\\n",
       "\t3 & 1 &  65419 &  71585 & ENSG00000186092 & OR4F5       & protein\\_coding\\\\\n",
       "\t4 & 1 &  89295 & 133723 & ENSG00000238009 & AL627309.1  & lincRNA       \\\\\n",
       "\t5 & 1 &  89551 &  91105 & ENSG00000239945 & AL627309.3  & lincRNA       \\\\\n",
       "\t6 & 1 & 139790 & 140339 & ENSG00000239906 & AL627309.2  & antisense     \\\\\n",
       "\\end{tabular}\n"
      ],
      "text/markdown": [
       "\n",
       "A data.frame: 6 × 6\n",
       "\n",
       "| <!--/--> | chr &lt;chr&gt; | start &lt;int&gt; | end &lt;int&gt; | gene_id &lt;chr&gt; | gene_name &lt;chr&gt; | gene_biotype &lt;chr&gt; |\n",
       "|---|---|---|---|---|---|---|\n",
       "| 1 | 1 |  29554 |  31109 | ENSG00000243485 | MIR1302-2HG | lincRNA        |\n",
       "| 2 | 1 |  34554 |  36081 | ENSG00000237613 | FAM138A     | lincRNA        |\n",
       "| 3 | 1 |  65419 |  71585 | ENSG00000186092 | OR4F5       | protein_coding |\n",
       "| 4 | 1 |  89295 | 133723 | ENSG00000238009 | AL627309.1  | lincRNA        |\n",
       "| 5 | 1 |  89551 |  91105 | ENSG00000239945 | AL627309.3  | lincRNA        |\n",
       "| 6 | 1 | 139790 | 140339 | ENSG00000239906 | AL627309.2  | antisense      |\n",
       "\n"
      ],
      "text/plain": [
       "  chr start  end    gene_id         gene_name   gene_biotype  \n",
       "1 1    29554  31109 ENSG00000243485 MIR1302-2HG lincRNA       \n",
       "2 1    34554  36081 ENSG00000237613 FAM138A     lincRNA       \n",
       "3 1    65419  71585 ENSG00000186092 OR4F5       protein_coding\n",
       "4 1    89295 133723 ENSG00000238009 AL627309.1  lincRNA       \n",
       "5 1    89551  91105 ENSG00000239945 AL627309.3  lincRNA       \n",
       "6 1   139790 140339 ENSG00000239906 AL627309.2  antisense     "
      ]
     },
     "metadata": {},
     "output_type": "display_data"
    }
   ],
   "source": [
    "head(gene.anno.GRCh38.v3)"
   ]
  },
  {
   "cell_type": "markdown",
   "id": "4147d091",
   "metadata": {},
   "source": [
    "## basic stat"
   ]
  },
  {
   "cell_type": "code",
   "execution_count": 17,
   "id": "ba7e6d55",
   "metadata": {},
   "outputs": [],
   "source": [
    "rownames(gene.anno.GRCh38.v3) <- gene.anno.GRCh38.v3$gene_id"
   ]
  },
  {
   "cell_type": "code",
   "execution_count": 126,
   "id": "2e790c5c",
   "metadata": {},
   "outputs": [],
   "source": [
    "gene.anno.GRCh38.v3$chr <- paste(\"chr\",gene.anno.GRCh38.v3$chr,sep = \"\")"
   ]
  },
  {
   "cell_type": "code",
   "execution_count": 18,
   "id": "7677acb3",
   "metadata": {},
   "outputs": [
    {
     "data": {
      "text/html": [
       "<style>\n",
       ".list-inline {list-style: none; margin:0; padding: 0}\n",
       ".list-inline>li {display: inline-block}\n",
       ".list-inline>li:not(:last-child)::after {content: \"\\00b7\"; padding: 0 .5ex}\n",
       "</style>\n",
       "<ol class=list-inline><li>33538</li><li>6</li></ol>\n"
      ],
      "text/latex": [
       "\\begin{enumerate*}\n",
       "\\item 33538\n",
       "\\item 6\n",
       "\\end{enumerate*}\n"
      ],
      "text/markdown": [
       "1. 33538\n",
       "2. 6\n",
       "\n",
       "\n"
      ],
      "text/plain": [
       "[1] 33538     6"
      ]
     },
     "metadata": {},
     "output_type": "display_data"
    }
   ],
   "source": [
    "dim(gene.anno.GRCh38.v3)"
   ]
  },
  {
   "cell_type": "code",
   "execution_count": 21,
   "id": "73a741bb",
   "metadata": {},
   "outputs": [
    {
     "data": {
      "text/plain": [
       "\n",
       "         1         10         11         12         13         14         15 \n",
       "      3154       1230       1921       1765        666       1385       1135 \n",
       "        16         17         18         19          2         20         21 \n",
       "      1531       1894        662       2004       2285        895        502 \n",
       "        22          3          4          5          6          7          8 \n",
       "       837       1719       1353       1661       1632       1539       1320 \n",
       "         9 GL000009.2 GL000194.1 GL000195.1 GL000205.2 GL000213.1 GL000218.1 \n",
       "      1228          1          2          2          1          1          1 \n",
       "GL000219.1 KI270711.1 KI270713.1 KI270721.1 KI270726.1 KI270727.1 KI270728.1 \n",
       "         1          1          2          1          2          4          6 \n",
       "KI270731.1 KI270734.1         MT          X          Y \n",
       "         1          3         13       1078        100 "
      ]
     },
     "metadata": {},
     "output_type": "display_data"
    }
   ],
   "source": [
    "table(gene.anno.GRCh38.v3$chr)"
   ]
  },
  {
   "cell_type": "code",
   "execution_count": 22,
   "id": "4fe0642a",
   "metadata": {},
   "outputs": [
    {
     "data": {
      "text/plain": [
       "\n",
       " protein_coding         lincRNA       antisense IG_V_pseudogene       IG_V_gene \n",
       "          19912            7484            5497             188             144 \n",
       "      TR_V_gene       TR_J_gene       IG_D_gene TR_V_pseudogene       IG_J_gene \n",
       "            106              79              37              33              18 \n",
       "      IG_C_gene IG_C_pseudogene       TR_C_gene       TR_D_gene TR_J_pseudogene \n",
       "             14               9               6               4               4 \n",
       "IG_J_pseudogene \n",
       "              3 "
      ]
     },
     "metadata": {},
     "output_type": "display_data"
    }
   ],
   "source": [
    "sort(table(gene.anno.GRCh38.v3$gene_biotype), decreasing = T)"
   ]
  },
  {
   "cell_type": "markdown",
   "id": "13faa6ab",
   "metadata": {},
   "source": [
    "## human TFs"
   ]
  },
  {
   "cell_type": "markdown",
   "id": "798b8662",
   "metadata": {},
   "source": [
    "- The Human Transcription Factors\n",
    "- http://humantfs.ccbr.utoronto.ca/"
   ]
  },
  {
   "cell_type": "code",
   "execution_count": 1,
   "id": "4cb2e735",
   "metadata": {},
   "outputs": [
    {
     "name": "stdout",
     "output_type": "stream",
     "text": [
      "[1] 1639\n"
     ]
    }
   ],
   "source": [
    "human_TFs <- read.csv(\"http://humantfs.ccbr.utoronto.ca/download/v_1.01/TF_names_v_1.01.txt\", header = F)\n",
    "human_TFs <- human_TFs$V1\n",
    "print(length(human_TFs))\n",
    "human.tfs <- as.character(human_TFs)"
   ]
  },
  {
   "cell_type": "markdown",
   "id": "18ae79dc",
   "metadata": {},
   "source": [
    "- AnimalTFDB (v3.0)\n",
    "- http://bioinfo.life.hust.edu.cn/AnimalTFDB/#!/download"
   ]
  },
  {
   "cell_type": "code",
   "execution_count": 3,
   "id": "aaee8cd4",
   "metadata": {},
   "outputs": [],
   "source": [
    "human_TF2 <- read.csv(\"files/Homo_sapiens_TF.txt\", sep = \"\\t\")"
   ]
  },
  {
   "cell_type": "code",
   "execution_count": 37,
   "id": "572bb3d7",
   "metadata": {},
   "outputs": [
    {
     "data": {
      "text/html": [
       "<style>\n",
       ".list-inline {list-style: none; margin:0; padding: 0}\n",
       ".list-inline>li {display: inline-block}\n",
       ".list-inline>li:not(:last-child)::after {content: \"\\00b7\"; padding: 0 .5ex}\n",
       "</style>\n",
       "<ol class=list-inline><li>1025</li><li>5</li></ol>\n"
      ],
      "text/latex": [
       "\\begin{enumerate*}\n",
       "\\item 1025\n",
       "\\item 5\n",
       "\\end{enumerate*}\n"
      ],
      "text/markdown": [
       "1. 1025\n",
       "2. 5\n",
       "\n",
       "\n"
      ],
      "text/plain": [
       "[1] 1025    5"
      ]
     },
     "metadata": {},
     "output_type": "display_data"
    }
   ],
   "source": [
    "human_TFco <- read.csv(\"files/Homo_sapiens_TF_cofactors.txt\", sep = \"\\t\")\n",
    "dim(human_TFco)"
   ]
  },
  {
   "cell_type": "code",
   "execution_count": 24,
   "id": "05bb7927",
   "metadata": {},
   "outputs": [
    {
     "data": {
      "text/html": [
       "<table class=\"dataframe\">\n",
       "<caption>A data.frame: 6 × 6</caption>\n",
       "<thead>\n",
       "\t<tr><th></th><th scope=col>Species</th><th scope=col>Symbol</th><th scope=col>Ensembl</th><th scope=col>Family</th><th scope=col>Protein</th><th scope=col>Entrez.ID</th></tr>\n",
       "\t<tr><th></th><th scope=col>&lt;chr&gt;</th><th scope=col>&lt;chr&gt;</th><th scope=col>&lt;chr&gt;</th><th scope=col>&lt;chr&gt;</th><th scope=col>&lt;chr&gt;</th><th scope=col>&lt;chr&gt;</th></tr>\n",
       "</thead>\n",
       "<tbody>\n",
       "\t<tr><th scope=row>1</th><td>Homo_sapiens</td><td>ZBTB8B </td><td>ENSG00000273274</td><td>ZBTB    </td><td>ENSP00000476499;ENSP00000476499;                                                </td><td>728116</td></tr>\n",
       "\t<tr><th scope=row>2</th><td>Homo_sapiens</td><td>GSX2   </td><td>ENSG00000180613</td><td>Homeobox</td><td>ENSP00000319118;ENSP00000483522;                                                </td><td>170825</td></tr>\n",
       "\t<tr><th scope=row>3</th><td>Homo_sapiens</td><td>TBX2   </td><td>ENSG00000121068</td><td>T-box   </td><td>ENSP00000404781;ENSP00000240328;                                                </td><td>6909  </td></tr>\n",
       "\t<tr><th scope=row>4</th><td>Homo_sapiens</td><td>PAX8   </td><td>ENSG00000125618</td><td>PAX     </td><td>ENSP00000395498;ENSP00000263335;ENSP00000380768;ENSP00000263334;ENSP00000314750;</td><td>7849  </td></tr>\n",
       "\t<tr><th scope=row>5</th><td>Homo_sapiens</td><td>CREB3L1</td><td>ENSG00000157613</td><td>TF_bZIP </td><td>ENSP00000481956;ENSP00000436574;                                                </td><td>90993 </td></tr>\n",
       "\t<tr><th scope=row>6</th><td>Homo_sapiens</td><td>NKX6-1 </td><td>ENSG00000163623</td><td>Homeobox</td><td>ENSP00000295886;ENSP00000449761;                                                </td><td>4825  </td></tr>\n",
       "</tbody>\n",
       "</table>\n"
      ],
      "text/latex": [
       "A data.frame: 6 × 6\n",
       "\\begin{tabular}{r|llllll}\n",
       "  & Species & Symbol & Ensembl & Family & Protein & Entrez.ID\\\\\n",
       "  & <chr> & <chr> & <chr> & <chr> & <chr> & <chr>\\\\\n",
       "\\hline\n",
       "\t1 & Homo\\_sapiens & ZBTB8B  & ENSG00000273274 & ZBTB     & ENSP00000476499;ENSP00000476499;                                                 & 728116\\\\\n",
       "\t2 & Homo\\_sapiens & GSX2    & ENSG00000180613 & Homeobox & ENSP00000319118;ENSP00000483522;                                                 & 170825\\\\\n",
       "\t3 & Homo\\_sapiens & TBX2    & ENSG00000121068 & T-box    & ENSP00000404781;ENSP00000240328;                                                 & 6909  \\\\\n",
       "\t4 & Homo\\_sapiens & PAX8    & ENSG00000125618 & PAX      & ENSP00000395498;ENSP00000263335;ENSP00000380768;ENSP00000263334;ENSP00000314750; & 7849  \\\\\n",
       "\t5 & Homo\\_sapiens & CREB3L1 & ENSG00000157613 & TF\\_bZIP  & ENSP00000481956;ENSP00000436574;                                                 & 90993 \\\\\n",
       "\t6 & Homo\\_sapiens & NKX6-1  & ENSG00000163623 & Homeobox & ENSP00000295886;ENSP00000449761;                                                 & 4825  \\\\\n",
       "\\end{tabular}\n"
      ],
      "text/markdown": [
       "\n",
       "A data.frame: 6 × 6\n",
       "\n",
       "| <!--/--> | Species &lt;chr&gt; | Symbol &lt;chr&gt; | Ensembl &lt;chr&gt; | Family &lt;chr&gt; | Protein &lt;chr&gt; | Entrez.ID &lt;chr&gt; |\n",
       "|---|---|---|---|---|---|---|\n",
       "| 1 | Homo_sapiens | ZBTB8B  | ENSG00000273274 | ZBTB     | ENSP00000476499;ENSP00000476499;                                                 | 728116 |\n",
       "| 2 | Homo_sapiens | GSX2    | ENSG00000180613 | Homeobox | ENSP00000319118;ENSP00000483522;                                                 | 170825 |\n",
       "| 3 | Homo_sapiens | TBX2    | ENSG00000121068 | T-box    | ENSP00000404781;ENSP00000240328;                                                 | 6909   |\n",
       "| 4 | Homo_sapiens | PAX8    | ENSG00000125618 | PAX      | ENSP00000395498;ENSP00000263335;ENSP00000380768;ENSP00000263334;ENSP00000314750; | 7849   |\n",
       "| 5 | Homo_sapiens | CREB3L1 | ENSG00000157613 | TF_bZIP  | ENSP00000481956;ENSP00000436574;                                                 | 90993  |\n",
       "| 6 | Homo_sapiens | NKX6-1  | ENSG00000163623 | Homeobox | ENSP00000295886;ENSP00000449761;                                                 | 4825   |\n",
       "\n"
      ],
      "text/plain": [
       "  Species      Symbol  Ensembl         Family  \n",
       "1 Homo_sapiens ZBTB8B  ENSG00000273274 ZBTB    \n",
       "2 Homo_sapiens GSX2    ENSG00000180613 Homeobox\n",
       "3 Homo_sapiens TBX2    ENSG00000121068 T-box   \n",
       "4 Homo_sapiens PAX8    ENSG00000125618 PAX     \n",
       "5 Homo_sapiens CREB3L1 ENSG00000157613 TF_bZIP \n",
       "6 Homo_sapiens NKX6-1  ENSG00000163623 Homeobox\n",
       "  Protein                                                                         \n",
       "1 ENSP00000476499;ENSP00000476499;                                                \n",
       "2 ENSP00000319118;ENSP00000483522;                                                \n",
       "3 ENSP00000404781;ENSP00000240328;                                                \n",
       "4 ENSP00000395498;ENSP00000263335;ENSP00000380768;ENSP00000263334;ENSP00000314750;\n",
       "5 ENSP00000481956;ENSP00000436574;                                                \n",
       "6 ENSP00000295886;ENSP00000449761;                                                \n",
       "  Entrez.ID\n",
       "1 728116   \n",
       "2 170825   \n",
       "3 6909     \n",
       "4 7849     \n",
       "5 90993    \n",
       "6 4825     "
      ]
     },
     "metadata": {},
     "output_type": "display_data"
    }
   ],
   "source": [
    "head(human_TF2)"
   ]
  },
  {
   "cell_type": "code",
   "execution_count": 33,
   "id": "2c2f36ef",
   "metadata": {},
   "outputs": [
    {
     "data": {
      "text/html": [
       "<table class=\"dataframe\">\n",
       "<caption>A data.frame: 6 × 5</caption>\n",
       "<thead>\n",
       "\t<tr><th></th><th scope=col>Species</th><th scope=col>Symbol</th><th scope=col>Ensembl</th><th scope=col>Family</th><th scope=col>Entrez.ID</th></tr>\n",
       "\t<tr><th></th><th scope=col>&lt;chr&gt;</th><th scope=col>&lt;chr&gt;</th><th scope=col>&lt;chr&gt;</th><th scope=col>&lt;chr&gt;</th><th scope=col>&lt;chr&gt;</th></tr>\n",
       "</thead>\n",
       "<tbody>\n",
       "\t<tr><th scope=row>1</th><td>Homo_sapiens</td><td>KDM1A </td><td>ENSG00000004487</td><td>Lysine demethylase      </td><td>23028</td></tr>\n",
       "\t<tr><th scope=row>2</th><td>Homo_sapiens</td><td>DVL2  </td><td>ENSG00000004975</td><td>Others                  </td><td>1856 </td></tr>\n",
       "\t<tr><th scope=row>3</th><td>Homo_sapiens</td><td>DHX33 </td><td>ENSG00000005100</td><td>RNA helicase            </td><td>56919</td></tr>\n",
       "\t<tr><th scope=row>4</th><td>Homo_sapiens</td><td>MSL3  </td><td>ENSG00000005302</td><td>Others                  </td><td>10943</td></tr>\n",
       "\t<tr><th scope=row>5</th><td>Homo_sapiens</td><td>CREBBP</td><td>ENSG00000005339</td><td>CREB                    </td><td>1387 </td></tr>\n",
       "\t<tr><th scope=row>6</th><td>Homo_sapiens</td><td>KMT2E </td><td>ENSG00000005483</td><td>Lysine methyltransferase</td><td>55904</td></tr>\n",
       "</tbody>\n",
       "</table>\n"
      ],
      "text/latex": [
       "A data.frame: 6 × 5\n",
       "\\begin{tabular}{r|lllll}\n",
       "  & Species & Symbol & Ensembl & Family & Entrez.ID\\\\\n",
       "  & <chr> & <chr> & <chr> & <chr> & <chr>\\\\\n",
       "\\hline\n",
       "\t1 & Homo\\_sapiens & KDM1A  & ENSG00000004487 & Lysine demethylase       & 23028\\\\\n",
       "\t2 & Homo\\_sapiens & DVL2   & ENSG00000004975 & Others                   & 1856 \\\\\n",
       "\t3 & Homo\\_sapiens & DHX33  & ENSG00000005100 & RNA helicase             & 56919\\\\\n",
       "\t4 & Homo\\_sapiens & MSL3   & ENSG00000005302 & Others                   & 10943\\\\\n",
       "\t5 & Homo\\_sapiens & CREBBP & ENSG00000005339 & CREB                     & 1387 \\\\\n",
       "\t6 & Homo\\_sapiens & KMT2E  & ENSG00000005483 & Lysine methyltransferase & 55904\\\\\n",
       "\\end{tabular}\n"
      ],
      "text/markdown": [
       "\n",
       "A data.frame: 6 × 5\n",
       "\n",
       "| <!--/--> | Species &lt;chr&gt; | Symbol &lt;chr&gt; | Ensembl &lt;chr&gt; | Family &lt;chr&gt; | Entrez.ID &lt;chr&gt; |\n",
       "|---|---|---|---|---|---|\n",
       "| 1 | Homo_sapiens | KDM1A  | ENSG00000004487 | Lysine demethylase       | 23028 |\n",
       "| 2 | Homo_sapiens | DVL2   | ENSG00000004975 | Others                   | 1856  |\n",
       "| 3 | Homo_sapiens | DHX33  | ENSG00000005100 | RNA helicase             | 56919 |\n",
       "| 4 | Homo_sapiens | MSL3   | ENSG00000005302 | Others                   | 10943 |\n",
       "| 5 | Homo_sapiens | CREBBP | ENSG00000005339 | CREB                     | 1387  |\n",
       "| 6 | Homo_sapiens | KMT2E  | ENSG00000005483 | Lysine methyltransferase | 55904 |\n",
       "\n"
      ],
      "text/plain": [
       "  Species      Symbol Ensembl         Family                   Entrez.ID\n",
       "1 Homo_sapiens KDM1A  ENSG00000004487 Lysine demethylase       23028    \n",
       "2 Homo_sapiens DVL2   ENSG00000004975 Others                   1856     \n",
       "3 Homo_sapiens DHX33  ENSG00000005100 RNA helicase             56919    \n",
       "4 Homo_sapiens MSL3   ENSG00000005302 Others                   10943    \n",
       "5 Homo_sapiens CREBBP ENSG00000005339 CREB                     1387     \n",
       "6 Homo_sapiens KMT2E  ENSG00000005483 Lysine methyltransferase 55904    "
      ]
     },
     "metadata": {},
     "output_type": "display_data"
    }
   ],
   "source": [
    "head(human_TFco)"
   ]
  },
  {
   "cell_type": "markdown",
   "id": "728ed255",
   "metadata": {},
   "source": [
    "### overlap"
   ]
  },
  {
   "cell_type": "code",
   "execution_count": 11,
   "id": "7c398101",
   "metadata": {
    "scrolled": false
   },
   "outputs": [
    {
     "data": {
      "image/png": "[encoded data removed]",
      "text/plain": [
       "plot without title"
      ]
     },
     "metadata": {
      "image/png": {
       "height": 420,
       "width": 420
      }
     },
     "output_type": "display_data"
    }
   ],
   "source": [
    "gplots::venn(list(human.tfs=human.tfs, human_TF2=human_TF2$Symbol))"
   ]
  },
  {
   "cell_type": "code",
   "execution_count": null,
   "id": "955c2dc1",
   "metadata": {},
   "outputs": [],
   "source": []
  },
  {
   "cell_type": "code",
   "execution_count": 23,
   "id": "af170eb9",
   "metadata": {},
   "outputs": [],
   "source": [
    "# human.tfs <- unique(c(human.tfs, as.character(human_TF2$Symbol)))\n",
    "# print(length(human.tfs))"
   ]
  },
  {
   "cell_type": "code",
   "execution_count": 26,
   "id": "36a92d26",
   "metadata": {},
   "outputs": [],
   "source": [
    "gene.anno.GRCh38.v3$TF <- \"\""
   ]
  },
  {
   "cell_type": "code",
   "execution_count": 27,
   "id": "8888f39f",
   "metadata": {
    "scrolled": true
   },
   "outputs": [],
   "source": [
    "gene.anno.GRCh38.v3[human_TF2$Ensembl,]$TF <- \"TF\""
   ]
  },
  {
   "cell_type": "code",
   "execution_count": 28,
   "id": "4d325b93",
   "metadata": {},
   "outputs": [
    {
     "data": {
      "text/plain": [
       "\n",
       "         TF \n",
       "31873  1665 "
      ]
     },
     "metadata": {},
     "output_type": "display_data"
    }
   ],
   "source": [
    "table(gene.anno.GRCh38.v3$TF)"
   ]
  },
  {
   "cell_type": "code",
   "execution_count": 30,
   "id": "c5a58d52",
   "metadata": {},
   "outputs": [],
   "source": [
    "gene.anno.GRCh38.v3[gene.anno.GRCh38.v3$gene_name %in% human_TFs,]$TF <- \"TF\""
   ]
  },
  {
   "cell_type": "code",
   "execution_count": 31,
   "id": "ae7eb612",
   "metadata": {},
   "outputs": [
    {
     "data": {
      "text/plain": [
       "\n",
       "         TF \n",
       "31750  1788 "
      ]
     },
     "metadata": {},
     "output_type": "display_data"
    }
   ],
   "source": [
    "table(gene.anno.GRCh38.v3$TF)"
   ]
  },
  {
   "cell_type": "code",
   "execution_count": 34,
   "id": "b4918023",
   "metadata": {},
   "outputs": [],
   "source": [
    "gene.anno.GRCh38.v3$TFcof <- \"\""
   ]
  },
  {
   "cell_type": "code",
   "execution_count": 35,
   "id": "513b3d72",
   "metadata": {},
   "outputs": [],
   "source": [
    "gene.anno.GRCh38.v3[human_TFco$Ensembl,]$TFcof <- \"TF cofactor\""
   ]
  },
  {
   "cell_type": "code",
   "execution_count": 36,
   "id": "43a184ce",
   "metadata": {},
   "outputs": [
    {
     "data": {
      "text/plain": [
       "\n",
       "            TF cofactor \n",
       "      32513        1025 "
      ]
     },
     "metadata": {},
     "output_type": "display_data"
    }
   ],
   "source": [
    "table(gene.anno.GRCh38.v3$TFcof)"
   ]
  },
  {
   "cell_type": "code",
   "execution_count": 39,
   "id": "7c522a2a",
   "metadata": {},
   "outputs": [
    {
     "data": {
      "text/html": [
       "<table class=\"dataframe\">\n",
       "<caption>A data.frame: 6 × 8</caption>\n",
       "<thead>\n",
       "\t<tr><th></th><th scope=col>chr</th><th scope=col>start</th><th scope=col>end</th><th scope=col>gene_id</th><th scope=col>gene_name</th><th scope=col>gene_biotype</th><th scope=col>TF</th><th scope=col>TFcof</th></tr>\n",
       "\t<tr><th></th><th scope=col>&lt;chr&gt;</th><th scope=col>&lt;int&gt;</th><th scope=col>&lt;int&gt;</th><th scope=col>&lt;chr&gt;</th><th scope=col>&lt;chr&gt;</th><th scope=col>&lt;chr&gt;</th><th scope=col>&lt;chr&gt;</th><th scope=col>&lt;chr&gt;</th></tr>\n",
       "</thead>\n",
       "<tbody>\n",
       "\t<tr><th scope=row>ENSG00000157933</th><td>1</td><td> 2228695</td><td> 2310119</td><td>ENSG00000157933</td><td>SKI  </td><td>protein_coding</td><td>TF</td><td>TF cofactor</td></tr>\n",
       "\t<tr><th scope=row>ENSG00000065526</th><td>1</td><td>15847864</td><td>15940460</td><td>ENSG00000065526</td><td>SPEN </td><td>protein_coding</td><td>TF</td><td>TF cofactor</td></tr>\n",
       "\t<tr><th scope=row>ENSG00000010803</th><td>1</td><td>41027200</td><td>41242154</td><td>ENSG00000010803</td><td>SCMH1</td><td>protein_coding</td><td>TF</td><td>TF cofactor</td></tr>\n",
       "\t<tr><th scope=row>ENSG00000137947</th><td>1</td><td>88852932</td><td>88891944</td><td>ENSG00000137947</td><td>GTF2B</td><td>protein_coding</td><td>TF</td><td>TF cofactor</td></tr>\n",
       "\t<tr><th scope=row>ENSG00000143033</th><td>1</td><td>93079235</td><td>93139081</td><td>ENSG00000143033</td><td>MTF2 </td><td>protein_coding</td><td>TF</td><td>TF cofactor</td></tr>\n",
       "\t<tr><th scope=row>ENSG00000117505</th><td>1</td><td>93345888</td><td>93369498</td><td>ENSG00000117505</td><td>DR1  </td><td>protein_coding</td><td>TF</td><td>TF cofactor</td></tr>\n",
       "</tbody>\n",
       "</table>\n"
      ],
      "text/latex": [
       "A data.frame: 6 × 8\n",
       "\\begin{tabular}{r|llllllll}\n",
       "  & chr & start & end & gene\\_id & gene\\_name & gene\\_biotype & TF & TFcof\\\\\n",
       "  & <chr> & <int> & <int> & <chr> & <chr> & <chr> & <chr> & <chr>\\\\\n",
       "\\hline\n",
       "\tENSG00000157933 & 1 &  2228695 &  2310119 & ENSG00000157933 & SKI   & protein\\_coding & TF & TF cofactor\\\\\n",
       "\tENSG00000065526 & 1 & 15847864 & 15940460 & ENSG00000065526 & SPEN  & protein\\_coding & TF & TF cofactor\\\\\n",
       "\tENSG00000010803 & 1 & 41027200 & 41242154 & ENSG00000010803 & SCMH1 & protein\\_coding & TF & TF cofactor\\\\\n",
       "\tENSG00000137947 & 1 & 88852932 & 88891944 & ENSG00000137947 & GTF2B & protein\\_coding & TF & TF cofactor\\\\\n",
       "\tENSG00000143033 & 1 & 93079235 & 93139081 & ENSG00000143033 & MTF2  & protein\\_coding & TF & TF cofactor\\\\\n",
       "\tENSG00000117505 & 1 & 93345888 & 93369498 & ENSG00000117505 & DR1   & protein\\_coding & TF & TF cofactor\\\\\n",
       "\\end{tabular}\n"
      ],
      "text/markdown": [
       "\n",
       "A data.frame: 6 × 8\n",
       "\n",
       "| <!--/--> | chr &lt;chr&gt; | start &lt;int&gt; | end &lt;int&gt; | gene_id &lt;chr&gt; | gene_name &lt;chr&gt; | gene_biotype &lt;chr&gt; | TF &lt;chr&gt; | TFcof &lt;chr&gt; |\n",
       "|---|---|---|---|---|---|---|---|---|\n",
       "| ENSG00000157933 | 1 |  2228695 |  2310119 | ENSG00000157933 | SKI   | protein_coding | TF | TF cofactor |\n",
       "| ENSG00000065526 | 1 | 15847864 | 15940460 | ENSG00000065526 | SPEN  | protein_coding | TF | TF cofactor |\n",
       "| ENSG00000010803 | 1 | 41027200 | 41242154 | ENSG00000010803 | SCMH1 | protein_coding | TF | TF cofactor |\n",
       "| ENSG00000137947 | 1 | 88852932 | 88891944 | ENSG00000137947 | GTF2B | protein_coding | TF | TF cofactor |\n",
       "| ENSG00000143033 | 1 | 93079235 | 93139081 | ENSG00000143033 | MTF2  | protein_coding | TF | TF cofactor |\n",
       "| ENSG00000117505 | 1 | 93345888 | 93369498 | ENSG00000117505 | DR1   | protein_coding | TF | TF cofactor |\n",
       "\n"
      ],
      "text/plain": [
       "                chr start    end      gene_id         gene_name gene_biotype  \n",
       "ENSG00000157933 1    2228695  2310119 ENSG00000157933 SKI       protein_coding\n",
       "ENSG00000065526 1   15847864 15940460 ENSG00000065526 SPEN      protein_coding\n",
       "ENSG00000010803 1   41027200 41242154 ENSG00000010803 SCMH1     protein_coding\n",
       "ENSG00000137947 1   88852932 88891944 ENSG00000137947 GTF2B     protein_coding\n",
       "ENSG00000143033 1   93079235 93139081 ENSG00000143033 MTF2      protein_coding\n",
       "ENSG00000117505 1   93345888 93369498 ENSG00000117505 DR1       protein_coding\n",
       "                TF TFcof      \n",
       "ENSG00000157933 TF TF cofactor\n",
       "ENSG00000065526 TF TF cofactor\n",
       "ENSG00000010803 TF TF cofactor\n",
       "ENSG00000137947 TF TF cofactor\n",
       "ENSG00000143033 TF TF cofactor\n",
       "ENSG00000117505 TF TF cofactor"
      ]
     },
     "metadata": {},
     "output_type": "display_data"
    }
   ],
   "source": [
    "head(subset(gene.anno.GRCh38.v3, TF==\"TF\" & TFcof==\"TF cofactor\"))"
   ]
  },
  {
   "cell_type": "code",
   "execution_count": null,
   "id": "0971776f",
   "metadata": {},
   "outputs": [],
   "source": []
  },
  {
   "cell_type": "markdown",
   "id": "7d217c94",
   "metadata": {},
   "source": [
    "## ligand and receptor"
   ]
  },
  {
   "cell_type": "code",
   "execution_count": 57,
   "id": "3a74918f",
   "metadata": {},
   "outputs": [],
   "source": [
    "LR.df <- CellChatDB.human$interaction"
   ]
  },
  {
   "cell_type": "code",
   "execution_count": 58,
   "id": "60af24fb",
   "metadata": {},
   "outputs": [
    {
     "data": {
      "text/html": [
       "<table class=\"dataframe\">\n",
       "<caption>A data.frame: 6 × 11</caption>\n",
       "<thead>\n",
       "\t<tr><th></th><th scope=col>interaction_name</th><th scope=col>pathway_name</th><th scope=col>ligand</th><th scope=col>receptor</th><th scope=col>agonist</th><th scope=col>antagonist</th><th scope=col>co_A_receptor</th><th scope=col>co_I_receptor</th><th scope=col>evidence</th><th scope=col>annotation</th><th scope=col>interaction_name_2</th></tr>\n",
       "\t<tr><th></th><th scope=col>&lt;chr&gt;</th><th scope=col>&lt;chr&gt;</th><th scope=col>&lt;chr&gt;</th><th scope=col>&lt;chr&gt;</th><th scope=col>&lt;chr&gt;</th><th scope=col>&lt;chr&gt;</th><th scope=col>&lt;chr&gt;</th><th scope=col>&lt;chr&gt;</th><th scope=col>&lt;chr&gt;</th><th scope=col>&lt;chr&gt;</th><th scope=col>&lt;chr&gt;</th></tr>\n",
       "</thead>\n",
       "<tbody>\n",
       "\t<tr><th scope=row>TGFB1_TGFBR1_TGFBR2</th><td>TGFB1_TGFBR1_TGFBR2</td><td>TGFb</td><td>TGFB1</td><td>TGFbR1_R2    </td><td>TGFb agonist</td><td>TGFb antagonist</td><td></td><td>TGFb inhibition receptor</td><td>KEGG: hsa04350</td><td>Secreted Signaling</td><td>TGFB1 - (TGFBR1+TGFBR2)</td></tr>\n",
       "\t<tr><th scope=row>TGFB2_TGFBR1_TGFBR2</th><td>TGFB2_TGFBR1_TGFBR2</td><td>TGFb</td><td>TGFB2</td><td>TGFbR1_R2    </td><td>TGFb agonist</td><td>TGFb antagonist</td><td></td><td>TGFb inhibition receptor</td><td>KEGG: hsa04350</td><td>Secreted Signaling</td><td>TGFB2 - (TGFBR1+TGFBR2)</td></tr>\n",
       "\t<tr><th scope=row>TGFB3_TGFBR1_TGFBR2</th><td>TGFB3_TGFBR1_TGFBR2</td><td>TGFb</td><td>TGFB3</td><td>TGFbR1_R2    </td><td>TGFb agonist</td><td>TGFb antagonist</td><td></td><td>TGFb inhibition receptor</td><td>KEGG: hsa04350</td><td>Secreted Signaling</td><td>TGFB3 - (TGFBR1+TGFBR2)</td></tr>\n",
       "\t<tr><th scope=row>TGFB1_ACVR1B_TGFBR2</th><td>TGFB1_ACVR1B_TGFBR2</td><td>TGFb</td><td>TGFB1</td><td>ACVR1B_TGFbR2</td><td>TGFb agonist</td><td>TGFb antagonist</td><td></td><td>TGFb inhibition receptor</td><td>PMID: 27449815</td><td>Secreted Signaling</td><td>TGFB1 - (ACVR1B+TGFBR2)</td></tr>\n",
       "\t<tr><th scope=row>TGFB1_ACVR1C_TGFBR2</th><td>TGFB1_ACVR1C_TGFBR2</td><td>TGFb</td><td>TGFB1</td><td>ACVR1C_TGFbR2</td><td>TGFb agonist</td><td>TGFb antagonist</td><td></td><td>TGFb inhibition receptor</td><td>PMID: 27449815</td><td>Secreted Signaling</td><td>TGFB1 - (ACVR1C+TGFBR2)</td></tr>\n",
       "\t<tr><th scope=row>TGFB2_ACVR1B_TGFBR2</th><td>TGFB2_ACVR1B_TGFBR2</td><td>TGFb</td><td>TGFB2</td><td>ACVR1B_TGFbR2</td><td>TGFb agonist</td><td>TGFb antagonist</td><td></td><td>TGFb inhibition receptor</td><td>PMID: 27449815</td><td>Secreted Signaling</td><td>TGFB2 - (ACVR1B+TGFBR2)</td></tr>\n",
       "</tbody>\n",
       "</table>\n"
      ],
      "text/latex": [
       "A data.frame: 6 × 11\n",
       "\\begin{tabular}{r|lllllllllll}\n",
       "  & interaction\\_name & pathway\\_name & ligand & receptor & agonist & antagonist & co\\_A\\_receptor & co\\_I\\_receptor & evidence & annotation & interaction\\_name\\_2\\\\\n",
       "  & <chr> & <chr> & <chr> & <chr> & <chr> & <chr> & <chr> & <chr> & <chr> & <chr> & <chr>\\\\\n",
       "\\hline\n",
       "\tTGFB1\\_TGFBR1\\_TGFBR2 & TGFB1\\_TGFBR1\\_TGFBR2 & TGFb & TGFB1 & TGFbR1\\_R2     & TGFb agonist & TGFb antagonist &  & TGFb inhibition receptor & KEGG: hsa04350 & Secreted Signaling & TGFB1 - (TGFBR1+TGFBR2)\\\\\n",
       "\tTGFB2\\_TGFBR1\\_TGFBR2 & TGFB2\\_TGFBR1\\_TGFBR2 & TGFb & TGFB2 & TGFbR1\\_R2     & TGFb agonist & TGFb antagonist &  & TGFb inhibition receptor & KEGG: hsa04350 & Secreted Signaling & TGFB2 - (TGFBR1+TGFBR2)\\\\\n",
       "\tTGFB3\\_TGFBR1\\_TGFBR2 & TGFB3\\_TGFBR1\\_TGFBR2 & TGFb & TGFB3 & TGFbR1\\_R2     & TGFb agonist & TGFb antagonist &  & TGFb inhibition receptor & KEGG: hsa04350 & Secreted Signaling & TGFB3 - (TGFBR1+TGFBR2)\\\\\n",
       "\tTGFB1\\_ACVR1B\\_TGFBR2 & TGFB1\\_ACVR1B\\_TGFBR2 & TGFb & TGFB1 & ACVR1B\\_TGFbR2 & TGFb agonist & TGFb antagonist &  & TGFb inhibition receptor & PMID: 27449815 & Secreted Signaling & TGFB1 - (ACVR1B+TGFBR2)\\\\\n",
       "\tTGFB1\\_ACVR1C\\_TGFBR2 & TGFB1\\_ACVR1C\\_TGFBR2 & TGFb & TGFB1 & ACVR1C\\_TGFbR2 & TGFb agonist & TGFb antagonist &  & TGFb inhibition receptor & PMID: 27449815 & Secreted Signaling & TGFB1 - (ACVR1C+TGFBR2)\\\\\n",
       "\tTGFB2\\_ACVR1B\\_TGFBR2 & TGFB2\\_ACVR1B\\_TGFBR2 & TGFb & TGFB2 & ACVR1B\\_TGFbR2 & TGFb agonist & TGFb antagonist &  & TGFb inhibition receptor & PMID: 27449815 & Secreted Signaling & TGFB2 - (ACVR1B+TGFBR2)\\\\\n",
       "\\end{tabular}\n"
      ],
      "text/markdown": [
       "\n",
       "A data.frame: 6 × 11\n",
       "\n",
       "| <!--/--> | interaction_name &lt;chr&gt; | pathway_name &lt;chr&gt; | ligand &lt;chr&gt; | receptor &lt;chr&gt; | agonist &lt;chr&gt; | antagonist &lt;chr&gt; | co_A_receptor &lt;chr&gt; | co_I_receptor &lt;chr&gt; | evidence &lt;chr&gt; | annotation &lt;chr&gt; | interaction_name_2 &lt;chr&gt; |\n",
       "|---|---|---|---|---|---|---|---|---|---|---|---|\n",
       "| TGFB1_TGFBR1_TGFBR2 | TGFB1_TGFBR1_TGFBR2 | TGFb | TGFB1 | TGFbR1_R2     | TGFb agonist | TGFb antagonist | <!----> | TGFb inhibition receptor | KEGG: hsa04350 | Secreted Signaling | TGFB1 - (TGFBR1+TGFBR2) |\n",
       "| TGFB2_TGFBR1_TGFBR2 | TGFB2_TGFBR1_TGFBR2 | TGFb | TGFB2 | TGFbR1_R2     | TGFb agonist | TGFb antagonist | <!----> | TGFb inhibition receptor | KEGG: hsa04350 | Secreted Signaling | TGFB2 - (TGFBR1+TGFBR2) |\n",
       "| TGFB3_TGFBR1_TGFBR2 | TGFB3_TGFBR1_TGFBR2 | TGFb | TGFB3 | TGFbR1_R2     | TGFb agonist | TGFb antagonist | <!----> | TGFb inhibition receptor | KEGG: hsa04350 | Secreted Signaling | TGFB3 - (TGFBR1+TGFBR2) |\n",
       "| TGFB1_ACVR1B_TGFBR2 | TGFB1_ACVR1B_TGFBR2 | TGFb | TGFB1 | ACVR1B_TGFbR2 | TGFb agonist | TGFb antagonist | <!----> | TGFb inhibition receptor | PMID: 27449815 | Secreted Signaling | TGFB1 - (ACVR1B+TGFBR2) |\n",
       "| TGFB1_ACVR1C_TGFBR2 | TGFB1_ACVR1C_TGFBR2 | TGFb | TGFB1 | ACVR1C_TGFbR2 | TGFb agonist | TGFb antagonist | <!----> | TGFb inhibition receptor | PMID: 27449815 | Secreted Signaling | TGFB1 - (ACVR1C+TGFBR2) |\n",
       "| TGFB2_ACVR1B_TGFBR2 | TGFB2_ACVR1B_TGFBR2 | TGFb | TGFB2 | ACVR1B_TGFbR2 | TGFb agonist | TGFb antagonist | <!----> | TGFb inhibition receptor | PMID: 27449815 | Secreted Signaling | TGFB2 - (ACVR1B+TGFBR2) |\n",
       "\n"
      ],
      "text/plain": [
       "                    interaction_name    pathway_name ligand receptor     \n",
       "TGFB1_TGFBR1_TGFBR2 TGFB1_TGFBR1_TGFBR2 TGFb         TGFB1  TGFbR1_R2    \n",
       "TGFB2_TGFBR1_TGFBR2 TGFB2_TGFBR1_TGFBR2 TGFb         TGFB2  TGFbR1_R2    \n",
       "TGFB3_TGFBR1_TGFBR2 TGFB3_TGFBR1_TGFBR2 TGFb         TGFB3  TGFbR1_R2    \n",
       "TGFB1_ACVR1B_TGFBR2 TGFB1_ACVR1B_TGFBR2 TGFb         TGFB1  ACVR1B_TGFbR2\n",
       "TGFB1_ACVR1C_TGFBR2 TGFB1_ACVR1C_TGFBR2 TGFb         TGFB1  ACVR1C_TGFbR2\n",
       "TGFB2_ACVR1B_TGFBR2 TGFB2_ACVR1B_TGFBR2 TGFb         TGFB2  ACVR1B_TGFbR2\n",
       "                    agonist      antagonist      co_A_receptor\n",
       "TGFB1_TGFBR1_TGFBR2 TGFb agonist TGFb antagonist              \n",
       "TGFB2_TGFBR1_TGFBR2 TGFb agonist TGFb antagonist              \n",
       "TGFB3_TGFBR1_TGFBR2 TGFb agonist TGFb antagonist              \n",
       "TGFB1_ACVR1B_TGFBR2 TGFb agonist TGFb antagonist              \n",
       "TGFB1_ACVR1C_TGFBR2 TGFb agonist TGFb antagonist              \n",
       "TGFB2_ACVR1B_TGFBR2 TGFb agonist TGFb antagonist              \n",
       "                    co_I_receptor            evidence       annotation        \n",
       "TGFB1_TGFBR1_TGFBR2 TGFb inhibition receptor KEGG: hsa04350 Secreted Signaling\n",
       "TGFB2_TGFBR1_TGFBR2 TGFb inhibition receptor KEGG: hsa04350 Secreted Signaling\n",
       "TGFB3_TGFBR1_TGFBR2 TGFb inhibition receptor KEGG: hsa04350 Secreted Signaling\n",
       "TGFB1_ACVR1B_TGFBR2 TGFb inhibition receptor PMID: 27449815 Secreted Signaling\n",
       "TGFB1_ACVR1C_TGFBR2 TGFb inhibition receptor PMID: 27449815 Secreted Signaling\n",
       "TGFB2_ACVR1B_TGFBR2 TGFb inhibition receptor PMID: 27449815 Secreted Signaling\n",
       "                    interaction_name_2     \n",
       "TGFB1_TGFBR1_TGFBR2 TGFB1 - (TGFBR1+TGFBR2)\n",
       "TGFB2_TGFBR1_TGFBR2 TGFB2 - (TGFBR1+TGFBR2)\n",
       "TGFB3_TGFBR1_TGFBR2 TGFB3 - (TGFBR1+TGFBR2)\n",
       "TGFB1_ACVR1B_TGFBR2 TGFB1 - (ACVR1B+TGFBR2)\n",
       "TGFB1_ACVR1C_TGFBR2 TGFB1 - (ACVR1C+TGFBR2)\n",
       "TGFB2_ACVR1B_TGFBR2 TGFB2 - (ACVR1B+TGFBR2)"
      ]
     },
     "metadata": {},
     "output_type": "display_data"
    }
   ],
   "source": [
    "head(LR.df)"
   ]
  },
  {
   "cell_type": "code",
   "execution_count": 59,
   "id": "6f5728d9",
   "metadata": {},
   "outputs": [],
   "source": [
    "tmp <- LR.df$interaction_name_2\n",
    "\n",
    "ligand <- unlist(lapply(tmp, function(x){\n",
    "  strsplit(x, split = \" - \")[[1]][1]\n",
    "} ))"
   ]
  },
  {
   "cell_type": "code",
   "execution_count": 61,
   "id": "08152de6",
   "metadata": {},
   "outputs": [],
   "source": [
    "LR.df$ligand <- ligand"
   ]
  },
  {
   "cell_type": "code",
   "execution_count": null,
   "id": "2f1dcc4e",
   "metadata": {},
   "outputs": [],
   "source": [
    "human.ligand <- unique(ligand)\n",
    "human.ligand <- unique(unlist(strsplit(human.ligand, split = \"_\")))"
   ]
  },
  {
   "cell_type": "code",
   "execution_count": 76,
   "id": "11c49dde",
   "metadata": {},
   "outputs": [
    {
     "data": {
      "text/html": [
       "546"
      ],
      "text/latex": [
       "546"
      ],
      "text/markdown": [
       "546"
      ],
      "text/plain": [
       "[1] 546"
      ]
     },
     "metadata": {},
     "output_type": "display_data"
    }
   ],
   "source": [
    "length(human.ligand)"
   ]
  },
  {
   "cell_type": "code",
   "execution_count": 66,
   "id": "142120ad",
   "metadata": {},
   "outputs": [],
   "source": [
    "receptors <- unlist(lapply(tmp, function(x){\n",
    "  strsplit(x, split = \" - \")[[1]][2]\n",
    "} ))\n",
    "receptors_1 <- receptors[!grepl(\"\\\\+\", receptors)]\n",
    "receptors_2 <- unique(unlist(strsplit(receptors[grepl(\"\\\\+\", receptors)], split = \"\\\\(|\\\\+|\\\\)\")))"
   ]
  },
  {
   "cell_type": "code",
   "execution_count": 69,
   "id": "b9252d56",
   "metadata": {},
   "outputs": [],
   "source": [
    "# LR.df$receptors_1 <- receptors_1\n",
    "# LR.df$receptors_2 <- receptors_2"
   ]
  },
  {
   "cell_type": "code",
   "execution_count": 70,
   "id": "efac263a",
   "metadata": {},
   "outputs": [
    {
     "data": {
      "text/html": [
       "466"
      ],
      "text/latex": [
       "466"
      ],
      "text/markdown": [
       "466"
      ],
      "text/plain": [
       "[1] 466"
      ]
     },
     "metadata": {},
     "output_type": "display_data"
    }
   ],
   "source": [
    "receptors_2 <- receptors_2[!receptors_2 %in% \"\"]\n",
    "human.receptor <- unique(c(receptors_1, receptors_2))\n",
    "length(human.receptor)\n",
    "\n",
    "human.ligand <- trimws(human.ligand)\n",
    "human.receptor <- trimws(human.receptor)"
   ]
  },
  {
   "cell_type": "markdown",
   "id": "3398c12f",
   "metadata": {},
   "source": [
    "### add"
   ]
  },
  {
   "cell_type": "code",
   "execution_count": 72,
   "id": "a93360e2",
   "metadata": {},
   "outputs": [],
   "source": [
    "gene.anno.GRCh38.v3$ligand <- \"\""
   ]
  },
  {
   "cell_type": "code",
   "execution_count": 73,
   "id": "96019f52",
   "metadata": {},
   "outputs": [],
   "source": [
    "gene.anno.GRCh38.v3[gene.anno.GRCh38.v3$gene_name %in% human.ligand,]$ligand <- \"Ligand\""
   ]
  },
  {
   "cell_type": "code",
   "execution_count": 74,
   "id": "4b4fcf7a",
   "metadata": {},
   "outputs": [
    {
     "data": {
      "text/plain": [
       "\n",
       "       Ligand \n",
       " 33019    519 "
      ]
     },
     "metadata": {},
     "output_type": "display_data"
    }
   ],
   "source": [
    "table(gene.anno.GRCh38.v3$ligand)"
   ]
  },
  {
   "cell_type": "code",
   "execution_count": 78,
   "id": "ee50a3bd",
   "metadata": {},
   "outputs": [],
   "source": [
    "gene.anno.GRCh38.v3$receptor <- \"\""
   ]
  },
  {
   "cell_type": "code",
   "execution_count": 79,
   "id": "2f843955",
   "metadata": {},
   "outputs": [],
   "source": [
    "gene.anno.GRCh38.v3[gene.anno.GRCh38.v3$gene_name %in% human.receptor,]$receptor <- \"Receptor\""
   ]
  },
  {
   "cell_type": "code",
   "execution_count": 80,
   "id": "45d5f307",
   "metadata": {},
   "outputs": [
    {
     "data": {
      "text/plain": [
       "\n",
       "         Receptor \n",
       "   33095      443 "
      ]
     },
     "metadata": {},
     "output_type": "display_data"
    }
   ],
   "source": [
    "table(gene.anno.GRCh38.v3$receptor)"
   ]
  },
  {
   "cell_type": "code",
   "execution_count": 81,
   "id": "7b53ee5e",
   "metadata": {},
   "outputs": [
    {
     "data": {
      "text/html": [
       "<table class=\"dataframe\">\n",
       "<caption>A data.frame: 6 × 10</caption>\n",
       "<thead>\n",
       "\t<tr><th></th><th scope=col>chr</th><th scope=col>start</th><th scope=col>end</th><th scope=col>gene_id</th><th scope=col>gene_name</th><th scope=col>gene_biotype</th><th scope=col>TF</th><th scope=col>TFcof</th><th scope=col>ligand</th><th scope=col>receptor</th></tr>\n",
       "\t<tr><th></th><th scope=col>&lt;chr&gt;</th><th scope=col>&lt;int&gt;</th><th scope=col>&lt;int&gt;</th><th scope=col>&lt;chr&gt;</th><th scope=col>&lt;chr&gt;</th><th scope=col>&lt;chr&gt;</th><th scope=col>&lt;chr&gt;</th><th scope=col>&lt;chr&gt;</th><th scope=col>&lt;chr&gt;</th><th scope=col>&lt;chr&gt;</th></tr>\n",
       "</thead>\n",
       "<tbody>\n",
       "\t<tr><th scope=row>ENSG00000243485</th><td>1</td><td> 29554</td><td> 31109</td><td>ENSG00000243485</td><td>MIR1302-2HG</td><td>lincRNA       </td><td></td><td></td><td></td><td></td></tr>\n",
       "\t<tr><th scope=row>ENSG00000237613</th><td>1</td><td> 34554</td><td> 36081</td><td>ENSG00000237613</td><td>FAM138A    </td><td>lincRNA       </td><td></td><td></td><td></td><td></td></tr>\n",
       "\t<tr><th scope=row>ENSG00000186092</th><td>1</td><td> 65419</td><td> 71585</td><td>ENSG00000186092</td><td>OR4F5      </td><td>protein_coding</td><td></td><td></td><td></td><td></td></tr>\n",
       "\t<tr><th scope=row>ENSG00000238009</th><td>1</td><td> 89295</td><td>133723</td><td>ENSG00000238009</td><td>AL627309.1 </td><td>lincRNA       </td><td></td><td></td><td></td><td></td></tr>\n",
       "\t<tr><th scope=row>ENSG00000239945</th><td>1</td><td> 89551</td><td> 91105</td><td>ENSG00000239945</td><td>AL627309.3 </td><td>lincRNA       </td><td></td><td></td><td></td><td></td></tr>\n",
       "\t<tr><th scope=row>ENSG00000239906</th><td>1</td><td>139790</td><td>140339</td><td>ENSG00000239906</td><td>AL627309.2 </td><td>antisense     </td><td></td><td></td><td></td><td></td></tr>\n",
       "</tbody>\n",
       "</table>\n"
      ],
      "text/latex": [
       "A data.frame: 6 × 10\n",
       "\\begin{tabular}{r|llllllllll}\n",
       "  & chr & start & end & gene\\_id & gene\\_name & gene\\_biotype & TF & TFcof & ligand & receptor\\\\\n",
       "  & <chr> & <int> & <int> & <chr> & <chr> & <chr> & <chr> & <chr> & <chr> & <chr>\\\\\n",
       "\\hline\n",
       "\tENSG00000243485 & 1 &  29554 &  31109 & ENSG00000243485 & MIR1302-2HG & lincRNA        &  &  &  & \\\\\n",
       "\tENSG00000237613 & 1 &  34554 &  36081 & ENSG00000237613 & FAM138A     & lincRNA        &  &  &  & \\\\\n",
       "\tENSG00000186092 & 1 &  65419 &  71585 & ENSG00000186092 & OR4F5       & protein\\_coding &  &  &  & \\\\\n",
       "\tENSG00000238009 & 1 &  89295 & 133723 & ENSG00000238009 & AL627309.1  & lincRNA        &  &  &  & \\\\\n",
       "\tENSG00000239945 & 1 &  89551 &  91105 & ENSG00000239945 & AL627309.3  & lincRNA        &  &  &  & \\\\\n",
       "\tENSG00000239906 & 1 & 139790 & 140339 & ENSG00000239906 & AL627309.2  & antisense      &  &  &  & \\\\\n",
       "\\end{tabular}\n"
      ],
      "text/markdown": [
       "\n",
       "A data.frame: 6 × 10\n",
       "\n",
       "| <!--/--> | chr &lt;chr&gt; | start &lt;int&gt; | end &lt;int&gt; | gene_id &lt;chr&gt; | gene_name &lt;chr&gt; | gene_biotype &lt;chr&gt; | TF &lt;chr&gt; | TFcof &lt;chr&gt; | ligand &lt;chr&gt; | receptor &lt;chr&gt; |\n",
       "|---|---|---|---|---|---|---|---|---|---|---|\n",
       "| ENSG00000243485 | 1 |  29554 |  31109 | ENSG00000243485 | MIR1302-2HG | lincRNA        | <!----> | <!----> | <!----> | <!----> |\n",
       "| ENSG00000237613 | 1 |  34554 |  36081 | ENSG00000237613 | FAM138A     | lincRNA        | <!----> | <!----> | <!----> | <!----> |\n",
       "| ENSG00000186092 | 1 |  65419 |  71585 | ENSG00000186092 | OR4F5       | protein_coding | <!----> | <!----> | <!----> | <!----> |\n",
       "| ENSG00000238009 | 1 |  89295 | 133723 | ENSG00000238009 | AL627309.1  | lincRNA        | <!----> | <!----> | <!----> | <!----> |\n",
       "| ENSG00000239945 | 1 |  89551 |  91105 | ENSG00000239945 | AL627309.3  | lincRNA        | <!----> | <!----> | <!----> | <!----> |\n",
       "| ENSG00000239906 | 1 | 139790 | 140339 | ENSG00000239906 | AL627309.2  | antisense      | <!----> | <!----> | <!----> | <!----> |\n",
       "\n"
      ],
      "text/plain": [
       "                chr start  end    gene_id         gene_name   gene_biotype   TF\n",
       "ENSG00000243485 1    29554  31109 ENSG00000243485 MIR1302-2HG lincRNA          \n",
       "ENSG00000237613 1    34554  36081 ENSG00000237613 FAM138A     lincRNA          \n",
       "ENSG00000186092 1    65419  71585 ENSG00000186092 OR4F5       protein_coding   \n",
       "ENSG00000238009 1    89295 133723 ENSG00000238009 AL627309.1  lincRNA          \n",
       "ENSG00000239945 1    89551  91105 ENSG00000239945 AL627309.3  lincRNA          \n",
       "ENSG00000239906 1   139790 140339 ENSG00000239906 AL627309.2  antisense        \n",
       "                TFcof ligand receptor\n",
       "ENSG00000243485                      \n",
       "ENSG00000237613                      \n",
       "ENSG00000186092                      \n",
       "ENSG00000238009                      \n",
       "ENSG00000239945                      \n",
       "ENSG00000239906                      "
      ]
     },
     "metadata": {},
     "output_type": "display_data"
    }
   ],
   "source": [
    "head(gene.anno.GRCh38.v3)"
   ]
  },
  {
   "cell_type": "code",
   "execution_count": 82,
   "id": "94bc0131",
   "metadata": {},
   "outputs": [
    {
     "data": {
      "text/html": [
       "<table class=\"dataframe\">\n",
       "<caption>A data.frame: 6 × 11</caption>\n",
       "<thead>\n",
       "\t<tr><th></th><th scope=col>interaction_name</th><th scope=col>pathway_name</th><th scope=col>ligand</th><th scope=col>receptor</th><th scope=col>agonist</th><th scope=col>antagonist</th><th scope=col>co_A_receptor</th><th scope=col>co_I_receptor</th><th scope=col>evidence</th><th scope=col>annotation</th><th scope=col>interaction_name_2</th></tr>\n",
       "\t<tr><th></th><th scope=col>&lt;chr&gt;</th><th scope=col>&lt;chr&gt;</th><th scope=col>&lt;chr&gt;</th><th scope=col>&lt;chr&gt;</th><th scope=col>&lt;chr&gt;</th><th scope=col>&lt;chr&gt;</th><th scope=col>&lt;chr&gt;</th><th scope=col>&lt;chr&gt;</th><th scope=col>&lt;chr&gt;</th><th scope=col>&lt;chr&gt;</th><th scope=col>&lt;chr&gt;</th></tr>\n",
       "</thead>\n",
       "<tbody>\n",
       "\t<tr><th scope=row>TGFB1_TGFBR1_TGFBR2</th><td>TGFB1_TGFBR1_TGFBR2</td><td>TGFb</td><td>TGFB1</td><td>TGFbR1_R2    </td><td>TGFb agonist</td><td>TGFb antagonist</td><td></td><td>TGFb inhibition receptor</td><td>KEGG: hsa04350</td><td>Secreted Signaling</td><td>TGFB1 - (TGFBR1+TGFBR2)</td></tr>\n",
       "\t<tr><th scope=row>TGFB2_TGFBR1_TGFBR2</th><td>TGFB2_TGFBR1_TGFBR2</td><td>TGFb</td><td>TGFB2</td><td>TGFbR1_R2    </td><td>TGFb agonist</td><td>TGFb antagonist</td><td></td><td>TGFb inhibition receptor</td><td>KEGG: hsa04350</td><td>Secreted Signaling</td><td>TGFB2 - (TGFBR1+TGFBR2)</td></tr>\n",
       "\t<tr><th scope=row>TGFB3_TGFBR1_TGFBR2</th><td>TGFB3_TGFBR1_TGFBR2</td><td>TGFb</td><td>TGFB3</td><td>TGFbR1_R2    </td><td>TGFb agonist</td><td>TGFb antagonist</td><td></td><td>TGFb inhibition receptor</td><td>KEGG: hsa04350</td><td>Secreted Signaling</td><td>TGFB3 - (TGFBR1+TGFBR2)</td></tr>\n",
       "\t<tr><th scope=row>TGFB1_ACVR1B_TGFBR2</th><td>TGFB1_ACVR1B_TGFBR2</td><td>TGFb</td><td>TGFB1</td><td>ACVR1B_TGFbR2</td><td>TGFb agonist</td><td>TGFb antagonist</td><td></td><td>TGFb inhibition receptor</td><td>PMID: 27449815</td><td>Secreted Signaling</td><td>TGFB1 - (ACVR1B+TGFBR2)</td></tr>\n",
       "\t<tr><th scope=row>TGFB1_ACVR1C_TGFBR2</th><td>TGFB1_ACVR1C_TGFBR2</td><td>TGFb</td><td>TGFB1</td><td>ACVR1C_TGFbR2</td><td>TGFb agonist</td><td>TGFb antagonist</td><td></td><td>TGFb inhibition receptor</td><td>PMID: 27449815</td><td>Secreted Signaling</td><td>TGFB1 - (ACVR1C+TGFBR2)</td></tr>\n",
       "\t<tr><th scope=row>TGFB2_ACVR1B_TGFBR2</th><td>TGFB2_ACVR1B_TGFBR2</td><td>TGFb</td><td>TGFB2</td><td>ACVR1B_TGFbR2</td><td>TGFb agonist</td><td>TGFb antagonist</td><td></td><td>TGFb inhibition receptor</td><td>PMID: 27449815</td><td>Secreted Signaling</td><td>TGFB2 - (ACVR1B+TGFBR2)</td></tr>\n",
       "</tbody>\n",
       "</table>\n"
      ],
      "text/latex": [
       "A data.frame: 6 × 11\n",
       "\\begin{tabular}{r|lllllllllll}\n",
       "  & interaction\\_name & pathway\\_name & ligand & receptor & agonist & antagonist & co\\_A\\_receptor & co\\_I\\_receptor & evidence & annotation & interaction\\_name\\_2\\\\\n",
       "  & <chr> & <chr> & <chr> & <chr> & <chr> & <chr> & <chr> & <chr> & <chr> & <chr> & <chr>\\\\\n",
       "\\hline\n",
       "\tTGFB1\\_TGFBR1\\_TGFBR2 & TGFB1\\_TGFBR1\\_TGFBR2 & TGFb & TGFB1 & TGFbR1\\_R2     & TGFb agonist & TGFb antagonist &  & TGFb inhibition receptor & KEGG: hsa04350 & Secreted Signaling & TGFB1 - (TGFBR1+TGFBR2)\\\\\n",
       "\tTGFB2\\_TGFBR1\\_TGFBR2 & TGFB2\\_TGFBR1\\_TGFBR2 & TGFb & TGFB2 & TGFbR1\\_R2     & TGFb agonist & TGFb antagonist &  & TGFb inhibition receptor & KEGG: hsa04350 & Secreted Signaling & TGFB2 - (TGFBR1+TGFBR2)\\\\\n",
       "\tTGFB3\\_TGFBR1\\_TGFBR2 & TGFB3\\_TGFBR1\\_TGFBR2 & TGFb & TGFB3 & TGFbR1\\_R2     & TGFb agonist & TGFb antagonist &  & TGFb inhibition receptor & KEGG: hsa04350 & Secreted Signaling & TGFB3 - (TGFBR1+TGFBR2)\\\\\n",
       "\tTGFB1\\_ACVR1B\\_TGFBR2 & TGFB1\\_ACVR1B\\_TGFBR2 & TGFb & TGFB1 & ACVR1B\\_TGFbR2 & TGFb agonist & TGFb antagonist &  & TGFb inhibition receptor & PMID: 27449815 & Secreted Signaling & TGFB1 - (ACVR1B+TGFBR2)\\\\\n",
       "\tTGFB1\\_ACVR1C\\_TGFBR2 & TGFB1\\_ACVR1C\\_TGFBR2 & TGFb & TGFB1 & ACVR1C\\_TGFbR2 & TGFb agonist & TGFb antagonist &  & TGFb inhibition receptor & PMID: 27449815 & Secreted Signaling & TGFB1 - (ACVR1C+TGFBR2)\\\\\n",
       "\tTGFB2\\_ACVR1B\\_TGFBR2 & TGFB2\\_ACVR1B\\_TGFBR2 & TGFb & TGFB2 & ACVR1B\\_TGFbR2 & TGFb agonist & TGFb antagonist &  & TGFb inhibition receptor & PMID: 27449815 & Secreted Signaling & TGFB2 - (ACVR1B+TGFBR2)\\\\\n",
       "\\end{tabular}\n"
      ],
      "text/markdown": [
       "\n",
       "A data.frame: 6 × 11\n",
       "\n",
       "| <!--/--> | interaction_name &lt;chr&gt; | pathway_name &lt;chr&gt; | ligand &lt;chr&gt; | receptor &lt;chr&gt; | agonist &lt;chr&gt; | antagonist &lt;chr&gt; | co_A_receptor &lt;chr&gt; | co_I_receptor &lt;chr&gt; | evidence &lt;chr&gt; | annotation &lt;chr&gt; | interaction_name_2 &lt;chr&gt; |\n",
       "|---|---|---|---|---|---|---|---|---|---|---|---|\n",
       "| TGFB1_TGFBR1_TGFBR2 | TGFB1_TGFBR1_TGFBR2 | TGFb | TGFB1 | TGFbR1_R2     | TGFb agonist | TGFb antagonist | <!----> | TGFb inhibition receptor | KEGG: hsa04350 | Secreted Signaling | TGFB1 - (TGFBR1+TGFBR2) |\n",
       "| TGFB2_TGFBR1_TGFBR2 | TGFB2_TGFBR1_TGFBR2 | TGFb | TGFB2 | TGFbR1_R2     | TGFb agonist | TGFb antagonist | <!----> | TGFb inhibition receptor | KEGG: hsa04350 | Secreted Signaling | TGFB2 - (TGFBR1+TGFBR2) |\n",
       "| TGFB3_TGFBR1_TGFBR2 | TGFB3_TGFBR1_TGFBR2 | TGFb | TGFB3 | TGFbR1_R2     | TGFb agonist | TGFb antagonist | <!----> | TGFb inhibition receptor | KEGG: hsa04350 | Secreted Signaling | TGFB3 - (TGFBR1+TGFBR2) |\n",
       "| TGFB1_ACVR1B_TGFBR2 | TGFB1_ACVR1B_TGFBR2 | TGFb | TGFB1 | ACVR1B_TGFbR2 | TGFb agonist | TGFb antagonist | <!----> | TGFb inhibition receptor | PMID: 27449815 | Secreted Signaling | TGFB1 - (ACVR1B+TGFBR2) |\n",
       "| TGFB1_ACVR1C_TGFBR2 | TGFB1_ACVR1C_TGFBR2 | TGFb | TGFB1 | ACVR1C_TGFbR2 | TGFb agonist | TGFb antagonist | <!----> | TGFb inhibition receptor | PMID: 27449815 | Secreted Signaling | TGFB1 - (ACVR1C+TGFBR2) |\n",
       "| TGFB2_ACVR1B_TGFBR2 | TGFB2_ACVR1B_TGFBR2 | TGFb | TGFB2 | ACVR1B_TGFbR2 | TGFb agonist | TGFb antagonist | <!----> | TGFb inhibition receptor | PMID: 27449815 | Secreted Signaling | TGFB2 - (ACVR1B+TGFBR2) |\n",
       "\n"
      ],
      "text/plain": [
       "                    interaction_name    pathway_name ligand receptor     \n",
       "TGFB1_TGFBR1_TGFBR2 TGFB1_TGFBR1_TGFBR2 TGFb         TGFB1  TGFbR1_R2    \n",
       "TGFB2_TGFBR1_TGFBR2 TGFB2_TGFBR1_TGFBR2 TGFb         TGFB2  TGFbR1_R2    \n",
       "TGFB3_TGFBR1_TGFBR2 TGFB3_TGFBR1_TGFBR2 TGFb         TGFB3  TGFbR1_R2    \n",
       "TGFB1_ACVR1B_TGFBR2 TGFB1_ACVR1B_TGFBR2 TGFb         TGFB1  ACVR1B_TGFbR2\n",
       "TGFB1_ACVR1C_TGFBR2 TGFB1_ACVR1C_TGFBR2 TGFb         TGFB1  ACVR1C_TGFbR2\n",
       "TGFB2_ACVR1B_TGFBR2 TGFB2_ACVR1B_TGFBR2 TGFb         TGFB2  ACVR1B_TGFbR2\n",
       "                    agonist      antagonist      co_A_receptor\n",
       "TGFB1_TGFBR1_TGFBR2 TGFb agonist TGFb antagonist              \n",
       "TGFB2_TGFBR1_TGFBR2 TGFb agonist TGFb antagonist              \n",
       "TGFB3_TGFBR1_TGFBR2 TGFb agonist TGFb antagonist              \n",
       "TGFB1_ACVR1B_TGFBR2 TGFb agonist TGFb antagonist              \n",
       "TGFB1_ACVR1C_TGFBR2 TGFb agonist TGFb antagonist              \n",
       "TGFB2_ACVR1B_TGFBR2 TGFb agonist TGFb antagonist              \n",
       "                    co_I_receptor            evidence       annotation        \n",
       "TGFB1_TGFBR1_TGFBR2 TGFb inhibition receptor KEGG: hsa04350 Secreted Signaling\n",
       "TGFB2_TGFBR1_TGFBR2 TGFb inhibition receptor KEGG: hsa04350 Secreted Signaling\n",
       "TGFB3_TGFBR1_TGFBR2 TGFb inhibition receptor KEGG: hsa04350 Secreted Signaling\n",
       "TGFB1_ACVR1B_TGFBR2 TGFb inhibition receptor PMID: 27449815 Secreted Signaling\n",
       "TGFB1_ACVR1C_TGFBR2 TGFb inhibition receptor PMID: 27449815 Secreted Signaling\n",
       "TGFB2_ACVR1B_TGFBR2 TGFb inhibition receptor PMID: 27449815 Secreted Signaling\n",
       "                    interaction_name_2     \n",
       "TGFB1_TGFBR1_TGFBR2 TGFB1 - (TGFBR1+TGFBR2)\n",
       "TGFB2_TGFBR1_TGFBR2 TGFB2 - (TGFBR1+TGFBR2)\n",
       "TGFB3_TGFBR1_TGFBR2 TGFB3 - (TGFBR1+TGFBR2)\n",
       "TGFB1_ACVR1B_TGFBR2 TGFB1 - (ACVR1B+TGFBR2)\n",
       "TGFB1_ACVR1C_TGFBR2 TGFB1 - (ACVR1C+TGFBR2)\n",
       "TGFB2_ACVR1B_TGFBR2 TGFB2 - (ACVR1B+TGFBR2)"
      ]
     },
     "metadata": {},
     "output_type": "display_data"
    }
   ],
   "source": [
    "head(LR.df)"
   ]
  },
  {
   "cell_type": "code",
   "execution_count": 119,
   "id": "0c1072df",
   "metadata": {},
   "outputs": [],
   "source": [
    "gene.anno.GRCh38.v3$pathway_name <- \"\"\n",
    "gene.anno.GRCh38.v3$pathway_type <- \"\""
   ]
  },
  {
   "cell_type": "code",
   "execution_count": 122,
   "id": "7bb6d08e",
   "metadata": {},
   "outputs": [],
   "source": [
    "for (i in 1:nrow(gene.anno.GRCh38.v3)) {\n",
    "    tmp.ligand <- gene.anno.GRCh38.v3$ligand[i]\n",
    "    # tmp.receptor <- gene.anno.GRCh38.v3$receptor[i]\n",
    "    if (tmp.ligand==\"\") next\n",
    "    tmp.gene <- gene.anno.GRCh38.v3$gene_name[i]\n",
    "    gene.anno.GRCh38.v3[i,\"pathway_name\"] <- paste(unique(LR.df[grepl(tmp.gene, LR.df$interaction_name_2),]$pathway_name), collapse = \"\")\n",
    "    gene.anno.GRCh38.v3[i,\"pathway_type\"] <- paste(unique(LR.df[grepl(tmp.gene, LR.df$interaction_name_2),]$annotation), collapse = \"\")\n",
    "    # print(i)\n",
    "    # break\n",
    "}"
   ]
  },
  {
   "cell_type": "code",
   "execution_count": 123,
   "id": "464bd297",
   "metadata": {},
   "outputs": [
    {
     "data": {
      "text/html": [
       "<table class=\"dataframe\">\n",
       "<caption>A data.frame: 1 × 12</caption>\n",
       "<thead>\n",
       "\t<tr><th></th><th scope=col>chr</th><th scope=col>start</th><th scope=col>end</th><th scope=col>gene_id</th><th scope=col>gene_name</th><th scope=col>gene_biotype</th><th scope=col>TF</th><th scope=col>TFcof</th><th scope=col>ligand</th><th scope=col>receptor</th><th scope=col>pathway_name</th><th scope=col>pathway_type</th></tr>\n",
       "\t<tr><th></th><th scope=col>&lt;chr&gt;</th><th scope=col>&lt;int&gt;</th><th scope=col>&lt;int&gt;</th><th scope=col>&lt;chr&gt;</th><th scope=col>&lt;chr&gt;</th><th scope=col>&lt;chr&gt;</th><th scope=col>&lt;chr&gt;</th><th scope=col>&lt;chr&gt;</th><th scope=col>&lt;chr&gt;</th><th scope=col>&lt;chr&gt;</th><th scope=col>&lt;chr&gt;</th><th scope=col>&lt;chr&gt;</th></tr>\n",
       "</thead>\n",
       "<tbody>\n",
       "\t<tr><th scope=row>ENSG00000142173</th><td>21</td><td>46098097</td><td>46132849</td><td>ENSG00000142173</td><td>COL6A2</td><td>protein_coding</td><td></td><td></td><td>Ligand</td><td></td><td>COLLAGEN</td><td>ECM-Receptor</td></tr>\n",
       "</tbody>\n",
       "</table>\n"
      ],
      "text/latex": [
       "A data.frame: 1 × 12\n",
       "\\begin{tabular}{r|llllllllllll}\n",
       "  & chr & start & end & gene\\_id & gene\\_name & gene\\_biotype & TF & TFcof & ligand & receptor & pathway\\_name & pathway\\_type\\\\\n",
       "  & <chr> & <int> & <int> & <chr> & <chr> & <chr> & <chr> & <chr> & <chr> & <chr> & <chr> & <chr>\\\\\n",
       "\\hline\n",
       "\tENSG00000142173 & 21 & 46098097 & 46132849 & ENSG00000142173 & COL6A2 & protein\\_coding &  &  & Ligand &  & COLLAGEN & ECM-Receptor\\\\\n",
       "\\end{tabular}\n"
      ],
      "text/markdown": [
       "\n",
       "A data.frame: 1 × 12\n",
       "\n",
       "| <!--/--> | chr &lt;chr&gt; | start &lt;int&gt; | end &lt;int&gt; | gene_id &lt;chr&gt; | gene_name &lt;chr&gt; | gene_biotype &lt;chr&gt; | TF &lt;chr&gt; | TFcof &lt;chr&gt; | ligand &lt;chr&gt; | receptor &lt;chr&gt; | pathway_name &lt;chr&gt; | pathway_type &lt;chr&gt; |\n",
       "|---|---|---|---|---|---|---|---|---|---|---|---|---|\n",
       "| ENSG00000142173 | 21 | 46098097 | 46132849 | ENSG00000142173 | COL6A2 | protein_coding | <!----> | <!----> | Ligand | <!----> | COLLAGEN | ECM-Receptor |\n",
       "\n"
      ],
      "text/plain": [
       "                chr start    end      gene_id         gene_name gene_biotype  \n",
       "ENSG00000142173 21  46098097 46132849 ENSG00000142173 COL6A2    protein_coding\n",
       "                TF TFcof ligand receptor pathway_name pathway_type\n",
       "ENSG00000142173          Ligand          COLLAGEN     ECM-Receptor"
      ]
     },
     "metadata": {},
     "output_type": "display_data"
    }
   ],
   "source": [
    "subset(gene.anno.GRCh38.v3, gene_name==tmp.gene)"
   ]
  },
  {
   "cell_type": "code",
   "execution_count": 124,
   "id": "37206803",
   "metadata": {},
   "outputs": [
    {
     "data": {
      "text/html": [
       "<table class=\"dataframe\">\n",
       "<caption>A data.frame: 11 × 11</caption>\n",
       "<thead>\n",
       "\t<tr><th></th><th scope=col>interaction_name</th><th scope=col>pathway_name</th><th scope=col>ligand</th><th scope=col>receptor</th><th scope=col>agonist</th><th scope=col>antagonist</th><th scope=col>co_A_receptor</th><th scope=col>co_I_receptor</th><th scope=col>evidence</th><th scope=col>annotation</th><th scope=col>interaction_name_2</th></tr>\n",
       "\t<tr><th></th><th scope=col>&lt;chr&gt;</th><th scope=col>&lt;chr&gt;</th><th scope=col>&lt;chr&gt;</th><th scope=col>&lt;chr&gt;</th><th scope=col>&lt;chr&gt;</th><th scope=col>&lt;chr&gt;</th><th scope=col>&lt;chr&gt;</th><th scope=col>&lt;chr&gt;</th><th scope=col>&lt;chr&gt;</th><th scope=col>&lt;chr&gt;</th><th scope=col>&lt;chr&gt;</th></tr>\n",
       "</thead>\n",
       "<tbody>\n",
       "\t<tr><th scope=row>COL6A2_ITGA1_ITGB1</th><td>COL6A2_ITGA1_ITGB1 </td><td>COLLAGEN</td><td>COL6A2</td><td>ITGA1_ITGB1 </td><td></td><td></td><td></td><td></td><td>KEGG: hsa04512</td><td>ECM-Receptor</td><td>COL6A2 - (ITGA1+ITGB1) </td></tr>\n",
       "\t<tr><th scope=row>COL6A2_ITGA2_ITGB1</th><td>COL6A2_ITGA2_ITGB1 </td><td>COLLAGEN</td><td>COL6A2</td><td>ITGA2_ITGB1 </td><td></td><td></td><td></td><td></td><td>KEGG: hsa04512</td><td>ECM-Receptor</td><td>COL6A2 - (ITGA2+ITGB1) </td></tr>\n",
       "\t<tr><th scope=row>COL6A2_ITGA3_ITGB1</th><td>COL6A2_ITGA3_ITGB1 </td><td>COLLAGEN</td><td>COL6A2</td><td>ITGA3_ITGB1 </td><td></td><td></td><td></td><td></td><td>KEGG: hsa04512</td><td>ECM-Receptor</td><td>COL6A2 - (ITGA3+ITGB1) </td></tr>\n",
       "\t<tr><th scope=row>COL6A2_ITGA9_ITGB1</th><td>COL6A2_ITGA9_ITGB1 </td><td>COLLAGEN</td><td>COL6A2</td><td>ITGA9_ITGB1 </td><td></td><td></td><td></td><td></td><td>KEGG: hsa04512</td><td>ECM-Receptor</td><td>COL6A2 - (ITGA9+ITGB1) </td></tr>\n",
       "\t<tr><th scope=row>COL6A2_ITGA10_ITGB1</th><td>COL6A2_ITGA10_ITGB1</td><td>COLLAGEN</td><td>COL6A2</td><td>ITGA10_ITGB1</td><td></td><td></td><td></td><td></td><td>KEGG: hsa04512</td><td>ECM-Receptor</td><td>COL6A2 - (ITGA10+ITGB1)</td></tr>\n",
       "\t<tr><th scope=row>COL6A2_ITGA11_ITGB1</th><td>COL6A2_ITGA11_ITGB1</td><td>COLLAGEN</td><td>COL6A2</td><td>ITGA11_ITGB1</td><td></td><td></td><td></td><td></td><td>KEGG: hsa04512</td><td>ECM-Receptor</td><td>COL6A2 - (ITGA11+ITGB1)</td></tr>\n",
       "\t<tr><th scope=row>COL6A2_ITGAV_ITGB8</th><td>COL6A2_ITGAV_ITGB8 </td><td>COLLAGEN</td><td>COL6A2</td><td>ITGAV_ITGB8 </td><td></td><td></td><td></td><td></td><td>KEGG: hsa04512</td><td>ECM-Receptor</td><td>COL6A2 - (ITGAV+ITGB8) </td></tr>\n",
       "\t<tr><th scope=row>COL6A2_CD44</th><td>COL6A2_CD44        </td><td>COLLAGEN</td><td>COL6A2</td><td>CD44        </td><td></td><td></td><td></td><td></td><td>KEGG: hsa04512</td><td>ECM-Receptor</td><td>COL6A2 - CD44          </td></tr>\n",
       "\t<tr><th scope=row>COL6A2_SDC1</th><td>COL6A2_SDC1        </td><td>COLLAGEN</td><td>COL6A2</td><td>SDC1        </td><td></td><td></td><td></td><td></td><td>KEGG: hsa04512</td><td>ECM-Receptor</td><td>COL6A2 - SDC1          </td></tr>\n",
       "\t<tr><th scope=row>COL6A2_SDC4</th><td>COL6A2_SDC4        </td><td>COLLAGEN</td><td>COL6A2</td><td>SDC4        </td><td></td><td></td><td></td><td></td><td>KEGG: hsa04512</td><td>ECM-Receptor</td><td>COL6A2 - SDC4          </td></tr>\n",
       "\t<tr><th scope=row>COL6A2_GP6</th><td>COL6A2_GP6         </td><td>COLLAGEN</td><td>COL6A2</td><td>GP6         </td><td></td><td></td><td></td><td></td><td>KEGG: hsa04512</td><td>ECM-Receptor</td><td>COL6A2 - GP6           </td></tr>\n",
       "</tbody>\n",
       "</table>\n"
      ],
      "text/latex": [
       "A data.frame: 11 × 11\n",
       "\\begin{tabular}{r|lllllllllll}\n",
       "  & interaction\\_name & pathway\\_name & ligand & receptor & agonist & antagonist & co\\_A\\_receptor & co\\_I\\_receptor & evidence & annotation & interaction\\_name\\_2\\\\\n",
       "  & <chr> & <chr> & <chr> & <chr> & <chr> & <chr> & <chr> & <chr> & <chr> & <chr> & <chr>\\\\\n",
       "\\hline\n",
       "\tCOL6A2\\_ITGA1\\_ITGB1 & COL6A2\\_ITGA1\\_ITGB1  & COLLAGEN & COL6A2 & ITGA1\\_ITGB1  &  &  &  &  & KEGG: hsa04512 & ECM-Receptor & COL6A2 - (ITGA1+ITGB1) \\\\\n",
       "\tCOL6A2\\_ITGA2\\_ITGB1 & COL6A2\\_ITGA2\\_ITGB1  & COLLAGEN & COL6A2 & ITGA2\\_ITGB1  &  &  &  &  & KEGG: hsa04512 & ECM-Receptor & COL6A2 - (ITGA2+ITGB1) \\\\\n",
       "\tCOL6A2\\_ITGA3\\_ITGB1 & COL6A2\\_ITGA3\\_ITGB1  & COLLAGEN & COL6A2 & ITGA3\\_ITGB1  &  &  &  &  & KEGG: hsa04512 & ECM-Receptor & COL6A2 - (ITGA3+ITGB1) \\\\\n",
       "\tCOL6A2\\_ITGA9\\_ITGB1 & COL6A2\\_ITGA9\\_ITGB1  & COLLAGEN & COL6A2 & ITGA9\\_ITGB1  &  &  &  &  & KEGG: hsa04512 & ECM-Receptor & COL6A2 - (ITGA9+ITGB1) \\\\\n",
       "\tCOL6A2\\_ITGA10\\_ITGB1 & COL6A2\\_ITGA10\\_ITGB1 & COLLAGEN & COL6A2 & ITGA10\\_ITGB1 &  &  &  &  & KEGG: hsa04512 & ECM-Receptor & COL6A2 - (ITGA10+ITGB1)\\\\\n",
       "\tCOL6A2\\_ITGA11\\_ITGB1 & COL6A2\\_ITGA11\\_ITGB1 & COLLAGEN & COL6A2 & ITGA11\\_ITGB1 &  &  &  &  & KEGG: hsa04512 & ECM-Receptor & COL6A2 - (ITGA11+ITGB1)\\\\\n",
       "\tCOL6A2\\_ITGAV\\_ITGB8 & COL6A2\\_ITGAV\\_ITGB8  & COLLAGEN & COL6A2 & ITGAV\\_ITGB8  &  &  &  &  & KEGG: hsa04512 & ECM-Receptor & COL6A2 - (ITGAV+ITGB8) \\\\\n",
       "\tCOL6A2\\_CD44 & COL6A2\\_CD44         & COLLAGEN & COL6A2 & CD44         &  &  &  &  & KEGG: hsa04512 & ECM-Receptor & COL6A2 - CD44          \\\\\n",
       "\tCOL6A2\\_SDC1 & COL6A2\\_SDC1         & COLLAGEN & COL6A2 & SDC1         &  &  &  &  & KEGG: hsa04512 & ECM-Receptor & COL6A2 - SDC1          \\\\\n",
       "\tCOL6A2\\_SDC4 & COL6A2\\_SDC4         & COLLAGEN & COL6A2 & SDC4         &  &  &  &  & KEGG: hsa04512 & ECM-Receptor & COL6A2 - SDC4          \\\\\n",
       "\tCOL6A2\\_GP6 & COL6A2\\_GP6          & COLLAGEN & COL6A2 & GP6          &  &  &  &  & KEGG: hsa04512 & ECM-Receptor & COL6A2 - GP6           \\\\\n",
       "\\end{tabular}\n"
      ],
      "text/markdown": [
       "\n",
       "A data.frame: 11 × 11\n",
       "\n",
       "| <!--/--> | interaction_name &lt;chr&gt; | pathway_name &lt;chr&gt; | ligand &lt;chr&gt; | receptor &lt;chr&gt; | agonist &lt;chr&gt; | antagonist &lt;chr&gt; | co_A_receptor &lt;chr&gt; | co_I_receptor &lt;chr&gt; | evidence &lt;chr&gt; | annotation &lt;chr&gt; | interaction_name_2 &lt;chr&gt; |\n",
       "|---|---|---|---|---|---|---|---|---|---|---|---|\n",
       "| COL6A2_ITGA1_ITGB1 | COL6A2_ITGA1_ITGB1  | COLLAGEN | COL6A2 | ITGA1_ITGB1  | <!----> | <!----> | <!----> | <!----> | KEGG: hsa04512 | ECM-Receptor | COL6A2 - (ITGA1+ITGB1)  |\n",
       "| COL6A2_ITGA2_ITGB1 | COL6A2_ITGA2_ITGB1  | COLLAGEN | COL6A2 | ITGA2_ITGB1  | <!----> | <!----> | <!----> | <!----> | KEGG: hsa04512 | ECM-Receptor | COL6A2 - (ITGA2+ITGB1)  |\n",
       "| COL6A2_ITGA3_ITGB1 | COL6A2_ITGA3_ITGB1  | COLLAGEN | COL6A2 | ITGA3_ITGB1  | <!----> | <!----> | <!----> | <!----> | KEGG: hsa04512 | ECM-Receptor | COL6A2 - (ITGA3+ITGB1)  |\n",
       "| COL6A2_ITGA9_ITGB1 | COL6A2_ITGA9_ITGB1  | COLLAGEN | COL6A2 | ITGA9_ITGB1  | <!----> | <!----> | <!----> | <!----> | KEGG: hsa04512 | ECM-Receptor | COL6A2 - (ITGA9+ITGB1)  |\n",
       "| COL6A2_ITGA10_ITGB1 | COL6A2_ITGA10_ITGB1 | COLLAGEN | COL6A2 | ITGA10_ITGB1 | <!----> | <!----> | <!----> | <!----> | KEGG: hsa04512 | ECM-Receptor | COL6A2 - (ITGA10+ITGB1) |\n",
       "| COL6A2_ITGA11_ITGB1 | COL6A2_ITGA11_ITGB1 | COLLAGEN | COL6A2 | ITGA11_ITGB1 | <!----> | <!----> | <!----> | <!----> | KEGG: hsa04512 | ECM-Receptor | COL6A2 - (ITGA11+ITGB1) |\n",
       "| COL6A2_ITGAV_ITGB8 | COL6A2_ITGAV_ITGB8  | COLLAGEN | COL6A2 | ITGAV_ITGB8  | <!----> | <!----> | <!----> | <!----> | KEGG: hsa04512 | ECM-Receptor | COL6A2 - (ITGAV+ITGB8)  |\n",
       "| COL6A2_CD44 | COL6A2_CD44         | COLLAGEN | COL6A2 | CD44         | <!----> | <!----> | <!----> | <!----> | KEGG: hsa04512 | ECM-Receptor | COL6A2 - CD44           |\n",
       "| COL6A2_SDC1 | COL6A2_SDC1         | COLLAGEN | COL6A2 | SDC1         | <!----> | <!----> | <!----> | <!----> | KEGG: hsa04512 | ECM-Receptor | COL6A2 - SDC1           |\n",
       "| COL6A2_SDC4 | COL6A2_SDC4         | COLLAGEN | COL6A2 | SDC4         | <!----> | <!----> | <!----> | <!----> | KEGG: hsa04512 | ECM-Receptor | COL6A2 - SDC4           |\n",
       "| COL6A2_GP6 | COL6A2_GP6          | COLLAGEN | COL6A2 | GP6          | <!----> | <!----> | <!----> | <!----> | KEGG: hsa04512 | ECM-Receptor | COL6A2 - GP6            |\n",
       "\n"
      ],
      "text/plain": [
       "                    interaction_name    pathway_name ligand receptor    \n",
       "COL6A2_ITGA1_ITGB1  COL6A2_ITGA1_ITGB1  COLLAGEN     COL6A2 ITGA1_ITGB1 \n",
       "COL6A2_ITGA2_ITGB1  COL6A2_ITGA2_ITGB1  COLLAGEN     COL6A2 ITGA2_ITGB1 \n",
       "COL6A2_ITGA3_ITGB1  COL6A2_ITGA3_ITGB1  COLLAGEN     COL6A2 ITGA3_ITGB1 \n",
       "COL6A2_ITGA9_ITGB1  COL6A2_ITGA9_ITGB1  COLLAGEN     COL6A2 ITGA9_ITGB1 \n",
       "COL6A2_ITGA10_ITGB1 COL6A2_ITGA10_ITGB1 COLLAGEN     COL6A2 ITGA10_ITGB1\n",
       "COL6A2_ITGA11_ITGB1 COL6A2_ITGA11_ITGB1 COLLAGEN     COL6A2 ITGA11_ITGB1\n",
       "COL6A2_ITGAV_ITGB8  COL6A2_ITGAV_ITGB8  COLLAGEN     COL6A2 ITGAV_ITGB8 \n",
       "COL6A2_CD44         COL6A2_CD44         COLLAGEN     COL6A2 CD44        \n",
       "COL6A2_SDC1         COL6A2_SDC1         COLLAGEN     COL6A2 SDC1        \n",
       "COL6A2_SDC4         COL6A2_SDC4         COLLAGEN     COL6A2 SDC4        \n",
       "COL6A2_GP6          COL6A2_GP6          COLLAGEN     COL6A2 GP6         \n",
       "                    agonist antagonist co_A_receptor co_I_receptor\n",
       "COL6A2_ITGA1_ITGB1                                                \n",
       "COL6A2_ITGA2_ITGB1                                                \n",
       "COL6A2_ITGA3_ITGB1                                                \n",
       "COL6A2_ITGA9_ITGB1                                                \n",
       "COL6A2_ITGA10_ITGB1                                               \n",
       "COL6A2_ITGA11_ITGB1                                               \n",
       "COL6A2_ITGAV_ITGB8                                                \n",
       "COL6A2_CD44                                                       \n",
       "COL6A2_SDC1                                                       \n",
       "COL6A2_SDC4                                                       \n",
       "COL6A2_GP6                                                        \n",
       "                    evidence       annotation   interaction_name_2     \n",
       "COL6A2_ITGA1_ITGB1  KEGG: hsa04512 ECM-Receptor COL6A2 - (ITGA1+ITGB1) \n",
       "COL6A2_ITGA2_ITGB1  KEGG: hsa04512 ECM-Receptor COL6A2 - (ITGA2+ITGB1) \n",
       "COL6A2_ITGA3_ITGB1  KEGG: hsa04512 ECM-Receptor COL6A2 - (ITGA3+ITGB1) \n",
       "COL6A2_ITGA9_ITGB1  KEGG: hsa04512 ECM-Receptor COL6A2 - (ITGA9+ITGB1) \n",
       "COL6A2_ITGA10_ITGB1 KEGG: hsa04512 ECM-Receptor COL6A2 - (ITGA10+ITGB1)\n",
       "COL6A2_ITGA11_ITGB1 KEGG: hsa04512 ECM-Receptor COL6A2 - (ITGA11+ITGB1)\n",
       "COL6A2_ITGAV_ITGB8  KEGG: hsa04512 ECM-Receptor COL6A2 - (ITGAV+ITGB8) \n",
       "COL6A2_CD44         KEGG: hsa04512 ECM-Receptor COL6A2 - CD44          \n",
       "COL6A2_SDC1         KEGG: hsa04512 ECM-Receptor COL6A2 - SDC1          \n",
       "COL6A2_SDC4         KEGG: hsa04512 ECM-Receptor COL6A2 - SDC4          \n",
       "COL6A2_GP6          KEGG: hsa04512 ECM-Receptor COL6A2 - GP6           "
      ]
     },
     "metadata": {},
     "output_type": "display_data"
    }
   ],
   "source": [
    "LR.df[grepl(tmp.gene, LR.df$interaction_name_2),]"
   ]
  },
  {
   "cell_type": "markdown",
   "id": "ed309b4a",
   "metadata": {},
   "source": [
    "## RBP (RNA-binding protein)\n",
    "- RNA splicing\n",
    "- http://rbpdb.ccbr.utoronto.ca/download.php"
   ]
  },
  {
   "cell_type": "code",
   "execution_count": 133,
   "id": "a5389e98",
   "metadata": {},
   "outputs": [
    {
     "data": {
      "text/html": [
       "<style>\n",
       ".list-inline {list-style: none; margin:0; padding: 0}\n",
       ".list-inline>li {display: inline-block}\n",
       ".list-inline>li:not(:last-child)::after {content: \"\\00b7\"; padding: 0 .5ex}\n",
       "</style>\n",
       "<ol class=list-inline><li>416</li><li>12</li></ol>\n"
      ],
      "text/latex": [
       "\\begin{enumerate*}\n",
       "\\item 416\n",
       "\\item 12\n",
       "\\end{enumerate*}\n"
      ],
      "text/markdown": [
       "1. 416\n",
       "2. 12\n",
       "\n",
       "\n"
      ],
      "text/plain": [
       "[1] 416  12"
      ]
     },
     "metadata": {},
     "output_type": "display_data"
    }
   ],
   "source": [
    "RBP.df <- read.csv(\"files/RBPDB_v1.3.1_proteins_human_2012-11-21.csv\", header = F, row.names = 2)\n",
    "dim(RBP.df)"
   ]
  },
  {
   "cell_type": "code",
   "execution_count": 135,
   "id": "6510915f",
   "metadata": {},
   "outputs": [],
   "source": [
    "gene.anno.GRCh38.v3$RBP <- \"\""
   ]
  },
  {
   "cell_type": "code",
   "execution_count": 136,
   "id": "18fd7890",
   "metadata": {},
   "outputs": [],
   "source": [
    "gene.anno.GRCh38.v3[rownames(RBP.df),]$RBP <- \"RBP\""
   ]
  },
  {
   "cell_type": "code",
   "execution_count": 201,
   "id": "a6f04af4",
   "metadata": {},
   "outputs": [],
   "source": [
    "gene.anno.GRCh38.v3[ gene.anno.GRCh38.v3$gene_name %in% RBP.df$V5, ]$RBP <- \"RBP\""
   ]
  },
  {
   "cell_type": "code",
   "execution_count": 202,
   "id": "40dd98d8",
   "metadata": {},
   "outputs": [
    {
     "data": {
      "text/plain": [
       "\n",
       "        RBP \n",
       "33130   426 "
      ]
     },
     "metadata": {},
     "output_type": "display_data"
    }
   ],
   "source": [
    "table(gene.anno.GRCh38.v3$RBP)"
   ]
  },
  {
   "cell_type": "markdown",
   "id": "7b2fa6e6",
   "metadata": {},
   "source": [
    "## histome modifier"
   ]
  },
  {
   "cell_type": "code",
   "execution_count": 140,
   "id": "c58bb5f0",
   "metadata": {},
   "outputs": [
    {
     "data": {
      "text/html": [
       "<table class=\"dataframe\">\n",
       "<caption>A data.frame: 6 × 14</caption>\n",
       "<thead>\n",
       "\t<tr><th></th><th scope=col>chr</th><th scope=col>start</th><th scope=col>end</th><th scope=col>gene_id</th><th scope=col>gene_name</th><th scope=col>gene_biotype</th><th scope=col>TF</th><th scope=col>TFcof</th><th scope=col>ligand</th><th scope=col>receptor</th><th scope=col>pathway_name</th><th scope=col>pathway_type</th><th scope=col>RBP</th><th scope=col>histome_modifier</th></tr>\n",
       "\t<tr><th></th><th scope=col>&lt;chr&gt;</th><th scope=col>&lt;int&gt;</th><th scope=col>&lt;int&gt;</th><th scope=col>&lt;chr&gt;</th><th scope=col>&lt;chr&gt;</th><th scope=col>&lt;chr&gt;</th><th scope=col>&lt;chr&gt;</th><th scope=col>&lt;chr&gt;</th><th scope=col>&lt;chr&gt;</th><th scope=col>&lt;chr&gt;</th><th scope=col>&lt;chr&gt;</th><th scope=col>&lt;chr&gt;</th><th scope=col>&lt;chr&gt;</th><th scope=col>&lt;chr&gt;</th></tr>\n",
       "</thead>\n",
       "<tbody>\n",
       "\t<tr><th scope=row>ENSG00000243485</th><td>chr1</td><td> 29554</td><td> 31109</td><td>ENSG00000243485</td><td>MIR1302-2HG</td><td>lincRNA       </td><td></td><td></td><td></td><td></td><td></td><td></td><td></td><td></td></tr>\n",
       "\t<tr><th scope=row>ENSG00000237613</th><td>chr1</td><td> 34554</td><td> 36081</td><td>ENSG00000237613</td><td>FAM138A    </td><td>lincRNA       </td><td></td><td></td><td></td><td></td><td></td><td></td><td></td><td></td></tr>\n",
       "\t<tr><th scope=row>ENSG00000186092</th><td>chr1</td><td> 65419</td><td> 71585</td><td>ENSG00000186092</td><td>OR4F5      </td><td>protein_coding</td><td></td><td></td><td></td><td></td><td></td><td></td><td></td><td></td></tr>\n",
       "\t<tr><th scope=row>ENSG00000238009</th><td>chr1</td><td> 89295</td><td>133723</td><td>ENSG00000238009</td><td>AL627309.1 </td><td>lincRNA       </td><td></td><td></td><td></td><td></td><td></td><td></td><td></td><td></td></tr>\n",
       "\t<tr><th scope=row>ENSG00000239945</th><td>chr1</td><td> 89551</td><td> 91105</td><td>ENSG00000239945</td><td>AL627309.3 </td><td>lincRNA       </td><td></td><td></td><td></td><td></td><td></td><td></td><td></td><td></td></tr>\n",
       "\t<tr><th scope=row>ENSG00000239906</th><td>chr1</td><td>139790</td><td>140339</td><td>ENSG00000239906</td><td>AL627309.2 </td><td>antisense     </td><td></td><td></td><td></td><td></td><td></td><td></td><td></td><td></td></tr>\n",
       "</tbody>\n",
       "</table>\n"
      ],
      "text/latex": [
       "A data.frame: 6 × 14\n",
       "\\begin{tabular}{r|llllllllllllll}\n",
       "  & chr & start & end & gene\\_id & gene\\_name & gene\\_biotype & TF & TFcof & ligand & receptor & pathway\\_name & pathway\\_type & RBP & histome\\_modifier\\\\\n",
       "  & <chr> & <int> & <int> & <chr> & <chr> & <chr> & <chr> & <chr> & <chr> & <chr> & <chr> & <chr> & <chr> & <chr>\\\\\n",
       "\\hline\n",
       "\tENSG00000243485 & chr1 &  29554 &  31109 & ENSG00000243485 & MIR1302-2HG & lincRNA        &  &  &  &  &  &  &  & \\\\\n",
       "\tENSG00000237613 & chr1 &  34554 &  36081 & ENSG00000237613 & FAM138A     & lincRNA        &  &  &  &  &  &  &  & \\\\\n",
       "\tENSG00000186092 & chr1 &  65419 &  71585 & ENSG00000186092 & OR4F5       & protein\\_coding &  &  &  &  &  &  &  & \\\\\n",
       "\tENSG00000238009 & chr1 &  89295 & 133723 & ENSG00000238009 & AL627309.1  & lincRNA        &  &  &  &  &  &  &  & \\\\\n",
       "\tENSG00000239945 & chr1 &  89551 &  91105 & ENSG00000239945 & AL627309.3  & lincRNA        &  &  &  &  &  &  &  & \\\\\n",
       "\tENSG00000239906 & chr1 & 139790 & 140339 & ENSG00000239906 & AL627309.2  & antisense      &  &  &  &  &  &  &  & \\\\\n",
       "\\end{tabular}\n"
      ],
      "text/markdown": [
       "\n",
       "A data.frame: 6 × 14\n",
       "\n",
       "| <!--/--> | chr &lt;chr&gt; | start &lt;int&gt; | end &lt;int&gt; | gene_id &lt;chr&gt; | gene_name &lt;chr&gt; | gene_biotype &lt;chr&gt; | TF &lt;chr&gt; | TFcof &lt;chr&gt; | ligand &lt;chr&gt; | receptor &lt;chr&gt; | pathway_name &lt;chr&gt; | pathway_type &lt;chr&gt; | RBP &lt;chr&gt; | histome_modifier &lt;chr&gt; |\n",
       "|---|---|---|---|---|---|---|---|---|---|---|---|---|---|---|\n",
       "| ENSG00000243485 | chr1 |  29554 |  31109 | ENSG00000243485 | MIR1302-2HG | lincRNA        | <!----> | <!----> | <!----> | <!----> | <!----> | <!----> | <!----> | <!----> |\n",
       "| ENSG00000237613 | chr1 |  34554 |  36081 | ENSG00000237613 | FAM138A     | lincRNA        | <!----> | <!----> | <!----> | <!----> | <!----> | <!----> | <!----> | <!----> |\n",
       "| ENSG00000186092 | chr1 |  65419 |  71585 | ENSG00000186092 | OR4F5       | protein_coding | <!----> | <!----> | <!----> | <!----> | <!----> | <!----> | <!----> | <!----> |\n",
       "| ENSG00000238009 | chr1 |  89295 | 133723 | ENSG00000238009 | AL627309.1  | lincRNA        | <!----> | <!----> | <!----> | <!----> | <!----> | <!----> | <!----> | <!----> |\n",
       "| ENSG00000239945 | chr1 |  89551 |  91105 | ENSG00000239945 | AL627309.3  | lincRNA        | <!----> | <!----> | <!----> | <!----> | <!----> | <!----> | <!----> | <!----> |\n",
       "| ENSG00000239906 | chr1 | 139790 | 140339 | ENSG00000239906 | AL627309.2  | antisense      | <!----> | <!----> | <!----> | <!----> | <!----> | <!----> | <!----> | <!----> |\n",
       "\n"
      ],
      "text/plain": [
       "                chr  start  end    gene_id         gene_name   gene_biotype  \n",
       "ENSG00000243485 chr1  29554  31109 ENSG00000243485 MIR1302-2HG lincRNA       \n",
       "ENSG00000237613 chr1  34554  36081 ENSG00000237613 FAM138A     lincRNA       \n",
       "ENSG00000186092 chr1  65419  71585 ENSG00000186092 OR4F5       protein_coding\n",
       "ENSG00000238009 chr1  89295 133723 ENSG00000238009 AL627309.1  lincRNA       \n",
       "ENSG00000239945 chr1  89551  91105 ENSG00000239945 AL627309.3  lincRNA       \n",
       "ENSG00000239906 chr1 139790 140339 ENSG00000239906 AL627309.2  antisense     \n",
       "                TF TFcof ligand receptor pathway_name pathway_type RBP\n",
       "ENSG00000243485                                                       \n",
       "ENSG00000237613                                                       \n",
       "ENSG00000186092                                                       \n",
       "ENSG00000238009                                                       \n",
       "ENSG00000239945                                                       \n",
       "ENSG00000239906                                                       \n",
       "                histome_modifier\n",
       "ENSG00000243485                 \n",
       "ENSG00000237613                 \n",
       "ENSG00000186092                 \n",
       "ENSG00000238009                 \n",
       "ENSG00000239945                 \n",
       "ENSG00000239906                 "
      ]
     },
     "metadata": {},
     "output_type": "display_data"
    }
   ],
   "source": [
    "head(gene.anno.GRCh38.v3)"
   ]
  },
  {
   "cell_type": "code",
   "execution_count": 143,
   "id": "9b198cda",
   "metadata": {},
   "outputs": [
    {
     "data": {
      "text/html": [
       "<style>\n",
       ".list-inline {list-style: none; margin:0; padding: 0}\n",
       ".list-inline>li {display: inline-block}\n",
       ".list-inline>li:not(:last-child)::after {content: \"\\00b7\"; padding: 0 .5ex}\n",
       "</style>\n",
       "<ol class=list-inline><li>173</li><li>4</li></ol>\n"
      ],
      "text/latex": [
       "\\begin{enumerate*}\n",
       "\\item 173\n",
       "\\item 4\n",
       "\\end{enumerate*}\n"
      ],
      "text/markdown": [
       "1. 173\n",
       "2. 4\n",
       "\n",
       "\n"
      ],
      "text/plain": [
       "[1] 173   4"
      ]
     },
     "metadata": {},
     "output_type": "display_data"
    }
   ],
   "source": [
    "hm.df <- read.csv(\"files/human-histone-modifier.csv\")\n",
    "dim(hm.df)"
   ]
  },
  {
   "cell_type": "code",
   "execution_count": 159,
   "id": "e3e77022",
   "metadata": {},
   "outputs": [
    {
     "data": {
      "text/html": [
       "152"
      ],
      "text/latex": [
       "152"
      ],
      "text/markdown": [
       "152"
      ],
      "text/plain": [
       "[1] 152"
      ]
     },
     "metadata": {},
     "output_type": "display_data"
    }
   ],
   "source": [
    "length(unique(hm.df$gene))"
   ]
  },
  {
   "cell_type": "code",
   "execution_count": 156,
   "id": "adcd3991",
   "metadata": {},
   "outputs": [],
   "source": [
    "tmp <- subset(hm.df, !gene %in% gene.anno.GRCh38.v3$gene_name & gene!=\"Unknown\")"
   ]
  },
  {
   "cell_type": "code",
   "execution_count": 152,
   "id": "122fa2ed",
   "metadata": {},
   "outputs": [
    {
     "data": {
      "text/html": [
       "<style>\n",
       ".list-inline {list-style: none; margin:0; padding: 0}\n",
       ".list-inline>li {display: inline-block}\n",
       ".list-inline>li:not(:last-child)::after {content: \"\\00b7\"; padding: 0 .5ex}\n",
       "</style>\n",
       "<ol class=list-inline><li>21</li><li>4</li></ol>\n"
      ],
      "text/latex": [
       "\\begin{enumerate*}\n",
       "\\item 21\n",
       "\\item 4\n",
       "\\end{enumerate*}\n"
      ],
      "text/markdown": [
       "1. 21\n",
       "2. 4\n",
       "\n",
       "\n"
      ],
      "text/plain": [
       "[1] 21  4"
      ]
     },
     "metadata": {},
     "output_type": "display_data"
    }
   ],
   "source": [
    "dim(tmp)"
   ]
  },
  {
   "cell_type": "code",
   "execution_count": 151,
   "id": "b3f8ca59",
   "metadata": {},
   "outputs": [
    {
     "name": "stderr",
     "output_type": "stream",
     "text": [
      "The following `from` values were not present in `x`: JHDM1D, JMJD5, C14orf169\n",
      "\n"
     ]
    },
    {
     "data": {
      "text/html": [
       "<style>\n",
       ".list-inline {list-style: none; margin:0; padding: 0}\n",
       ".list-inline>li {display: inline-block}\n",
       ".list-inline>li:not(:last-child)::after {content: \"\\00b7\"; padding: 0 .5ex}\n",
       "</style>\n",
       "<ol class=list-inline><li>'PADI4'</li><li>'CARM1'</li><li>'PRMT1'</li><li>'PRMT2'</li><li>'PRMT5'</li><li>'PRMT6'</li><li>'PRMT7'</li><li>'PRMT8'</li><li>'OGA'</li><li>'CDYL'</li><li>'CLOCK'</li><li>'CREBBP'</li><li>'ELP3'</li><li>'GTF3C4'</li><li>'KAT2A'</li><li>'KAT2B'</li><li>'KAT5'</li><li>'KAT7'</li><li>'KAT6A'</li><li>'KAT6B'</li><li>'EP300'</li><li>'HAT1'</li><li>'NAT10'</li><li>'NCOA1'</li><li>'NCOA3'</li><li>'KAT8'</li><li>'CDY1B'</li><li>'CDY1'</li><li>'HLCS'</li><li>'EZH1'</li><li>'EZH2'</li><li>'KMT2A'</li><li>'KMT2D'</li><li>'KMT2C'</li><li>'Unknown'</li><li>'KMT2E'</li><li>'NSD3'</li><li>'PRDM9'</li><li>'SETD1A'</li><li>'SETD1B'</li><li>'SETD2'</li><li>'SETD7'</li><li>'KMT5A'</li><li>'SETDB1'</li><li>'SETDB2'</li><li>'SETMAR'</li><li>'SUV39H1'</li><li>'SUV39H2'</li><li>'KMT5B'</li><li>'KMT5C'</li><li>'NSD1'</li><li>'DOT1L'</li><li>'EHMT2'</li><li>'EHMT1'</li><li>'SMYD2'</li><li>'PRDM2'</li><li>'ASH1L'</li><li>'NSD2'</li><li>'SMYD3'</li><li>'PARP1'</li><li>'RNF20'</li><li>'RNF40'</li><li>'DTX3L'</li><li>'HUWE1'</li><li>'RBX1'</li><li>'RING1'</li><li>'RNF2'</li><li>'RNF168'</li><li>'RNF8'</li><li>'UBR2'</li><li>'UHRF1'</li><li>'RAG1'</li><li>'CDK17'</li><li>'CDK3'</li><li>'CDK5'</li><li>'DAPK3'</li><li>'PRKDC'</li><li>'GSK3B'</li><li>'CHUK'</li><li>'LIMK2'</li><li>'MASTL'</li><li>'MAP3K8'</li><li>'Unknown'</li><li>'BUB1'</li><li>'PRKCB'</li><li>'PRKCD'</li><li>'RPS6KA4'</li><li>'RPS6KA5'</li><li>'ATM'</li><li>'STK10'</li><li>'AURKB'</li><li>'STK4'</li><li>'ATR'</li><li>'HASPIN'</li><li>'PKN1'</li><li>'NEK6'</li><li>'NEK9'</li><li>'PAK2'</li><li>'TLK1'</li><li>'BAZ1B'</li><li>'JAK2'</li><li>'JMJD6'</li><li>'HDAC1'</li><li>'HDAC10'</li><li>'HDAC11'</li><li>'HDAC2'</li><li>'HDAC3'</li><li>'HDAC4'</li><li>'HDAC5'</li><li>'HDAC6'</li><li>'HDAC7'</li><li>'HDAC8'</li><li>'HDAC9'</li><li>'SIRT1'</li><li>'SIRT2'</li><li>'SIRT3'</li><li>'SIRT6'</li><li>'PHF8'</li><li>'KDM2A'</li><li>'KDM2B'</li><li>'KDM3A'</li><li>'KDM3B'</li><li>'KDM4A'</li><li>'KDM4B'</li><li>'KDM4C'</li><li>'KDM4D'</li><li>'KDM5A'</li><li>'KDM5B'</li><li>'KDM5C'</li><li>'KDM5D'</li><li>'KDM6A'</li><li>'KDM6B'</li><li>'KDM7A'</li><li>'KDM8'</li><li>'RIOX1'</li><li>'KDM1A'</li><li>'KDM1B'</li><li>'PHF8'</li><li>'KDM2A'</li><li>'KDM2B'</li><li>'KDM3A'</li><li>'KDM3B'</li><li>'KDM4A'</li><li>'KDM4B'</li><li>'KDM4C'</li><li>'KDM4D'</li><li>'KDM5A'</li><li>'KDM5B'</li><li>'KDM5C'</li><li>'KDM5D'</li><li>'KDM6A'</li><li>'KDM6B'</li><li>'KDM7A'</li><li>'KDM8'</li><li>'RIOX1'</li><li>'KDM1A'</li><li>'KDM1B'</li><li>'PARG'</li><li>'MYSM1'</li><li>'BRCC3'</li><li>'USP16'</li><li>'USP22'</li><li>'USP3'</li><li>'DUSP1'</li><li>'EYA1'</li><li>'EYA2'</li><li>'EYA3'</li><li>'PPM1D'</li><li>'PPP2CA'</li><li>'PPP2CB'</li><li>'PPP4C'</li><li>'PPP5C'</li><li>'PPP1CC'</li></ol>\n"
      ],
      "text/latex": [
       "\\begin{enumerate*}\n",
       "\\item 'PADI4'\n",
       "\\item 'CARM1'\n",
       "\\item 'PRMT1'\n",
       "\\item 'PRMT2'\n",
       "\\item 'PRMT5'\n",
       "\\item 'PRMT6'\n",
       "\\item 'PRMT7'\n",
       "\\item 'PRMT8'\n",
       "\\item 'OGA'\n",
       "\\item 'CDYL'\n",
       "\\item 'CLOCK'\n",
       "\\item 'CREBBP'\n",
       "\\item 'ELP3'\n",
       "\\item 'GTF3C4'\n",
       "\\item 'KAT2A'\n",
       "\\item 'KAT2B'\n",
       "\\item 'KAT5'\n",
       "\\item 'KAT7'\n",
       "\\item 'KAT6A'\n",
       "\\item 'KAT6B'\n",
       "\\item 'EP300'\n",
       "\\item 'HAT1'\n",
       "\\item 'NAT10'\n",
       "\\item 'NCOA1'\n",
       "\\item 'NCOA3'\n",
       "\\item 'KAT8'\n",
       "\\item 'CDY1B'\n",
       "\\item 'CDY1'\n",
       "\\item 'HLCS'\n",
       "\\item 'EZH1'\n",
       "\\item 'EZH2'\n",
       "\\item 'KMT2A'\n",
       "\\item 'KMT2D'\n",
       "\\item 'KMT2C'\n",
       "\\item 'Unknown'\n",
       "\\item 'KMT2E'\n",
       "\\item 'NSD3'\n",
       "\\item 'PRDM9'\n",
       "\\item 'SETD1A'\n",
       "\\item 'SETD1B'\n",
       "\\item 'SETD2'\n",
       "\\item 'SETD7'\n",
       "\\item 'KMT5A'\n",
       "\\item 'SETDB1'\n",
       "\\item 'SETDB2'\n",
       "\\item 'SETMAR'\n",
       "\\item 'SUV39H1'\n",
       "\\item 'SUV39H2'\n",
       "\\item 'KMT5B'\n",
       "\\item 'KMT5C'\n",
       "\\item 'NSD1'\n",
       "\\item 'DOT1L'\n",
       "\\item 'EHMT2'\n",
       "\\item 'EHMT1'\n",
       "\\item 'SMYD2'\n",
       "\\item 'PRDM2'\n",
       "\\item 'ASH1L'\n",
       "\\item 'NSD2'\n",
       "\\item 'SMYD3'\n",
       "\\item 'PARP1'\n",
       "\\item 'RNF20'\n",
       "\\item 'RNF40'\n",
       "\\item 'DTX3L'\n",
       "\\item 'HUWE1'\n",
       "\\item 'RBX1'\n",
       "\\item 'RING1'\n",
       "\\item 'RNF2'\n",
       "\\item 'RNF168'\n",
       "\\item 'RNF8'\n",
       "\\item 'UBR2'\n",
       "\\item 'UHRF1'\n",
       "\\item 'RAG1'\n",
       "\\item 'CDK17'\n",
       "\\item 'CDK3'\n",
       "\\item 'CDK5'\n",
       "\\item 'DAPK3'\n",
       "\\item 'PRKDC'\n",
       "\\item 'GSK3B'\n",
       "\\item 'CHUK'\n",
       "\\item 'LIMK2'\n",
       "\\item 'MASTL'\n",
       "\\item 'MAP3K8'\n",
       "\\item 'Unknown'\n",
       "\\item 'BUB1'\n",
       "\\item 'PRKCB'\n",
       "\\item 'PRKCD'\n",
       "\\item 'RPS6KA4'\n",
       "\\item 'RPS6KA5'\n",
       "\\item 'ATM'\n",
       "\\item 'STK10'\n",
       "\\item 'AURKB'\n",
       "\\item 'STK4'\n",
       "\\item 'ATR'\n",
       "\\item 'HASPIN'\n",
       "\\item 'PKN1'\n",
       "\\item 'NEK6'\n",
       "\\item 'NEK9'\n",
       "\\item 'PAK2'\n",
       "\\item 'TLK1'\n",
       "\\item 'BAZ1B'\n",
       "\\item 'JAK2'\n",
       "\\item 'JMJD6'\n",
       "\\item 'HDAC1'\n",
       "\\item 'HDAC10'\n",
       "\\item 'HDAC11'\n",
       "\\item 'HDAC2'\n",
       "\\item 'HDAC3'\n",
       "\\item 'HDAC4'\n",
       "\\item 'HDAC5'\n",
       "\\item 'HDAC6'\n",
       "\\item 'HDAC7'\n",
       "\\item 'HDAC8'\n",
       "\\item 'HDAC9'\n",
       "\\item 'SIRT1'\n",
       "\\item 'SIRT2'\n",
       "\\item 'SIRT3'\n",
       "\\item 'SIRT6'\n",
       "\\item 'PHF8'\n",
       "\\item 'KDM2A'\n",
       "\\item 'KDM2B'\n",
       "\\item 'KDM3A'\n",
       "\\item 'KDM3B'\n",
       "\\item 'KDM4A'\n",
       "\\item 'KDM4B'\n",
       "\\item 'KDM4C'\n",
       "\\item 'KDM4D'\n",
       "\\item 'KDM5A'\n",
       "\\item 'KDM5B'\n",
       "\\item 'KDM5C'\n",
       "\\item 'KDM5D'\n",
       "\\item 'KDM6A'\n",
       "\\item 'KDM6B'\n",
       "\\item 'KDM7A'\n",
       "\\item 'KDM8'\n",
       "\\item 'RIOX1'\n",
       "\\item 'KDM1A'\n",
       "\\item 'KDM1B'\n",
       "\\item 'PHF8'\n",
       "\\item 'KDM2A'\n",
       "\\item 'KDM2B'\n",
       "\\item 'KDM3A'\n",
       "\\item 'KDM3B'\n",
       "\\item 'KDM4A'\n",
       "\\item 'KDM4B'\n",
       "\\item 'KDM4C'\n",
       "\\item 'KDM4D'\n",
       "\\item 'KDM5A'\n",
       "\\item 'KDM5B'\n",
       "\\item 'KDM5C'\n",
       "\\item 'KDM5D'\n",
       "\\item 'KDM6A'\n",
       "\\item 'KDM6B'\n",
       "\\item 'KDM7A'\n",
       "\\item 'KDM8'\n",
       "\\item 'RIOX1'\n",
       "\\item 'KDM1A'\n",
       "\\item 'KDM1B'\n",
       "\\item 'PARG'\n",
       "\\item 'MYSM1'\n",
       "\\item 'BRCC3'\n",
       "\\item 'USP16'\n",
       "\\item 'USP22'\n",
       "\\item 'USP3'\n",
       "\\item 'DUSP1'\n",
       "\\item 'EYA1'\n",
       "\\item 'EYA2'\n",
       "\\item 'EYA3'\n",
       "\\item 'PPM1D'\n",
       "\\item 'PPP2CA'\n",
       "\\item 'PPP2CB'\n",
       "\\item 'PPP4C'\n",
       "\\item 'PPP5C'\n",
       "\\item 'PPP1CC'\n",
       "\\end{enumerate*}\n"
      ],
      "text/markdown": [
       "1. 'PADI4'\n",
       "2. 'CARM1'\n",
       "3. 'PRMT1'\n",
       "4. 'PRMT2'\n",
       "5. 'PRMT5'\n",
       "6. 'PRMT6'\n",
       "7. 'PRMT7'\n",
       "8. 'PRMT8'\n",
       "9. 'OGA'\n",
       "10. 'CDYL'\n",
       "11. 'CLOCK'\n",
       "12. 'CREBBP'\n",
       "13. 'ELP3'\n",
       "14. 'GTF3C4'\n",
       "15. 'KAT2A'\n",
       "16. 'KAT2B'\n",
       "17. 'KAT5'\n",
       "18. 'KAT7'\n",
       "19. 'KAT6A'\n",
       "20. 'KAT6B'\n",
       "21. 'EP300'\n",
       "22. 'HAT1'\n",
       "23. 'NAT10'\n",
       "24. 'NCOA1'\n",
       "25. 'NCOA3'\n",
       "26. 'KAT8'\n",
       "27. 'CDY1B'\n",
       "28. 'CDY1'\n",
       "29. 'HLCS'\n",
       "30. 'EZH1'\n",
       "31. 'EZH2'\n",
       "32. 'KMT2A'\n",
       "33. 'KMT2D'\n",
       "34. 'KMT2C'\n",
       "35. 'Unknown'\n",
       "36. 'KMT2E'\n",
       "37. 'NSD3'\n",
       "38. 'PRDM9'\n",
       "39. 'SETD1A'\n",
       "40. 'SETD1B'\n",
       "41. 'SETD2'\n",
       "42. 'SETD7'\n",
       "43. 'KMT5A'\n",
       "44. 'SETDB1'\n",
       "45. 'SETDB2'\n",
       "46. 'SETMAR'\n",
       "47. 'SUV39H1'\n",
       "48. 'SUV39H2'\n",
       "49. 'KMT5B'\n",
       "50. 'KMT5C'\n",
       "51. 'NSD1'\n",
       "52. 'DOT1L'\n",
       "53. 'EHMT2'\n",
       "54. 'EHMT1'\n",
       "55. 'SMYD2'\n",
       "56. 'PRDM2'\n",
       "57. 'ASH1L'\n",
       "58. 'NSD2'\n",
       "59. 'SMYD3'\n",
       "60. 'PARP1'\n",
       "61. 'RNF20'\n",
       "62. 'RNF40'\n",
       "63. 'DTX3L'\n",
       "64. 'HUWE1'\n",
       "65. 'RBX1'\n",
       "66. 'RING1'\n",
       "67. 'RNF2'\n",
       "68. 'RNF168'\n",
       "69. 'RNF8'\n",
       "70. 'UBR2'\n",
       "71. 'UHRF1'\n",
       "72. 'RAG1'\n",
       "73. 'CDK17'\n",
       "74. 'CDK3'\n",
       "75. 'CDK5'\n",
       "76. 'DAPK3'\n",
       "77. 'PRKDC'\n",
       "78. 'GSK3B'\n",
       "79. 'CHUK'\n",
       "80. 'LIMK2'\n",
       "81. 'MASTL'\n",
       "82. 'MAP3K8'\n",
       "83. 'Unknown'\n",
       "84. 'BUB1'\n",
       "85. 'PRKCB'\n",
       "86. 'PRKCD'\n",
       "87. 'RPS6KA4'\n",
       "88. 'RPS6KA5'\n",
       "89. 'ATM'\n",
       "90. 'STK10'\n",
       "91. 'AURKB'\n",
       "92. 'STK4'\n",
       "93. 'ATR'\n",
       "94. 'HASPIN'\n",
       "95. 'PKN1'\n",
       "96. 'NEK6'\n",
       "97. 'NEK9'\n",
       "98. 'PAK2'\n",
       "99. 'TLK1'\n",
       "100. 'BAZ1B'\n",
       "101. 'JAK2'\n",
       "102. 'JMJD6'\n",
       "103. 'HDAC1'\n",
       "104. 'HDAC10'\n",
       "105. 'HDAC11'\n",
       "106. 'HDAC2'\n",
       "107. 'HDAC3'\n",
       "108. 'HDAC4'\n",
       "109. 'HDAC5'\n",
       "110. 'HDAC6'\n",
       "111. 'HDAC7'\n",
       "112. 'HDAC8'\n",
       "113. 'HDAC9'\n",
       "114. 'SIRT1'\n",
       "115. 'SIRT2'\n",
       "116. 'SIRT3'\n",
       "117. 'SIRT6'\n",
       "118. 'PHF8'\n",
       "119. 'KDM2A'\n",
       "120. 'KDM2B'\n",
       "121. 'KDM3A'\n",
       "122. 'KDM3B'\n",
       "123. 'KDM4A'\n",
       "124. 'KDM4B'\n",
       "125. 'KDM4C'\n",
       "126. 'KDM4D'\n",
       "127. 'KDM5A'\n",
       "128. 'KDM5B'\n",
       "129. 'KDM5C'\n",
       "130. 'KDM5D'\n",
       "131. 'KDM6A'\n",
       "132. 'KDM6B'\n",
       "133. 'KDM7A'\n",
       "134. 'KDM8'\n",
       "135. 'RIOX1'\n",
       "136. 'KDM1A'\n",
       "137. 'KDM1B'\n",
       "138. 'PHF8'\n",
       "139. 'KDM2A'\n",
       "140. 'KDM2B'\n",
       "141. 'KDM3A'\n",
       "142. 'KDM3B'\n",
       "143. 'KDM4A'\n",
       "144. 'KDM4B'\n",
       "145. 'KDM4C'\n",
       "146. 'KDM4D'\n",
       "147. 'KDM5A'\n",
       "148. 'KDM5B'\n",
       "149. 'KDM5C'\n",
       "150. 'KDM5D'\n",
       "151. 'KDM6A'\n",
       "152. 'KDM6B'\n",
       "153. 'KDM7A'\n",
       "154. 'KDM8'\n",
       "155. 'RIOX1'\n",
       "156. 'KDM1A'\n",
       "157. 'KDM1B'\n",
       "158. 'PARG'\n",
       "159. 'MYSM1'\n",
       "160. 'BRCC3'\n",
       "161. 'USP16'\n",
       "162. 'USP22'\n",
       "163. 'USP3'\n",
       "164. 'DUSP1'\n",
       "165. 'EYA1'\n",
       "166. 'EYA2'\n",
       "167. 'EYA3'\n",
       "168. 'PPM1D'\n",
       "169. 'PPP2CA'\n",
       "170. 'PPP2CB'\n",
       "171. 'PPP4C'\n",
       "172. 'PPP5C'\n",
       "173. 'PPP1CC'\n",
       "\n",
       "\n"
      ],
      "text/plain": [
       "  [1] \"PADI4\"   \"CARM1\"   \"PRMT1\"   \"PRMT2\"   \"PRMT5\"   \"PRMT6\"   \"PRMT7\"  \n",
       "  [8] \"PRMT8\"   \"OGA\"     \"CDYL\"    \"CLOCK\"   \"CREBBP\"  \"ELP3\"    \"GTF3C4\" \n",
       " [15] \"KAT2A\"   \"KAT2B\"   \"KAT5\"    \"KAT7\"    \"KAT6A\"   \"KAT6B\"   \"EP300\"  \n",
       " [22] \"HAT1\"    \"NAT10\"   \"NCOA1\"   \"NCOA3\"   \"KAT8\"    \"CDY1B\"   \"CDY1\"   \n",
       " [29] \"HLCS\"    \"EZH1\"    \"EZH2\"    \"KMT2A\"   \"KMT2D\"   \"KMT2C\"   \"Unknown\"\n",
       " [36] \"KMT2E\"   \"NSD3\"    \"PRDM9\"   \"SETD1A\"  \"SETD1B\"  \"SETD2\"   \"SETD7\"  \n",
       " [43] \"KMT5A\"   \"SETDB1\"  \"SETDB2\"  \"SETMAR\"  \"SUV39H1\" \"SUV39H2\" \"KMT5B\"  \n",
       " [50] \"KMT5C\"   \"NSD1\"    \"DOT1L\"   \"EHMT2\"   \"EHMT1\"   \"SMYD2\"   \"PRDM2\"  \n",
       " [57] \"ASH1L\"   \"NSD2\"    \"SMYD3\"   \"PARP1\"   \"RNF20\"   \"RNF40\"   \"DTX3L\"  \n",
       " [64] \"HUWE1\"   \"RBX1\"    \"RING1\"   \"RNF2\"    \"RNF168\"  \"RNF8\"    \"UBR2\"   \n",
       " [71] \"UHRF1\"   \"RAG1\"    \"CDK17\"   \"CDK3\"    \"CDK5\"    \"DAPK3\"   \"PRKDC\"  \n",
       " [78] \"GSK3B\"   \"CHUK\"    \"LIMK2\"   \"MASTL\"   \"MAP3K8\"  \"Unknown\" \"BUB1\"   \n",
       " [85] \"PRKCB\"   \"PRKCD\"   \"RPS6KA4\" \"RPS6KA5\" \"ATM\"     \"STK10\"   \"AURKB\"  \n",
       " [92] \"STK4\"    \"ATR\"     \"HASPIN\"  \"PKN1\"    \"NEK6\"    \"NEK9\"    \"PAK2\"   \n",
       " [99] \"TLK1\"    \"BAZ1B\"   \"JAK2\"    \"JMJD6\"   \"HDAC1\"   \"HDAC10\"  \"HDAC11\" \n",
       "[106] \"HDAC2\"   \"HDAC3\"   \"HDAC4\"   \"HDAC5\"   \"HDAC6\"   \"HDAC7\"   \"HDAC8\"  \n",
       "[113] \"HDAC9\"   \"SIRT1\"   \"SIRT2\"   \"SIRT3\"   \"SIRT6\"   \"PHF8\"    \"KDM2A\"  \n",
       "[120] \"KDM2B\"   \"KDM3A\"   \"KDM3B\"   \"KDM4A\"   \"KDM4B\"   \"KDM4C\"   \"KDM4D\"  \n",
       "[127] \"KDM5A\"   \"KDM5B\"   \"KDM5C\"   \"KDM5D\"   \"KDM6A\"   \"KDM6B\"   \"KDM7A\"  \n",
       "[134] \"KDM8\"    \"RIOX1\"   \"KDM1A\"   \"KDM1B\"   \"PHF8\"    \"KDM2A\"   \"KDM2B\"  \n",
       "[141] \"KDM3A\"   \"KDM3B\"   \"KDM4A\"   \"KDM4B\"   \"KDM4C\"   \"KDM4D\"   \"KDM5A\"  \n",
       "[148] \"KDM5B\"   \"KDM5C\"   \"KDM5D\"   \"KDM6A\"   \"KDM6B\"   \"KDM7A\"   \"KDM8\"   \n",
       "[155] \"RIOX1\"   \"KDM1A\"   \"KDM1B\"   \"PARG\"    \"MYSM1\"   \"BRCC3\"   \"USP16\"  \n",
       "[162] \"USP22\"   \"USP3\"    \"DUSP1\"   \"EYA1\"    \"EYA2\"    \"EYA3\"    \"PPM1D\"  \n",
       "[169] \"PPP2CA\"  \"PPP2CB\"  \"PPP4C\"   \"PPP5C\"   \"PPP1CC\" "
      ]
     },
     "metadata": {},
     "output_type": "display_data"
    }
   ],
   "source": [
    "plyr::mapvalues(hm.df$gene, from = tmp$gene, to = add.genes)"
   ]
  },
  {
   "cell_type": "code",
   "execution_count": 139,
   "id": "3e49c42f",
   "metadata": {},
   "outputs": [],
   "source": [
    "gene.anno.GRCh38.v3$histome_modifier <- \"\""
   ]
  },
  {
   "cell_type": "code",
   "execution_count": null,
   "id": "ef33f707",
   "metadata": {},
   "outputs": [],
   "source": []
  },
  {
   "cell_type": "code",
   "execution_count": 155,
   "id": "9a658cc2",
   "metadata": {},
   "outputs": [
    {
     "data": {
      "text/html": [
       "21"
      ],
      "text/latex": [
       "21"
      ],
      "text/markdown": [
       "21"
      ],
      "text/plain": [
       "[1] 21"
      ]
     },
     "metadata": {},
     "output_type": "display_data"
    }
   ],
   "source": [
    "# from genecards\n",
    "add.genes <- c(\"OGA\",\"KAT7\",\"KAT6A\",\"KAT6B\",\"KAT8\",\"KMT2A\",\"KMT2D\",\"KMT2C\",\"KMT2E\",\"NSD3\",\"KMT5A\",\"KMT5B\",\"KMT5C\",\n",
    "               \"NSD2\",\"HASPIN\",\"KDM7A\",\"KDM8\",\"RIOX1\",\"KDM7A\",\"KDM8\",\"RIOX1\")\n",
    "length(add.genes)"
   ]
  },
  {
   "cell_type": "code",
   "execution_count": 147,
   "id": "f4df19df",
   "metadata": {},
   "outputs": [],
   "source": [
    "gene.anno.GRCh38.v3[gene.anno.GRCh38.v3$gene_name %in% c(hm.df$gene,add.genes),]$histome_modifier <- \"histome_modifier\""
   ]
  },
  {
   "cell_type": "code",
   "execution_count": 148,
   "id": "de3e9dd2",
   "metadata": {},
   "outputs": [
    {
     "data": {
      "text/plain": [
       "\n",
       "                 histome_modifier \n",
       "           33405              151 "
      ]
     },
     "metadata": {},
     "output_type": "display_data"
    }
   ],
   "source": [
    "table(gene.anno.GRCh38.v3$histome_modifier)"
   ]
  },
  {
   "cell_type": "code",
   "execution_count": 161,
   "id": "568764d8",
   "metadata": {},
   "outputs": [
    {
     "data": {
      "text/html": [
       "<table class=\"dataframe\">\n",
       "<caption>A data.frame: 6 × 14</caption>\n",
       "<thead>\n",
       "\t<tr><th></th><th scope=col>chr</th><th scope=col>start</th><th scope=col>end</th><th scope=col>gene_id</th><th scope=col>gene_name</th><th scope=col>gene_biotype</th><th scope=col>TF</th><th scope=col>TFcof</th><th scope=col>ligand</th><th scope=col>receptor</th><th scope=col>pathway_name</th><th scope=col>pathway_type</th><th scope=col>RBP</th><th scope=col>histome_modifier</th></tr>\n",
       "\t<tr><th></th><th scope=col>&lt;chr&gt;</th><th scope=col>&lt;int&gt;</th><th scope=col>&lt;int&gt;</th><th scope=col>&lt;chr&gt;</th><th scope=col>&lt;chr&gt;</th><th scope=col>&lt;chr&gt;</th><th scope=col>&lt;chr&gt;</th><th scope=col>&lt;chr&gt;</th><th scope=col>&lt;chr&gt;</th><th scope=col>&lt;chr&gt;</th><th scope=col>&lt;chr&gt;</th><th scope=col>&lt;chr&gt;</th><th scope=col>&lt;chr&gt;</th><th scope=col>&lt;chr&gt;</th></tr>\n",
       "</thead>\n",
       "<tbody>\n",
       "\t<tr><th scope=row>ENSG00000243485</th><td>chr1</td><td> 29554</td><td> 31109</td><td>ENSG00000243485</td><td>MIR1302-2HG</td><td>lincRNA       </td><td></td><td></td><td></td><td></td><td></td><td></td><td></td><td></td></tr>\n",
       "\t<tr><th scope=row>ENSG00000237613</th><td>chr1</td><td> 34554</td><td> 36081</td><td>ENSG00000237613</td><td>FAM138A    </td><td>lincRNA       </td><td></td><td></td><td></td><td></td><td></td><td></td><td></td><td></td></tr>\n",
       "\t<tr><th scope=row>ENSG00000186092</th><td>chr1</td><td> 65419</td><td> 71585</td><td>ENSG00000186092</td><td>OR4F5      </td><td>protein_coding</td><td></td><td></td><td></td><td></td><td></td><td></td><td></td><td></td></tr>\n",
       "\t<tr><th scope=row>ENSG00000238009</th><td>chr1</td><td> 89295</td><td>133723</td><td>ENSG00000238009</td><td>AL627309.1 </td><td>lincRNA       </td><td></td><td></td><td></td><td></td><td></td><td></td><td></td><td></td></tr>\n",
       "\t<tr><th scope=row>ENSG00000239945</th><td>chr1</td><td> 89551</td><td> 91105</td><td>ENSG00000239945</td><td>AL627309.3 </td><td>lincRNA       </td><td></td><td></td><td></td><td></td><td></td><td></td><td></td><td></td></tr>\n",
       "\t<tr><th scope=row>ENSG00000239906</th><td>chr1</td><td>139790</td><td>140339</td><td>ENSG00000239906</td><td>AL627309.2 </td><td>antisense     </td><td></td><td></td><td></td><td></td><td></td><td></td><td></td><td></td></tr>\n",
       "</tbody>\n",
       "</table>\n"
      ],
      "text/latex": [
       "A data.frame: 6 × 14\n",
       "\\begin{tabular}{r|llllllllllllll}\n",
       "  & chr & start & end & gene\\_id & gene\\_name & gene\\_biotype & TF & TFcof & ligand & receptor & pathway\\_name & pathway\\_type & RBP & histome\\_modifier\\\\\n",
       "  & <chr> & <int> & <int> & <chr> & <chr> & <chr> & <chr> & <chr> & <chr> & <chr> & <chr> & <chr> & <chr> & <chr>\\\\\n",
       "\\hline\n",
       "\tENSG00000243485 & chr1 &  29554 &  31109 & ENSG00000243485 & MIR1302-2HG & lincRNA        &  &  &  &  &  &  &  & \\\\\n",
       "\tENSG00000237613 & chr1 &  34554 &  36081 & ENSG00000237613 & FAM138A     & lincRNA        &  &  &  &  &  &  &  & \\\\\n",
       "\tENSG00000186092 & chr1 &  65419 &  71585 & ENSG00000186092 & OR4F5       & protein\\_coding &  &  &  &  &  &  &  & \\\\\n",
       "\tENSG00000238009 & chr1 &  89295 & 133723 & ENSG00000238009 & AL627309.1  & lincRNA        &  &  &  &  &  &  &  & \\\\\n",
       "\tENSG00000239945 & chr1 &  89551 &  91105 & ENSG00000239945 & AL627309.3  & lincRNA        &  &  &  &  &  &  &  & \\\\\n",
       "\tENSG00000239906 & chr1 & 139790 & 140339 & ENSG00000239906 & AL627309.2  & antisense      &  &  &  &  &  &  &  & \\\\\n",
       "\\end{tabular}\n"
      ],
      "text/markdown": [
       "\n",
       "A data.frame: 6 × 14\n",
       "\n",
       "| <!--/--> | chr &lt;chr&gt; | start &lt;int&gt; | end &lt;int&gt; | gene_id &lt;chr&gt; | gene_name &lt;chr&gt; | gene_biotype &lt;chr&gt; | TF &lt;chr&gt; | TFcof &lt;chr&gt; | ligand &lt;chr&gt; | receptor &lt;chr&gt; | pathway_name &lt;chr&gt; | pathway_type &lt;chr&gt; | RBP &lt;chr&gt; | histome_modifier &lt;chr&gt; |\n",
       "|---|---|---|---|---|---|---|---|---|---|---|---|---|---|---|\n",
       "| ENSG00000243485 | chr1 |  29554 |  31109 | ENSG00000243485 | MIR1302-2HG | lincRNA        | <!----> | <!----> | <!----> | <!----> | <!----> | <!----> | <!----> | <!----> |\n",
       "| ENSG00000237613 | chr1 |  34554 |  36081 | ENSG00000237613 | FAM138A     | lincRNA        | <!----> | <!----> | <!----> | <!----> | <!----> | <!----> | <!----> | <!----> |\n",
       "| ENSG00000186092 | chr1 |  65419 |  71585 | ENSG00000186092 | OR4F5       | protein_coding | <!----> | <!----> | <!----> | <!----> | <!----> | <!----> | <!----> | <!----> |\n",
       "| ENSG00000238009 | chr1 |  89295 | 133723 | ENSG00000238009 | AL627309.1  | lincRNA        | <!----> | <!----> | <!----> | <!----> | <!----> | <!----> | <!----> | <!----> |\n",
       "| ENSG00000239945 | chr1 |  89551 |  91105 | ENSG00000239945 | AL627309.3  | lincRNA        | <!----> | <!----> | <!----> | <!----> | <!----> | <!----> | <!----> | <!----> |\n",
       "| ENSG00000239906 | chr1 | 139790 | 140339 | ENSG00000239906 | AL627309.2  | antisense      | <!----> | <!----> | <!----> | <!----> | <!----> | <!----> | <!----> | <!----> |\n",
       "\n"
      ],
      "text/plain": [
       "                chr  start  end    gene_id         gene_name   gene_biotype  \n",
       "ENSG00000243485 chr1  29554  31109 ENSG00000243485 MIR1302-2HG lincRNA       \n",
       "ENSG00000237613 chr1  34554  36081 ENSG00000237613 FAM138A     lincRNA       \n",
       "ENSG00000186092 chr1  65419  71585 ENSG00000186092 OR4F5       protein_coding\n",
       "ENSG00000238009 chr1  89295 133723 ENSG00000238009 AL627309.1  lincRNA       \n",
       "ENSG00000239945 chr1  89551  91105 ENSG00000239945 AL627309.3  lincRNA       \n",
       "ENSG00000239906 chr1 139790 140339 ENSG00000239906 AL627309.2  antisense     \n",
       "                TF TFcof ligand receptor pathway_name pathway_type RBP\n",
       "ENSG00000243485                                                       \n",
       "ENSG00000237613                                                       \n",
       "ENSG00000186092                                                       \n",
       "ENSG00000238009                                                       \n",
       "ENSG00000239945                                                       \n",
       "ENSG00000239906                                                       \n",
       "                histome_modifier\n",
       "ENSG00000243485                 \n",
       "ENSG00000237613                 \n",
       "ENSG00000186092                 \n",
       "ENSG00000238009                 \n",
       "ENSG00000239945                 \n",
       "ENSG00000239906                 "
      ]
     },
     "metadata": {},
     "output_type": "display_data"
    },
    {
     "data": {
      "text/html": [
       "<style>\n",
       ".list-inline {list-style: none; margin:0; padding: 0}\n",
       ".list-inline>li {display: inline-block}\n",
       ".list-inline>li:not(:last-child)::after {content: \"\\00b7\"; padding: 0 .5ex}\n",
       "</style>\n",
       "<ol class=list-inline><li>33556</li><li>14</li></ol>\n"
      ],
      "text/latex": [
       "\\begin{enumerate*}\n",
       "\\item 33556\n",
       "\\item 14\n",
       "\\end{enumerate*}\n"
      ],
      "text/markdown": [
       "1. 33556\n",
       "2. 14\n",
       "\n",
       "\n"
      ],
      "text/plain": [
       "[1] 33556    14"
      ]
     },
     "metadata": {},
     "output_type": "display_data"
    }
   ],
   "source": [
    "head(gene.anno.GRCh38.v3)\n",
    "dim(gene.anno.GRCh38.v3)"
   ]
  },
  {
   "cell_type": "code",
   "execution_count": 205,
   "id": "d8736e12",
   "metadata": {},
   "outputs": [],
   "source": [
    "gene.anno.GRCh38.v3 <- subset(gene.anno.GRCh38.v3, !is.na(gene_name))"
   ]
  },
  {
   "cell_type": "code",
   "execution_count": 206,
   "id": "b9e31ebf",
   "metadata": {},
   "outputs": [],
   "source": [
    "save(gene.anno.GRCh38.v3, file = \"../data/GRCh38.gene.annotation.Rdata\")"
   ]
  },
  {
   "cell_type": "markdown",
   "id": "9ffb37cc",
   "metadata": {},
   "source": [
    "# mouse gene anno"
   ]
  },
  {
   "cell_type": "code",
   "execution_count": 163,
   "id": "02c0714b",
   "metadata": {},
   "outputs": [
    {
     "name": "stdout",
     "output_type": "stream",
     "text": [
      "[1] \"gene.anno.mm10.v3\"\n"
     ]
    }
   ],
   "source": [
    "print(load(\"../data/gene.anno.mm10.v3.rda\"))"
   ]
  },
  {
   "cell_type": "code",
   "execution_count": 164,
   "id": "7f6ca543",
   "metadata": {},
   "outputs": [
    {
     "data": {
      "text/html": [
       "<table class=\"dataframe\">\n",
       "<caption>A data.frame: 6 × 6</caption>\n",
       "<thead>\n",
       "\t<tr><th></th><th scope=col>chr</th><th scope=col>start</th><th scope=col>end</th><th scope=col>gene_id</th><th scope=col>gene_name</th><th scope=col>gene_biotype</th></tr>\n",
       "\t<tr><th></th><th scope=col>&lt;chr&gt;</th><th scope=col>&lt;int&gt;</th><th scope=col>&lt;int&gt;</th><th scope=col>&lt;chr&gt;</th><th scope=col>&lt;chr&gt;</th><th scope=col>&lt;chr&gt;</th></tr>\n",
       "</thead>\n",
       "<tbody>\n",
       "\t<tr><th scope=row>1</th><td>1</td><td>3205901</td><td>3671498</td><td>ENSMUSG00000051951</td><td>Xkr4   </td><td>protein_coding</td></tr>\n",
       "\t<tr><th scope=row>2</th><td>1</td><td>3466587</td><td>3513553</td><td>ENSMUSG00000089699</td><td>Gm1992 </td><td>antisense     </td></tr>\n",
       "\t<tr><th scope=row>3</th><td>1</td><td>3905739</td><td>3986215</td><td>ENSMUSG00000102343</td><td>Gm37381</td><td>lincRNA       </td></tr>\n",
       "\t<tr><th scope=row>4</th><td>1</td><td>3999557</td><td>4409241</td><td>ENSMUSG00000025900</td><td>Rp1    </td><td>protein_coding</td></tr>\n",
       "\t<tr><th scope=row>5</th><td>1</td><td>4490931</td><td>4497354</td><td>ENSMUSG00000025902</td><td>Sox17  </td><td>protein_coding</td></tr>\n",
       "\t<tr><th scope=row>6</th><td>1</td><td>4583129</td><td>4586252</td><td>ENSMUSG00000104328</td><td>Gm37323</td><td>lincRNA       </td></tr>\n",
       "</tbody>\n",
       "</table>\n"
      ],
      "text/latex": [
       "A data.frame: 6 × 6\n",
       "\\begin{tabular}{r|llllll}\n",
       "  & chr & start & end & gene\\_id & gene\\_name & gene\\_biotype\\\\\n",
       "  & <chr> & <int> & <int> & <chr> & <chr> & <chr>\\\\\n",
       "\\hline\n",
       "\t1 & 1 & 3205901 & 3671498 & ENSMUSG00000051951 & Xkr4    & protein\\_coding\\\\\n",
       "\t2 & 1 & 3466587 & 3513553 & ENSMUSG00000089699 & Gm1992  & antisense     \\\\\n",
       "\t3 & 1 & 3905739 & 3986215 & ENSMUSG00000102343 & Gm37381 & lincRNA       \\\\\n",
       "\t4 & 1 & 3999557 & 4409241 & ENSMUSG00000025900 & Rp1     & protein\\_coding\\\\\n",
       "\t5 & 1 & 4490931 & 4497354 & ENSMUSG00000025902 & Sox17   & protein\\_coding\\\\\n",
       "\t6 & 1 & 4583129 & 4586252 & ENSMUSG00000104328 & Gm37323 & lincRNA       \\\\\n",
       "\\end{tabular}\n"
      ],
      "text/markdown": [
       "\n",
       "A data.frame: 6 × 6\n",
       "\n",
       "| <!--/--> | chr &lt;chr&gt; | start &lt;int&gt; | end &lt;int&gt; | gene_id &lt;chr&gt; | gene_name &lt;chr&gt; | gene_biotype &lt;chr&gt; |\n",
       "|---|---|---|---|---|---|---|\n",
       "| 1 | 1 | 3205901 | 3671498 | ENSMUSG00000051951 | Xkr4    | protein_coding |\n",
       "| 2 | 1 | 3466587 | 3513553 | ENSMUSG00000089699 | Gm1992  | antisense      |\n",
       "| 3 | 1 | 3905739 | 3986215 | ENSMUSG00000102343 | Gm37381 | lincRNA        |\n",
       "| 4 | 1 | 3999557 | 4409241 | ENSMUSG00000025900 | Rp1     | protein_coding |\n",
       "| 5 | 1 | 4490931 | 4497354 | ENSMUSG00000025902 | Sox17   | protein_coding |\n",
       "| 6 | 1 | 4583129 | 4586252 | ENSMUSG00000104328 | Gm37323 | lincRNA        |\n",
       "\n"
      ],
      "text/plain": [
       "  chr start   end     gene_id            gene_name gene_biotype  \n",
       "1 1   3205901 3671498 ENSMUSG00000051951 Xkr4      protein_coding\n",
       "2 1   3466587 3513553 ENSMUSG00000089699 Gm1992    antisense     \n",
       "3 1   3905739 3986215 ENSMUSG00000102343 Gm37381   lincRNA       \n",
       "4 1   3999557 4409241 ENSMUSG00000025900 Rp1       protein_coding\n",
       "5 1   4490931 4497354 ENSMUSG00000025902 Sox17     protein_coding\n",
       "6 1   4583129 4586252 ENSMUSG00000104328 Gm37323   lincRNA       "
      ]
     },
     "metadata": {},
     "output_type": "display_data"
    }
   ],
   "source": [
    "head(gene.anno.mm10.v3)"
   ]
  },
  {
   "cell_type": "markdown",
   "id": "418fa4bc",
   "metadata": {},
   "source": [
    "## basic stat"
   ]
  },
  {
   "cell_type": "code",
   "execution_count": 166,
   "id": "0b1ea8fa",
   "metadata": {},
   "outputs": [],
   "source": [
    "rownames(gene.anno.mm10.v3) <- gene.anno.mm10.v3$gene_id"
   ]
  },
  {
   "cell_type": "code",
   "execution_count": 168,
   "id": "bb42789a",
   "metadata": {},
   "outputs": [
    {
     "data": {
      "text/html": [
       "<style>\n",
       ".list-inline {list-style: none; margin:0; padding: 0}\n",
       ".list-inline>li {display: inline-block}\n",
       ".list-inline>li:not(:last-child)::after {content: \"\\00b7\"; padding: 0 .5ex}\n",
       "</style>\n",
       "<ol class=list-inline><li>31053</li><li>6</li></ol>\n"
      ],
      "text/latex": [
       "\\begin{enumerate*}\n",
       "\\item 31053\n",
       "\\item 6\n",
       "\\end{enumerate*}\n"
      ],
      "text/markdown": [
       "1. 31053\n",
       "2. 6\n",
       "\n",
       "\n"
      ],
      "text/plain": [
       "[1] 31053     6"
      ]
     },
     "metadata": {},
     "output_type": "display_data"
    }
   ],
   "source": [
    "dim(gene.anno.mm10.v3)"
   ]
  },
  {
   "cell_type": "code",
   "execution_count": 170,
   "id": "7b9278f8",
   "metadata": {},
   "outputs": [],
   "source": [
    "gene.anno.mm10.v3$chr <- paste(\"chr\",gene.anno.mm10.v3$chr,sep = \"\")"
   ]
  },
  {
   "cell_type": "code",
   "execution_count": 171,
   "id": "47a3edf4",
   "metadata": {},
   "outputs": [
    {
     "data": {
      "text/plain": [
       "\n",
       "         chr1         chr10         chr11         chr12         chr13 \n",
       "         1744          1541          2035          1295          1408 \n",
       "        chr14         chr15         chr16         chr17         chr18 \n",
       "         1495          1098           929          1255           609 \n",
       "        chr19          chr2          chr3          chr4          chr5 \n",
       "          815          2358          1439          1710          1808 \n",
       "         chr6          chr7          chr8          chr9 chrGL456210.1 \n",
       "         1765          2569          1525          1744             5 \n",
       "chrGL456211.1 chrGL456212.1 chrGL456216.1 chrGL456219.1 chrGL456221.1 \n",
       "            6             2             1             2             7 \n",
       "chrGL456233.1 chrGL456350.1 chrGL456354.1 chrJH584292.1 chrJH584293.1 \n",
       "            4             5             5             1             9 \n",
       "chrJH584294.1 chrJH584295.1 chrJH584296.1 chrJH584297.1 chrJH584298.1 \n",
       "            6             1             3             3             3 \n",
       "chrJH584299.1 chrJH584303.1 chrJH584304.1         chrMT          chrX \n",
       "           12             1             1            13          1088 \n",
       "         chrY \n",
       "          733 "
      ]
     },
     "metadata": {},
     "output_type": "display_data"
    }
   ],
   "source": [
    "table(gene.anno.mm10.v3$chr)"
   ]
  },
  {
   "cell_type": "code",
   "execution_count": 172,
   "id": "9334707e",
   "metadata": {},
   "outputs": [
    {
     "data": {
      "text/plain": [
       "\n",
       " protein_coding         lincRNA       antisense       IG_V_gene IG_V_pseudogene \n",
       "          22055            5499            2805             218             155 \n",
       "      TR_V_gene       TR_J_gene TR_V_pseudogene       IG_D_gene       IG_J_gene \n",
       "            144              70              34              19              14 \n",
       "      IG_C_gene TR_J_pseudogene       TR_C_gene      IG_LV_gene       TR_D_gene \n",
       "             13              10               8               4               4 \n",
       "IG_C_pseudogene \n",
       "              1 "
      ]
     },
     "metadata": {},
     "output_type": "display_data"
    }
   ],
   "source": [
    "sort(table(gene.anno.mm10.v3$gene_biotype), decreasing = T)"
   ]
  },
  {
   "cell_type": "code",
   "execution_count": 175,
   "id": "f588a331",
   "metadata": {},
   "outputs": [
    {
     "data": {
      "text/html": [
       "<table class=\"dataframe\">\n",
       "<caption>A data.frame: 6 × 7</caption>\n",
       "<thead>\n",
       "\t<tr><th></th><th scope=col>chr</th><th scope=col>start</th><th scope=col>end</th><th scope=col>gene_id</th><th scope=col>gene_name</th><th scope=col>gene_biotype</th><th scope=col>toupper</th></tr>\n",
       "\t<tr><th></th><th scope=col>&lt;chr&gt;</th><th scope=col>&lt;int&gt;</th><th scope=col>&lt;int&gt;</th><th scope=col>&lt;chr&gt;</th><th scope=col>&lt;chr&gt;</th><th scope=col>&lt;chr&gt;</th><th scope=col>&lt;chr&gt;</th></tr>\n",
       "</thead>\n",
       "<tbody>\n",
       "\t<tr><th scope=row>ENSMUSG00000051951</th><td>chr1</td><td>3205901</td><td>3671498</td><td>ENSMUSG00000051951</td><td>Xkr4   </td><td>protein_coding</td><td>XKR4   </td></tr>\n",
       "\t<tr><th scope=row>ENSMUSG00000089699</th><td>chr1</td><td>3466587</td><td>3513553</td><td>ENSMUSG00000089699</td><td>Gm1992 </td><td>antisense     </td><td>GM1992 </td></tr>\n",
       "\t<tr><th scope=row>ENSMUSG00000102343</th><td>chr1</td><td>3905739</td><td>3986215</td><td>ENSMUSG00000102343</td><td>Gm37381</td><td>lincRNA       </td><td>GM37381</td></tr>\n",
       "\t<tr><th scope=row>ENSMUSG00000025900</th><td>chr1</td><td>3999557</td><td>4409241</td><td>ENSMUSG00000025900</td><td>Rp1    </td><td>protein_coding</td><td>RP1    </td></tr>\n",
       "\t<tr><th scope=row>ENSMUSG00000025902</th><td>chr1</td><td>4490931</td><td>4497354</td><td>ENSMUSG00000025902</td><td>Sox17  </td><td>protein_coding</td><td>SOX17  </td></tr>\n",
       "\t<tr><th scope=row>ENSMUSG00000104328</th><td>chr1</td><td>4583129</td><td>4586252</td><td>ENSMUSG00000104328</td><td>Gm37323</td><td>lincRNA       </td><td>GM37323</td></tr>\n",
       "</tbody>\n",
       "</table>\n"
      ],
      "text/latex": [
       "A data.frame: 6 × 7\n",
       "\\begin{tabular}{r|lllllll}\n",
       "  & chr & start & end & gene\\_id & gene\\_name & gene\\_biotype & toupper\\\\\n",
       "  & <chr> & <int> & <int> & <chr> & <chr> & <chr> & <chr>\\\\\n",
       "\\hline\n",
       "\tENSMUSG00000051951 & chr1 & 3205901 & 3671498 & ENSMUSG00000051951 & Xkr4    & protein\\_coding & XKR4   \\\\\n",
       "\tENSMUSG00000089699 & chr1 & 3466587 & 3513553 & ENSMUSG00000089699 & Gm1992  & antisense      & GM1992 \\\\\n",
       "\tENSMUSG00000102343 & chr1 & 3905739 & 3986215 & ENSMUSG00000102343 & Gm37381 & lincRNA        & GM37381\\\\\n",
       "\tENSMUSG00000025900 & chr1 & 3999557 & 4409241 & ENSMUSG00000025900 & Rp1     & protein\\_coding & RP1    \\\\\n",
       "\tENSMUSG00000025902 & chr1 & 4490931 & 4497354 & ENSMUSG00000025902 & Sox17   & protein\\_coding & SOX17  \\\\\n",
       "\tENSMUSG00000104328 & chr1 & 4583129 & 4586252 & ENSMUSG00000104328 & Gm37323 & lincRNA        & GM37323\\\\\n",
       "\\end{tabular}\n"
      ],
      "text/markdown": [
       "\n",
       "A data.frame: 6 × 7\n",
       "\n",
       "| <!--/--> | chr &lt;chr&gt; | start &lt;int&gt; | end &lt;int&gt; | gene_id &lt;chr&gt; | gene_name &lt;chr&gt; | gene_biotype &lt;chr&gt; | toupper &lt;chr&gt; |\n",
       "|---|---|---|---|---|---|---|---|\n",
       "| ENSMUSG00000051951 | chr1 | 3205901 | 3671498 | ENSMUSG00000051951 | Xkr4    | protein_coding | XKR4    |\n",
       "| ENSMUSG00000089699 | chr1 | 3466587 | 3513553 | ENSMUSG00000089699 | Gm1992  | antisense      | GM1992  |\n",
       "| ENSMUSG00000102343 | chr1 | 3905739 | 3986215 | ENSMUSG00000102343 | Gm37381 | lincRNA        | GM37381 |\n",
       "| ENSMUSG00000025900 | chr1 | 3999557 | 4409241 | ENSMUSG00000025900 | Rp1     | protein_coding | RP1     |\n",
       "| ENSMUSG00000025902 | chr1 | 4490931 | 4497354 | ENSMUSG00000025902 | Sox17   | protein_coding | SOX17   |\n",
       "| ENSMUSG00000104328 | chr1 | 4583129 | 4586252 | ENSMUSG00000104328 | Gm37323 | lincRNA        | GM37323 |\n",
       "\n"
      ],
      "text/plain": [
       "                   chr  start   end     gene_id            gene_name\n",
       "ENSMUSG00000051951 chr1 3205901 3671498 ENSMUSG00000051951 Xkr4     \n",
       "ENSMUSG00000089699 chr1 3466587 3513553 ENSMUSG00000089699 Gm1992   \n",
       "ENSMUSG00000102343 chr1 3905739 3986215 ENSMUSG00000102343 Gm37381  \n",
       "ENSMUSG00000025900 chr1 3999557 4409241 ENSMUSG00000025900 Rp1      \n",
       "ENSMUSG00000025902 chr1 4490931 4497354 ENSMUSG00000025902 Sox17    \n",
       "ENSMUSG00000104328 chr1 4583129 4586252 ENSMUSG00000104328 Gm37323  \n",
       "                   gene_biotype   toupper\n",
       "ENSMUSG00000051951 protein_coding XKR4   \n",
       "ENSMUSG00000089699 antisense      GM1992 \n",
       "ENSMUSG00000102343 lincRNA        GM37381\n",
       "ENSMUSG00000025900 protein_coding RP1    \n",
       "ENSMUSG00000025902 protein_coding SOX17  \n",
       "ENSMUSG00000104328 lincRNA        GM37323"
      ]
     },
     "metadata": {},
     "output_type": "display_data"
    }
   ],
   "source": [
    "head(gene.anno.mm10.v3)"
   ]
  },
  {
   "cell_type": "code",
   "execution_count": 174,
   "id": "6f7920f2",
   "metadata": {},
   "outputs": [],
   "source": [
    "gene.anno.mm10.v3$toupper <- toupper(gene.anno.mm10.v3$gene_name)"
   ]
  },
  {
   "cell_type": "markdown",
   "id": "c60dd0b4",
   "metadata": {},
   "source": [
    "## mouse TFs"
   ]
  },
  {
   "cell_type": "markdown",
   "id": "5bba4ed0",
   "metadata": {},
   "source": [
    "- The Human Transcription Factors\n",
    "- http://humantfs.ccbr.utoronto.ca/"
   ]
  },
  {
   "cell_type": "code",
   "execution_count": 176,
   "id": "74744db5",
   "metadata": {},
   "outputs": [
    {
     "name": "stdout",
     "output_type": "stream",
     "text": [
      "[1] 1639\n"
     ]
    }
   ],
   "source": [
    "human_TFs <- read.csv(\"http://humantfs.ccbr.utoronto.ca/download/v_1.01/TF_names_v_1.01.txt\", header = F)\n",
    "human_TFs <- human_TFs$V1\n",
    "print(length(human_TFs))\n",
    "human.tfs <- as.character(human_TFs)"
   ]
  },
  {
   "cell_type": "markdown",
   "id": "2a5c583e",
   "metadata": {},
   "source": [
    "- AnimalTFDB (v3.0)\n",
    "- http://bioinfo.life.hust.edu.cn/AnimalTFDB/#!/download"
   ]
  },
  {
   "cell_type": "code",
   "execution_count": 208,
   "id": "69abe705",
   "metadata": {},
   "outputs": [
    {
     "data": {
      "text/html": [
       "<style>\n",
       ".list-inline {list-style: none; margin:0; padding: 0}\n",
       ".list-inline>li {display: inline-block}\n",
       ".list-inline>li:not(:last-child)::after {content: \"\\00b7\"; padding: 0 .5ex}\n",
       "</style>\n",
       "<ol class=list-inline><li>1636</li><li>5</li></ol>\n"
      ],
      "text/latex": [
       "\\begin{enumerate*}\n",
       "\\item 1636\n",
       "\\item 5\n",
       "\\end{enumerate*}\n"
      ],
      "text/markdown": [
       "1. 1636\n",
       "2. 5\n",
       "\n",
       "\n"
      ],
      "text/plain": [
       "[1] 1636    5"
      ]
     },
     "metadata": {},
     "output_type": "display_data"
    }
   ],
   "source": [
    "mouse.tfs <- read.csv(\"files/Mus_musculus_TF.txt\", sep = \"\\t\", stringsAsFactors = F, row.names = 3)\n",
    "dim(mouse.tfs)"
   ]
  },
  {
   "cell_type": "code",
   "execution_count": 209,
   "id": "a1f230ec",
   "metadata": {},
   "outputs": [
    {
     "data": {
      "text/html": [
       "<table class=\"dataframe\">\n",
       "<caption>A data.frame: 6 × 5</caption>\n",
       "<thead>\n",
       "\t<tr><th></th><th scope=col>Species</th><th scope=col>Symbol</th><th scope=col>Family</th><th scope=col>Protein</th><th scope=col>Entrez.ID</th></tr>\n",
       "\t<tr><th></th><th scope=col>&lt;chr&gt;</th><th scope=col>&lt;chr&gt;</th><th scope=col>&lt;chr&gt;</th><th scope=col>&lt;chr&gt;</th><th scope=col>&lt;chr&gt;</th></tr>\n",
       "</thead>\n",
       "<tbody>\n",
       "\t<tr><th scope=row>ENSMUSG00000037029</th><td>Mus_musculus</td><td>Zfp146</td><td>zf-C2H2 </td><td>ENSMUSP00000058588;                                                         </td><td>26465 </td></tr>\n",
       "\t<tr><th scope=row>ENSMUSG00000032035</th><td>Mus_musculus</td><td>Ets1  </td><td>ETS     </td><td>ENSMUSP00000051303;ENSMUSP00000139107;ENSMUSP00000034534;                   </td><td>23871 </td></tr>\n",
       "\t<tr><th scope=row>ENSMUSG00000021485</th><td>Mus_musculus</td><td>Mxd3  </td><td>bHLH    </td><td>ENSMUSP00000021941;                                                         </td><td>17121 </td></tr>\n",
       "\t<tr><th scope=row>ENSMUSG00000097200</th><td>Mus_musculus</td><td>Rhox6 </td><td>Homeobox</td><td>ENSMUSP00000138055;                                                         </td><td>-     </td></tr>\n",
       "\t<tr><th scope=row>ENSMUSG00000098022</th><td>Mus_musculus</td><td>Zfp82 </td><td>zf-C2H2 </td><td>ENSMUSP00000079647;ENSMUSP00000138217;                                      </td><td>330502</td></tr>\n",
       "\t<tr><th scope=row>ENSMUSG00000027985</th><td>Mus_musculus</td><td>Lef1  </td><td>HMG     </td><td>ENSMUSP00000067808;ENSMUSP00000101948;ENSMUSP00000029611;ENSMUSP00000096211;</td><td>16842 </td></tr>\n",
       "</tbody>\n",
       "</table>\n"
      ],
      "text/latex": [
       "A data.frame: 6 × 5\n",
       "\\begin{tabular}{r|lllll}\n",
       "  & Species & Symbol & Family & Protein & Entrez.ID\\\\\n",
       "  & <chr> & <chr> & <chr> & <chr> & <chr>\\\\\n",
       "\\hline\n",
       "\tENSMUSG00000037029 & Mus\\_musculus & Zfp146 & zf-C2H2  & ENSMUSP00000058588;                                                          & 26465 \\\\\n",
       "\tENSMUSG00000032035 & Mus\\_musculus & Ets1   & ETS      & ENSMUSP00000051303;ENSMUSP00000139107;ENSMUSP00000034534;                    & 23871 \\\\\n",
       "\tENSMUSG00000021485 & Mus\\_musculus & Mxd3   & bHLH     & ENSMUSP00000021941;                                                          & 17121 \\\\\n",
       "\tENSMUSG00000097200 & Mus\\_musculus & Rhox6  & Homeobox & ENSMUSP00000138055;                                                          & -     \\\\\n",
       "\tENSMUSG00000098022 & Mus\\_musculus & Zfp82  & zf-C2H2  & ENSMUSP00000079647;ENSMUSP00000138217;                                       & 330502\\\\\n",
       "\tENSMUSG00000027985 & Mus\\_musculus & Lef1   & HMG      & ENSMUSP00000067808;ENSMUSP00000101948;ENSMUSP00000029611;ENSMUSP00000096211; & 16842 \\\\\n",
       "\\end{tabular}\n"
      ],
      "text/markdown": [
       "\n",
       "A data.frame: 6 × 5\n",
       "\n",
       "| <!--/--> | Species &lt;chr&gt; | Symbol &lt;chr&gt; | Family &lt;chr&gt; | Protein &lt;chr&gt; | Entrez.ID &lt;chr&gt; |\n",
       "|---|---|---|---|---|---|\n",
       "| ENSMUSG00000037029 | Mus_musculus | Zfp146 | zf-C2H2  | ENSMUSP00000058588;                                                          | 26465  |\n",
       "| ENSMUSG00000032035 | Mus_musculus | Ets1   | ETS      | ENSMUSP00000051303;ENSMUSP00000139107;ENSMUSP00000034534;                    | 23871  |\n",
       "| ENSMUSG00000021485 | Mus_musculus | Mxd3   | bHLH     | ENSMUSP00000021941;                                                          | 17121  |\n",
       "| ENSMUSG00000097200 | Mus_musculus | Rhox6  | Homeobox | ENSMUSP00000138055;                                                          | -      |\n",
       "| ENSMUSG00000098022 | Mus_musculus | Zfp82  | zf-C2H2  | ENSMUSP00000079647;ENSMUSP00000138217;                                       | 330502 |\n",
       "| ENSMUSG00000027985 | Mus_musculus | Lef1   | HMG      | ENSMUSP00000067808;ENSMUSP00000101948;ENSMUSP00000029611;ENSMUSP00000096211; | 16842  |\n",
       "\n"
      ],
      "text/plain": [
       "                   Species      Symbol Family  \n",
       "ENSMUSG00000037029 Mus_musculus Zfp146 zf-C2H2 \n",
       "ENSMUSG00000032035 Mus_musculus Ets1   ETS     \n",
       "ENSMUSG00000021485 Mus_musculus Mxd3   bHLH    \n",
       "ENSMUSG00000097200 Mus_musculus Rhox6  Homeobox\n",
       "ENSMUSG00000098022 Mus_musculus Zfp82  zf-C2H2 \n",
       "ENSMUSG00000027985 Mus_musculus Lef1   HMG     \n",
       "                   Protein                                                                     \n",
       "ENSMUSG00000037029 ENSMUSP00000058588;                                                         \n",
       "ENSMUSG00000032035 ENSMUSP00000051303;ENSMUSP00000139107;ENSMUSP00000034534;                   \n",
       "ENSMUSG00000021485 ENSMUSP00000021941;                                                         \n",
       "ENSMUSG00000097200 ENSMUSP00000138055;                                                         \n",
       "ENSMUSG00000098022 ENSMUSP00000079647;ENSMUSP00000138217;                                      \n",
       "ENSMUSG00000027985 ENSMUSP00000067808;ENSMUSP00000101948;ENSMUSP00000029611;ENSMUSP00000096211;\n",
       "                   Entrez.ID\n",
       "ENSMUSG00000037029 26465    \n",
       "ENSMUSG00000032035 23871    \n",
       "ENSMUSG00000021485 17121    \n",
       "ENSMUSG00000097200 -        \n",
       "ENSMUSG00000098022 330502   \n",
       "ENSMUSG00000027985 16842    "
      ]
     },
     "metadata": {},
     "output_type": "display_data"
    }
   ],
   "source": [
    "head(mouse.tfs)"
   ]
  },
  {
   "cell_type": "code",
   "execution_count": 185,
   "id": "d0c90ae6",
   "metadata": {},
   "outputs": [
    {
     "data": {
      "text/html": [
       "<style>\n",
       ".list-inline {list-style: none; margin:0; padding: 0}\n",
       ".list-inline>li {display: inline-block}\n",
       ".list-inline>li:not(:last-child)::after {content: \"\\00b7\"; padding: 0 .5ex}\n",
       "</style>\n",
       "<ol class=list-inline><li>970</li><li>4</li></ol>\n"
      ],
      "text/latex": [
       "\\begin{enumerate*}\n",
       "\\item 970\n",
       "\\item 4\n",
       "\\end{enumerate*}\n"
      ],
      "text/markdown": [
       "1. 970\n",
       "2. 4\n",
       "\n",
       "\n"
      ],
      "text/plain": [
       "[1] 970   4"
      ]
     },
     "metadata": {},
     "output_type": "display_data"
    }
   ],
   "source": [
    "mouse_TFco <- read.csv(\"files/Mus_musculus_TF_cofactors.txt\", sep = \"\\t\", row.names = 3)\n",
    "dim(mouse_TFco)"
   ]
  },
  {
   "cell_type": "code",
   "execution_count": 187,
   "id": "0f1157eb",
   "metadata": {},
   "outputs": [
    {
     "data": {
      "text/html": [
       "<table class=\"dataframe\">\n",
       "<caption>A data.frame: 6 × 4</caption>\n",
       "<thead>\n",
       "\t<tr><th></th><th scope=col>Species</th><th scope=col>Symbol</th><th scope=col>Family</th><th scope=col>Entrez.ID</th></tr>\n",
       "\t<tr><th></th><th scope=col>&lt;chr&gt;</th><th scope=col>&lt;chr&gt;</th><th scope=col>&lt;chr&gt;</th><th scope=col>&lt;chr&gt;</th></tr>\n",
       "</thead>\n",
       "<tbody>\n",
       "\t<tr><th scope=row>ENSMUSG00000000085</th><td>Mus_musculus</td><td>Scmh1 </td><td>Others                       </td><td>29871 </td></tr>\n",
       "\t<tr><th scope=row>ENSMUSG00000000275</th><td>Mus_musculus</td><td>Trim25</td><td>Tripartite motif             </td><td>217069</td></tr>\n",
       "\t<tr><th scope=row>ENSMUSG00000000441</th><td>Mus_musculus</td><td>Raf1  </td><td>Others                       </td><td>110157</td></tr>\n",
       "\t<tr><th scope=row>ENSMUSG00000000561</th><td>Mus_musculus</td><td>Wdr77 </td><td>WD                           </td><td>70465 </td></tr>\n",
       "\t<tr><th scope=row>ENSMUSG00000000568</th><td>Mus_musculus</td><td>Hnrnpd</td><td>HNRNP                        </td><td>11991 </td></tr>\n",
       "\t<tr><th scope=row>ENSMUSG00000000581</th><td>Mus_musculus</td><td>C1d   </td><td>Other_Co-activator/repressors</td><td>57316 </td></tr>\n",
       "</tbody>\n",
       "</table>\n"
      ],
      "text/latex": [
       "A data.frame: 6 × 4\n",
       "\\begin{tabular}{r|llll}\n",
       "  & Species & Symbol & Family & Entrez.ID\\\\\n",
       "  & <chr> & <chr> & <chr> & <chr>\\\\\n",
       "\\hline\n",
       "\tENSMUSG00000000085 & Mus\\_musculus & Scmh1  & Others                        & 29871 \\\\\n",
       "\tENSMUSG00000000275 & Mus\\_musculus & Trim25 & Tripartite motif              & 217069\\\\\n",
       "\tENSMUSG00000000441 & Mus\\_musculus & Raf1   & Others                        & 110157\\\\\n",
       "\tENSMUSG00000000561 & Mus\\_musculus & Wdr77  & WD                            & 70465 \\\\\n",
       "\tENSMUSG00000000568 & Mus\\_musculus & Hnrnpd & HNRNP                         & 11991 \\\\\n",
       "\tENSMUSG00000000581 & Mus\\_musculus & C1d    & Other\\_Co-activator/repressors & 57316 \\\\\n",
       "\\end{tabular}\n"
      ],
      "text/markdown": [
       "\n",
       "A data.frame: 6 × 4\n",
       "\n",
       "| <!--/--> | Species &lt;chr&gt; | Symbol &lt;chr&gt; | Family &lt;chr&gt; | Entrez.ID &lt;chr&gt; |\n",
       "|---|---|---|---|---|\n",
       "| ENSMUSG00000000085 | Mus_musculus | Scmh1  | Others                        | 29871  |\n",
       "| ENSMUSG00000000275 | Mus_musculus | Trim25 | Tripartite motif              | 217069 |\n",
       "| ENSMUSG00000000441 | Mus_musculus | Raf1   | Others                        | 110157 |\n",
       "| ENSMUSG00000000561 | Mus_musculus | Wdr77  | WD                            | 70465  |\n",
       "| ENSMUSG00000000568 | Mus_musculus | Hnrnpd | HNRNP                         | 11991  |\n",
       "| ENSMUSG00000000581 | Mus_musculus | C1d    | Other_Co-activator/repressors | 57316  |\n",
       "\n"
      ],
      "text/plain": [
       "                   Species      Symbol Family                        Entrez.ID\n",
       "ENSMUSG00000000085 Mus_musculus Scmh1  Others                        29871    \n",
       "ENSMUSG00000000275 Mus_musculus Trim25 Tripartite motif              217069   \n",
       "ENSMUSG00000000441 Mus_musculus Raf1   Others                        110157   \n",
       "ENSMUSG00000000561 Mus_musculus Wdr77  WD                            70465    \n",
       "ENSMUSG00000000568 Mus_musculus Hnrnpd HNRNP                         11991    \n",
       "ENSMUSG00000000581 Mus_musculus C1d    Other_Co-activator/repressors 57316    "
      ]
     },
     "metadata": {},
     "output_type": "display_data"
    }
   ],
   "source": [
    "head(mouse_TFco)"
   ]
  },
  {
   "cell_type": "markdown",
   "id": "8497c736",
   "metadata": {},
   "source": [
    "### overlap"
   ]
  },
  {
   "cell_type": "code",
   "execution_count": 181,
   "id": "cc10c132",
   "metadata": {
    "scrolled": false
   },
   "outputs": [
    {
     "data": {
      "image/png": "[encoded data removed]",
      "text/plain": [
       "plot without title"
      ]
     },
     "metadata": {
      "image/png": {
       "height": 420,
       "width": 420
      }
     },
     "output_type": "display_data"
    }
   ],
   "source": [
    "gplots::venn(list(human.tfs=human.tfs, human_TF2=human_TF2$Symbol, mouse.tfs=toupper(mouse.tfs$Symbol)))"
   ]
  },
  {
   "cell_type": "markdown",
   "id": "816549b0",
   "metadata": {},
   "source": [
    "### add"
   ]
  },
  {
   "cell_type": "code",
   "execution_count": 189,
   "id": "bc1eb21b",
   "metadata": {},
   "outputs": [
    {
     "data": {
      "text/html": [
       "<table class=\"dataframe\">\n",
       "<caption>A data.frame: 6 × 14</caption>\n",
       "<thead>\n",
       "\t<tr><th></th><th scope=col>chr</th><th scope=col>start</th><th scope=col>end</th><th scope=col>gene_id</th><th scope=col>gene_name</th><th scope=col>gene_biotype</th><th scope=col>TF</th><th scope=col>TFcof</th><th scope=col>ligand</th><th scope=col>receptor</th><th scope=col>pathway_name</th><th scope=col>pathway_type</th><th scope=col>RBP</th><th scope=col>histome_modifier</th></tr>\n",
       "\t<tr><th></th><th scope=col>&lt;chr&gt;</th><th scope=col>&lt;int&gt;</th><th scope=col>&lt;int&gt;</th><th scope=col>&lt;chr&gt;</th><th scope=col>&lt;chr&gt;</th><th scope=col>&lt;chr&gt;</th><th scope=col>&lt;chr&gt;</th><th scope=col>&lt;chr&gt;</th><th scope=col>&lt;chr&gt;</th><th scope=col>&lt;chr&gt;</th><th scope=col>&lt;chr&gt;</th><th scope=col>&lt;chr&gt;</th><th scope=col>&lt;chr&gt;</th><th scope=col>&lt;chr&gt;</th></tr>\n",
       "</thead>\n",
       "<tbody>\n",
       "\t<tr><th scope=row>ENSG00000243485</th><td>chr1</td><td> 29554</td><td> 31109</td><td>ENSG00000243485</td><td>MIR1302-2HG</td><td>lincRNA       </td><td></td><td></td><td></td><td></td><td></td><td></td><td></td><td></td></tr>\n",
       "\t<tr><th scope=row>ENSG00000237613</th><td>chr1</td><td> 34554</td><td> 36081</td><td>ENSG00000237613</td><td>FAM138A    </td><td>lincRNA       </td><td></td><td></td><td></td><td></td><td></td><td></td><td></td><td></td></tr>\n",
       "\t<tr><th scope=row>ENSG00000186092</th><td>chr1</td><td> 65419</td><td> 71585</td><td>ENSG00000186092</td><td>OR4F5      </td><td>protein_coding</td><td></td><td></td><td></td><td></td><td></td><td></td><td></td><td></td></tr>\n",
       "\t<tr><th scope=row>ENSG00000238009</th><td>chr1</td><td> 89295</td><td>133723</td><td>ENSG00000238009</td><td>AL627309.1 </td><td>lincRNA       </td><td></td><td></td><td></td><td></td><td></td><td></td><td></td><td></td></tr>\n",
       "\t<tr><th scope=row>ENSG00000239945</th><td>chr1</td><td> 89551</td><td> 91105</td><td>ENSG00000239945</td><td>AL627309.3 </td><td>lincRNA       </td><td></td><td></td><td></td><td></td><td></td><td></td><td></td><td></td></tr>\n",
       "\t<tr><th scope=row>ENSG00000239906</th><td>chr1</td><td>139790</td><td>140339</td><td>ENSG00000239906</td><td>AL627309.2 </td><td>antisense     </td><td></td><td></td><td></td><td></td><td></td><td></td><td></td><td></td></tr>\n",
       "</tbody>\n",
       "</table>\n"
      ],
      "text/latex": [
       "A data.frame: 6 × 14\n",
       "\\begin{tabular}{r|llllllllllllll}\n",
       "  & chr & start & end & gene\\_id & gene\\_name & gene\\_biotype & TF & TFcof & ligand & receptor & pathway\\_name & pathway\\_type & RBP & histome\\_modifier\\\\\n",
       "  & <chr> & <int> & <int> & <chr> & <chr> & <chr> & <chr> & <chr> & <chr> & <chr> & <chr> & <chr> & <chr> & <chr>\\\\\n",
       "\\hline\n",
       "\tENSG00000243485 & chr1 &  29554 &  31109 & ENSG00000243485 & MIR1302-2HG & lincRNA        &  &  &  &  &  &  &  & \\\\\n",
       "\tENSG00000237613 & chr1 &  34554 &  36081 & ENSG00000237613 & FAM138A     & lincRNA        &  &  &  &  &  &  &  & \\\\\n",
       "\tENSG00000186092 & chr1 &  65419 &  71585 & ENSG00000186092 & OR4F5       & protein\\_coding &  &  &  &  &  &  &  & \\\\\n",
       "\tENSG00000238009 & chr1 &  89295 & 133723 & ENSG00000238009 & AL627309.1  & lincRNA        &  &  &  &  &  &  &  & \\\\\n",
       "\tENSG00000239945 & chr1 &  89551 &  91105 & ENSG00000239945 & AL627309.3  & lincRNA        &  &  &  &  &  &  &  & \\\\\n",
       "\tENSG00000239906 & chr1 & 139790 & 140339 & ENSG00000239906 & AL627309.2  & antisense      &  &  &  &  &  &  &  & \\\\\n",
       "\\end{tabular}\n"
      ],
      "text/markdown": [
       "\n",
       "A data.frame: 6 × 14\n",
       "\n",
       "| <!--/--> | chr &lt;chr&gt; | start &lt;int&gt; | end &lt;int&gt; | gene_id &lt;chr&gt; | gene_name &lt;chr&gt; | gene_biotype &lt;chr&gt; | TF &lt;chr&gt; | TFcof &lt;chr&gt; | ligand &lt;chr&gt; | receptor &lt;chr&gt; | pathway_name &lt;chr&gt; | pathway_type &lt;chr&gt; | RBP &lt;chr&gt; | histome_modifier &lt;chr&gt; |\n",
       "|---|---|---|---|---|---|---|---|---|---|---|---|---|---|---|\n",
       "| ENSG00000243485 | chr1 |  29554 |  31109 | ENSG00000243485 | MIR1302-2HG | lincRNA        | <!----> | <!----> | <!----> | <!----> | <!----> | <!----> | <!----> | <!----> |\n",
       "| ENSG00000237613 | chr1 |  34554 |  36081 | ENSG00000237613 | FAM138A     | lincRNA        | <!----> | <!----> | <!----> | <!----> | <!----> | <!----> | <!----> | <!----> |\n",
       "| ENSG00000186092 | chr1 |  65419 |  71585 | ENSG00000186092 | OR4F5       | protein_coding | <!----> | <!----> | <!----> | <!----> | <!----> | <!----> | <!----> | <!----> |\n",
       "| ENSG00000238009 | chr1 |  89295 | 133723 | ENSG00000238009 | AL627309.1  | lincRNA        | <!----> | <!----> | <!----> | <!----> | <!----> | <!----> | <!----> | <!----> |\n",
       "| ENSG00000239945 | chr1 |  89551 |  91105 | ENSG00000239945 | AL627309.3  | lincRNA        | <!----> | <!----> | <!----> | <!----> | <!----> | <!----> | <!----> | <!----> |\n",
       "| ENSG00000239906 | chr1 | 139790 | 140339 | ENSG00000239906 | AL627309.2  | antisense      | <!----> | <!----> | <!----> | <!----> | <!----> | <!----> | <!----> | <!----> |\n",
       "\n"
      ],
      "text/plain": [
       "                chr  start  end    gene_id         gene_name   gene_biotype  \n",
       "ENSG00000243485 chr1  29554  31109 ENSG00000243485 MIR1302-2HG lincRNA       \n",
       "ENSG00000237613 chr1  34554  36081 ENSG00000237613 FAM138A     lincRNA       \n",
       "ENSG00000186092 chr1  65419  71585 ENSG00000186092 OR4F5       protein_coding\n",
       "ENSG00000238009 chr1  89295 133723 ENSG00000238009 AL627309.1  lincRNA       \n",
       "ENSG00000239945 chr1  89551  91105 ENSG00000239945 AL627309.3  lincRNA       \n",
       "ENSG00000239906 chr1 139790 140339 ENSG00000239906 AL627309.2  antisense     \n",
       "                TF TFcof ligand receptor pathway_name pathway_type RBP\n",
       "ENSG00000243485                                                       \n",
       "ENSG00000237613                                                       \n",
       "ENSG00000186092                                                       \n",
       "ENSG00000238009                                                       \n",
       "ENSG00000239945                                                       \n",
       "ENSG00000239906                                                       \n",
       "                histome_modifier\n",
       "ENSG00000243485                 \n",
       "ENSG00000237613                 \n",
       "ENSG00000186092                 \n",
       "ENSG00000238009                 \n",
       "ENSG00000239945                 \n",
       "ENSG00000239906                 "
      ]
     },
     "metadata": {},
     "output_type": "display_data"
    }
   ],
   "source": [
    "head(gene.anno.GRCh38.v3)"
   ]
  },
  {
   "cell_type": "code",
   "execution_count": 188,
   "id": "57baaefa",
   "metadata": {},
   "outputs": [
    {
     "data": {
      "text/html": [
       "<table class=\"dataframe\">\n",
       "<caption>A data.frame: 6 × 7</caption>\n",
       "<thead>\n",
       "\t<tr><th></th><th scope=col>chr</th><th scope=col>start</th><th scope=col>end</th><th scope=col>gene_id</th><th scope=col>gene_name</th><th scope=col>gene_biotype</th><th scope=col>toupper</th></tr>\n",
       "\t<tr><th></th><th scope=col>&lt;chr&gt;</th><th scope=col>&lt;int&gt;</th><th scope=col>&lt;int&gt;</th><th scope=col>&lt;chr&gt;</th><th scope=col>&lt;chr&gt;</th><th scope=col>&lt;chr&gt;</th><th scope=col>&lt;chr&gt;</th></tr>\n",
       "</thead>\n",
       "<tbody>\n",
       "\t<tr><th scope=row>ENSMUSG00000051951</th><td>chr1</td><td>3205901</td><td>3671498</td><td>ENSMUSG00000051951</td><td>Xkr4   </td><td>protein_coding</td><td>XKR4   </td></tr>\n",
       "\t<tr><th scope=row>ENSMUSG00000089699</th><td>chr1</td><td>3466587</td><td>3513553</td><td>ENSMUSG00000089699</td><td>Gm1992 </td><td>antisense     </td><td>GM1992 </td></tr>\n",
       "\t<tr><th scope=row>ENSMUSG00000102343</th><td>chr1</td><td>3905739</td><td>3986215</td><td>ENSMUSG00000102343</td><td>Gm37381</td><td>lincRNA       </td><td>GM37381</td></tr>\n",
       "\t<tr><th scope=row>ENSMUSG00000025900</th><td>chr1</td><td>3999557</td><td>4409241</td><td>ENSMUSG00000025900</td><td>Rp1    </td><td>protein_coding</td><td>RP1    </td></tr>\n",
       "\t<tr><th scope=row>ENSMUSG00000025902</th><td>chr1</td><td>4490931</td><td>4497354</td><td>ENSMUSG00000025902</td><td>Sox17  </td><td>protein_coding</td><td>SOX17  </td></tr>\n",
       "\t<tr><th scope=row>ENSMUSG00000104328</th><td>chr1</td><td>4583129</td><td>4586252</td><td>ENSMUSG00000104328</td><td>Gm37323</td><td>lincRNA       </td><td>GM37323</td></tr>\n",
       "</tbody>\n",
       "</table>\n"
      ],
      "text/latex": [
       "A data.frame: 6 × 7\n",
       "\\begin{tabular}{r|lllllll}\n",
       "  & chr & start & end & gene\\_id & gene\\_name & gene\\_biotype & toupper\\\\\n",
       "  & <chr> & <int> & <int> & <chr> & <chr> & <chr> & <chr>\\\\\n",
       "\\hline\n",
       "\tENSMUSG00000051951 & chr1 & 3205901 & 3671498 & ENSMUSG00000051951 & Xkr4    & protein\\_coding & XKR4   \\\\\n",
       "\tENSMUSG00000089699 & chr1 & 3466587 & 3513553 & ENSMUSG00000089699 & Gm1992  & antisense      & GM1992 \\\\\n",
       "\tENSMUSG00000102343 & chr1 & 3905739 & 3986215 & ENSMUSG00000102343 & Gm37381 & lincRNA        & GM37381\\\\\n",
       "\tENSMUSG00000025900 & chr1 & 3999557 & 4409241 & ENSMUSG00000025900 & Rp1     & protein\\_coding & RP1    \\\\\n",
       "\tENSMUSG00000025902 & chr1 & 4490931 & 4497354 & ENSMUSG00000025902 & Sox17   & protein\\_coding & SOX17  \\\\\n",
       "\tENSMUSG00000104328 & chr1 & 4583129 & 4586252 & ENSMUSG00000104328 & Gm37323 & lincRNA        & GM37323\\\\\n",
       "\\end{tabular}\n"
      ],
      "text/markdown": [
       "\n",
       "A data.frame: 6 × 7\n",
       "\n",
       "| <!--/--> | chr &lt;chr&gt; | start &lt;int&gt; | end &lt;int&gt; | gene_id &lt;chr&gt; | gene_name &lt;chr&gt; | gene_biotype &lt;chr&gt; | toupper &lt;chr&gt; |\n",
       "|---|---|---|---|---|---|---|---|\n",
       "| ENSMUSG00000051951 | chr1 | 3205901 | 3671498 | ENSMUSG00000051951 | Xkr4    | protein_coding | XKR4    |\n",
       "| ENSMUSG00000089699 | chr1 | 3466587 | 3513553 | ENSMUSG00000089699 | Gm1992  | antisense      | GM1992  |\n",
       "| ENSMUSG00000102343 | chr1 | 3905739 | 3986215 | ENSMUSG00000102343 | Gm37381 | lincRNA        | GM37381 |\n",
       "| ENSMUSG00000025900 | chr1 | 3999557 | 4409241 | ENSMUSG00000025900 | Rp1     | protein_coding | RP1     |\n",
       "| ENSMUSG00000025902 | chr1 | 4490931 | 4497354 | ENSMUSG00000025902 | Sox17   | protein_coding | SOX17   |\n",
       "| ENSMUSG00000104328 | chr1 | 4583129 | 4586252 | ENSMUSG00000104328 | Gm37323 | lincRNA        | GM37323 |\n",
       "\n"
      ],
      "text/plain": [
       "                   chr  start   end     gene_id            gene_name\n",
       "ENSMUSG00000051951 chr1 3205901 3671498 ENSMUSG00000051951 Xkr4     \n",
       "ENSMUSG00000089699 chr1 3466587 3513553 ENSMUSG00000089699 Gm1992   \n",
       "ENSMUSG00000102343 chr1 3905739 3986215 ENSMUSG00000102343 Gm37381  \n",
       "ENSMUSG00000025900 chr1 3999557 4409241 ENSMUSG00000025900 Rp1      \n",
       "ENSMUSG00000025902 chr1 4490931 4497354 ENSMUSG00000025902 Sox17    \n",
       "ENSMUSG00000104328 chr1 4583129 4586252 ENSMUSG00000104328 Gm37323  \n",
       "                   gene_biotype   toupper\n",
       "ENSMUSG00000051951 protein_coding XKR4   \n",
       "ENSMUSG00000089699 antisense      GM1992 \n",
       "ENSMUSG00000102343 lincRNA        GM37381\n",
       "ENSMUSG00000025900 protein_coding RP1    \n",
       "ENSMUSG00000025902 protein_coding SOX17  \n",
       "ENSMUSG00000104328 lincRNA        GM37323"
      ]
     },
     "metadata": {},
     "output_type": "display_data"
    }
   ],
   "source": [
    "head(gene.anno.mm10.v3)"
   ]
  },
  {
   "cell_type": "code",
   "execution_count": 218,
   "id": "4d68eca2",
   "metadata": {},
   "outputs": [],
   "source": [
    "gene.anno.mm10.v3$TF <- \"\"\n",
    "gene.anno.mm10.v3$TFcof <- \"\""
   ]
  },
  {
   "cell_type": "code",
   "execution_count": 219,
   "id": "902a7241",
   "metadata": {},
   "outputs": [],
   "source": [
    "gene.anno.mm10.v3[rownames(mouse.tfs),]$TF <- \"TF\""
   ]
  },
  {
   "cell_type": "code",
   "execution_count": 220,
   "id": "2f4a9c08",
   "metadata": {},
   "outputs": [],
   "source": [
    "gene.anno.mm10.v3[ gene.anno.mm10.v3$gene_name %in% mouse.tfs$Symbol,]$TF <- \"TF\""
   ]
  },
  {
   "cell_type": "code",
   "execution_count": 221,
   "id": "155796d2",
   "metadata": {},
   "outputs": [
    {
     "data": {
      "text/plain": [
       "\n",
       "         TF \n",
       "29438  1639 "
      ]
     },
     "metadata": {},
     "output_type": "display_data"
    }
   ],
   "source": [
    "table(gene.anno.mm10.v3$TF)"
   ]
  },
  {
   "cell_type": "code",
   "execution_count": 222,
   "id": "09dd42ba",
   "metadata": {
    "scrolled": true
   },
   "outputs": [],
   "source": [
    "gene.anno.mm10.v3[rownames(mouse_TFco),]$TFcof <- \"TF cofactor\""
   ]
  },
  {
   "cell_type": "code",
   "execution_count": 223,
   "id": "2ed7dab6",
   "metadata": {},
   "outputs": [],
   "source": [
    "gene.anno.mm10.v3[ gene.anno.mm10.v3$gene_name %in% mouse_TFco$Symbol,]$TFcof <- \"TF cofactor\""
   ]
  },
  {
   "cell_type": "code",
   "execution_count": 224,
   "id": "b9bd72e1",
   "metadata": {},
   "outputs": [
    {
     "data": {
      "text/plain": [
       "\n",
       "            TF cofactor \n",
       "      30087         976 "
      ]
     },
     "metadata": {},
     "output_type": "display_data"
    }
   ],
   "source": [
    "table(gene.anno.mm10.v3$TFcof)"
   ]
  },
  {
   "cell_type": "code",
   "execution_count": 225,
   "id": "1b1adb30",
   "metadata": {},
   "outputs": [],
   "source": [
    "gene.anno.mm10.v3 <- subset(gene.anno.mm10.v3, !is.na(gene.anno.mm10.v3$gene_name))"
   ]
  },
  {
   "cell_type": "markdown",
   "id": "c4db2345",
   "metadata": {},
   "source": [
    "### add human"
   ]
  },
  {
   "cell_type": "code",
   "execution_count": 232,
   "id": "b1a219f2",
   "metadata": {},
   "outputs": [],
   "source": [
    "gene.anno.mm10.v3[ gene.anno.mm10.v3$toupper %in%  subset(gene.anno.GRCh38.v3, TF==\"TF\")$gene_name,]$TF <- \"TF\""
   ]
  },
  {
   "cell_type": "code",
   "execution_count": 233,
   "id": "ea87f248",
   "metadata": {},
   "outputs": [
    {
     "data": {
      "text/plain": [
       "\n",
       "         TF \n",
       "29321  1732 "
      ]
     },
     "metadata": {},
     "output_type": "display_data"
    }
   ],
   "source": [
    "table(gene.anno.mm10.v3$TF)"
   ]
  },
  {
   "cell_type": "code",
   "execution_count": 229,
   "id": "656d01b7",
   "metadata": {},
   "outputs": [],
   "source": [
    "gene.anno.mm10.v3[ gene.anno.mm10.v3$toupper %in%  subset(gene.anno.GRCh38.v3, TFcof==\"TF cofactor\")$gene_name,]$TFcof <- \"TF cofactor\""
   ]
  },
  {
   "cell_type": "code",
   "execution_count": 230,
   "id": "3dc74575",
   "metadata": {},
   "outputs": [
    {
     "data": {
      "text/plain": [
       "\n",
       "            TF cofactor \n",
       "      30042        1011 "
      ]
     },
     "metadata": {},
     "output_type": "display_data"
    }
   ],
   "source": [
    "table(gene.anno.mm10.v3$TFcof)"
   ]
  },
  {
   "cell_type": "markdown",
   "id": "136ce396",
   "metadata": {},
   "source": [
    "## ligand and receptor"
   ]
  },
  {
   "cell_type": "code",
   "execution_count": 238,
   "id": "9782f416",
   "metadata": {},
   "outputs": [],
   "source": [
    "tmp <- CellChatDB.mouse$interaction$interaction_name_2"
   ]
  },
  {
   "cell_type": "code",
   "execution_count": 263,
   "id": "58baf717",
   "metadata": {},
   "outputs": [],
   "source": [
    "LR.df <- CellChatDB.mouse$interaction"
   ]
  },
  {
   "cell_type": "code",
   "execution_count": 240,
   "id": "2610edd7",
   "metadata": {},
   "outputs": [
    {
     "data": {
      "text/html": [
       "580"
      ],
      "text/latex": [
       "580"
      ],
      "text/markdown": [
       "580"
      ],
      "text/plain": [
       "[1] 580"
      ]
     },
     "metadata": {},
     "output_type": "display_data"
    }
   ],
   "source": [
    "ligand <- unlist(lapply(tmp, function(x){\n",
    "  strsplit(x, split = \" - \")[[1]][1]\n",
    "} ))\n",
    "mouse.ligand <- unique(ligand)\n",
    "mouse.ligand <- unique(unlist(strsplit(mouse.ligand, split = \"_\")))\n",
    "length(mouse.ligand)"
   ]
  },
  {
   "cell_type": "code",
   "execution_count": 241,
   "id": "fa97c051",
   "metadata": {},
   "outputs": [
    {
     "data": {
      "text/html": [
       "469"
      ],
      "text/latex": [
       "469"
      ],
      "text/markdown": [
       "469"
      ],
      "text/plain": [
       "[1] 469"
      ]
     },
     "metadata": {},
     "output_type": "display_data"
    }
   ],
   "source": [
    "receptors <- unlist(lapply(tmp, function(x){\n",
    "  strsplit(x, split = \" - \")[[1]][2]\n",
    "} ))\n",
    "receptors_1 <- unique(receptors[!grepl(\"\\\\+\", receptors)])\n",
    "receptors_2 <- unique(unlist(strsplit(receptors[grepl(\"\\\\+\", receptors)], split = \"\\\\(|\\\\+|\\\\)\")))\n",
    "receptors_2 <- receptors_2[!receptors_2 %in% \"\"]\n",
    "mouse.receptor <- unique(c(receptors_1, receptors_2))\n",
    "length(mouse.receptor)\n",
    "\n",
    "mouse.ligand <- trimws(mouse.ligand)\n",
    "mouse.receptor <- trimws(mouse.receptor)\n",
    "mouse.ligand.receptor <- list(`mouse.ligand`=mouse.ligand, `mouse.receptor`=mouse.receptor)"
   ]
  },
  {
   "cell_type": "code",
   "execution_count": null,
   "id": "e3aea786",
   "metadata": {},
   "outputs": [],
   "source": []
  },
  {
   "cell_type": "code",
   "execution_count": 245,
   "id": "ef4562ff",
   "metadata": {},
   "outputs": [],
   "source": [
    "gene.anno.mm10.v3$ligand <- \"\""
   ]
  },
  {
   "cell_type": "code",
   "execution_count": 248,
   "id": "ca81ee99",
   "metadata": {
    "scrolled": true
   },
   "outputs": [],
   "source": [
    "gene.anno.mm10.v3[gene.anno.mm10.v3$gene_name %in% mouse.ligand,]$ligand <- \"Ligand\""
   ]
  },
  {
   "cell_type": "code",
   "execution_count": 250,
   "id": "98b26d9d",
   "metadata": {},
   "outputs": [
    {
     "data": {
      "text/plain": [
       "\n",
       "       Ligand \n",
       " 30532    521 "
      ]
     },
     "metadata": {},
     "output_type": "display_data"
    }
   ],
   "source": [
    "table(gene.anno.mm10.v3$ligand)"
   ]
  },
  {
   "cell_type": "code",
   "execution_count": 252,
   "id": "5407645e",
   "metadata": {},
   "outputs": [],
   "source": [
    "gene.anno.mm10.v3$receptor <- \"\""
   ]
  },
  {
   "cell_type": "code",
   "execution_count": 254,
   "id": "a90f6634",
   "metadata": {},
   "outputs": [],
   "source": [
    "gene.anno.mm10.v3[gene.anno.mm10.v3$gene_name %in% mouse.receptor,]$receptor <- \"Receptor\""
   ]
  },
  {
   "cell_type": "code",
   "execution_count": 255,
   "id": "c90252bb",
   "metadata": {},
   "outputs": [
    {
     "data": {
      "text/plain": [
       "\n",
       "         Receptor \n",
       "   30597      456 "
      ]
     },
     "metadata": {},
     "output_type": "display_data"
    }
   ],
   "source": [
    "table(gene.anno.mm10.v3$receptor)"
   ]
  },
  {
   "cell_type": "code",
   "execution_count": null,
   "id": "ab994a56",
   "metadata": {},
   "outputs": [],
   "source": []
  },
  {
   "cell_type": "code",
   "execution_count": 257,
   "id": "580dbe48",
   "metadata": {},
   "outputs": [],
   "source": [
    "gene.anno.mm10.v3[ gene.anno.mm10.v3$toupper %in%  subset(gene.anno.GRCh38.v3, ligand==\"Ligand\")$gene_name,]$ligand <- \"Ligand\""
   ]
  },
  {
   "cell_type": "code",
   "execution_count": 258,
   "id": "5f6301a1",
   "metadata": {},
   "outputs": [
    {
     "data": {
      "text/plain": [
       "\n",
       "       Ligand \n",
       " 30523    530 "
      ]
     },
     "metadata": {},
     "output_type": "display_data"
    }
   ],
   "source": [
    "table(gene.anno.mm10.v3$ligand)"
   ]
  },
  {
   "cell_type": "code",
   "execution_count": 260,
   "id": "4a6f8c1a",
   "metadata": {},
   "outputs": [],
   "source": [
    "gene.anno.mm10.v3[ gene.anno.mm10.v3$toupper %in%  subset(gene.anno.GRCh38.v3, receptor==\"Receptor\")$gene_name,]$receptor <- \"Receptor\""
   ]
  },
  {
   "cell_type": "code",
   "execution_count": 261,
   "id": "99ec14ac",
   "metadata": {},
   "outputs": [
    {
     "data": {
      "text/plain": [
       "\n",
       "         Receptor \n",
       "   30593      460 "
      ]
     },
     "metadata": {},
     "output_type": "display_data"
    }
   ],
   "source": [
    "table(gene.anno.mm10.v3$receptor)"
   ]
  },
  {
   "cell_type": "markdown",
   "id": "44f61922",
   "metadata": {},
   "source": [
    "### add anno"
   ]
  },
  {
   "cell_type": "code",
   "execution_count": 264,
   "id": "dbf836b4",
   "metadata": {},
   "outputs": [
    {
     "data": {
      "text/html": [
       "<table class=\"dataframe\">\n",
       "<caption>A data.frame: 6 × 11</caption>\n",
       "<thead>\n",
       "\t<tr><th></th><th scope=col>interaction_name</th><th scope=col>pathway_name</th><th scope=col>ligand</th><th scope=col>receptor</th><th scope=col>agonist</th><th scope=col>antagonist</th><th scope=col>co_A_receptor</th><th scope=col>co_I_receptor</th><th scope=col>evidence</th><th scope=col>annotation</th><th scope=col>interaction_name_2</th></tr>\n",
       "\t<tr><th></th><th scope=col>&lt;chr&gt;</th><th scope=col>&lt;chr&gt;</th><th scope=col>&lt;chr&gt;</th><th scope=col>&lt;chr&gt;</th><th scope=col>&lt;chr&gt;</th><th scope=col>&lt;chr&gt;</th><th scope=col>&lt;chr&gt;</th><th scope=col>&lt;chr&gt;</th><th scope=col>&lt;chr&gt;</th><th scope=col>&lt;chr&gt;</th><th scope=col>&lt;chr&gt;</th></tr>\n",
       "</thead>\n",
       "<tbody>\n",
       "\t<tr><th scope=row>TGFB1_TGFBR1_TGFBR2</th><td>TGFB1_TGFBR1_TGFBR2</td><td>TGFb</td><td>Tgfb1</td><td>TGFbR1_R2    </td><td>TGFb agonist</td><td>TGFb antagonist</td><td></td><td>TGFb inhibition receptor</td><td>KEGG: mmu04350</td><td>Secreted Signaling</td><td>Tgfb1 - (Tgfbr1+Tgfbr2) </td></tr>\n",
       "\t<tr><th scope=row>TGFB2_TGFBR1_TGFBR2</th><td>TGFB2_TGFBR1_TGFBR2</td><td>TGFb</td><td>Tgfb2</td><td>TGFbR1_R2    </td><td>TGFb agonist</td><td>TGFb antagonist</td><td></td><td>TGFb inhibition receptor</td><td>KEGG: mmu04350</td><td>Secreted Signaling</td><td>Tgfb2  - (Tgfbr1+Tgfbr2)</td></tr>\n",
       "\t<tr><th scope=row>TGFB3_TGFBR1_TGFBR2</th><td>TGFB3_TGFBR1_TGFBR2</td><td>TGFb</td><td>Tgfb3</td><td>TGFbR1_R2    </td><td>TGFb agonist</td><td>TGFb antagonist</td><td></td><td>TGFb inhibition receptor</td><td>KEGG: mmu04350</td><td>Secreted Signaling</td><td>Tgfb3  - (Tgfbr1+Tgfbr2)</td></tr>\n",
       "\t<tr><th scope=row>TGFB1_ACVR1B_TGFBR2</th><td>TGFB1_ACVR1B_TGFBR2</td><td>TGFb</td><td>Tgfb1</td><td>ACVR1B_TGFbR2</td><td>TGFb agonist</td><td>TGFb antagonist</td><td></td><td>TGFb inhibition receptor</td><td>PMID: 27449815</td><td>Secreted Signaling</td><td>Tgfb1  - (Acvr1b+Tgfbr2)</td></tr>\n",
       "\t<tr><th scope=row>TGFB1_ACVR1C_TGFBR2</th><td>TGFB1_ACVR1C_TGFBR2</td><td>TGFb</td><td>Tgfb1</td><td>ACVR1C_TGFbR2</td><td>TGFb agonist</td><td>TGFb antagonist</td><td></td><td>TGFb inhibition receptor</td><td>PMID: 27449815</td><td>Secreted Signaling</td><td>Tgfb1  - (Acvr1c+Tgfbr2)</td></tr>\n",
       "\t<tr><th scope=row>TGFB2_ACVR1B_TGFBR2</th><td>TGFB2_ACVR1B_TGFBR2</td><td>TGFb</td><td>Tgfb2</td><td>ACVR1B_TGFbR2</td><td>TGFb agonist</td><td>TGFb antagonist</td><td></td><td>TGFb inhibition receptor</td><td>PMID: 27449815</td><td>Secreted Signaling</td><td>Tgfb2  - (Acvr1b+Tgfbr2)</td></tr>\n",
       "</tbody>\n",
       "</table>\n"
      ],
      "text/latex": [
       "A data.frame: 6 × 11\n",
       "\\begin{tabular}{r|lllllllllll}\n",
       "  & interaction\\_name & pathway\\_name & ligand & receptor & agonist & antagonist & co\\_A\\_receptor & co\\_I\\_receptor & evidence & annotation & interaction\\_name\\_2\\\\\n",
       "  & <chr> & <chr> & <chr> & <chr> & <chr> & <chr> & <chr> & <chr> & <chr> & <chr> & <chr>\\\\\n",
       "\\hline\n",
       "\tTGFB1\\_TGFBR1\\_TGFBR2 & TGFB1\\_TGFBR1\\_TGFBR2 & TGFb & Tgfb1 & TGFbR1\\_R2     & TGFb agonist & TGFb antagonist &  & TGFb inhibition receptor & KEGG: mmu04350 & Secreted Signaling & Tgfb1 - (Tgfbr1+Tgfbr2) \\\\\n",
       "\tTGFB2\\_TGFBR1\\_TGFBR2 & TGFB2\\_TGFBR1\\_TGFBR2 & TGFb & Tgfb2 & TGFbR1\\_R2     & TGFb agonist & TGFb antagonist &  & TGFb inhibition receptor & KEGG: mmu04350 & Secreted Signaling & Tgfb2  - (Tgfbr1+Tgfbr2)\\\\\n",
       "\tTGFB3\\_TGFBR1\\_TGFBR2 & TGFB3\\_TGFBR1\\_TGFBR2 & TGFb & Tgfb3 & TGFbR1\\_R2     & TGFb agonist & TGFb antagonist &  & TGFb inhibition receptor & KEGG: mmu04350 & Secreted Signaling & Tgfb3  - (Tgfbr1+Tgfbr2)\\\\\n",
       "\tTGFB1\\_ACVR1B\\_TGFBR2 & TGFB1\\_ACVR1B\\_TGFBR2 & TGFb & Tgfb1 & ACVR1B\\_TGFbR2 & TGFb agonist & TGFb antagonist &  & TGFb inhibition receptor & PMID: 27449815 & Secreted Signaling & Tgfb1  - (Acvr1b+Tgfbr2)\\\\\n",
       "\tTGFB1\\_ACVR1C\\_TGFBR2 & TGFB1\\_ACVR1C\\_TGFBR2 & TGFb & Tgfb1 & ACVR1C\\_TGFbR2 & TGFb agonist & TGFb antagonist &  & TGFb inhibition receptor & PMID: 27449815 & Secreted Signaling & Tgfb1  - (Acvr1c+Tgfbr2)\\\\\n",
       "\tTGFB2\\_ACVR1B\\_TGFBR2 & TGFB2\\_ACVR1B\\_TGFBR2 & TGFb & Tgfb2 & ACVR1B\\_TGFbR2 & TGFb agonist & TGFb antagonist &  & TGFb inhibition receptor & PMID: 27449815 & Secreted Signaling & Tgfb2  - (Acvr1b+Tgfbr2)\\\\\n",
       "\\end{tabular}\n"
      ],
      "text/markdown": [
       "\n",
       "A data.frame: 6 × 11\n",
       "\n",
       "| <!--/--> | interaction_name &lt;chr&gt; | pathway_name &lt;chr&gt; | ligand &lt;chr&gt; | receptor &lt;chr&gt; | agonist &lt;chr&gt; | antagonist &lt;chr&gt; | co_A_receptor &lt;chr&gt; | co_I_receptor &lt;chr&gt; | evidence &lt;chr&gt; | annotation &lt;chr&gt; | interaction_name_2 &lt;chr&gt; |\n",
       "|---|---|---|---|---|---|---|---|---|---|---|---|\n",
       "| TGFB1_TGFBR1_TGFBR2 | TGFB1_TGFBR1_TGFBR2 | TGFb | Tgfb1 | TGFbR1_R2     | TGFb agonist | TGFb antagonist | <!----> | TGFb inhibition receptor | KEGG: mmu04350 | Secreted Signaling | Tgfb1 - (Tgfbr1+Tgfbr2)  |\n",
       "| TGFB2_TGFBR1_TGFBR2 | TGFB2_TGFBR1_TGFBR2 | TGFb | Tgfb2 | TGFbR1_R2     | TGFb agonist | TGFb antagonist | <!----> | TGFb inhibition receptor | KEGG: mmu04350 | Secreted Signaling | Tgfb2  - (Tgfbr1+Tgfbr2) |\n",
       "| TGFB3_TGFBR1_TGFBR2 | TGFB3_TGFBR1_TGFBR2 | TGFb | Tgfb3 | TGFbR1_R2     | TGFb agonist | TGFb antagonist | <!----> | TGFb inhibition receptor | KEGG: mmu04350 | Secreted Signaling | Tgfb3  - (Tgfbr1+Tgfbr2) |\n",
       "| TGFB1_ACVR1B_TGFBR2 | TGFB1_ACVR1B_TGFBR2 | TGFb | Tgfb1 | ACVR1B_TGFbR2 | TGFb agonist | TGFb antagonist | <!----> | TGFb inhibition receptor | PMID: 27449815 | Secreted Signaling | Tgfb1  - (Acvr1b+Tgfbr2) |\n",
       "| TGFB1_ACVR1C_TGFBR2 | TGFB1_ACVR1C_TGFBR2 | TGFb | Tgfb1 | ACVR1C_TGFbR2 | TGFb agonist | TGFb antagonist | <!----> | TGFb inhibition receptor | PMID: 27449815 | Secreted Signaling | Tgfb1  - (Acvr1c+Tgfbr2) |\n",
       "| TGFB2_ACVR1B_TGFBR2 | TGFB2_ACVR1B_TGFBR2 | TGFb | Tgfb2 | ACVR1B_TGFbR2 | TGFb agonist | TGFb antagonist | <!----> | TGFb inhibition receptor | PMID: 27449815 | Secreted Signaling | Tgfb2  - (Acvr1b+Tgfbr2) |\n",
       "\n"
      ],
      "text/plain": [
       "                    interaction_name    pathway_name ligand receptor     \n",
       "TGFB1_TGFBR1_TGFBR2 TGFB1_TGFBR1_TGFBR2 TGFb         Tgfb1  TGFbR1_R2    \n",
       "TGFB2_TGFBR1_TGFBR2 TGFB2_TGFBR1_TGFBR2 TGFb         Tgfb2  TGFbR1_R2    \n",
       "TGFB3_TGFBR1_TGFBR2 TGFB3_TGFBR1_TGFBR2 TGFb         Tgfb3  TGFbR1_R2    \n",
       "TGFB1_ACVR1B_TGFBR2 TGFB1_ACVR1B_TGFBR2 TGFb         Tgfb1  ACVR1B_TGFbR2\n",
       "TGFB1_ACVR1C_TGFBR2 TGFB1_ACVR1C_TGFBR2 TGFb         Tgfb1  ACVR1C_TGFbR2\n",
       "TGFB2_ACVR1B_TGFBR2 TGFB2_ACVR1B_TGFBR2 TGFb         Tgfb2  ACVR1B_TGFbR2\n",
       "                    agonist      antagonist      co_A_receptor\n",
       "TGFB1_TGFBR1_TGFBR2 TGFb agonist TGFb antagonist              \n",
       "TGFB2_TGFBR1_TGFBR2 TGFb agonist TGFb antagonist              \n",
       "TGFB3_TGFBR1_TGFBR2 TGFb agonist TGFb antagonist              \n",
       "TGFB1_ACVR1B_TGFBR2 TGFb agonist TGFb antagonist              \n",
       "TGFB1_ACVR1C_TGFBR2 TGFb agonist TGFb antagonist              \n",
       "TGFB2_ACVR1B_TGFBR2 TGFb agonist TGFb antagonist              \n",
       "                    co_I_receptor            evidence       annotation        \n",
       "TGFB1_TGFBR1_TGFBR2 TGFb inhibition receptor KEGG: mmu04350 Secreted Signaling\n",
       "TGFB2_TGFBR1_TGFBR2 TGFb inhibition receptor KEGG: mmu04350 Secreted Signaling\n",
       "TGFB3_TGFBR1_TGFBR2 TGFb inhibition receptor KEGG: mmu04350 Secreted Signaling\n",
       "TGFB1_ACVR1B_TGFBR2 TGFb inhibition receptor PMID: 27449815 Secreted Signaling\n",
       "TGFB1_ACVR1C_TGFBR2 TGFb inhibition receptor PMID: 27449815 Secreted Signaling\n",
       "TGFB2_ACVR1B_TGFBR2 TGFb inhibition receptor PMID: 27449815 Secreted Signaling\n",
       "                    interaction_name_2      \n",
       "TGFB1_TGFBR1_TGFBR2 Tgfb1 - (Tgfbr1+Tgfbr2) \n",
       "TGFB2_TGFBR1_TGFBR2 Tgfb2  - (Tgfbr1+Tgfbr2)\n",
       "TGFB3_TGFBR1_TGFBR2 Tgfb3  - (Tgfbr1+Tgfbr2)\n",
       "TGFB1_ACVR1B_TGFBR2 Tgfb1  - (Acvr1b+Tgfbr2)\n",
       "TGFB1_ACVR1C_TGFBR2 Tgfb1  - (Acvr1c+Tgfbr2)\n",
       "TGFB2_ACVR1B_TGFBR2 Tgfb2  - (Acvr1b+Tgfbr2)"
      ]
     },
     "metadata": {},
     "output_type": "display_data"
    }
   ],
   "source": [
    "head(LR.df)"
   ]
  },
  {
   "cell_type": "code",
   "execution_count": 265,
   "id": "63f6669b",
   "metadata": {},
   "outputs": [],
   "source": [
    "gene.anno.mm10.v3$pathway_name <- \"\"\n",
    "gene.anno.mm10.v3$pathway_type <- \"\""
   ]
  },
  {
   "cell_type": "code",
   "execution_count": 266,
   "id": "88a34306",
   "metadata": {},
   "outputs": [],
   "source": [
    "for (i in 1:nrow(gene.anno.mm10.v3)) {\n",
    "    tmp.ligand <- gene.anno.mm10.v3$ligand[i]\n",
    "    # tmp.receptor <- gene.anno.GRCh38.v3$receptor[i]\n",
    "    if (tmp.ligand==\"\") next\n",
    "    tmp.gene <- gene.anno.mm10.v3$gene_name[i]\n",
    "    gene.anno.mm10.v3[i,\"pathway_name\"] <- paste(unique(LR.df[grepl(tmp.gene, LR.df$interaction_name_2),]$pathway_name), collapse = \"\")\n",
    "    gene.anno.mm10.v3[i,\"pathway_type\"] <- paste(unique(LR.df[grepl(tmp.gene, LR.df$interaction_name_2),]$annotation), collapse = \"\")\n",
    "    # print(i)\n",
    "    # break\n",
    "}"
   ]
  },
  {
   "cell_type": "code",
   "execution_count": 267,
   "id": "09e6e060",
   "metadata": {},
   "outputs": [
    {
     "data": {
      "text/html": [
       "<table class=\"dataframe\">\n",
       "<caption>A data.frame: 2 × 13</caption>\n",
       "<thead>\n",
       "\t<tr><th></th><th scope=col>chr</th><th scope=col>start</th><th scope=col>end</th><th scope=col>gene_id</th><th scope=col>gene_name</th><th scope=col>gene_biotype</th><th scope=col>toupper</th><th scope=col>TF</th><th scope=col>TFcof</th><th scope=col>ligand</th><th scope=col>receptor</th><th scope=col>pathway_name</th><th scope=col>pathway_type</th></tr>\n",
       "\t<tr><th></th><th scope=col>&lt;chr&gt;</th><th scope=col>&lt;int&gt;</th><th scope=col>&lt;int&gt;</th><th scope=col>&lt;chr&gt;</th><th scope=col>&lt;chr&gt;</th><th scope=col>&lt;chr&gt;</th><th scope=col>&lt;chr&gt;</th><th scope=col>&lt;chr&gt;</th><th scope=col>&lt;chr&gt;</th><th scope=col>&lt;chr&gt;</th><th scope=col>&lt;chr&gt;</th><th scope=col>&lt;chr&gt;</th><th scope=col>&lt;chr&gt;</th></tr>\n",
       "</thead>\n",
       "<tbody>\n",
       "\t<tr><th scope=row>ENSMUSG00000094686</th><td>chr4         </td><td>42772860</td><td>42773993</td><td>ENSMUSG00000094686</td><td>Ccl21a</td><td>protein_coding</td><td>CCL21A</td><td></td><td></td><td>Ligand</td><td></td><td>CCL</td><td>Secreted Signaling</td></tr>\n",
       "\t<tr><th scope=row>ENSMUSG00000095320</th><td>chrJH584294.1</td><td>  121048</td><td>  121713</td><td>ENSMUSG00000095320</td><td>Ccl21a</td><td>protein_coding</td><td>CCL21A</td><td></td><td></td><td>Ligand</td><td></td><td>CCL</td><td>Secreted Signaling</td></tr>\n",
       "</tbody>\n",
       "</table>\n"
      ],
      "text/latex": [
       "A data.frame: 2 × 13\n",
       "\\begin{tabular}{r|lllllllllllll}\n",
       "  & chr & start & end & gene\\_id & gene\\_name & gene\\_biotype & toupper & TF & TFcof & ligand & receptor & pathway\\_name & pathway\\_type\\\\\n",
       "  & <chr> & <int> & <int> & <chr> & <chr> & <chr> & <chr> & <chr> & <chr> & <chr> & <chr> & <chr> & <chr>\\\\\n",
       "\\hline\n",
       "\tENSMUSG00000094686 & chr4          & 42772860 & 42773993 & ENSMUSG00000094686 & Ccl21a & protein\\_coding & CCL21A &  &  & Ligand &  & CCL & Secreted Signaling\\\\\n",
       "\tENSMUSG00000095320 & chrJH584294.1 &   121048 &   121713 & ENSMUSG00000095320 & Ccl21a & protein\\_coding & CCL21A &  &  & Ligand &  & CCL & Secreted Signaling\\\\\n",
       "\\end{tabular}\n"
      ],
      "text/markdown": [
       "\n",
       "A data.frame: 2 × 13\n",
       "\n",
       "| <!--/--> | chr &lt;chr&gt; | start &lt;int&gt; | end &lt;int&gt; | gene_id &lt;chr&gt; | gene_name &lt;chr&gt; | gene_biotype &lt;chr&gt; | toupper &lt;chr&gt; | TF &lt;chr&gt; | TFcof &lt;chr&gt; | ligand &lt;chr&gt; | receptor &lt;chr&gt; | pathway_name &lt;chr&gt; | pathway_type &lt;chr&gt; |\n",
       "|---|---|---|---|---|---|---|---|---|---|---|---|---|---|\n",
       "| ENSMUSG00000094686 | chr4          | 42772860 | 42773993 | ENSMUSG00000094686 | Ccl21a | protein_coding | CCL21A | <!----> | <!----> | Ligand | <!----> | CCL | Secreted Signaling |\n",
       "| ENSMUSG00000095320 | chrJH584294.1 |   121048 |   121713 | ENSMUSG00000095320 | Ccl21a | protein_coding | CCL21A | <!----> | <!----> | Ligand | <!----> | CCL | Secreted Signaling |\n",
       "\n"
      ],
      "text/plain": [
       "                   chr           start    end      gene_id            gene_name\n",
       "ENSMUSG00000094686 chr4          42772860 42773993 ENSMUSG00000094686 Ccl21a   \n",
       "ENSMUSG00000095320 chrJH584294.1   121048   121713 ENSMUSG00000095320 Ccl21a   \n",
       "                   gene_biotype   toupper TF TFcof ligand receptor pathway_name\n",
       "ENSMUSG00000094686 protein_coding CCL21A           Ligand          CCL         \n",
       "ENSMUSG00000095320 protein_coding CCL21A           Ligand          CCL         \n",
       "                   pathway_type      \n",
       "ENSMUSG00000094686 Secreted Signaling\n",
       "ENSMUSG00000095320 Secreted Signaling"
      ]
     },
     "metadata": {},
     "output_type": "display_data"
    }
   ],
   "source": [
    "subset(gene.anno.mm10.v3, gene_name==tmp.gene)"
   ]
  },
  {
   "cell_type": "code",
   "execution_count": 268,
   "id": "c01a634f",
   "metadata": {},
   "outputs": [
    {
     "data": {
      "text/html": [
       "<table class=\"dataframe\">\n",
       "<caption>A data.frame: 2 × 11</caption>\n",
       "<thead>\n",
       "\t<tr><th></th><th scope=col>interaction_name</th><th scope=col>pathway_name</th><th scope=col>ligand</th><th scope=col>receptor</th><th scope=col>agonist</th><th scope=col>antagonist</th><th scope=col>co_A_receptor</th><th scope=col>co_I_receptor</th><th scope=col>evidence</th><th scope=col>annotation</th><th scope=col>interaction_name_2</th></tr>\n",
       "\t<tr><th></th><th scope=col>&lt;chr&gt;</th><th scope=col>&lt;chr&gt;</th><th scope=col>&lt;chr&gt;</th><th scope=col>&lt;chr&gt;</th><th scope=col>&lt;chr&gt;</th><th scope=col>&lt;chr&gt;</th><th scope=col>&lt;chr&gt;</th><th scope=col>&lt;chr&gt;</th><th scope=col>&lt;chr&gt;</th><th scope=col>&lt;chr&gt;</th><th scope=col>&lt;chr&gt;</th></tr>\n",
       "</thead>\n",
       "<tbody>\n",
       "\t<tr><th scope=row>CCL21A_CCR7</th><td>CCL21A_CCR7 </td><td>CCL</td><td>Ccl21a</td><td>Ccr7 </td><td></td><td></td><td></td><td></td><td>KEGG: mmu04060</td><td>Secreted Signaling</td><td>Ccl21a  - Ccr7 </td></tr>\n",
       "\t<tr><th scope=row>CCL21A_ACKR4</th><td>CCL21A_ACKR4</td><td>CCL</td><td>Ccl21a</td><td>Ackr4</td><td></td><td></td><td></td><td></td><td>KEGG: mmu04060</td><td>Secreted Signaling</td><td>Ccl21a  - Ackr4</td></tr>\n",
       "</tbody>\n",
       "</table>\n"
      ],
      "text/latex": [
       "A data.frame: 2 × 11\n",
       "\\begin{tabular}{r|lllllllllll}\n",
       "  & interaction\\_name & pathway\\_name & ligand & receptor & agonist & antagonist & co\\_A\\_receptor & co\\_I\\_receptor & evidence & annotation & interaction\\_name\\_2\\\\\n",
       "  & <chr> & <chr> & <chr> & <chr> & <chr> & <chr> & <chr> & <chr> & <chr> & <chr> & <chr>\\\\\n",
       "\\hline\n",
       "\tCCL21A\\_CCR7 & CCL21A\\_CCR7  & CCL & Ccl21a & Ccr7  &  &  &  &  & KEGG: mmu04060 & Secreted Signaling & Ccl21a  - Ccr7 \\\\\n",
       "\tCCL21A\\_ACKR4 & CCL21A\\_ACKR4 & CCL & Ccl21a & Ackr4 &  &  &  &  & KEGG: mmu04060 & Secreted Signaling & Ccl21a  - Ackr4\\\\\n",
       "\\end{tabular}\n"
      ],
      "text/markdown": [
       "\n",
       "A data.frame: 2 × 11\n",
       "\n",
       "| <!--/--> | interaction_name &lt;chr&gt; | pathway_name &lt;chr&gt; | ligand &lt;chr&gt; | receptor &lt;chr&gt; | agonist &lt;chr&gt; | antagonist &lt;chr&gt; | co_A_receptor &lt;chr&gt; | co_I_receptor &lt;chr&gt; | evidence &lt;chr&gt; | annotation &lt;chr&gt; | interaction_name_2 &lt;chr&gt; |\n",
       "|---|---|---|---|---|---|---|---|---|---|---|---|\n",
       "| CCL21A_CCR7 | CCL21A_CCR7  | CCL | Ccl21a | Ccr7  | <!----> | <!----> | <!----> | <!----> | KEGG: mmu04060 | Secreted Signaling | Ccl21a  - Ccr7  |\n",
       "| CCL21A_ACKR4 | CCL21A_ACKR4 | CCL | Ccl21a | Ackr4 | <!----> | <!----> | <!----> | <!----> | KEGG: mmu04060 | Secreted Signaling | Ccl21a  - Ackr4 |\n",
       "\n"
      ],
      "text/plain": [
       "             interaction_name pathway_name ligand receptor agonist antagonist\n",
       "CCL21A_CCR7  CCL21A_CCR7      CCL          Ccl21a Ccr7                       \n",
       "CCL21A_ACKR4 CCL21A_ACKR4     CCL          Ccl21a Ackr4                      \n",
       "             co_A_receptor co_I_receptor evidence       annotation        \n",
       "CCL21A_CCR7                              KEGG: mmu04060 Secreted Signaling\n",
       "CCL21A_ACKR4                             KEGG: mmu04060 Secreted Signaling\n",
       "             interaction_name_2\n",
       "CCL21A_CCR7  Ccl21a  - Ccr7    \n",
       "CCL21A_ACKR4 Ccl21a  - Ackr4   "
      ]
     },
     "metadata": {},
     "output_type": "display_data"
    }
   ],
   "source": [
    "LR.df[grepl(tmp.gene, LR.df$interaction_name_2),]"
   ]
  },
  {
   "cell_type": "code",
   "execution_count": 269,
   "id": "5f33179e",
   "metadata": {},
   "outputs": [
    {
     "data": {
      "text/html": [
       "<table class=\"dataframe\">\n",
       "<caption>A data.frame: 6 × 13</caption>\n",
       "<thead>\n",
       "\t<tr><th></th><th scope=col>chr</th><th scope=col>start</th><th scope=col>end</th><th scope=col>gene_id</th><th scope=col>gene_name</th><th scope=col>gene_biotype</th><th scope=col>toupper</th><th scope=col>TF</th><th scope=col>TFcof</th><th scope=col>ligand</th><th scope=col>receptor</th><th scope=col>pathway_name</th><th scope=col>pathway_type</th></tr>\n",
       "\t<tr><th></th><th scope=col>&lt;chr&gt;</th><th scope=col>&lt;int&gt;</th><th scope=col>&lt;int&gt;</th><th scope=col>&lt;chr&gt;</th><th scope=col>&lt;chr&gt;</th><th scope=col>&lt;chr&gt;</th><th scope=col>&lt;chr&gt;</th><th scope=col>&lt;chr&gt;</th><th scope=col>&lt;chr&gt;</th><th scope=col>&lt;chr&gt;</th><th scope=col>&lt;chr&gt;</th><th scope=col>&lt;chr&gt;</th><th scope=col>&lt;chr&gt;</th></tr>\n",
       "</thead>\n",
       "<tbody>\n",
       "\t<tr><th scope=row>ENSMUSG00000051951</th><td>chr1</td><td>3205901</td><td>3671498</td><td>ENSMUSG00000051951</td><td>Xkr4   </td><td>protein_coding</td><td>XKR4   </td><td>  </td><td></td><td></td><td></td><td></td><td></td></tr>\n",
       "\t<tr><th scope=row>ENSMUSG00000089699</th><td>chr1</td><td>3466587</td><td>3513553</td><td>ENSMUSG00000089699</td><td>Gm1992 </td><td>antisense     </td><td>GM1992 </td><td>  </td><td></td><td></td><td></td><td></td><td></td></tr>\n",
       "\t<tr><th scope=row>ENSMUSG00000102343</th><td>chr1</td><td>3905739</td><td>3986215</td><td>ENSMUSG00000102343</td><td>Gm37381</td><td>lincRNA       </td><td>GM37381</td><td>  </td><td></td><td></td><td></td><td></td><td></td></tr>\n",
       "\t<tr><th scope=row>ENSMUSG00000025900</th><td>chr1</td><td>3999557</td><td>4409241</td><td>ENSMUSG00000025900</td><td>Rp1    </td><td>protein_coding</td><td>RP1    </td><td>  </td><td></td><td></td><td></td><td></td><td></td></tr>\n",
       "\t<tr><th scope=row>ENSMUSG00000025902</th><td>chr1</td><td>4490931</td><td>4497354</td><td>ENSMUSG00000025902</td><td>Sox17  </td><td>protein_coding</td><td>SOX17  </td><td>TF</td><td></td><td></td><td></td><td></td><td></td></tr>\n",
       "\t<tr><th scope=row>ENSMUSG00000104328</th><td>chr1</td><td>4583129</td><td>4586252</td><td>ENSMUSG00000104328</td><td>Gm37323</td><td>lincRNA       </td><td>GM37323</td><td>  </td><td></td><td></td><td></td><td></td><td></td></tr>\n",
       "</tbody>\n",
       "</table>\n"
      ],
      "text/latex": [
       "A data.frame: 6 × 13\n",
       "\\begin{tabular}{r|lllllllllllll}\n",
       "  & chr & start & end & gene\\_id & gene\\_name & gene\\_biotype & toupper & TF & TFcof & ligand & receptor & pathway\\_name & pathway\\_type\\\\\n",
       "  & <chr> & <int> & <int> & <chr> & <chr> & <chr> & <chr> & <chr> & <chr> & <chr> & <chr> & <chr> & <chr>\\\\\n",
       "\\hline\n",
       "\tENSMUSG00000051951 & chr1 & 3205901 & 3671498 & ENSMUSG00000051951 & Xkr4    & protein\\_coding & XKR4    &    &  &  &  &  & \\\\\n",
       "\tENSMUSG00000089699 & chr1 & 3466587 & 3513553 & ENSMUSG00000089699 & Gm1992  & antisense      & GM1992  &    &  &  &  &  & \\\\\n",
       "\tENSMUSG00000102343 & chr1 & 3905739 & 3986215 & ENSMUSG00000102343 & Gm37381 & lincRNA        & GM37381 &    &  &  &  &  & \\\\\n",
       "\tENSMUSG00000025900 & chr1 & 3999557 & 4409241 & ENSMUSG00000025900 & Rp1     & protein\\_coding & RP1     &    &  &  &  &  & \\\\\n",
       "\tENSMUSG00000025902 & chr1 & 4490931 & 4497354 & ENSMUSG00000025902 & Sox17   & protein\\_coding & SOX17   & TF &  &  &  &  & \\\\\n",
       "\tENSMUSG00000104328 & chr1 & 4583129 & 4586252 & ENSMUSG00000104328 & Gm37323 & lincRNA        & GM37323 &    &  &  &  &  & \\\\\n",
       "\\end{tabular}\n"
      ],
      "text/markdown": [
       "\n",
       "A data.frame: 6 × 13\n",
       "\n",
       "| <!--/--> | chr &lt;chr&gt; | start &lt;int&gt; | end &lt;int&gt; | gene_id &lt;chr&gt; | gene_name &lt;chr&gt; | gene_biotype &lt;chr&gt; | toupper &lt;chr&gt; | TF &lt;chr&gt; | TFcof &lt;chr&gt; | ligand &lt;chr&gt; | receptor &lt;chr&gt; | pathway_name &lt;chr&gt; | pathway_type &lt;chr&gt; |\n",
       "|---|---|---|---|---|---|---|---|---|---|---|---|---|---|\n",
       "| ENSMUSG00000051951 | chr1 | 3205901 | 3671498 | ENSMUSG00000051951 | Xkr4    | protein_coding | XKR4    | <!----> | <!----> | <!----> | <!----> | <!----> | <!----> |\n",
       "| ENSMUSG00000089699 | chr1 | 3466587 | 3513553 | ENSMUSG00000089699 | Gm1992  | antisense      | GM1992  | <!----> | <!----> | <!----> | <!----> | <!----> | <!----> |\n",
       "| ENSMUSG00000102343 | chr1 | 3905739 | 3986215 | ENSMUSG00000102343 | Gm37381 | lincRNA        | GM37381 | <!----> | <!----> | <!----> | <!----> | <!----> | <!----> |\n",
       "| ENSMUSG00000025900 | chr1 | 3999557 | 4409241 | ENSMUSG00000025900 | Rp1     | protein_coding | RP1     | <!----> | <!----> | <!----> | <!----> | <!----> | <!----> |\n",
       "| ENSMUSG00000025902 | chr1 | 4490931 | 4497354 | ENSMUSG00000025902 | Sox17   | protein_coding | SOX17   | TF | <!----> | <!----> | <!----> | <!----> | <!----> |\n",
       "| ENSMUSG00000104328 | chr1 | 4583129 | 4586252 | ENSMUSG00000104328 | Gm37323 | lincRNA        | GM37323 | <!----> | <!----> | <!----> | <!----> | <!----> | <!----> |\n",
       "\n"
      ],
      "text/plain": [
       "                   chr  start   end     gene_id            gene_name\n",
       "ENSMUSG00000051951 chr1 3205901 3671498 ENSMUSG00000051951 Xkr4     \n",
       "ENSMUSG00000089699 chr1 3466587 3513553 ENSMUSG00000089699 Gm1992   \n",
       "ENSMUSG00000102343 chr1 3905739 3986215 ENSMUSG00000102343 Gm37381  \n",
       "ENSMUSG00000025900 chr1 3999557 4409241 ENSMUSG00000025900 Rp1      \n",
       "ENSMUSG00000025902 chr1 4490931 4497354 ENSMUSG00000025902 Sox17    \n",
       "ENSMUSG00000104328 chr1 4583129 4586252 ENSMUSG00000104328 Gm37323  \n",
       "                   gene_biotype   toupper TF TFcof ligand receptor pathway_name\n",
       "ENSMUSG00000051951 protein_coding XKR4                                         \n",
       "ENSMUSG00000089699 antisense      GM1992                                       \n",
       "ENSMUSG00000102343 lincRNA        GM37381                                      \n",
       "ENSMUSG00000025900 protein_coding RP1                                          \n",
       "ENSMUSG00000025902 protein_coding SOX17   TF                                   \n",
       "ENSMUSG00000104328 lincRNA        GM37323                                      \n",
       "                   pathway_type\n",
       "ENSMUSG00000051951             \n",
       "ENSMUSG00000089699             \n",
       "ENSMUSG00000102343             \n",
       "ENSMUSG00000025900             \n",
       "ENSMUSG00000025902             \n",
       "ENSMUSG00000104328             "
      ]
     },
     "metadata": {},
     "output_type": "display_data"
    }
   ],
   "source": [
    "head(gene.anno.mm10.v3)"
   ]
  },
  {
   "cell_type": "code",
   "execution_count": null,
   "id": "698332ff",
   "metadata": {},
   "outputs": [],
   "source": []
  },
  {
   "cell_type": "markdown",
   "id": "5c804aed",
   "metadata": {},
   "source": [
    "## RBP (RNA-binding protein)\n",
    "- RNA splicing\n",
    "- http://rbpdb.ccbr.utoronto.ca/download.php"
   ]
  },
  {
   "cell_type": "code",
   "execution_count": 270,
   "id": "0abfdc83",
   "metadata": {},
   "outputs": [
    {
     "data": {
      "text/html": [
       "<style>\n",
       ".list-inline {list-style: none; margin:0; padding: 0}\n",
       ".list-inline>li {display: inline-block}\n",
       ".list-inline>li:not(:last-child)::after {content: \"\\00b7\"; padding: 0 .5ex}\n",
       "</style>\n",
       "<ol class=list-inline><li>415</li><li>12</li></ol>\n"
      ],
      "text/latex": [
       "\\begin{enumerate*}\n",
       "\\item 415\n",
       "\\item 12\n",
       "\\end{enumerate*}\n"
      ],
      "text/markdown": [
       "1. 415\n",
       "2. 12\n",
       "\n",
       "\n"
      ],
      "text/plain": [
       "[1] 415  12"
      ]
     },
     "metadata": {},
     "output_type": "display_data"
    }
   ],
   "source": [
    "RBP.df <- read.csv(\"files/RBPDB_v1.3.1_proteins_mouse_2012-11-21.csv\", header = F, row.names = 2)\n",
    "dim(RBP.df)"
   ]
  },
  {
   "cell_type": "code",
   "execution_count": 271,
   "id": "2293e54d",
   "metadata": {},
   "outputs": [
    {
     "data": {
      "text/html": [
       "<table class=\"dataframe\">\n",
       "<caption>A data.frame: 6 × 12</caption>\n",
       "<thead>\n",
       "\t<tr><th></th><th scope=col>V1</th><th scope=col>V3</th><th scope=col>V4</th><th scope=col>V5</th><th scope=col>V6</th><th scope=col>V7</th><th scope=col>V8</th><th scope=col>V9</th><th scope=col>V10</th><th scope=col>V11</th><th scope=col>V12</th><th scope=col>V13</th></tr>\n",
       "\t<tr><th></th><th scope=col>&lt;int&gt;</th><th scope=col>&lt;chr&gt;</th><th scope=col>&lt;chr&gt;</th><th scope=col>&lt;chr&gt;</th><th scope=col>&lt;chr&gt;</th><th scope=col>&lt;chr&gt;</th><th scope=col>&lt;int&gt;</th><th scope=col>&lt;chr&gt;</th><th scope=col>&lt;chr&gt;</th><th scope=col>&lt;chr&gt;</th><th scope=col>&lt;chr&gt;</th><th scope=col>&lt;chr&gt;</th></tr>\n",
       "</thead>\n",
       "<tbody>\n",
       "\t<tr><th scope=row>ENSMUSG00000000355</th><td>1734</td><td>2010-03-18</td><td>2010-07-14</td><td>Mcts1 </td><td>malignant T cell amplified sequence 1 Gene [Source:MGI Symbol;Acc:MGI:1916245]        </td><td>Mus musculus</td><td>10090</td><td>PUAx1                 </td><td>MCT-1    </td><td>\\N</td><td>\\N</td><td>\\N</td></tr>\n",
       "\t<tr><th scope=row>ENSMUSG00000000439</th><td>1735</td><td>2010-03-18</td><td>2010-07-14</td><td>Mkrn2 </td><td>makorin, ring finger protein, 2 Gene [Source:MGI Symbol;Acc:MGI:1914277]              </td><td>Mus musculus</td><td>10090</td><td>Znf_CCCHx4; Znf_RINGx1</td><td>         </td><td>\\N</td><td>\\N</td><td>\\N</td></tr>\n",
       "\t<tr><th scope=row>ENSMUSG00000000568</th><td>1736</td><td>2010-03-18</td><td>2010-05-05</td><td>Hnrnpd</td><td>heterogeneous nuclear ribonucleoprotein D Gene [Source:MGI Symbol;Acc:MGI:101947]     </td><td>Mus musculus</td><td>10090</td><td>RRMx2                 </td><td>Hnrpd    </td><td>\\N</td><td>\\N</td><td>\\N</td></tr>\n",
       "\t<tr><th scope=row>ENSMUSG00000000838</th><td>1737</td><td>2010-03-18</td><td>2010-05-05</td><td>Fmr1  </td><td>fragile X mental retardation syndrome 1 homolog Gene [Source:MGI Symbol;Acc:MGI:95564]</td><td>Mus musculus</td><td>10090</td><td>KHx2                  </td><td>Fmr-1    </td><td>\\N</td><td>\\N</td><td>\\N</td></tr>\n",
       "\t<tr><th scope=row>ENSMUSG00000000948</th><td>1738</td><td>2010-03-18</td><td>2010-07-20</td><td>Snrpn </td><td>small nuclear ribonucleoprotein N Gene [Source:MGI Symbol;Acc:MGI:98347]              </td><td>Mus musculus</td><td>10090</td><td>LSmx1                 </td><td>Peg4     </td><td>\\N</td><td>\\N</td><td>\\N</td></tr>\n",
       "\t<tr><th scope=row>ENSMUSG00000001120</th><td>1739</td><td>2010-03-18</td><td>2010-05-03</td><td>Pcbp3 </td><td>poly(rC) binding protein 3 Gene [Source:MGI Symbol;Acc:MGI:1890470]                   </td><td>Mus musculus</td><td>10090</td><td>KHx3                  </td><td>AlphaCP-3</td><td>\\N</td><td>\\N</td><td>\\N</td></tr>\n",
       "</tbody>\n",
       "</table>\n"
      ],
      "text/latex": [
       "A data.frame: 6 × 12\n",
       "\\begin{tabular}{r|llllllllllll}\n",
       "  & V1 & V3 & V4 & V5 & V6 & V7 & V8 & V9 & V10 & V11 & V12 & V13\\\\\n",
       "  & <int> & <chr> & <chr> & <chr> & <chr> & <chr> & <int> & <chr> & <chr> & <chr> & <chr> & <chr>\\\\\n",
       "\\hline\n",
       "\tENSMUSG00000000355 & 1734 & 2010-03-18 & 2010-07-14 & Mcts1  & malignant T cell amplified sequence 1 Gene {[}Source:MGI Symbol;Acc:MGI:1916245{]}         & Mus musculus & 10090 & PUAx1                  & MCT-1     & \\textbackslash{}N & \\textbackslash{}N & \\textbackslash{}N\\\\\n",
       "\tENSMUSG00000000439 & 1735 & 2010-03-18 & 2010-07-14 & Mkrn2  & makorin, ring finger protein, 2 Gene {[}Source:MGI Symbol;Acc:MGI:1914277{]}               & Mus musculus & 10090 & Znf\\_CCCHx4; Znf\\_RINGx1 &           & \\textbackslash{}N & \\textbackslash{}N & \\textbackslash{}N\\\\\n",
       "\tENSMUSG00000000568 & 1736 & 2010-03-18 & 2010-05-05 & Hnrnpd & heterogeneous nuclear ribonucleoprotein D Gene {[}Source:MGI Symbol;Acc:MGI:101947{]}      & Mus musculus & 10090 & RRMx2                  & Hnrpd     & \\textbackslash{}N & \\textbackslash{}N & \\textbackslash{}N\\\\\n",
       "\tENSMUSG00000000838 & 1737 & 2010-03-18 & 2010-05-05 & Fmr1   & fragile X mental retardation syndrome 1 homolog Gene {[}Source:MGI Symbol;Acc:MGI:95564{]} & Mus musculus & 10090 & KHx2                   & Fmr-1     & \\textbackslash{}N & \\textbackslash{}N & \\textbackslash{}N\\\\\n",
       "\tENSMUSG00000000948 & 1738 & 2010-03-18 & 2010-07-20 & Snrpn  & small nuclear ribonucleoprotein N Gene {[}Source:MGI Symbol;Acc:MGI:98347{]}               & Mus musculus & 10090 & LSmx1                  & Peg4      & \\textbackslash{}N & \\textbackslash{}N & \\textbackslash{}N\\\\\n",
       "\tENSMUSG00000001120 & 1739 & 2010-03-18 & 2010-05-03 & Pcbp3  & poly(rC) binding protein 3 Gene {[}Source:MGI Symbol;Acc:MGI:1890470{]}                    & Mus musculus & 10090 & KHx3                   & AlphaCP-3 & \\textbackslash{}N & \\textbackslash{}N & \\textbackslash{}N\\\\\n",
       "\\end{tabular}\n"
      ],
      "text/markdown": [
       "\n",
       "A data.frame: 6 × 12\n",
       "\n",
       "| <!--/--> | V1 &lt;int&gt; | V3 &lt;chr&gt; | V4 &lt;chr&gt; | V5 &lt;chr&gt; | V6 &lt;chr&gt; | V7 &lt;chr&gt; | V8 &lt;int&gt; | V9 &lt;chr&gt; | V10 &lt;chr&gt; | V11 &lt;chr&gt; | V12 &lt;chr&gt; | V13 &lt;chr&gt; |\n",
       "|---|---|---|---|---|---|---|---|---|---|---|---|---|\n",
       "| ENSMUSG00000000355 | 1734 | 2010-03-18 | 2010-07-14 | Mcts1  | malignant T cell amplified sequence 1 Gene [Source:MGI Symbol;Acc:MGI:1916245]         | Mus musculus | 10090 | PUAx1                  | MCT-1     | \\N | \\N | \\N |\n",
       "| ENSMUSG00000000439 | 1735 | 2010-03-18 | 2010-07-14 | Mkrn2  | makorin, ring finger protein, 2 Gene [Source:MGI Symbol;Acc:MGI:1914277]               | Mus musculus | 10090 | Znf_CCCHx4; Znf_RINGx1 | <!----> | \\N | \\N | \\N |\n",
       "| ENSMUSG00000000568 | 1736 | 2010-03-18 | 2010-05-05 | Hnrnpd | heterogeneous nuclear ribonucleoprotein D Gene [Source:MGI Symbol;Acc:MGI:101947]      | Mus musculus | 10090 | RRMx2                  | Hnrpd     | \\N | \\N | \\N |\n",
       "| ENSMUSG00000000838 | 1737 | 2010-03-18 | 2010-05-05 | Fmr1   | fragile X mental retardation syndrome 1 homolog Gene [Source:MGI Symbol;Acc:MGI:95564] | Mus musculus | 10090 | KHx2                   | Fmr-1     | \\N | \\N | \\N |\n",
       "| ENSMUSG00000000948 | 1738 | 2010-03-18 | 2010-07-20 | Snrpn  | small nuclear ribonucleoprotein N Gene [Source:MGI Symbol;Acc:MGI:98347]               | Mus musculus | 10090 | LSmx1                  | Peg4      | \\N | \\N | \\N |\n",
       "| ENSMUSG00000001120 | 1739 | 2010-03-18 | 2010-05-03 | Pcbp3  | poly(rC) binding protein 3 Gene [Source:MGI Symbol;Acc:MGI:1890470]                    | Mus musculus | 10090 | KHx3                   | AlphaCP-3 | \\N | \\N | \\N |\n",
       "\n"
      ],
      "text/plain": [
       "                   V1   V3         V4         V5    \n",
       "ENSMUSG00000000355 1734 2010-03-18 2010-07-14 Mcts1 \n",
       "ENSMUSG00000000439 1735 2010-03-18 2010-07-14 Mkrn2 \n",
       "ENSMUSG00000000568 1736 2010-03-18 2010-05-05 Hnrnpd\n",
       "ENSMUSG00000000838 1737 2010-03-18 2010-05-05 Fmr1  \n",
       "ENSMUSG00000000948 1738 2010-03-18 2010-07-20 Snrpn \n",
       "ENSMUSG00000001120 1739 2010-03-18 2010-05-03 Pcbp3 \n",
       "                   V6                                                                                    \n",
       "ENSMUSG00000000355 malignant T cell amplified sequence 1 Gene [Source:MGI Symbol;Acc:MGI:1916245]        \n",
       "ENSMUSG00000000439 makorin, ring finger protein, 2 Gene [Source:MGI Symbol;Acc:MGI:1914277]              \n",
       "ENSMUSG00000000568 heterogeneous nuclear ribonucleoprotein D Gene [Source:MGI Symbol;Acc:MGI:101947]     \n",
       "ENSMUSG00000000838 fragile X mental retardation syndrome 1 homolog Gene [Source:MGI Symbol;Acc:MGI:95564]\n",
       "ENSMUSG00000000948 small nuclear ribonucleoprotein N Gene [Source:MGI Symbol;Acc:MGI:98347]              \n",
       "ENSMUSG00000001120 poly(rC) binding protein 3 Gene [Source:MGI Symbol;Acc:MGI:1890470]                   \n",
       "                   V7           V8    V9                     V10       V11 V12\n",
       "ENSMUSG00000000355 Mus musculus 10090 PUAx1                  MCT-1     \\\\N \\\\N\n",
       "ENSMUSG00000000439 Mus musculus 10090 Znf_CCCHx4; Znf_RINGx1           \\\\N \\\\N\n",
       "ENSMUSG00000000568 Mus musculus 10090 RRMx2                  Hnrpd     \\\\N \\\\N\n",
       "ENSMUSG00000000838 Mus musculus 10090 KHx2                   Fmr-1     \\\\N \\\\N\n",
       "ENSMUSG00000000948 Mus musculus 10090 LSmx1                  Peg4      \\\\N \\\\N\n",
       "ENSMUSG00000001120 Mus musculus 10090 KHx3                   AlphaCP-3 \\\\N \\\\N\n",
       "                   V13\n",
       "ENSMUSG00000000355 \\\\N\n",
       "ENSMUSG00000000439 \\\\N\n",
       "ENSMUSG00000000568 \\\\N\n",
       "ENSMUSG00000000838 \\\\N\n",
       "ENSMUSG00000000948 \\\\N\n",
       "ENSMUSG00000001120 \\\\N"
      ]
     },
     "metadata": {},
     "output_type": "display_data"
    }
   ],
   "source": [
    "head(RBP.df)"
   ]
  },
  {
   "cell_type": "code",
   "execution_count": 282,
   "id": "3dfc048a",
   "metadata": {},
   "outputs": [],
   "source": [
    "gene.anno.mm10.v3$RBP <- \"\""
   ]
  },
  {
   "cell_type": "code",
   "execution_count": 283,
   "id": "3118a60e",
   "metadata": {},
   "outputs": [],
   "source": [
    "gene.anno.mm10.v3[rownames(RBP.df),]$RBP <- \"RBP\""
   ]
  },
  {
   "cell_type": "code",
   "execution_count": 284,
   "id": "cbdbc737",
   "metadata": {},
   "outputs": [],
   "source": [
    "gene.anno.mm10.v3[ gene.anno.mm10.v3$gene_name %in% RBP.df$V5, ]$RBP <- \"RBP\""
   ]
  },
  {
   "cell_type": "code",
   "execution_count": 285,
   "id": "d90a1d24",
   "metadata": {},
   "outputs": [
    {
     "data": {
      "text/plain": [
       "\n",
       "        RBP \n",
       "30659   425 "
      ]
     },
     "metadata": {},
     "output_type": "display_data"
    }
   ],
   "source": [
    "table(gene.anno.mm10.v3$RBP)"
   ]
  },
  {
   "cell_type": "code",
   "execution_count": null,
   "id": "01fd44fa",
   "metadata": {},
   "outputs": [],
   "source": []
  },
  {
   "cell_type": "code",
   "execution_count": 286,
   "id": "fd17b195",
   "metadata": {},
   "outputs": [],
   "source": [
    "gene.anno.mm10.v3[ gene.anno.mm10.v3$toupper %in%  subset(gene.anno.GRCh38.v3, RBP==\"RBP\")$gene_name,]$RBP <- \"RBP\""
   ]
  },
  {
   "cell_type": "code",
   "execution_count": 287,
   "id": "352c4883",
   "metadata": {},
   "outputs": [
    {
     "data": {
      "text/plain": [
       "\n",
       "        RBP \n",
       "30645   439 "
      ]
     },
     "metadata": {},
     "output_type": "display_data"
    }
   ],
   "source": [
    "table(gene.anno.mm10.v3$RBP)"
   ]
  },
  {
   "cell_type": "code",
   "execution_count": null,
   "id": "6f6da8cb",
   "metadata": {},
   "outputs": [],
   "source": []
  },
  {
   "cell_type": "markdown",
   "id": "7ee6fa3c",
   "metadata": {},
   "source": [
    "## histome modifier"
   ]
  },
  {
   "cell_type": "code",
   "execution_count": 288,
   "id": "aec280a0",
   "metadata": {},
   "outputs": [
    {
     "data": {
      "text/html": [
       "<table class=\"dataframe\">\n",
       "<caption>A data.frame: 6 × 14</caption>\n",
       "<thead>\n",
       "\t<tr><th></th><th scope=col>chr</th><th scope=col>start</th><th scope=col>end</th><th scope=col>gene_id</th><th scope=col>gene_name</th><th scope=col>gene_biotype</th><th scope=col>toupper</th><th scope=col>TF</th><th scope=col>TFcof</th><th scope=col>ligand</th><th scope=col>receptor</th><th scope=col>pathway_name</th><th scope=col>pathway_type</th><th scope=col>RBP</th></tr>\n",
       "\t<tr><th></th><th scope=col>&lt;chr&gt;</th><th scope=col>&lt;int&gt;</th><th scope=col>&lt;int&gt;</th><th scope=col>&lt;chr&gt;</th><th scope=col>&lt;chr&gt;</th><th scope=col>&lt;chr&gt;</th><th scope=col>&lt;chr&gt;</th><th scope=col>&lt;chr&gt;</th><th scope=col>&lt;chr&gt;</th><th scope=col>&lt;chr&gt;</th><th scope=col>&lt;chr&gt;</th><th scope=col>&lt;chr&gt;</th><th scope=col>&lt;chr&gt;</th><th scope=col>&lt;chr&gt;</th></tr>\n",
       "</thead>\n",
       "<tbody>\n",
       "\t<tr><th scope=row>ENSMUSG00000051951</th><td>chr1</td><td>3205901</td><td>3671498</td><td>ENSMUSG00000051951</td><td>Xkr4   </td><td>protein_coding</td><td>XKR4   </td><td>  </td><td></td><td></td><td></td><td></td><td></td><td></td></tr>\n",
       "\t<tr><th scope=row>ENSMUSG00000089699</th><td>chr1</td><td>3466587</td><td>3513553</td><td>ENSMUSG00000089699</td><td>Gm1992 </td><td>antisense     </td><td>GM1992 </td><td>  </td><td></td><td></td><td></td><td></td><td></td><td></td></tr>\n",
       "\t<tr><th scope=row>ENSMUSG00000102343</th><td>chr1</td><td>3905739</td><td>3986215</td><td>ENSMUSG00000102343</td><td>Gm37381</td><td>lincRNA       </td><td>GM37381</td><td>  </td><td></td><td></td><td></td><td></td><td></td><td></td></tr>\n",
       "\t<tr><th scope=row>ENSMUSG00000025900</th><td>chr1</td><td>3999557</td><td>4409241</td><td>ENSMUSG00000025900</td><td>Rp1    </td><td>protein_coding</td><td>RP1    </td><td>  </td><td></td><td></td><td></td><td></td><td></td><td></td></tr>\n",
       "\t<tr><th scope=row>ENSMUSG00000025902</th><td>chr1</td><td>4490931</td><td>4497354</td><td>ENSMUSG00000025902</td><td>Sox17  </td><td>protein_coding</td><td>SOX17  </td><td>TF</td><td></td><td></td><td></td><td></td><td></td><td></td></tr>\n",
       "\t<tr><th scope=row>ENSMUSG00000104328</th><td>chr1</td><td>4583129</td><td>4586252</td><td>ENSMUSG00000104328</td><td>Gm37323</td><td>lincRNA       </td><td>GM37323</td><td>  </td><td></td><td></td><td></td><td></td><td></td><td></td></tr>\n",
       "</tbody>\n",
       "</table>\n"
      ],
      "text/latex": [
       "A data.frame: 6 × 14\n",
       "\\begin{tabular}{r|llllllllllllll}\n",
       "  & chr & start & end & gene\\_id & gene\\_name & gene\\_biotype & toupper & TF & TFcof & ligand & receptor & pathway\\_name & pathway\\_type & RBP\\\\\n",
       "  & <chr> & <int> & <int> & <chr> & <chr> & <chr> & <chr> & <chr> & <chr> & <chr> & <chr> & <chr> & <chr> & <chr>\\\\\n",
       "\\hline\n",
       "\tENSMUSG00000051951 & chr1 & 3205901 & 3671498 & ENSMUSG00000051951 & Xkr4    & protein\\_coding & XKR4    &    &  &  &  &  &  & \\\\\n",
       "\tENSMUSG00000089699 & chr1 & 3466587 & 3513553 & ENSMUSG00000089699 & Gm1992  & antisense      & GM1992  &    &  &  &  &  &  & \\\\\n",
       "\tENSMUSG00000102343 & chr1 & 3905739 & 3986215 & ENSMUSG00000102343 & Gm37381 & lincRNA        & GM37381 &    &  &  &  &  &  & \\\\\n",
       "\tENSMUSG00000025900 & chr1 & 3999557 & 4409241 & ENSMUSG00000025900 & Rp1     & protein\\_coding & RP1     &    &  &  &  &  &  & \\\\\n",
       "\tENSMUSG00000025902 & chr1 & 4490931 & 4497354 & ENSMUSG00000025902 & Sox17   & protein\\_coding & SOX17   & TF &  &  &  &  &  & \\\\\n",
       "\tENSMUSG00000104328 & chr1 & 4583129 & 4586252 & ENSMUSG00000104328 & Gm37323 & lincRNA        & GM37323 &    &  &  &  &  &  & \\\\\n",
       "\\end{tabular}\n"
      ],
      "text/markdown": [
       "\n",
       "A data.frame: 6 × 14\n",
       "\n",
       "| <!--/--> | chr &lt;chr&gt; | start &lt;int&gt; | end &lt;int&gt; | gene_id &lt;chr&gt; | gene_name &lt;chr&gt; | gene_biotype &lt;chr&gt; | toupper &lt;chr&gt; | TF &lt;chr&gt; | TFcof &lt;chr&gt; | ligand &lt;chr&gt; | receptor &lt;chr&gt; | pathway_name &lt;chr&gt; | pathway_type &lt;chr&gt; | RBP &lt;chr&gt; |\n",
       "|---|---|---|---|---|---|---|---|---|---|---|---|---|---|---|\n",
       "| ENSMUSG00000051951 | chr1 | 3205901 | 3671498 | ENSMUSG00000051951 | Xkr4    | protein_coding | XKR4    | <!----> | <!----> | <!----> | <!----> | <!----> | <!----> | <!----> |\n",
       "| ENSMUSG00000089699 | chr1 | 3466587 | 3513553 | ENSMUSG00000089699 | Gm1992  | antisense      | GM1992  | <!----> | <!----> | <!----> | <!----> | <!----> | <!----> | <!----> |\n",
       "| ENSMUSG00000102343 | chr1 | 3905739 | 3986215 | ENSMUSG00000102343 | Gm37381 | lincRNA        | GM37381 | <!----> | <!----> | <!----> | <!----> | <!----> | <!----> | <!----> |\n",
       "| ENSMUSG00000025900 | chr1 | 3999557 | 4409241 | ENSMUSG00000025900 | Rp1     | protein_coding | RP1     | <!----> | <!----> | <!----> | <!----> | <!----> | <!----> | <!----> |\n",
       "| ENSMUSG00000025902 | chr1 | 4490931 | 4497354 | ENSMUSG00000025902 | Sox17   | protein_coding | SOX17   | TF | <!----> | <!----> | <!----> | <!----> | <!----> | <!----> |\n",
       "| ENSMUSG00000104328 | chr1 | 4583129 | 4586252 | ENSMUSG00000104328 | Gm37323 | lincRNA        | GM37323 | <!----> | <!----> | <!----> | <!----> | <!----> | <!----> | <!----> |\n",
       "\n"
      ],
      "text/plain": [
       "                   chr  start   end     gene_id            gene_name\n",
       "ENSMUSG00000051951 chr1 3205901 3671498 ENSMUSG00000051951 Xkr4     \n",
       "ENSMUSG00000089699 chr1 3466587 3513553 ENSMUSG00000089699 Gm1992   \n",
       "ENSMUSG00000102343 chr1 3905739 3986215 ENSMUSG00000102343 Gm37381  \n",
       "ENSMUSG00000025900 chr1 3999557 4409241 ENSMUSG00000025900 Rp1      \n",
       "ENSMUSG00000025902 chr1 4490931 4497354 ENSMUSG00000025902 Sox17    \n",
       "ENSMUSG00000104328 chr1 4583129 4586252 ENSMUSG00000104328 Gm37323  \n",
       "                   gene_biotype   toupper TF TFcof ligand receptor pathway_name\n",
       "ENSMUSG00000051951 protein_coding XKR4                                         \n",
       "ENSMUSG00000089699 antisense      GM1992                                       \n",
       "ENSMUSG00000102343 lincRNA        GM37381                                      \n",
       "ENSMUSG00000025900 protein_coding RP1                                          \n",
       "ENSMUSG00000025902 protein_coding SOX17   TF                                   \n",
       "ENSMUSG00000104328 lincRNA        GM37323                                      \n",
       "                   pathway_type RBP\n",
       "ENSMUSG00000051951                 \n",
       "ENSMUSG00000089699                 \n",
       "ENSMUSG00000102343                 \n",
       "ENSMUSG00000025900                 \n",
       "ENSMUSG00000025902                 \n",
       "ENSMUSG00000104328                 "
      ]
     },
     "metadata": {},
     "output_type": "display_data"
    }
   ],
   "source": [
    "head(gene.anno.mm10.v3)"
   ]
  },
  {
   "cell_type": "code",
   "execution_count": 289,
   "id": "e14a0c05",
   "metadata": {},
   "outputs": [
    {
     "data": {
      "text/html": [
       "<style>\n",
       ".list-inline {list-style: none; margin:0; padding: 0}\n",
       ".list-inline>li {display: inline-block}\n",
       ".list-inline>li:not(:last-child)::after {content: \"\\00b7\"; padding: 0 .5ex}\n",
       "</style>\n",
       "<ol class=list-inline><li>116</li><li>4</li></ol>\n"
      ],
      "text/latex": [
       "\\begin{enumerate*}\n",
       "\\item 116\n",
       "\\item 4\n",
       "\\end{enumerate*}\n"
      ],
      "text/markdown": [
       "1. 116\n",
       "2. 4\n",
       "\n",
       "\n"
      ],
      "text/plain": [
       "[1] 116   4"
      ]
     },
     "metadata": {},
     "output_type": "display_data"
    }
   ],
   "source": [
    "hm.df <- read.csv(\"files/mouse-histone-modifier.csv\")\n",
    "dim(hm.df)"
   ]
  },
  {
   "cell_type": "code",
   "execution_count": 290,
   "id": "5df9f3cd",
   "metadata": {},
   "outputs": [
    {
     "data": {
      "text/html": [
       "<table class=\"dataframe\">\n",
       "<caption>A data.frame: 6 × 4</caption>\n",
       "<thead>\n",
       "\t<tr><th></th><th scope=col>type</th><th scope=col>Enzyme</th><th scope=col>gene</th><th scope=col>histone_modification_site</th></tr>\n",
       "\t<tr><th></th><th scope=col>&lt;chr&gt;</th><th scope=col>&lt;chr&gt;</th><th scope=col>&lt;chr&gt;</th><th scope=col>&lt;chr&gt;</th></tr>\n",
       "</thead>\n",
       "<tbody>\n",
       "\t<tr><th scope=row>1</th><td>writer</td><td>Protein-arginine Deiminase Type-4       </td><td>PADI4</td><td>H3R8ci, H3R17ci, H4R3ci, H3R2ci, H3R26ci</td></tr>\n",
       "\t<tr><th scope=row>2</th><td>writer</td><td>Histone-arginine Methyltransferase CARM1</td><td>PRMT4</td><td>H3R17me                                 </td></tr>\n",
       "\t<tr><th scope=row>3</th><td>writer</td><td>Protein Arginine N-methyltransferase 1  </td><td>PRMT1</td><td>H4R3me1, H4R3me2                        </td></tr>\n",
       "\t<tr><th scope=row>4</th><td>writer</td><td>Protein Arginine N-methyltransferase 2  </td><td>PRMT2</td><td>H3R8me                                  </td></tr>\n",
       "\t<tr><th scope=row>5</th><td>writer</td><td>Protein Arginine N-methyltransferase 3  </td><td>PRMT3</td><td>                                        </td></tr>\n",
       "\t<tr><th scope=row>6</th><td>writer</td><td>Protein Arginine N-methyltransferase 5  </td><td>PRMT5</td><td>H2AR3me2, H4R3me2, H3R8me2              </td></tr>\n",
       "</tbody>\n",
       "</table>\n"
      ],
      "text/latex": [
       "A data.frame: 6 × 4\n",
       "\\begin{tabular}{r|llll}\n",
       "  & type & Enzyme & gene & histone\\_modification\\_site\\\\\n",
       "  & <chr> & <chr> & <chr> & <chr>\\\\\n",
       "\\hline\n",
       "\t1 & writer & Protein-arginine Deiminase Type-4        & PADI4 & H3R8ci, H3R17ci, H4R3ci, H3R2ci, H3R26ci\\\\\n",
       "\t2 & writer & Histone-arginine Methyltransferase CARM1 & PRMT4 & H3R17me                                 \\\\\n",
       "\t3 & writer & Protein Arginine N-methyltransferase 1   & PRMT1 & H4R3me1, H4R3me2                        \\\\\n",
       "\t4 & writer & Protein Arginine N-methyltransferase 2   & PRMT2 & H3R8me                                  \\\\\n",
       "\t5 & writer & Protein Arginine N-methyltransferase 3   & PRMT3 &                                         \\\\\n",
       "\t6 & writer & Protein Arginine N-methyltransferase 5   & PRMT5 & H2AR3me2, H4R3me2, H3R8me2              \\\\\n",
       "\\end{tabular}\n"
      ],
      "text/markdown": [
       "\n",
       "A data.frame: 6 × 4\n",
       "\n",
       "| <!--/--> | type &lt;chr&gt; | Enzyme &lt;chr&gt; | gene &lt;chr&gt; | histone_modification_site &lt;chr&gt; |\n",
       "|---|---|---|---|---|\n",
       "| 1 | writer | Protein-arginine Deiminase Type-4        | PADI4 | H3R8ci, H3R17ci, H4R3ci, H3R2ci, H3R26ci |\n",
       "| 2 | writer | Histone-arginine Methyltransferase CARM1 | PRMT4 | H3R17me                                  |\n",
       "| 3 | writer | Protein Arginine N-methyltransferase 1   | PRMT1 | H4R3me1, H4R3me2                         |\n",
       "| 4 | writer | Protein Arginine N-methyltransferase 2   | PRMT2 | H3R8me                                   |\n",
       "| 5 | writer | Protein Arginine N-methyltransferase 3   | PRMT3 | <!----> |\n",
       "| 6 | writer | Protein Arginine N-methyltransferase 5   | PRMT5 | H2AR3me2, H4R3me2, H3R8me2               |\n",
       "\n"
      ],
      "text/plain": [
       "  type   Enzyme                                   gene \n",
       "1 writer Protein-arginine Deiminase Type-4        PADI4\n",
       "2 writer Histone-arginine Methyltransferase CARM1 PRMT4\n",
       "3 writer Protein Arginine N-methyltransferase 1   PRMT1\n",
       "4 writer Protein Arginine N-methyltransferase 2   PRMT2\n",
       "5 writer Protein Arginine N-methyltransferase 3   PRMT3\n",
       "6 writer Protein Arginine N-methyltransferase 5   PRMT5\n",
       "  histone_modification_site               \n",
       "1 H3R8ci, H3R17ci, H4R3ci, H3R2ci, H3R26ci\n",
       "2 H3R17me                                 \n",
       "3 H4R3me1, H4R3me2                        \n",
       "4 H3R8me                                  \n",
       "5                                         \n",
       "6 H2AR3me2, H4R3me2, H3R8me2              "
      ]
     },
     "metadata": {},
     "output_type": "display_data"
    }
   ],
   "source": [
    "head(hm.df)"
   ]
  },
  {
   "cell_type": "code",
   "execution_count": 291,
   "id": "b6815eb2",
   "metadata": {},
   "outputs": [],
   "source": [
    "gene.anno.mm10.v3$histome_modifier <- \"\""
   ]
  },
  {
   "cell_type": "code",
   "execution_count": 294,
   "id": "c2ebd09b",
   "metadata": {},
   "outputs": [],
   "source": [
    "gene.anno.mm10.v3[ gene.anno.mm10.v3$toupper %in% hm.df$gene,]$histome_modifier <- \"histome_modifier\""
   ]
  },
  {
   "cell_type": "code",
   "execution_count": 295,
   "id": "e0b4c8e9",
   "metadata": {},
   "outputs": [
    {
     "data": {
      "text/plain": [
       "\n",
       "                 histome_modifier \n",
       "           30995               89 "
      ]
     },
     "metadata": {},
     "output_type": "display_data"
    }
   ],
   "source": [
    "table(gene.anno.mm10.v3$histome_modifier)"
   ]
  },
  {
   "cell_type": "code",
   "execution_count": null,
   "id": "8513c1f5",
   "metadata": {},
   "outputs": [],
   "source": []
  },
  {
   "cell_type": "code",
   "execution_count": 297,
   "id": "314e909b",
   "metadata": {},
   "outputs": [],
   "source": [
    "gene.anno.mm10.v3[ gene.anno.mm10.v3$toupper %in%  subset(gene.anno.GRCh38.v3, histome_modifier==\"histome_modifier\")$gene_name,]$histome_modifier <- \"histome_modifier\""
   ]
  },
  {
   "cell_type": "code",
   "execution_count": 298,
   "id": "adca1798",
   "metadata": {},
   "outputs": [
    {
     "data": {
      "text/plain": [
       "\n",
       "                 histome_modifier \n",
       "           30927              157 "
      ]
     },
     "metadata": {},
     "output_type": "display_data"
    }
   ],
   "source": [
    "table(gene.anno.mm10.v3$histome_modifier)"
   ]
  },
  {
   "cell_type": "code",
   "execution_count": null,
   "id": "47b54b54",
   "metadata": {},
   "outputs": [],
   "source": []
  },
  {
   "cell_type": "code",
   "execution_count": null,
   "id": "51887efd",
   "metadata": {},
   "outputs": [],
   "source": []
  },
  {
   "cell_type": "markdown",
   "id": "56e31f62",
   "metadata": {},
   "source": [
    "## check na"
   ]
  },
  {
   "cell_type": "code",
   "execution_count": 302,
   "id": "57d33096",
   "metadata": {
    "scrolled": true
   },
   "outputs": [],
   "source": [
    "gene.anno.mm10.v3 <- subset(gene.anno.mm10.v3, !is.na(gene_name))"
   ]
  },
  {
   "cell_type": "code",
   "execution_count": null,
   "id": "71f7e8b1",
   "metadata": {},
   "outputs": [],
   "source": []
  },
  {
   "cell_type": "code",
   "execution_count": 303,
   "id": "562d1183",
   "metadata": {},
   "outputs": [],
   "source": [
    "save(gene.anno.GRCh38.v3, gene.anno.mm10.v3, file = \"../data/GRCh38.mm10.gene.annotation.Rdata\")"
   ]
  },
  {
   "cell_type": "code",
   "execution_count": null,
   "id": "17aed18d",
   "metadata": {},
   "outputs": [],
   "source": []
  },
  {
   "cell_type": "markdown",
   "id": "efcc10c9",
   "metadata": {},
   "source": [
    "# mouse to human"
   ]
  },
  {
   "cell_type": "markdown",
   "id": "8188a2ef",
   "metadata": {},
   "source": [
    "## biomaRt"
   ]
  },
  {
   "cell_type": "code",
   "execution_count": 304,
   "id": "3e1f9757",
   "metadata": {},
   "outputs": [
    {
     "name": "stderr",
     "output_type": "stream",
     "text": [
      "Loading required package: biomaRt\n",
      "\n"
     ]
    }
   ],
   "source": [
    "require(\"biomaRt\")"
   ]
  },
  {
   "cell_type": "code",
   "execution_count": 496,
   "id": "15eeeec6",
   "metadata": {},
   "outputs": [],
   "source": [
    "Ensembl_version = 103\n",
    "try_times = 5"
   ]
  },
  {
   "cell_type": "code",
   "execution_count": 497,
   "id": "5ec8a9ef",
   "metadata": {},
   "outputs": [],
   "source": [
    "if (require(\"httr\", quietly = TRUE)) {\n",
    "    httr::set_config(httr::config(ssl_verifypeer = FALSE, ssl_verifyhost = FALSE))\n",
    "  }"
   ]
  },
  {
   "cell_type": "code",
   "execution_count": 498,
   "id": "0d4b11c9",
   "metadata": {},
   "outputs": [
    {
     "name": "stderr",
     "output_type": "stream",
     "text": [
      "Connect to the Ensembl archives...\n",
      "\n"
     ]
    }
   ],
   "source": [
    "# get archives\n",
    "message(\"Connect to the Ensembl archives...\")\n",
    "archives <- NULL\n",
    "ntry <- 0\n",
    "while (is.null(archives)) {\n",
    "    ntry <- ntry + 1\n",
    "    archives <- tryCatch(expr = {\n",
    "      listEnsemblArchives()\n",
    "    }, error = function(e) {\n",
    "      message(e)\n",
    "      message(\"Get errors when connecting with EnsemblArchives...\\nRetrying...\")\n",
    "      Sys.sleep(1)\n",
    "      return(NULL)\n",
    "    })\n",
    "    if (is.null(archives) && ntry >= try_times) {\n",
    "      stop(\"Stop connecting...\")\n",
    "    }\n",
    "}"
   ]
  },
  {
   "cell_type": "code",
   "execution_count": 499,
   "id": "c83e6f72",
   "metadata": {},
   "outputs": [
    {
     "data": {
      "text/html": [
       "<table class=\"dataframe\">\n",
       "<caption>A data.frame: 6 × 5</caption>\n",
       "<thead>\n",
       "\t<tr><th></th><th scope=col>name</th><th scope=col>date</th><th scope=col>url</th><th scope=col>version</th><th scope=col>current_release</th></tr>\n",
       "\t<tr><th></th><th scope=col>&lt;chr&gt;</th><th scope=col>&lt;chr&gt;</th><th scope=col>&lt;chr&gt;</th><th scope=col>&lt;chr&gt;</th><th scope=col>&lt;chr&gt;</th></tr>\n",
       "</thead>\n",
       "<tbody>\n",
       "\t<tr><th scope=row>1</th><td>Ensembl GRCh37</td><td>Feb 2014</td><td>https://grch37.ensembl.org         </td><td>GRCh37</td><td> </td></tr>\n",
       "\t<tr><th scope=row>2</th><td>Ensembl 107   </td><td>Jul 2022</td><td>https://jul2022.archive.ensembl.org</td><td>107   </td><td>*</td></tr>\n",
       "\t<tr><th scope=row>3</th><td>Ensembl 106   </td><td>Apr 2022</td><td>https://apr2022.archive.ensembl.org</td><td>106   </td><td> </td></tr>\n",
       "\t<tr><th scope=row>4</th><td>Ensembl 105   </td><td>Dec 2021</td><td>https://dec2021.archive.ensembl.org</td><td>105   </td><td> </td></tr>\n",
       "\t<tr><th scope=row>5</th><td>Ensembl 104   </td><td>May 2021</td><td>https://may2021.archive.ensembl.org</td><td>104   </td><td> </td></tr>\n",
       "\t<tr><th scope=row>6</th><td>Ensembl 103   </td><td>Feb 2021</td><td>https://feb2021.archive.ensembl.org</td><td>103   </td><td> </td></tr>\n",
       "</tbody>\n",
       "</table>\n"
      ],
      "text/latex": [
       "A data.frame: 6 × 5\n",
       "\\begin{tabular}{r|lllll}\n",
       "  & name & date & url & version & current\\_release\\\\\n",
       "  & <chr> & <chr> & <chr> & <chr> & <chr>\\\\\n",
       "\\hline\n",
       "\t1 & Ensembl GRCh37 & Feb 2014 & https://grch37.ensembl.org          & GRCh37 &  \\\\\n",
       "\t2 & Ensembl 107    & Jul 2022 & https://jul2022.archive.ensembl.org & 107    & *\\\\\n",
       "\t3 & Ensembl 106    & Apr 2022 & https://apr2022.archive.ensembl.org & 106    &  \\\\\n",
       "\t4 & Ensembl 105    & Dec 2021 & https://dec2021.archive.ensembl.org & 105    &  \\\\\n",
       "\t5 & Ensembl 104    & May 2021 & https://may2021.archive.ensembl.org & 104    &  \\\\\n",
       "\t6 & Ensembl 103    & Feb 2021 & https://feb2021.archive.ensembl.org & 103    &  \\\\\n",
       "\\end{tabular}\n"
      ],
      "text/markdown": [
       "\n",
       "A data.frame: 6 × 5\n",
       "\n",
       "| <!--/--> | name &lt;chr&gt; | date &lt;chr&gt; | url &lt;chr&gt; | version &lt;chr&gt; | current_release &lt;chr&gt; |\n",
       "|---|---|---|---|---|---|\n",
       "| 1 | Ensembl GRCh37 | Feb 2014 | https://grch37.ensembl.org          | GRCh37 | <!----> |\n",
       "| 2 | Ensembl 107    | Jul 2022 | https://jul2022.archive.ensembl.org | 107    | * |\n",
       "| 3 | Ensembl 106    | Apr 2022 | https://apr2022.archive.ensembl.org | 106    | <!----> |\n",
       "| 4 | Ensembl 105    | Dec 2021 | https://dec2021.archive.ensembl.org | 105    | <!----> |\n",
       "| 5 | Ensembl 104    | May 2021 | https://may2021.archive.ensembl.org | 104    | <!----> |\n",
       "| 6 | Ensembl 103    | Feb 2021 | https://feb2021.archive.ensembl.org | 103    | <!----> |\n",
       "\n"
      ],
      "text/plain": [
       "  name           date     url                                 version\n",
       "1 Ensembl GRCh37 Feb 2014 https://grch37.ensembl.org          GRCh37 \n",
       "2 Ensembl 107    Jul 2022 https://jul2022.archive.ensembl.org 107    \n",
       "3 Ensembl 106    Apr 2022 https://apr2022.archive.ensembl.org 106    \n",
       "4 Ensembl 105    Dec 2021 https://dec2021.archive.ensembl.org 105    \n",
       "5 Ensembl 104    May 2021 https://may2021.archive.ensembl.org 104    \n",
       "6 Ensembl 103    Feb 2021 https://feb2021.archive.ensembl.org 103    \n",
       "  current_release\n",
       "1                \n",
       "2 *              \n",
       "3                \n",
       "4                \n",
       "5                \n",
       "6                "
      ]
     },
     "metadata": {},
     "output_type": "display_data"
    }
   ],
   "source": [
    "head(archives)"
   ]
  },
  {
   "cell_type": "code",
   "execution_count": 500,
   "id": "2b5b630e",
   "metadata": {},
   "outputs": [
    {
     "name": "stderr",
     "output_type": "stream",
     "text": [
      "Using the 103 version of biomart...\n",
      "\n"
     ]
    }
   ],
   "source": [
    "# get url\n",
    "Ensembl_version <- as.character(Ensembl_version)\n",
    "if (Ensembl_version == \"current_release\") {\n",
    "    url <- archives[which(archives$current_release == \"*\"), \"url\"]\n",
    "    version <- as.character(archives[which(archives$current_release == \"*\"), \"version\"])\n",
    "    message(\"Using the \", Ensembl_version, \"(\", version, \")\", \" version of biomart...\")\n",
    "} else if (Ensembl_version %in% archives$version) {\n",
    "    url <- archives[which(archives$version == Ensembl_version), \"url\"]\n",
    "    version <- as.character(archives[which(archives$version == Ensembl_version), \"version\"])\n",
    "    message(\"Using the \", version, \" version of biomart...\")\n",
    "} else {\n",
    "    stop(\"Ensembl_version is invalid. Must be one of current_release,\", paste0(archives$version, collapse = \",\"))\n",
    "}"
   ]
  },
  {
   "cell_type": "code",
   "execution_count": 501,
   "id": "3a27708d",
   "metadata": {},
   "outputs": [
    {
     "data": {
      "text/html": [
       "'https://feb2021.archive.ensembl.org'"
      ],
      "text/latex": [
       "'https://feb2021.archive.ensembl.org'"
      ],
      "text/markdown": [
       "'https://feb2021.archive.ensembl.org'"
      ],
      "text/plain": [
       "[1] \"https://feb2021.archive.ensembl.org\""
      ]
     },
     "metadata": {},
     "output_type": "display_data"
    }
   ],
   "source": [
    "url"
   ]
  },
  {
   "cell_type": "code",
   "execution_count": 502,
   "id": "365ff2a9",
   "metadata": {},
   "outputs": [
    {
     "name": "stderr",
     "output_type": "stream",
     "text": [
      "Connect to the biomart...\n",
      "\n"
     ]
    }
   ],
   "source": [
    "# get mart, by useMart(\"ensembl\", host = url)\n",
    "mirror <- NULL\n",
    "message(\"Connect to the biomart...\")\n",
    "mart <- NULL\n",
    "ntry <- 0\n",
    "\n",
    "while (is.null(mart)) {\n",
    "    ntry <- ntry + 1\n",
    "    # use url first\n",
    "    if (is.null(mart)) {\n",
    "      mart <- tryCatch(\n",
    "        expr = {\n",
    "          useMart(\"ensembl\", host = url)\n",
    "        },\n",
    "        error = function(e) {\n",
    "          message(e)\n",
    "          message(\"Get errors when connecting with ensembl mart...\\nRetrying...\")\n",
    "          Sys.sleep(1)\n",
    "          return(NULL)\n",
    "        }\n",
    "      )\n",
    "    }\n",
    "    # use mirror later if url not work\n",
    "    if (!is.null(mirror)) {\n",
    "      mart <- tryCatch(\n",
    "        expr = {\n",
    "          useEnsembl(\"ensembl\", mirror = mirror)\n",
    "        },\n",
    "        error = function(e) {\n",
    "          message(e)\n",
    "          message(\"Get errors when connecting with mirror...\\nRetrying...\")\n",
    "          Sys.sleep(1)\n",
    "          return(NULL)\n",
    "        }\n",
    "      )\n",
    "    }\n",
    "    \n",
    "    if (is.null(mart) && ntry >= try_times) {\n",
    "      stop(\"Stop connecting...\")\n",
    "    }\n",
    "}\n",
    "Datasets <- listDatasets(mart)"
   ]
  },
  {
   "cell_type": "code",
   "execution_count": 503,
   "id": "77fa74c0",
   "metadata": {},
   "outputs": [
    {
     "data": {
      "text/html": [
       "'https://feb2021.archive.ensembl.org'"
      ],
      "text/latex": [
       "'https://feb2021.archive.ensembl.org'"
      ],
      "text/markdown": [
       "'https://feb2021.archive.ensembl.org'"
      ],
      "text/plain": [
       "[1] \"https://feb2021.archive.ensembl.org\""
      ]
     },
     "metadata": {},
     "output_type": "display_data"
    }
   ],
   "source": [
    "url"
   ]
  },
  {
   "cell_type": "code",
   "execution_count": 504,
   "id": "757edc20",
   "metadata": {},
   "outputs": [],
   "source": [
    "mart <- useMart(\"ensembl\", host = url)"
   ]
  },
  {
   "cell_type": "code",
   "execution_count": 505,
   "id": "dbfdabe3",
   "metadata": {},
   "outputs": [
    {
     "data": {
      "text/plain": [
       "Object of class 'Mart':\n",
       "  Using the ENSEMBL_MART_ENSEMBL BioMart database\n",
       "  No dataset selected."
      ]
     },
     "metadata": {},
     "output_type": "display_data"
    }
   ],
   "source": [
    "mart"
   ]
  },
  {
   "cell_type": "code",
   "execution_count": 506,
   "id": "66c69cf7",
   "metadata": {},
   "outputs": [
    {
     "data": {
      "text/html": [
       "<table class=\"dataframe\">\n",
       "<caption>A data.frame: 6 × 3</caption>\n",
       "<thead>\n",
       "\t<tr><th></th><th scope=col>dataset</th><th scope=col>description</th><th scope=col>version</th></tr>\n",
       "\t<tr><th></th><th scope=col>&lt;I&lt;chr&gt;&gt;</th><th scope=col>&lt;I&lt;chr&gt;&gt;</th><th scope=col>&lt;I&lt;chr&gt;&gt;</th></tr>\n",
       "</thead>\n",
       "<tbody>\n",
       "\t<tr><th scope=row>1</th><td>abrachyrhynchus_gene_ensembl</td><td>Pink-footed goose genes (ASM259213v1)</td><td>ASM259213v1</td></tr>\n",
       "\t<tr><th scope=row>2</th><td>acalliptera_gene_ensembl    </td><td>Eastern happy genes (fAstCal1.2)     </td><td>fAstCal1.2 </td></tr>\n",
       "\t<tr><th scope=row>3</th><td>acarolinensis_gene_ensembl  </td><td>Anole lizard genes (AnoCar2.0)       </td><td>AnoCar2.0  </td></tr>\n",
       "\t<tr><th scope=row>4</th><td>acchrysaetos_gene_ensembl   </td><td>Golden eagle genes (bAquChr1.2)      </td><td>bAquChr1.2 </td></tr>\n",
       "\t<tr><th scope=row>5</th><td>acitrinellus_gene_ensembl   </td><td>Midas cichlid genes (Midas_v5)       </td><td>Midas_v5   </td></tr>\n",
       "\t<tr><th scope=row>6</th><td>amelanoleuca_gene_ensembl   </td><td>Giant panda genes (ASM200744v2)      </td><td>ASM200744v2</td></tr>\n",
       "</tbody>\n",
       "</table>\n"
      ],
      "text/latex": [
       "A data.frame: 6 × 3\n",
       "\\begin{tabular}{r|lll}\n",
       "  & dataset & description & version\\\\\n",
       "  & <I<chr>> & <I<chr>> & <I<chr>>\\\\\n",
       "\\hline\n",
       "\t1 & abrachyrhynchus\\_gene\\_ensembl & Pink-footed goose genes (ASM259213v1) & ASM259213v1\\\\\n",
       "\t2 & acalliptera\\_gene\\_ensembl     & Eastern happy genes (fAstCal1.2)      & fAstCal1.2 \\\\\n",
       "\t3 & acarolinensis\\_gene\\_ensembl   & Anole lizard genes (AnoCar2.0)        & AnoCar2.0  \\\\\n",
       "\t4 & acchrysaetos\\_gene\\_ensembl    & Golden eagle genes (bAquChr1.2)       & bAquChr1.2 \\\\\n",
       "\t5 & acitrinellus\\_gene\\_ensembl    & Midas cichlid genes (Midas\\_v5)        & Midas\\_v5   \\\\\n",
       "\t6 & amelanoleuca\\_gene\\_ensembl    & Giant panda genes (ASM200744v2)       & ASM200744v2\\\\\n",
       "\\end{tabular}\n"
      ],
      "text/markdown": [
       "\n",
       "A data.frame: 6 × 3\n",
       "\n",
       "| <!--/--> | dataset &lt;I&lt;chr&gt;&gt; | description &lt;I&lt;chr&gt;&gt; | version &lt;I&lt;chr&gt;&gt; |\n",
       "|---|---|---|---|\n",
       "| 1 | abrachyrhynchus_gene_ensembl | Pink-footed goose genes (ASM259213v1) | ASM259213v1 |\n",
       "| 2 | acalliptera_gene_ensembl     | Eastern happy genes (fAstCal1.2)      | fAstCal1.2  |\n",
       "| 3 | acarolinensis_gene_ensembl   | Anole lizard genes (AnoCar2.0)        | AnoCar2.0   |\n",
       "| 4 | acchrysaetos_gene_ensembl    | Golden eagle genes (bAquChr1.2)       | bAquChr1.2  |\n",
       "| 5 | acitrinellus_gene_ensembl    | Midas cichlid genes (Midas_v5)        | Midas_v5    |\n",
       "| 6 | amelanoleuca_gene_ensembl    | Giant panda genes (ASM200744v2)       | ASM200744v2 |\n",
       "\n"
      ],
      "text/plain": [
       "  dataset                      description                          \n",
       "1 abrachyrhynchus_gene_ensembl Pink-footed goose genes (ASM259213v1)\n",
       "2 acalliptera_gene_ensembl     Eastern happy genes (fAstCal1.2)     \n",
       "3 acarolinensis_gene_ensembl   Anole lizard genes (AnoCar2.0)       \n",
       "4 acchrysaetos_gene_ensembl    Golden eagle genes (bAquChr1.2)      \n",
       "5 acitrinellus_gene_ensembl    Midas cichlid genes (Midas_v5)       \n",
       "6 amelanoleuca_gene_ensembl    Giant panda genes (ASM200744v2)      \n",
       "  version    \n",
       "1 ASM259213v1\n",
       "2 fAstCal1.2 \n",
       "3 AnoCar2.0  \n",
       "4 bAquChr1.2 \n",
       "5 Midas_v5   \n",
       "6 ASM200744v2"
      ]
     },
     "metadata": {},
     "output_type": "display_data"
    }
   ],
   "source": [
    "head(Datasets)"
   ]
  },
  {
   "cell_type": "code",
   "execution_count": 507,
   "id": "ab0ba6e2",
   "metadata": {},
   "outputs": [
    {
     "data": {
      "text/html": [
       "'https://feb2021.archive.ensembl.org:443/biomart/martservice'"
      ],
      "text/latex": [
       "'https://feb2021.archive.ensembl.org:443/biomart/martservice'"
      ],
      "text/markdown": [
       "'https://feb2021.archive.ensembl.org:443/biomart/martservice'"
      ],
      "text/plain": [
       "[1] \"https://feb2021.archive.ensembl.org:443/biomart/martservice\""
      ]
     },
     "metadata": {},
     "output_type": "display_data"
    }
   ],
   "source": [
    "mart@host"
   ]
  },
  {
   "cell_type": "markdown",
   "id": "2d8aa4a5",
   "metadata": {},
   "source": [
    "## most important"
   ]
  },
  {
   "cell_type": "code",
   "execution_count": 344,
   "id": "e5eb7db9",
   "metadata": {},
   "outputs": [],
   "source": [
    "mart@host <- \"https://feb2021.archive.ensembl.org:443/biomart/martservice\""
   ]
  },
  {
   "cell_type": "code",
   "execution_count": 508,
   "id": "8059ab2f",
   "metadata": {},
   "outputs": [],
   "source": [
    "# # not work\n",
    "# mart@host <- \"https://jul2022.archive.ensembl.org:443/biomart/martservice\""
   ]
  },
  {
   "cell_type": "markdown",
   "id": "1bb9bc9f",
   "metadata": {},
   "source": [
    "## select dataset"
   ]
  },
  {
   "cell_type": "code",
   "execution_count": 509,
   "id": "a05a6d5a",
   "metadata": {},
   "outputs": [
    {
     "name": "stderr",
     "output_type": "stream",
     "text": [
      "Connect to the dataset hsapiens_gene_ensembl ...\n",
      "\n"
     ]
    }
   ],
   "source": [
    "dataset <- \"hsapiens_gene_ensembl\"\n",
    "message(\"Connect to the dataset \", dataset, \" ...\")\n",
    "mart1 <- NULL\n",
    "ntry <- 0\n",
    "while (is.null(mart1)) {\n",
    "    ntry <- ntry + 1\n",
    "    mart1 <- tryCatch(\n",
    "      expr = {\n",
    "        useDataset(dataset = dataset, mart = mart)\n",
    "      },\n",
    "      error = function(e) {\n",
    "        message(e)\n",
    "        message(\"Get errors when connecting with ensembl mart...\\nRetrying...\")\n",
    "        Sys.sleep(1)\n",
    "        return(NULL)\n",
    "      }\n",
    "    )\n",
    "    if (is.null(mart1) && ntry >= try_times) {\n",
    "      stop(\"Stop connecting...\")\n",
    "    }\n",
    "}"
   ]
  },
  {
   "cell_type": "code",
   "execution_count": 510,
   "id": "79fbbbf5",
   "metadata": {},
   "outputs": [
    {
     "name": "stderr",
     "output_type": "stream",
     "text": [
      "Connect to the dataset mmusculus_gene_ensembl ...\n",
      "\n"
     ]
    }
   ],
   "source": [
    "dataset2 <- \"mmusculus_gene_ensembl\"\n",
    "message(\"Connect to the dataset \", dataset2, \" ...\")\n",
    "mart2 <- NULL\n",
    "ntry <- 0\n",
    "while (is.null(mart2)) {\n",
    "  ntry <- ntry + 1\n",
    "  mart2 <- tryCatch(\n",
    "    expr = {\n",
    "      useDataset(dataset = dataset2, mart = mart)\n",
    "    },\n",
    "    error = function(e) {\n",
    "      message(e)\n",
    "      message(\"Get errors when connecting with ensembl mart...\\nRetrying...\")\n",
    "      Sys.sleep(1)\n",
    "      return(NULL)\n",
    "    }\n",
    "  )\n",
    "  if (is.null(mart2) && ntry >= try_times) {\n",
    "    stop(\"Stop connecting...\")\n",
    "  }\n",
    "}"
   ]
  },
  {
   "cell_type": "code",
   "execution_count": 511,
   "id": "c10f93c8",
   "metadata": {},
   "outputs": [],
   "source": [
    "# mart.hs <- useDataset(dataset = \"hsapiens_gene_ensembl\", mart = mart)\n",
    "# mart.mm <- useDataset(dataset = \"mmusculus_gene_ensembl\", mart = mart)"
   ]
  },
  {
   "cell_type": "code",
   "execution_count": 512,
   "id": "fd1125f9",
   "metadata": {},
   "outputs": [
    {
     "data": {
      "text/html": [
       "'https://feb2021.archive.ensembl.org:443/biomart/martservice'"
      ],
      "text/latex": [
       "'https://feb2021.archive.ensembl.org:443/biomart/martservice'"
      ],
      "text/markdown": [
       "'https://feb2021.archive.ensembl.org:443/biomart/martservice'"
      ],
      "text/plain": [
       "[1] \"https://feb2021.archive.ensembl.org:443/biomart/martservice\""
      ]
     },
     "metadata": {},
     "output_type": "display_data"
    }
   ],
   "source": [
    "mart2@host"
   ]
  },
  {
   "cell_type": "code",
   "execution_count": 513,
   "id": "5acdffe5",
   "metadata": {},
   "outputs": [
    {
     "data": {
      "text/html": [
       "'https://feb2021.archive.ensembl.org:443/biomart/martservice'"
      ],
      "text/latex": [
       "'https://feb2021.archive.ensembl.org:443/biomart/martservice'"
      ],
      "text/markdown": [
       "'https://feb2021.archive.ensembl.org:443/biomart/martservice'"
      ],
      "text/plain": [
       "[1] \"https://feb2021.archive.ensembl.org:443/biomart/martservice\""
      ]
     },
     "metadata": {},
     "output_type": "display_data"
    }
   ],
   "source": [
    "mart1@host"
   ]
  },
  {
   "cell_type": "code",
   "execution_count": 514,
   "id": "0e09282c",
   "metadata": {
    "scrolled": true
   },
   "outputs": [
    {
     "data": {
      "text/html": [
       "<table class=\"dataframe\">\n",
       "<caption>A data.frame: 2 × 3</caption>\n",
       "<thead>\n",
       "\t<tr><th></th><th scope=col>name</th><th scope=col>description</th><th scope=col>page</th></tr>\n",
       "\t<tr><th></th><th scope=col>&lt;chr&gt;</th><th scope=col>&lt;chr&gt;</th><th scope=col>&lt;chr&gt;</th></tr>\n",
       "</thead>\n",
       "<tbody>\n",
       "\t<tr><th scope=row>66</th><td>hgnc_symbol      </td><td>HGNC symbol               </td><td>feature_page</td></tr>\n",
       "\t<tr><th scope=row>100</th><td>uniprot_gn_symbol</td><td>UniProtKB Gene Name symbol</td><td>feature_page</td></tr>\n",
       "</tbody>\n",
       "</table>\n"
      ],
      "text/latex": [
       "A data.frame: 2 × 3\n",
       "\\begin{tabular}{r|lll}\n",
       "  & name & description & page\\\\\n",
       "  & <chr> & <chr> & <chr>\\\\\n",
       "\\hline\n",
       "\t66 & hgnc\\_symbol       & HGNC symbol                & feature\\_page\\\\\n",
       "\t100 & uniprot\\_gn\\_symbol & UniProtKB Gene Name symbol & feature\\_page\\\\\n",
       "\\end{tabular}\n"
      ],
      "text/markdown": [
       "\n",
       "A data.frame: 2 × 3\n",
       "\n",
       "| <!--/--> | name &lt;chr&gt; | description &lt;chr&gt; | page &lt;chr&gt; |\n",
       "|---|---|---|---|\n",
       "| 66 | hgnc_symbol       | HGNC symbol                | feature_page |\n",
       "| 100 | uniprot_gn_symbol | UniProtKB Gene Name symbol | feature_page |\n",
       "\n"
      ],
      "text/plain": [
       "    name              description                page        \n",
       "66  hgnc_symbol       HGNC symbol                feature_page\n",
       "100 uniprot_gn_symbol UniProtKB Gene Name symbol feature_page"
      ]
     },
     "metadata": {},
     "output_type": "display_data"
    }
   ],
   "source": [
    "subset(listAttributes(mart1), grepl(\"symbol\", name))"
   ]
  },
  {
   "cell_type": "code",
   "execution_count": 515,
   "id": "48f93518",
   "metadata": {},
   "outputs": [],
   "source": [
    "gene.pairs1 = getLDS(attributes = c(\"mgi_symbol\",\"ensembl_gene_id\"), \n",
    "                 attributesL = c(\"hgnc_symbol\",\"ensembl_gene_id\"), \n",
    "                 filters = \"ensembl_gene_id\", values = gene.anno.mm10.v3$gene_id,\n",
    "                 mart = mart2, martL = mart1, uniqueRows=T)"
   ]
  },
  {
   "cell_type": "code",
   "execution_count": 516,
   "id": "11d9c5a4",
   "metadata": {},
   "outputs": [
    {
     "data": {
      "text/html": [
       "<table class=\"dataframe\">\n",
       "<caption>A data.frame: 6 × 4</caption>\n",
       "<thead>\n",
       "\t<tr><th></th><th scope=col>MGI.symbol</th><th scope=col>Gene.stable.ID</th><th scope=col>HGNC.symbol</th><th scope=col>Gene.stable.ID.1</th></tr>\n",
       "\t<tr><th></th><th scope=col>&lt;chr&gt;</th><th scope=col>&lt;chr&gt;</th><th scope=col>&lt;chr&gt;</th><th scope=col>&lt;chr&gt;</th></tr>\n",
       "</thead>\n",
       "<tbody>\n",
       "\t<tr><th scope=row>1</th><td>mt-Co1 </td><td>ENSMUSG00000064351</td><td>MT-CO1 </td><td>ENSG00000198804</td></tr>\n",
       "\t<tr><th scope=row>2</th><td>mt-Nd1 </td><td>ENSMUSG00000064341</td><td>MT-ND1 </td><td>ENSG00000198888</td></tr>\n",
       "\t<tr><th scope=row>3</th><td>mt-Atp6</td><td>ENSMUSG00000064357</td><td>MT-ATP6</td><td>ENSG00000198899</td></tr>\n",
       "\t<tr><th scope=row>4</th><td>mt-Co3 </td><td>ENSMUSG00000064358</td><td>MT-CO3 </td><td>ENSG00000198938</td></tr>\n",
       "\t<tr><th scope=row>5</th><td>mt-Nd4 </td><td>ENSMUSG00000064363</td><td>MT-ND4 </td><td>ENSG00000198886</td></tr>\n",
       "\t<tr><th scope=row>6</th><td>mt-Nd3 </td><td>ENSMUSG00000064360</td><td>MT-ND3 </td><td>ENSG00000198840</td></tr>\n",
       "</tbody>\n",
       "</table>\n"
      ],
      "text/latex": [
       "A data.frame: 6 × 4\n",
       "\\begin{tabular}{r|llll}\n",
       "  & MGI.symbol & Gene.stable.ID & HGNC.symbol & Gene.stable.ID.1\\\\\n",
       "  & <chr> & <chr> & <chr> & <chr>\\\\\n",
       "\\hline\n",
       "\t1 & mt-Co1  & ENSMUSG00000064351 & MT-CO1  & ENSG00000198804\\\\\n",
       "\t2 & mt-Nd1  & ENSMUSG00000064341 & MT-ND1  & ENSG00000198888\\\\\n",
       "\t3 & mt-Atp6 & ENSMUSG00000064357 & MT-ATP6 & ENSG00000198899\\\\\n",
       "\t4 & mt-Co3  & ENSMUSG00000064358 & MT-CO3  & ENSG00000198938\\\\\n",
       "\t5 & mt-Nd4  & ENSMUSG00000064363 & MT-ND4  & ENSG00000198886\\\\\n",
       "\t6 & mt-Nd3  & ENSMUSG00000064360 & MT-ND3  & ENSG00000198840\\\\\n",
       "\\end{tabular}\n"
      ],
      "text/markdown": [
       "\n",
       "A data.frame: 6 × 4\n",
       "\n",
       "| <!--/--> | MGI.symbol &lt;chr&gt; | Gene.stable.ID &lt;chr&gt; | HGNC.symbol &lt;chr&gt; | Gene.stable.ID.1 &lt;chr&gt; |\n",
       "|---|---|---|---|---|\n",
       "| 1 | mt-Co1  | ENSMUSG00000064351 | MT-CO1  | ENSG00000198804 |\n",
       "| 2 | mt-Nd1  | ENSMUSG00000064341 | MT-ND1  | ENSG00000198888 |\n",
       "| 3 | mt-Atp6 | ENSMUSG00000064357 | MT-ATP6 | ENSG00000198899 |\n",
       "| 4 | mt-Co3  | ENSMUSG00000064358 | MT-CO3  | ENSG00000198938 |\n",
       "| 5 | mt-Nd4  | ENSMUSG00000064363 | MT-ND4  | ENSG00000198886 |\n",
       "| 6 | mt-Nd3  | ENSMUSG00000064360 | MT-ND3  | ENSG00000198840 |\n",
       "\n"
      ],
      "text/plain": [
       "  MGI.symbol Gene.stable.ID     HGNC.symbol Gene.stable.ID.1\n",
       "1 mt-Co1     ENSMUSG00000064351 MT-CO1      ENSG00000198804 \n",
       "2 mt-Nd1     ENSMUSG00000064341 MT-ND1      ENSG00000198888 \n",
       "3 mt-Atp6    ENSMUSG00000064357 MT-ATP6     ENSG00000198899 \n",
       "4 mt-Co3     ENSMUSG00000064358 MT-CO3      ENSG00000198938 \n",
       "5 mt-Nd4     ENSMUSG00000064363 MT-ND4      ENSG00000198886 \n",
       "6 mt-Nd3     ENSMUSG00000064360 MT-ND3      ENSG00000198840 "
      ]
     },
     "metadata": {},
     "output_type": "display_data"
    }
   ],
   "source": [
    "head(gene.pairs1)"
   ]
  },
  {
   "cell_type": "code",
   "execution_count": 357,
   "id": "e2a7792f",
   "metadata": {},
   "outputs": [],
   "source": [
    "colnames(gene.pairs1) <- c('MGI.symbol','Gene.stable.ID.mm','HGNC.symbol','Gene.stable.ID.hs')"
   ]
  },
  {
   "cell_type": "code",
   "execution_count": 353,
   "id": "3a9545f2",
   "metadata": {},
   "outputs": [],
   "source": [
    "gene.pairs2 = getLDS(attributes = c(\"hgnc_symbol\",\"ensembl_gene_id\"), \n",
    "                 attributesL = c(\"mgi_symbol\",\"ensembl_gene_id\"), \n",
    "                 filters = \"ensembl_gene_id\", values = gene.anno.GRCh38.v3$gene_id,\n",
    "                 mart = mart1, martL = mart2, uniqueRows=T)"
   ]
  },
  {
   "cell_type": "code",
   "execution_count": 354,
   "id": "5b1b4183",
   "metadata": {},
   "outputs": [
    {
     "data": {
      "text/html": [
       "<table class=\"dataframe\">\n",
       "<caption>A data.frame: 6 × 4</caption>\n",
       "<thead>\n",
       "\t<tr><th></th><th scope=col>HGNC.symbol</th><th scope=col>Gene.stable.ID</th><th scope=col>MGI.symbol</th><th scope=col>Gene.stable.ID.1</th></tr>\n",
       "\t<tr><th></th><th scope=col>&lt;chr&gt;</th><th scope=col>&lt;chr&gt;</th><th scope=col>&lt;chr&gt;</th><th scope=col>&lt;chr&gt;</th></tr>\n",
       "</thead>\n",
       "<tbody>\n",
       "\t<tr><th scope=row>1</th><td>MT-ND6  </td><td>ENSG00000198695</td><td>mt-Nd6</td><td>ENSMUSG00000064368</td></tr>\n",
       "\t<tr><th scope=row>2</th><td>MT-ND1  </td><td>ENSG00000198888</td><td>mt-Nd1</td><td>ENSMUSG00000064341</td></tr>\n",
       "\t<tr><th scope=row>3</th><td>PRAMEF25</td><td>ENSG00000229571</td><td>      </td><td>ENSMUSG00000094741</td></tr>\n",
       "\t<tr><th scope=row>4</th><td>PRAMEF25</td><td>ENSG00000229571</td><td>      </td><td>ENSMUSG00000074720</td></tr>\n",
       "\t<tr><th scope=row>5</th><td>PRAMEF25</td><td>ENSG00000229571</td><td>      </td><td>ENSMUSG00000094337</td></tr>\n",
       "\t<tr><th scope=row>6</th><td>PRAMEF25</td><td>ENSG00000229571</td><td>      </td><td>ENSMUSG00000095570</td></tr>\n",
       "</tbody>\n",
       "</table>\n"
      ],
      "text/latex": [
       "A data.frame: 6 × 4\n",
       "\\begin{tabular}{r|llll}\n",
       "  & HGNC.symbol & Gene.stable.ID & MGI.symbol & Gene.stable.ID.1\\\\\n",
       "  & <chr> & <chr> & <chr> & <chr>\\\\\n",
       "\\hline\n",
       "\t1 & MT-ND6   & ENSG00000198695 & mt-Nd6 & ENSMUSG00000064368\\\\\n",
       "\t2 & MT-ND1   & ENSG00000198888 & mt-Nd1 & ENSMUSG00000064341\\\\\n",
       "\t3 & PRAMEF25 & ENSG00000229571 &        & ENSMUSG00000094741\\\\\n",
       "\t4 & PRAMEF25 & ENSG00000229571 &        & ENSMUSG00000074720\\\\\n",
       "\t5 & PRAMEF25 & ENSG00000229571 &        & ENSMUSG00000094337\\\\\n",
       "\t6 & PRAMEF25 & ENSG00000229571 &        & ENSMUSG00000095570\\\\\n",
       "\\end{tabular}\n"
      ],
      "text/markdown": [
       "\n",
       "A data.frame: 6 × 4\n",
       "\n",
       "| <!--/--> | HGNC.symbol &lt;chr&gt; | Gene.stable.ID &lt;chr&gt; | MGI.symbol &lt;chr&gt; | Gene.stable.ID.1 &lt;chr&gt; |\n",
       "|---|---|---|---|---|\n",
       "| 1 | MT-ND6   | ENSG00000198695 | mt-Nd6 | ENSMUSG00000064368 |\n",
       "| 2 | MT-ND1   | ENSG00000198888 | mt-Nd1 | ENSMUSG00000064341 |\n",
       "| 3 | PRAMEF25 | ENSG00000229571 | <!----> | ENSMUSG00000094741 |\n",
       "| 4 | PRAMEF25 | ENSG00000229571 | <!----> | ENSMUSG00000074720 |\n",
       "| 5 | PRAMEF25 | ENSG00000229571 | <!----> | ENSMUSG00000094337 |\n",
       "| 6 | PRAMEF25 | ENSG00000229571 | <!----> | ENSMUSG00000095570 |\n",
       "\n"
      ],
      "text/plain": [
       "  HGNC.symbol Gene.stable.ID  MGI.symbol Gene.stable.ID.1  \n",
       "1 MT-ND6      ENSG00000198695 mt-Nd6     ENSMUSG00000064368\n",
       "2 MT-ND1      ENSG00000198888 mt-Nd1     ENSMUSG00000064341\n",
       "3 PRAMEF25    ENSG00000229571            ENSMUSG00000094741\n",
       "4 PRAMEF25    ENSG00000229571            ENSMUSG00000074720\n",
       "5 PRAMEF25    ENSG00000229571            ENSMUSG00000094337\n",
       "6 PRAMEF25    ENSG00000229571            ENSMUSG00000095570"
      ]
     },
     "metadata": {},
     "output_type": "display_data"
    }
   ],
   "source": [
    "head(gene.pairs2)"
   ]
  },
  {
   "cell_type": "code",
   "execution_count": 359,
   "id": "186384c2",
   "metadata": {},
   "outputs": [],
   "source": [
    "colnames(gene.pairs2) <- c('HGNC.symbol','Gene.stable.ID.hs','MGI.symbol','Gene.stable.ID.mm')"
   ]
  },
  {
   "cell_type": "code",
   "execution_count": 361,
   "id": "5a2d9e2b",
   "metadata": {},
   "outputs": [],
   "source": [
    "gene.pairs2 <- gene.pairs2[,c('MGI.symbol','Gene.stable.ID.mm','HGNC.symbol','Gene.stable.ID.hs')]"
   ]
  },
  {
   "cell_type": "code",
   "execution_count": 362,
   "id": "2021bf95",
   "metadata": {},
   "outputs": [],
   "source": [
    "gene.pairs <- rbind(gene.pairs1, gene.pairs2)"
   ]
  },
  {
   "cell_type": "code",
   "execution_count": 366,
   "id": "909a4ab4",
   "metadata": {},
   "outputs": [],
   "source": [
    "gene.pairs <- gene.pairs[!duplicated(gene.pairs[,c(2,4)]),]"
   ]
  },
  {
   "cell_type": "code",
   "execution_count": 373,
   "id": "a5fd97bd",
   "metadata": {},
   "outputs": [],
   "source": [
    "# gene.pairs[duplicated(gene.pairs$Gene.stable.ID.hs),]"
   ]
  },
  {
   "cell_type": "code",
   "execution_count": 374,
   "id": "078d8940",
   "metadata": {},
   "outputs": [],
   "source": [
    "# rownames(gene.pairs) <- gene.pairs$Gene.stable.ID.mm"
   ]
  },
  {
   "cell_type": "code",
   "execution_count": 381,
   "id": "07f5173c",
   "metadata": {},
   "outputs": [
    {
     "data": {
      "text/html": [
       "<table class=\"dataframe\">\n",
       "<caption>A data.frame: 6 × 4</caption>\n",
       "<thead>\n",
       "\t<tr><th></th><th scope=col>MGI.symbol</th><th scope=col>Gene.stable.ID.mm</th><th scope=col>HGNC.symbol</th><th scope=col>Gene.stable.ID.hs</th></tr>\n",
       "\t<tr><th></th><th scope=col>&lt;chr&gt;</th><th scope=col>&lt;chr&gt;</th><th scope=col>&lt;chr&gt;</th><th scope=col>&lt;chr&gt;</th></tr>\n",
       "</thead>\n",
       "<tbody>\n",
       "\t<tr><th scope=row>1</th><td>mt-Nd2 </td><td>ENSMUSG00000064345</td><td>MT-ND2 </td><td>ENSG00000198763</td></tr>\n",
       "\t<tr><th scope=row>2</th><td>mt-Atp8</td><td>ENSMUSG00000064356</td><td>MT-ATP8</td><td>ENSG00000228253</td></tr>\n",
       "\t<tr><th scope=row>3</th><td>mt-Nd4l</td><td>ENSMUSG00000065947</td><td>MT-ND4L</td><td>ENSG00000212907</td></tr>\n",
       "\t<tr><th scope=row>4</th><td>mt-Cytb</td><td>ENSMUSG00000064370</td><td>MT-CYB </td><td>ENSG00000198727</td></tr>\n",
       "\t<tr><th scope=row>5</th><td>mt-Nd3 </td><td>ENSMUSG00000064360</td><td>MT-ND3 </td><td>ENSG00000198840</td></tr>\n",
       "\t<tr><th scope=row>6</th><td>mt-Co2 </td><td>ENSMUSG00000064354</td><td>MT-CO2 </td><td>ENSG00000198712</td></tr>\n",
       "</tbody>\n",
       "</table>\n"
      ],
      "text/latex": [
       "A data.frame: 6 × 4\n",
       "\\begin{tabular}{r|llll}\n",
       "  & MGI.symbol & Gene.stable.ID.mm & HGNC.symbol & Gene.stable.ID.hs\\\\\n",
       "  & <chr> & <chr> & <chr> & <chr>\\\\\n",
       "\\hline\n",
       "\t1 & mt-Nd2  & ENSMUSG00000064345 & MT-ND2  & ENSG00000198763\\\\\n",
       "\t2 & mt-Atp8 & ENSMUSG00000064356 & MT-ATP8 & ENSG00000228253\\\\\n",
       "\t3 & mt-Nd4l & ENSMUSG00000065947 & MT-ND4L & ENSG00000212907\\\\\n",
       "\t4 & mt-Cytb & ENSMUSG00000064370 & MT-CYB  & ENSG00000198727\\\\\n",
       "\t5 & mt-Nd3  & ENSMUSG00000064360 & MT-ND3  & ENSG00000198840\\\\\n",
       "\t6 & mt-Co2  & ENSMUSG00000064354 & MT-CO2  & ENSG00000198712\\\\\n",
       "\\end{tabular}\n"
      ],
      "text/markdown": [
       "\n",
       "A data.frame: 6 × 4\n",
       "\n",
       "| <!--/--> | MGI.symbol &lt;chr&gt; | Gene.stable.ID.mm &lt;chr&gt; | HGNC.symbol &lt;chr&gt; | Gene.stable.ID.hs &lt;chr&gt; |\n",
       "|---|---|---|---|---|\n",
       "| 1 | mt-Nd2  | ENSMUSG00000064345 | MT-ND2  | ENSG00000198763 |\n",
       "| 2 | mt-Atp8 | ENSMUSG00000064356 | MT-ATP8 | ENSG00000228253 |\n",
       "| 3 | mt-Nd4l | ENSMUSG00000065947 | MT-ND4L | ENSG00000212907 |\n",
       "| 4 | mt-Cytb | ENSMUSG00000064370 | MT-CYB  | ENSG00000198727 |\n",
       "| 5 | mt-Nd3  | ENSMUSG00000064360 | MT-ND3  | ENSG00000198840 |\n",
       "| 6 | mt-Co2  | ENSMUSG00000064354 | MT-CO2  | ENSG00000198712 |\n",
       "\n"
      ],
      "text/plain": [
       "  MGI.symbol Gene.stable.ID.mm  HGNC.symbol Gene.stable.ID.hs\n",
       "1 mt-Nd2     ENSMUSG00000064345 MT-ND2      ENSG00000198763  \n",
       "2 mt-Atp8    ENSMUSG00000064356 MT-ATP8     ENSG00000228253  \n",
       "3 mt-Nd4l    ENSMUSG00000065947 MT-ND4L     ENSG00000212907  \n",
       "4 mt-Cytb    ENSMUSG00000064370 MT-CYB      ENSG00000198727  \n",
       "5 mt-Nd3     ENSMUSG00000064360 MT-ND3      ENSG00000198840  \n",
       "6 mt-Co2     ENSMUSG00000064354 MT-CO2      ENSG00000198712  "
      ]
     },
     "metadata": {},
     "output_type": "display_data"
    }
   ],
   "source": [
    "head(gene.pairs)"
   ]
  },
  {
   "cell_type": "code",
   "execution_count": 378,
   "id": "5ffe0569",
   "metadata": {},
   "outputs": [],
   "source": [
    "gene.pairs <- subset(gene.pairs, Gene.stable.ID.mm %in% gene.anno.mm10.v3$gene_id & Gene.stable.ID.hs %in% gene.anno.GRCh38.v3$gene_id)"
   ]
  },
  {
   "cell_type": "code",
   "execution_count": 380,
   "id": "de609d94",
   "metadata": {},
   "outputs": [],
   "source": [
    "gene.pairs$MGI.symbol<- gene.anno.mm10.v3[gene.pairs$Gene.stable.ID.mm,]$gene_name"
   ]
  },
  {
   "cell_type": "code",
   "execution_count": 382,
   "id": "69abd2e1",
   "metadata": {},
   "outputs": [],
   "source": [
    "gene.pairs$HGNC.symbol<- gene.anno.GRCh38.v3[gene.pairs$Gene.stable.ID.hs,]$gene_name"
   ]
  },
  {
   "cell_type": "code",
   "execution_count": 386,
   "id": "f1efc1b7",
   "metadata": {},
   "outputs": [
    {
     "data": {
      "text/html": [
       "<table class=\"dataframe\">\n",
       "<caption>A data.frame: 5 × 4</caption>\n",
       "<thead>\n",
       "\t<tr><th></th><th scope=col>MGI.symbol</th><th scope=col>Gene.stable.ID.mm</th><th scope=col>HGNC.symbol</th><th scope=col>Gene.stable.ID.hs</th></tr>\n",
       "\t<tr><th></th><th scope=col>&lt;chr&gt;</th><th scope=col>&lt;chr&gt;</th><th scope=col>&lt;chr&gt;</th><th scope=col>&lt;chr&gt;</th></tr>\n",
       "</thead>\n",
       "<tbody>\n",
       "\t<tr><th scope=row>4</th><td>mt-Cytb</td><td>ENSMUSG00000064370</td><td>MT-CYB    </td><td>ENSG00000198727</td></tr>\n",
       "\t<tr><th scope=row>14</th><td>Dgcr6  </td><td>ENSMUSG00000003531</td><td>AC007325.4</td><td>ENSG00000278817</td></tr>\n",
       "\t<tr><th scope=row>15</th><td>Prodh  </td><td>ENSMUSG00000003526</td><td>AC007325.2</td><td>ENSG00000277196</td></tr>\n",
       "\t<tr><th scope=row>16</th><td>Frg1   </td><td>ENSMUSG00000031590</td><td>AL592183.1</td><td>ENSG00000273748</td></tr>\n",
       "\t<tr><th scope=row>17</th><td>Ighv3-6</td><td>ENSMUSG00000076672</td><td>AC233755.1</td><td>ENSG00000275063</td></tr>\n",
       "</tbody>\n",
       "</table>\n"
      ],
      "text/latex": [
       "A data.frame: 5 × 4\n",
       "\\begin{tabular}{r|llll}\n",
       "  & MGI.symbol & Gene.stable.ID.mm & HGNC.symbol & Gene.stable.ID.hs\\\\\n",
       "  & <chr> & <chr> & <chr> & <chr>\\\\\n",
       "\\hline\n",
       "\t4 & mt-Cytb & ENSMUSG00000064370 & MT-CYB     & ENSG00000198727\\\\\n",
       "\t14 & Dgcr6   & ENSMUSG00000003531 & AC007325.4 & ENSG00000278817\\\\\n",
       "\t15 & Prodh   & ENSMUSG00000003526 & AC007325.2 & ENSG00000277196\\\\\n",
       "\t16 & Frg1    & ENSMUSG00000031590 & AL592183.1 & ENSG00000273748\\\\\n",
       "\t17 & Ighv3-6 & ENSMUSG00000076672 & AC233755.1 & ENSG00000275063\\\\\n",
       "\\end{tabular}\n"
      ],
      "text/markdown": [
       "\n",
       "A data.frame: 5 × 4\n",
       "\n",
       "| <!--/--> | MGI.symbol &lt;chr&gt; | Gene.stable.ID.mm &lt;chr&gt; | HGNC.symbol &lt;chr&gt; | Gene.stable.ID.hs &lt;chr&gt; |\n",
       "|---|---|---|---|---|\n",
       "| 4 | mt-Cytb | ENSMUSG00000064370 | MT-CYB     | ENSG00000198727 |\n",
       "| 14 | Dgcr6   | ENSMUSG00000003531 | AC007325.4 | ENSG00000278817 |\n",
       "| 15 | Prodh   | ENSMUSG00000003526 | AC007325.2 | ENSG00000277196 |\n",
       "| 16 | Frg1    | ENSMUSG00000031590 | AL592183.1 | ENSG00000273748 |\n",
       "| 17 | Ighv3-6 | ENSMUSG00000076672 | AC233755.1 | ENSG00000275063 |\n",
       "\n"
      ],
      "text/plain": [
       "   MGI.symbol Gene.stable.ID.mm  HGNC.symbol Gene.stable.ID.hs\n",
       "4  mt-Cytb    ENSMUSG00000064370 MT-CYB      ENSG00000198727  \n",
       "14 Dgcr6      ENSMUSG00000003531 AC007325.4  ENSG00000278817  \n",
       "15 Prodh      ENSMUSG00000003526 AC007325.2  ENSG00000277196  \n",
       "16 Frg1       ENSMUSG00000031590 AL592183.1  ENSG00000273748  \n",
       "17 Ighv3-6    ENSMUSG00000076672 AC233755.1  ENSG00000275063  "
      ]
     },
     "metadata": {},
     "output_type": "display_data"
    }
   ],
   "source": [
    "subset(gene.pairs, toupper(MGI.symbol)!=HGNC.symbol)[1:5,]"
   ]
  },
  {
   "cell_type": "code",
   "execution_count": 391,
   "id": "cfae67c1",
   "metadata": {},
   "outputs": [],
   "source": [
    "# subset(gene.pairs, MGI.symbol==\"\" | HGNC.symbol\t==\"\")"
   ]
  },
  {
   "cell_type": "code",
   "execution_count": null,
   "id": "091f0e65",
   "metadata": {},
   "outputs": [],
   "source": []
  },
  {
   "cell_type": "code",
   "execution_count": null,
   "id": "f0fefd07",
   "metadata": {},
   "outputs": [],
   "source": []
  },
  {
   "cell_type": "code",
   "execution_count": 387,
   "id": "f00c8774",
   "metadata": {},
   "outputs": [
    {
     "data": {
      "text/html": [
       "16149"
      ],
      "text/latex": [
       "16149"
      ],
      "text/markdown": [
       "16149"
      ],
      "text/plain": [
       "[1] 16149"
      ]
     },
     "metadata": {},
     "output_type": "display_data"
    }
   ],
   "source": [
    "common.genes <- intersect(gene.anno.mm10.v3$toupper, gene.anno.GRCh38.v3$gene_name)\n",
    "length(common.genes)"
   ]
  },
  {
   "cell_type": "code",
   "execution_count": 394,
   "id": "4d97e45d",
   "metadata": {},
   "outputs": [],
   "source": [
    "common.genes <- common.genes[!common.genes %in% toupper(gene.pairs$MGI.symbol)]"
   ]
  },
  {
   "cell_type": "code",
   "execution_count": 395,
   "id": "25b33f72",
   "metadata": {},
   "outputs": [],
   "source": [
    "common.genes <- common.genes[!common.genes %in% gene.pairs$HGNC.symbol]"
   ]
  },
  {
   "cell_type": "code",
   "execution_count": 396,
   "id": "a123747d",
   "metadata": {},
   "outputs": [
    {
     "data": {
      "text/html": [
       "534"
      ],
      "text/latex": [
       "534"
      ],
      "text/markdown": [
       "534"
      ],
      "text/plain": [
       "[1] 534"
      ]
     },
     "metadata": {},
     "output_type": "display_data"
    }
   ],
   "source": [
    "length(common.genes)"
   ]
  },
  {
   "cell_type": "code",
   "execution_count": 404,
   "id": "22e4fb14",
   "metadata": {},
   "outputs": [
    {
     "data": {
      "text/html": [
       "<style>\n",
       ".list-inline {list-style: none; margin:0; padding: 0}\n",
       ".list-inline>li {display: inline-block}\n",
       ".list-inline>li:not(:last-child)::after {content: \"\\00b7\"; padding: 0 .5ex}\n",
       "</style>\n",
       "<ol class=list-inline><li>535</li><li>2</li></ol>\n"
      ],
      "text/latex": [
       "\\begin{enumerate*}\n",
       "\\item 535\n",
       "\\item 2\n",
       "\\end{enumerate*}\n"
      ],
      "text/markdown": [
       "1. 535\n",
       "2. 2\n",
       "\n",
       "\n"
      ],
      "text/plain": [
       "[1] 535   2"
      ]
     },
     "metadata": {},
     "output_type": "display_data"
    }
   ],
   "source": [
    "tmp1 <- subset(gene.anno.mm10.v3, toupper %in% common.genes)[,c(\"gene_id\",\"gene_name\")]\n",
    "dim(tmp1)"
   ]
  },
  {
   "cell_type": "code",
   "execution_count": 406,
   "id": "a32ee047",
   "metadata": {},
   "outputs": [],
   "source": [
    "tmp1 <- tmp1[!duplicated(tmp1$gene_name),]"
   ]
  },
  {
   "cell_type": "code",
   "execution_count": 407,
   "id": "7ae5dc6f",
   "metadata": {},
   "outputs": [],
   "source": [
    "rownames(tmp1) <- tmp1$gene_name"
   ]
  },
  {
   "cell_type": "code",
   "execution_count": 400,
   "id": "4249a125",
   "metadata": {},
   "outputs": [],
   "source": [
    "tmp2 <- subset(gene.anno.GRCh38.v3, gene_name %in% common.genes)[,c(\"gene_id\",\"gene_name\")]"
   ]
  },
  {
   "cell_type": "code",
   "execution_count": 408,
   "id": "cdd142fc",
   "metadata": {},
   "outputs": [],
   "source": [
    "rownames(tmp2) <- tmp2$gene_name"
   ]
  },
  {
   "cell_type": "code",
   "execution_count": 412,
   "id": "673115df",
   "metadata": {},
   "outputs": [],
   "source": [
    "tmp2 <- tmp2[toupper(tmp1$gene_name),]"
   ]
  },
  {
   "cell_type": "code",
   "execution_count": 415,
   "id": "9585e3db",
   "metadata": {
    "scrolled": true
   },
   "outputs": [],
   "source": [
    "missing.pairs <- cbind(tmp1, tmp2)"
   ]
  },
  {
   "cell_type": "code",
   "execution_count": 416,
   "id": "49b39898",
   "metadata": {},
   "outputs": [],
   "source": [
    "colnames(missing.pairs) <- c('Gene.stable.ID.mm','MGI.symbol','Gene.stable.ID.hs','HGNC.symbol')"
   ]
  },
  {
   "cell_type": "code",
   "execution_count": 418,
   "id": "91e1fa39",
   "metadata": {},
   "outputs": [],
   "source": [
    "missing.pairs <- missing.pairs[,c('MGI.symbol','Gene.stable.ID.mm','HGNC.symbol','Gene.stable.ID.hs')]"
   ]
  },
  {
   "cell_type": "code",
   "execution_count": 420,
   "id": "7cef2dae",
   "metadata": {},
   "outputs": [
    {
     "data": {
      "text/html": [
       "<style>\n",
       ".list-inline {list-style: none; margin:0; padding: 0}\n",
       ".list-inline>li {display: inline-block}\n",
       ".list-inline>li:not(:last-child)::after {content: \"\\00b7\"; padding: 0 .5ex}\n",
       "</style>\n",
       "<ol class=list-inline><li>22943</li><li>4</li></ol>\n"
      ],
      "text/latex": [
       "\\begin{enumerate*}\n",
       "\\item 22943\n",
       "\\item 4\n",
       "\\end{enumerate*}\n"
      ],
      "text/markdown": [
       "1. 22943\n",
       "2. 4\n",
       "\n",
       "\n"
      ],
      "text/plain": [
       "[1] 22943     4"
      ]
     },
     "metadata": {},
     "output_type": "display_data"
    }
   ],
   "source": [
    "dim(gene.pairs)"
   ]
  },
  {
   "cell_type": "code",
   "execution_count": 421,
   "id": "3b78a570",
   "metadata": {},
   "outputs": [],
   "source": [
    "gene.pairs <- rbind(gene.pairs, missing.pairs)"
   ]
  },
  {
   "cell_type": "code",
   "execution_count": null,
   "id": "f9bf72f9",
   "metadata": {},
   "outputs": [],
   "source": []
  },
  {
   "cell_type": "code",
   "execution_count": 423,
   "id": "0a3394ca",
   "metadata": {},
   "outputs": [
    {
     "data": {
      "text/html": [
       "<table class=\"dataframe\">\n",
       "<caption>A data.frame: 6 × 4</caption>\n",
       "<thead>\n",
       "\t<tr><th></th><th scope=col>MGI.symbol</th><th scope=col>Gene.stable.ID.mm</th><th scope=col>HGNC.symbol</th><th scope=col>Gene.stable.ID.hs</th></tr>\n",
       "\t<tr><th></th><th scope=col>&lt;chr&gt;</th><th scope=col>&lt;chr&gt;</th><th scope=col>&lt;chr&gt;</th><th scope=col>&lt;chr&gt;</th></tr>\n",
       "</thead>\n",
       "<tbody>\n",
       "\t<tr><th scope=row>1</th><td>mt-Nd2 </td><td>ENSMUSG00000064345</td><td>MT-ND2 </td><td>ENSG00000198763</td></tr>\n",
       "\t<tr><th scope=row>2</th><td>mt-Atp8</td><td>ENSMUSG00000064356</td><td>MT-ATP8</td><td>ENSG00000228253</td></tr>\n",
       "\t<tr><th scope=row>3</th><td>mt-Nd4l</td><td>ENSMUSG00000065947</td><td>MT-ND4L</td><td>ENSG00000212907</td></tr>\n",
       "\t<tr><th scope=row>4</th><td>mt-Cytb</td><td>ENSMUSG00000064370</td><td>MT-CYB </td><td>ENSG00000198727</td></tr>\n",
       "\t<tr><th scope=row>5</th><td>mt-Nd3 </td><td>ENSMUSG00000064360</td><td>MT-ND3 </td><td>ENSG00000198840</td></tr>\n",
       "\t<tr><th scope=row>6</th><td>mt-Co2 </td><td>ENSMUSG00000064354</td><td>MT-CO2 </td><td>ENSG00000198712</td></tr>\n",
       "</tbody>\n",
       "</table>\n"
      ],
      "text/latex": [
       "A data.frame: 6 × 4\n",
       "\\begin{tabular}{r|llll}\n",
       "  & MGI.symbol & Gene.stable.ID.mm & HGNC.symbol & Gene.stable.ID.hs\\\\\n",
       "  & <chr> & <chr> & <chr> & <chr>\\\\\n",
       "\\hline\n",
       "\t1 & mt-Nd2  & ENSMUSG00000064345 & MT-ND2  & ENSG00000198763\\\\\n",
       "\t2 & mt-Atp8 & ENSMUSG00000064356 & MT-ATP8 & ENSG00000228253\\\\\n",
       "\t3 & mt-Nd4l & ENSMUSG00000065947 & MT-ND4L & ENSG00000212907\\\\\n",
       "\t4 & mt-Cytb & ENSMUSG00000064370 & MT-CYB  & ENSG00000198727\\\\\n",
       "\t5 & mt-Nd3  & ENSMUSG00000064360 & MT-ND3  & ENSG00000198840\\\\\n",
       "\t6 & mt-Co2  & ENSMUSG00000064354 & MT-CO2  & ENSG00000198712\\\\\n",
       "\\end{tabular}\n"
      ],
      "text/markdown": [
       "\n",
       "A data.frame: 6 × 4\n",
       "\n",
       "| <!--/--> | MGI.symbol &lt;chr&gt; | Gene.stable.ID.mm &lt;chr&gt; | HGNC.symbol &lt;chr&gt; | Gene.stable.ID.hs &lt;chr&gt; |\n",
       "|---|---|---|---|---|\n",
       "| 1 | mt-Nd2  | ENSMUSG00000064345 | MT-ND2  | ENSG00000198763 |\n",
       "| 2 | mt-Atp8 | ENSMUSG00000064356 | MT-ATP8 | ENSG00000228253 |\n",
       "| 3 | mt-Nd4l | ENSMUSG00000065947 | MT-ND4L | ENSG00000212907 |\n",
       "| 4 | mt-Cytb | ENSMUSG00000064370 | MT-CYB  | ENSG00000198727 |\n",
       "| 5 | mt-Nd3  | ENSMUSG00000064360 | MT-ND3  | ENSG00000198840 |\n",
       "| 6 | mt-Co2  | ENSMUSG00000064354 | MT-CO2  | ENSG00000198712 |\n",
       "\n"
      ],
      "text/plain": [
       "  MGI.symbol Gene.stable.ID.mm  HGNC.symbol Gene.stable.ID.hs\n",
       "1 mt-Nd2     ENSMUSG00000064345 MT-ND2      ENSG00000198763  \n",
       "2 mt-Atp8    ENSMUSG00000064356 MT-ATP8     ENSG00000228253  \n",
       "3 mt-Nd4l    ENSMUSG00000065947 MT-ND4L     ENSG00000212907  \n",
       "4 mt-Cytb    ENSMUSG00000064370 MT-CYB      ENSG00000198727  \n",
       "5 mt-Nd3     ENSMUSG00000064360 MT-ND3      ENSG00000198840  \n",
       "6 mt-Co2     ENSMUSG00000064354 MT-CO2      ENSG00000198712  "
      ]
     },
     "metadata": {},
     "output_type": "display_data"
    }
   ],
   "source": [
    "head(gene.pairs)"
   ]
  },
  {
   "cell_type": "code",
   "execution_count": null,
   "id": "9deb4b97",
   "metadata": {},
   "outputs": [],
   "source": []
  },
  {
   "cell_type": "code",
   "execution_count": 425,
   "id": "5fdcc2bc",
   "metadata": {},
   "outputs": [],
   "source": [
    "easy.gene.pairs <- subset(gene.pairs, toupper(MGI.symbol) == HGNC.symbol)"
   ]
  },
  {
   "cell_type": "code",
   "execution_count": 429,
   "id": "2ffe4f76",
   "metadata": {},
   "outputs": [],
   "source": [
    "easy.gene.pairs <- easy.gene.pairs[ !duplicated(easy.gene.pairs$MGI.symbol),]"
   ]
  },
  {
   "cell_type": "code",
   "execution_count": null,
   "id": "e74e7ebc",
   "metadata": {},
   "outputs": [],
   "source": []
  },
  {
   "cell_type": "code",
   "execution_count": 460,
   "id": "8ad5ea30",
   "metadata": {},
   "outputs": [],
   "source": [
    "complex.pairs <- subset(gene.pairs, toupper(MGI.symbol) != HGNC.symbol)"
   ]
  },
  {
   "cell_type": "code",
   "execution_count": 461,
   "id": "f11476f3",
   "metadata": {},
   "outputs": [],
   "source": [
    "complex.pairs$nchr <- nchar(complex.pairs$HGNC.symbol)"
   ]
  },
  {
   "cell_type": "code",
   "execution_count": 462,
   "id": "43120b51",
   "metadata": {},
   "outputs": [],
   "source": [
    "complex.pairs <- complex.pairs[order(complex.pairs$nchr),]"
   ]
  },
  {
   "cell_type": "code",
   "execution_count": null,
   "id": "68e47ee7",
   "metadata": {},
   "outputs": [],
   "source": []
  },
  {
   "cell_type": "code",
   "execution_count": 448,
   "id": "6bec5fc2",
   "metadata": {},
   "outputs": [],
   "source": [
    "MGI.complex.pairs <- complex.pairs[ !duplicated(complex.pairs$MGI.symbol, fromLast = F),]"
   ]
  },
  {
   "cell_type": "code",
   "execution_count": 449,
   "id": "ea9469c9",
   "metadata": {},
   "outputs": [],
   "source": [
    "MGI.complex.pairs$nchr <- NULL"
   ]
  },
  {
   "cell_type": "code",
   "execution_count": 451,
   "id": "5dc0b418",
   "metadata": {},
   "outputs": [
    {
     "data": {
      "text/html": [
       "<table class=\"dataframe\">\n",
       "<caption>A data.frame: 6 × 4</caption>\n",
       "<thead>\n",
       "\t<tr><th></th><th scope=col>MGI.symbol</th><th scope=col>Gene.stable.ID.mm</th><th scope=col>HGNC.symbol</th><th scope=col>Gene.stable.ID.hs</th></tr>\n",
       "\t<tr><th></th><th scope=col>&lt;chr&gt;</th><th scope=col>&lt;chr&gt;</th><th scope=col>&lt;chr&gt;</th><th scope=col>&lt;chr&gt;</th></tr>\n",
       "</thead>\n",
       "<tbody>\n",
       "\t<tr><th scope=row>10763</th><td>Hc </td><td>ENSMUSG00000026874</td><td>C5</td><td>ENSG00000106804</td></tr>\n",
       "\t<tr><th scope=row>17129</th><td>Fh1</td><td>ENSMUSG00000026526</td><td>FH</td><td>ENSG00000091483</td></tr>\n",
       "\t<tr><th scope=row>17828</th><td>Csl</td><td>ENSMUSG00000046934</td><td>CS</td><td>ENSG00000062485</td></tr>\n",
       "\t<tr><th scope=row>22382</th><td>Pcx</td><td>ENSMUSG00000024892</td><td>PC</td><td>ENSG00000173599</td></tr>\n",
       "\t<tr><th scope=row>22413</th><td>Sis</td><td>ENSMUSG00000027790</td><td>SI</td><td>ENSG00000090402</td></tr>\n",
       "\t<tr><th scope=row>22994</th><td>Trf</td><td>ENSMUSG00000032554</td><td>TF</td><td>ENSG00000091513</td></tr>\n",
       "</tbody>\n",
       "</table>\n"
      ],
      "text/latex": [
       "A data.frame: 6 × 4\n",
       "\\begin{tabular}{r|llll}\n",
       "  & MGI.symbol & Gene.stable.ID.mm & HGNC.symbol & Gene.stable.ID.hs\\\\\n",
       "  & <chr> & <chr> & <chr> & <chr>\\\\\n",
       "\\hline\n",
       "\t10763 & Hc  & ENSMUSG00000026874 & C5 & ENSG00000106804\\\\\n",
       "\t17129 & Fh1 & ENSMUSG00000026526 & FH & ENSG00000091483\\\\\n",
       "\t17828 & Csl & ENSMUSG00000046934 & CS & ENSG00000062485\\\\\n",
       "\t22382 & Pcx & ENSMUSG00000024892 & PC & ENSG00000173599\\\\\n",
       "\t22413 & Sis & ENSMUSG00000027790 & SI & ENSG00000090402\\\\\n",
       "\t22994 & Trf & ENSMUSG00000032554 & TF & ENSG00000091513\\\\\n",
       "\\end{tabular}\n"
      ],
      "text/markdown": [
       "\n",
       "A data.frame: 6 × 4\n",
       "\n",
       "| <!--/--> | MGI.symbol &lt;chr&gt; | Gene.stable.ID.mm &lt;chr&gt; | HGNC.symbol &lt;chr&gt; | Gene.stable.ID.hs &lt;chr&gt; |\n",
       "|---|---|---|---|---|\n",
       "| 10763 | Hc  | ENSMUSG00000026874 | C5 | ENSG00000106804 |\n",
       "| 17129 | Fh1 | ENSMUSG00000026526 | FH | ENSG00000091483 |\n",
       "| 17828 | Csl | ENSMUSG00000046934 | CS | ENSG00000062485 |\n",
       "| 22382 | Pcx | ENSMUSG00000024892 | PC | ENSG00000173599 |\n",
       "| 22413 | Sis | ENSMUSG00000027790 | SI | ENSG00000090402 |\n",
       "| 22994 | Trf | ENSMUSG00000032554 | TF | ENSG00000091513 |\n",
       "\n"
      ],
      "text/plain": [
       "      MGI.symbol Gene.stable.ID.mm  HGNC.symbol Gene.stable.ID.hs\n",
       "10763 Hc         ENSMUSG00000026874 C5          ENSG00000106804  \n",
       "17129 Fh1        ENSMUSG00000026526 FH          ENSG00000091483  \n",
       "17828 Csl        ENSMUSG00000046934 CS          ENSG00000062485  \n",
       "22382 Pcx        ENSMUSG00000024892 PC          ENSG00000173599  \n",
       "22413 Sis        ENSMUSG00000027790 SI          ENSG00000090402  \n",
       "22994 Trf        ENSMUSG00000032554 TF          ENSG00000091513  "
      ]
     },
     "metadata": {},
     "output_type": "display_data"
    }
   ],
   "source": [
    "head(MGI.complex.pairs)"
   ]
  },
  {
   "cell_type": "code",
   "execution_count": null,
   "id": "c71c862f",
   "metadata": {},
   "outputs": [],
   "source": []
  },
  {
   "cell_type": "code",
   "execution_count": 452,
   "id": "8ebf679e",
   "metadata": {},
   "outputs": [],
   "source": [
    "MGI.gene.pairs <- rbind(easy.gene.pairs, MGI.complex.pairs)"
   ]
  },
  {
   "cell_type": "code",
   "execution_count": 458,
   "id": "de79c0ed",
   "metadata": {},
   "outputs": [],
   "source": [
    "MGI.gene.pairs <- MGI.gene.pairs[!duplicated(MGI.gene.pairs$MGI.symbol, fromLast = F),]"
   ]
  },
  {
   "cell_type": "code",
   "execution_count": 459,
   "id": "5c15bf31",
   "metadata": {},
   "outputs": [],
   "source": [
    "rownames(MGI.gene.pairs) <- MGI.gene.pairs$MGI.symbol"
   ]
  },
  {
   "cell_type": "code",
   "execution_count": 473,
   "id": "c8fc3b5c",
   "metadata": {},
   "outputs": [
    {
     "data": {
      "text/html": [
       "<style>\n",
       ".list-inline {list-style: none; margin:0; padding: 0}\n",
       ".list-inline>li {display: inline-block}\n",
       ".list-inline>li:not(:last-child)::after {content: \"\\00b7\"; padding: 0 .5ex}\n",
       "</style>\n",
       "<ol class=list-inline><li>19166</li><li>4</li></ol>\n"
      ],
      "text/latex": [
       "\\begin{enumerate*}\n",
       "\\item 19166\n",
       "\\item 4\n",
       "\\end{enumerate*}\n"
      ],
      "text/markdown": [
       "1. 19166\n",
       "2. 4\n",
       "\n",
       "\n"
      ],
      "text/plain": [
       "[1] 19166     4"
      ]
     },
     "metadata": {},
     "output_type": "display_data"
    }
   ],
   "source": [
    "dim(MGI.gene.pairs)"
   ]
  },
  {
   "cell_type": "code",
   "execution_count": null,
   "id": "31cb8613",
   "metadata": {},
   "outputs": [],
   "source": []
  },
  {
   "cell_type": "code",
   "execution_count": 463,
   "id": "50aff5a0",
   "metadata": {},
   "outputs": [],
   "source": [
    "complex.pairs$nchr <- nchar(complex.pairs$MGI.symbol)"
   ]
  },
  {
   "cell_type": "code",
   "execution_count": 464,
   "id": "e30587d6",
   "metadata": {},
   "outputs": [],
   "source": [
    "complex.pairs <- complex.pairs[order(complex.pairs$nchr),]"
   ]
  },
  {
   "cell_type": "code",
   "execution_count": 465,
   "id": "0a78eed9",
   "metadata": {},
   "outputs": [],
   "source": [
    "HGNC.complex.pairs <- complex.pairs[ !duplicated(complex.pairs$HGNC.symbol, fromLast = F),]"
   ]
  },
  {
   "cell_type": "code",
   "execution_count": 466,
   "id": "44c585e2",
   "metadata": {},
   "outputs": [],
   "source": [
    "HGNC.complex.pairs$nchr <- NULL"
   ]
  },
  {
   "cell_type": "code",
   "execution_count": 467,
   "id": "e335a8fd",
   "metadata": {},
   "outputs": [
    {
     "data": {
      "text/html": [
       "<table class=\"dataframe\">\n",
       "<caption>A data.frame: 6 × 4</caption>\n",
       "<thead>\n",
       "\t<tr><th></th><th scope=col>MGI.symbol</th><th scope=col>Gene.stable.ID.mm</th><th scope=col>HGNC.symbol</th><th scope=col>Gene.stable.ID.hs</th></tr>\n",
       "\t<tr><th></th><th scope=col>&lt;chr&gt;</th><th scope=col>&lt;chr&gt;</th><th scope=col>&lt;chr&gt;</th><th scope=col>&lt;chr&gt;</th></tr>\n",
       "</thead>\n",
       "<tbody>\n",
       "\t<tr><th scope=row>5239</th><td>a </td><td>ENSMUSG00000027596</td><td>ASIP</td><td>ENSG00000101440</td></tr>\n",
       "\t<tr><th scope=row>18153</th><td>T </td><td>ENSMUSG00000062327</td><td>TBXT</td><td>ENSG00000164458</td></tr>\n",
       "\t<tr><th scope=row>10763</th><td>Hc</td><td>ENSMUSG00000026874</td><td>C5  </td><td>ENSG00000106804</td></tr>\n",
       "\t<tr><th scope=row>16917</th><td>Gh</td><td>ENSMUSG00000020713</td><td>GH2 </td><td>ENSG00000136487</td></tr>\n",
       "\t<tr><th scope=row>16920</th><td>Gh</td><td>ENSMUSG00000020713</td><td>GH1 </td><td>ENSG00000259384</td></tr>\n",
       "\t<tr><th scope=row>19333</th><td>Qk</td><td>ENSMUSG00000062078</td><td>QKI </td><td>ENSG00000112531</td></tr>\n",
       "</tbody>\n",
       "</table>\n"
      ],
      "text/latex": [
       "A data.frame: 6 × 4\n",
       "\\begin{tabular}{r|llll}\n",
       "  & MGI.symbol & Gene.stable.ID.mm & HGNC.symbol & Gene.stable.ID.hs\\\\\n",
       "  & <chr> & <chr> & <chr> & <chr>\\\\\n",
       "\\hline\n",
       "\t5239 & a  & ENSMUSG00000027596 & ASIP & ENSG00000101440\\\\\n",
       "\t18153 & T  & ENSMUSG00000062327 & TBXT & ENSG00000164458\\\\\n",
       "\t10763 & Hc & ENSMUSG00000026874 & C5   & ENSG00000106804\\\\\n",
       "\t16917 & Gh & ENSMUSG00000020713 & GH2  & ENSG00000136487\\\\\n",
       "\t16920 & Gh & ENSMUSG00000020713 & GH1  & ENSG00000259384\\\\\n",
       "\t19333 & Qk & ENSMUSG00000062078 & QKI  & ENSG00000112531\\\\\n",
       "\\end{tabular}\n"
      ],
      "text/markdown": [
       "\n",
       "A data.frame: 6 × 4\n",
       "\n",
       "| <!--/--> | MGI.symbol &lt;chr&gt; | Gene.stable.ID.mm &lt;chr&gt; | HGNC.symbol &lt;chr&gt; | Gene.stable.ID.hs &lt;chr&gt; |\n",
       "|---|---|---|---|---|\n",
       "| 5239 | a  | ENSMUSG00000027596 | ASIP | ENSG00000101440 |\n",
       "| 18153 | T  | ENSMUSG00000062327 | TBXT | ENSG00000164458 |\n",
       "| 10763 | Hc | ENSMUSG00000026874 | C5   | ENSG00000106804 |\n",
       "| 16917 | Gh | ENSMUSG00000020713 | GH2  | ENSG00000136487 |\n",
       "| 16920 | Gh | ENSMUSG00000020713 | GH1  | ENSG00000259384 |\n",
       "| 19333 | Qk | ENSMUSG00000062078 | QKI  | ENSG00000112531 |\n",
       "\n"
      ],
      "text/plain": [
       "      MGI.symbol Gene.stable.ID.mm  HGNC.symbol Gene.stable.ID.hs\n",
       "5239  a          ENSMUSG00000027596 ASIP        ENSG00000101440  \n",
       "18153 T          ENSMUSG00000062327 TBXT        ENSG00000164458  \n",
       "10763 Hc         ENSMUSG00000026874 C5          ENSG00000106804  \n",
       "16917 Gh         ENSMUSG00000020713 GH2         ENSG00000136487  \n",
       "16920 Gh         ENSMUSG00000020713 GH1         ENSG00000259384  \n",
       "19333 Qk         ENSMUSG00000062078 QKI         ENSG00000112531  "
      ]
     },
     "metadata": {},
     "output_type": "display_data"
    }
   ],
   "source": [
    "head(HGNC.complex.pairs)"
   ]
  },
  {
   "cell_type": "code",
   "execution_count": 468,
   "id": "aff0c829",
   "metadata": {},
   "outputs": [
    {
     "data": {
      "text/html": [
       "<table class=\"dataframe\">\n",
       "<caption>A data.frame: 1 × 4</caption>\n",
       "<thead>\n",
       "\t<tr><th></th><th scope=col>MGI.symbol</th><th scope=col>Gene.stable.ID.mm</th><th scope=col>HGNC.symbol</th><th scope=col>Gene.stable.ID.hs</th></tr>\n",
       "\t<tr><th></th><th scope=col>&lt;chr&gt;</th><th scope=col>&lt;chr&gt;</th><th scope=col>&lt;chr&gt;</th><th scope=col>&lt;chr&gt;</th></tr>\n",
       "</thead>\n",
       "<tbody>\n",
       "\t<tr><th scope=row>5239</th><td>a</td><td>ENSMUSG00000027596</td><td>ASIP</td><td>ENSG00000101440</td></tr>\n",
       "</tbody>\n",
       "</table>\n"
      ],
      "text/latex": [
       "A data.frame: 1 × 4\n",
       "\\begin{tabular}{r|llll}\n",
       "  & MGI.symbol & Gene.stable.ID.mm & HGNC.symbol & Gene.stable.ID.hs\\\\\n",
       "  & <chr> & <chr> & <chr> & <chr>\\\\\n",
       "\\hline\n",
       "\t5239 & a & ENSMUSG00000027596 & ASIP & ENSG00000101440\\\\\n",
       "\\end{tabular}\n"
      ],
      "text/markdown": [
       "\n",
       "A data.frame: 1 × 4\n",
       "\n",
       "| <!--/--> | MGI.symbol &lt;chr&gt; | Gene.stable.ID.mm &lt;chr&gt; | HGNC.symbol &lt;chr&gt; | Gene.stable.ID.hs &lt;chr&gt; |\n",
       "|---|---|---|---|---|\n",
       "| 5239 | a | ENSMUSG00000027596 | ASIP | ENSG00000101440 |\n",
       "\n"
      ],
      "text/plain": [
       "     MGI.symbol Gene.stable.ID.mm  HGNC.symbol Gene.stable.ID.hs\n",
       "5239 a          ENSMUSG00000027596 ASIP        ENSG00000101440  "
      ]
     },
     "metadata": {},
     "output_type": "display_data"
    }
   ],
   "source": [
    "subset(HGNC.complex.pairs, HGNC.symbol==\"ASIP\")"
   ]
  },
  {
   "cell_type": "code",
   "execution_count": null,
   "id": "f65ec5da",
   "metadata": {},
   "outputs": [],
   "source": []
  },
  {
   "cell_type": "code",
   "execution_count": 469,
   "id": "6e3c0b45",
   "metadata": {},
   "outputs": [],
   "source": [
    "HGNC.gene.pairs <- rbind(easy.gene.pairs, HGNC.complex.pairs)"
   ]
  },
  {
   "cell_type": "code",
   "execution_count": 470,
   "id": "83c6db8a",
   "metadata": {},
   "outputs": [],
   "source": [
    "HGNC.gene.pairs <- HGNC.gene.pairs[!duplicated(HGNC.gene.pairs$HGNC.symbol, fromLast = F),]"
   ]
  },
  {
   "cell_type": "code",
   "execution_count": 471,
   "id": "da07833d",
   "metadata": {},
   "outputs": [],
   "source": [
    "rownames(HGNC.gene.pairs) <- HGNC.gene.pairs$HGNC.symbol"
   ]
  },
  {
   "cell_type": "code",
   "execution_count": 472,
   "id": "c559d87a",
   "metadata": {},
   "outputs": [
    {
     "data": {
      "text/html": [
       "<style>\n",
       ".list-inline {list-style: none; margin:0; padding: 0}\n",
       ".list-inline>li {display: inline-block}\n",
       ".list-inline>li:not(:last-child)::after {content: \"\\00b7\"; padding: 0 .5ex}\n",
       "</style>\n",
       "<ol class=list-inline><li>18386</li><li>4</li></ol>\n"
      ],
      "text/latex": [
       "\\begin{enumerate*}\n",
       "\\item 18386\n",
       "\\item 4\n",
       "\\end{enumerate*}\n"
      ],
      "text/markdown": [
       "1. 18386\n",
       "2. 4\n",
       "\n",
       "\n"
      ],
      "text/plain": [
       "[1] 18386     4"
      ]
     },
     "metadata": {},
     "output_type": "display_data"
    }
   ],
   "source": [
    "dim(HGNC.gene.pairs)"
   ]
  },
  {
   "cell_type": "code",
   "execution_count": 474,
   "id": "9fbf2405",
   "metadata": {},
   "outputs": [
    {
     "data": {
      "text/html": [
       "<table class=\"dataframe\">\n",
       "<caption>A data.frame: 6 × 4</caption>\n",
       "<thead>\n",
       "\t<tr><th></th><th scope=col>MGI.symbol</th><th scope=col>Gene.stable.ID.mm</th><th scope=col>HGNC.symbol</th><th scope=col>Gene.stable.ID.hs</th></tr>\n",
       "\t<tr><th></th><th scope=col>&lt;chr&gt;</th><th scope=col>&lt;chr&gt;</th><th scope=col>&lt;chr&gt;</th><th scope=col>&lt;chr&gt;</th></tr>\n",
       "</thead>\n",
       "<tbody>\n",
       "\t<tr><th scope=row>MT-ND2</th><td>mt-Nd2 </td><td>ENSMUSG00000064345</td><td>MT-ND2 </td><td>ENSG00000198763</td></tr>\n",
       "\t<tr><th scope=row>MT-ATP8</th><td>mt-Atp8</td><td>ENSMUSG00000064356</td><td>MT-ATP8</td><td>ENSG00000228253</td></tr>\n",
       "\t<tr><th scope=row>MT-ND4L</th><td>mt-Nd4l</td><td>ENSMUSG00000065947</td><td>MT-ND4L</td><td>ENSG00000212907</td></tr>\n",
       "\t<tr><th scope=row>MT-ND3</th><td>mt-Nd3 </td><td>ENSMUSG00000064360</td><td>MT-ND3 </td><td>ENSG00000198840</td></tr>\n",
       "\t<tr><th scope=row>MT-CO2</th><td>mt-Co2 </td><td>ENSMUSG00000064354</td><td>MT-CO2 </td><td>ENSG00000198712</td></tr>\n",
       "\t<tr><th scope=row>MT-ND5</th><td>mt-Nd5 </td><td>ENSMUSG00000064367</td><td>MT-ND5 </td><td>ENSG00000198786</td></tr>\n",
       "</tbody>\n",
       "</table>\n"
      ],
      "text/latex": [
       "A data.frame: 6 × 4\n",
       "\\begin{tabular}{r|llll}\n",
       "  & MGI.symbol & Gene.stable.ID.mm & HGNC.symbol & Gene.stable.ID.hs\\\\\n",
       "  & <chr> & <chr> & <chr> & <chr>\\\\\n",
       "\\hline\n",
       "\tMT-ND2 & mt-Nd2  & ENSMUSG00000064345 & MT-ND2  & ENSG00000198763\\\\\n",
       "\tMT-ATP8 & mt-Atp8 & ENSMUSG00000064356 & MT-ATP8 & ENSG00000228253\\\\\n",
       "\tMT-ND4L & mt-Nd4l & ENSMUSG00000065947 & MT-ND4L & ENSG00000212907\\\\\n",
       "\tMT-ND3 & mt-Nd3  & ENSMUSG00000064360 & MT-ND3  & ENSG00000198840\\\\\n",
       "\tMT-CO2 & mt-Co2  & ENSMUSG00000064354 & MT-CO2  & ENSG00000198712\\\\\n",
       "\tMT-ND5 & mt-Nd5  & ENSMUSG00000064367 & MT-ND5  & ENSG00000198786\\\\\n",
       "\\end{tabular}\n"
      ],
      "text/markdown": [
       "\n",
       "A data.frame: 6 × 4\n",
       "\n",
       "| <!--/--> | MGI.symbol &lt;chr&gt; | Gene.stable.ID.mm &lt;chr&gt; | HGNC.symbol &lt;chr&gt; | Gene.stable.ID.hs &lt;chr&gt; |\n",
       "|---|---|---|---|---|\n",
       "| MT-ND2 | mt-Nd2  | ENSMUSG00000064345 | MT-ND2  | ENSG00000198763 |\n",
       "| MT-ATP8 | mt-Atp8 | ENSMUSG00000064356 | MT-ATP8 | ENSG00000228253 |\n",
       "| MT-ND4L | mt-Nd4l | ENSMUSG00000065947 | MT-ND4L | ENSG00000212907 |\n",
       "| MT-ND3 | mt-Nd3  | ENSMUSG00000064360 | MT-ND3  | ENSG00000198840 |\n",
       "| MT-CO2 | mt-Co2  | ENSMUSG00000064354 | MT-CO2  | ENSG00000198712 |\n",
       "| MT-ND5 | mt-Nd5  | ENSMUSG00000064367 | MT-ND5  | ENSG00000198786 |\n",
       "\n"
      ],
      "text/plain": [
       "        MGI.symbol Gene.stable.ID.mm  HGNC.symbol Gene.stable.ID.hs\n",
       "MT-ND2  mt-Nd2     ENSMUSG00000064345 MT-ND2      ENSG00000198763  \n",
       "MT-ATP8 mt-Atp8    ENSMUSG00000064356 MT-ATP8     ENSG00000228253  \n",
       "MT-ND4L mt-Nd4l    ENSMUSG00000065947 MT-ND4L     ENSG00000212907  \n",
       "MT-ND3  mt-Nd3     ENSMUSG00000064360 MT-ND3      ENSG00000198840  \n",
       "MT-CO2  mt-Co2     ENSMUSG00000064354 MT-CO2      ENSG00000198712  \n",
       "MT-ND5  mt-Nd5     ENSMUSG00000064367 MT-ND5      ENSG00000198786  "
      ]
     },
     "metadata": {},
     "output_type": "display_data"
    }
   ],
   "source": [
    "head(HGNC.gene.pairs)"
   ]
  },
  {
   "cell_type": "code",
   "execution_count": null,
   "id": "0ebee929",
   "metadata": {},
   "outputs": [],
   "source": []
  },
  {
   "cell_type": "code",
   "execution_count": 475,
   "id": "224c8647",
   "metadata": {},
   "outputs": [],
   "source": [
    "# save(gene.anno.GRCh38.v3, gene.anno.mm10.v3, MGI.gene.pairs, HGNC.gene.pairs, \n",
    "#                             file = \"../data/GRCh38.mm10.gene.annotation.Rdata\")"
   ]
  },
  {
   "cell_type": "code",
   "execution_count": null,
   "id": "952fca0b",
   "metadata": {},
   "outputs": [],
   "source": []
  },
  {
   "cell_type": "markdown",
   "id": "9db4815c",
   "metadata": {},
   "source": [
    "# motif from JASPAR"
   ]
  },
  {
   "cell_type": "code",
   "execution_count": 534,
   "id": "aedef58b",
   "metadata": {},
   "outputs": [],
   "source": [
    "JASPAR.motif <- read.csv(\"files/JASPAR2020.R.csv\")"
   ]
  },
  {
   "cell_type": "code",
   "execution_count": 535,
   "id": "51cb5bbc",
   "metadata": {},
   "outputs": [
    {
     "data": {
      "text/html": [
       "<table class=\"dataframe\">\n",
       "<caption>A data.frame: 6 × 3</caption>\n",
       "<thead>\n",
       "\t<tr><th></th><th scope=col>rawname</th><th scope=col>motif</th><th scope=col>human_gene</th></tr>\n",
       "\t<tr><th></th><th scope=col>&lt;chr&gt;</th><th scope=col>&lt;chr&gt;</th><th scope=col>&lt;chr&gt;</th></tr>\n",
       "</thead>\n",
       "<tbody>\n",
       "\t<tr><th scope=row>1</th><td>Arnt        </td><td>MA0004.1</td><td>ARNT </td></tr>\n",
       "\t<tr><th scope=row>2</th><td>Ahr::Arnt   </td><td>MA0006.1</td><td>ARNT </td></tr>\n",
       "\t<tr><th scope=row>3</th><td>Ahr::Arnt   </td><td>MA0006.1</td><td>AHR  </td></tr>\n",
       "\t<tr><th scope=row>4</th><td>Ddit3::Cebpa</td><td>MA0019.1</td><td>DDIT3</td></tr>\n",
       "\t<tr><th scope=row>5</th><td>Ddit3::Cebpa</td><td>MA0019.1</td><td>CEBPA</td></tr>\n",
       "\t<tr><th scope=row>6</th><td>Mecom       </td><td>MA0029.1</td><td>MECOM</td></tr>\n",
       "</tbody>\n",
       "</table>\n"
      ],
      "text/latex": [
       "A data.frame: 6 × 3\n",
       "\\begin{tabular}{r|lll}\n",
       "  & rawname & motif & human\\_gene\\\\\n",
       "  & <chr> & <chr> & <chr>\\\\\n",
       "\\hline\n",
       "\t1 & Arnt         & MA0004.1 & ARNT \\\\\n",
       "\t2 & Ahr::Arnt    & MA0006.1 & ARNT \\\\\n",
       "\t3 & Ahr::Arnt    & MA0006.1 & AHR  \\\\\n",
       "\t4 & Ddit3::Cebpa & MA0019.1 & DDIT3\\\\\n",
       "\t5 & Ddit3::Cebpa & MA0019.1 & CEBPA\\\\\n",
       "\t6 & Mecom        & MA0029.1 & MECOM\\\\\n",
       "\\end{tabular}\n"
      ],
      "text/markdown": [
       "\n",
       "A data.frame: 6 × 3\n",
       "\n",
       "| <!--/--> | rawname &lt;chr&gt; | motif &lt;chr&gt; | human_gene &lt;chr&gt; |\n",
       "|---|---|---|---|\n",
       "| 1 | Arnt         | MA0004.1 | ARNT  |\n",
       "| 2 | Ahr::Arnt    | MA0006.1 | ARNT  |\n",
       "| 3 | Ahr::Arnt    | MA0006.1 | AHR   |\n",
       "| 4 | Ddit3::Cebpa | MA0019.1 | DDIT3 |\n",
       "| 5 | Ddit3::Cebpa | MA0019.1 | CEBPA |\n",
       "| 6 | Mecom        | MA0029.1 | MECOM |\n",
       "\n"
      ],
      "text/plain": [
       "  rawname      motif    human_gene\n",
       "1 Arnt         MA0004.1 ARNT      \n",
       "2 Ahr::Arnt    MA0006.1 ARNT      \n",
       "3 Ahr::Arnt    MA0006.1 AHR       \n",
       "4 Ddit3::Cebpa MA0019.1 DDIT3     \n",
       "5 Ddit3::Cebpa MA0019.1 CEBPA     \n",
       "6 Mecom        MA0029.1 MECOM     "
      ]
     },
     "metadata": {},
     "output_type": "display_data"
    }
   ],
   "source": [
    "head(JASPAR.motif)"
   ]
  },
  {
   "cell_type": "code",
   "execution_count": 537,
   "id": "238202be",
   "metadata": {},
   "outputs": [],
   "source": [
    "JASPAR.motif.rmDup <- JASPAR.motif[!duplicated(JASPAR.motif$motif),]"
   ]
  },
  {
   "cell_type": "code",
   "execution_count": 538,
   "id": "8654b6df",
   "metadata": {},
   "outputs": [],
   "source": [
    "rownames(JASPAR.motif.rmDup) <- JASPAR.motif.rmDup$motif"
   ]
  },
  {
   "cell_type": "code",
   "execution_count": null,
   "id": "72c20398",
   "metadata": {},
   "outputs": [],
   "source": []
  },
  {
   "cell_type": "code",
   "execution_count": 541,
   "id": "f02a59bd",
   "metadata": {},
   "outputs": [],
   "source": [
    "# save(gene.anno.GRCh38.v3, gene.anno.mm10.v3, MGI.gene.pairs, HGNC.gene.pairs, JASPAR.motif.rmDup,\n",
    "#                             file = \"../data/GRCh38.mm10.gene.annotation.backup.Rdata\")"
   ]
  },
  {
   "cell_type": "code",
   "execution_count": 539,
   "id": "563731cd",
   "metadata": {},
   "outputs": [],
   "source": [
    "save(gene.anno.GRCh38.v3, gene.anno.mm10.v3, MGI.gene.pairs, HGNC.gene.pairs, JASPAR.motif.rmDup,\n",
    "                            file = \"../data/GRCh38.mm10.gene.annotation.Rdata\")"
   ]
  },
  {
   "cell_type": "markdown",
   "id": "f345fbee",
   "metadata": {},
   "source": [
    "# format cellchat"
   ]
  },
  {
   "cell_type": "code",
   "execution_count": 42,
   "id": "bedfb72e",
   "metadata": {},
   "outputs": [],
   "source": [
    "library(CellChat)"
   ]
  },
  {
   "cell_type": "code",
   "execution_count": 43,
   "id": "84bcb23c",
   "metadata": {},
   "outputs": [
    {
     "name": "stdout",
     "output_type": "stream",
     "text": [
      "[1] \"gene.anno.GRCh38.v3\" \"gene.anno.mm10.v3\"   \"MGI.gene.pairs\"     \n",
      "[4] \"HGNC.gene.pairs\"     \"JASPAR.motif.rmDup\"  \"lr.pair.all.uniq.mm\"\n",
      "[7] \"lr.pair.all.uniq.hs\"\n"
     ]
    }
   ],
   "source": [
    "print(load(\"/home/lizhixin/project/bt2m/bt2m/data/GRCh38.mm10.gene.annotation.Rdata\"))"
   ]
  },
  {
   "cell_type": "code",
   "execution_count": 44,
   "id": "349c7bcb",
   "metadata": {},
   "outputs": [],
   "source": [
    "CellChatDB <- CellChatDB.mouse"
   ]
  },
  {
   "cell_type": "code",
   "execution_count": 76,
   "id": "8e425697",
   "metadata": {},
   "outputs": [],
   "source": [
    "CellChatDB <- CellChatDB.human"
   ]
  },
  {
   "cell_type": "code",
   "execution_count": 77,
   "id": "e90853e9",
   "metadata": {},
   "outputs": [
    {
     "data": {
      "text/html": [
       "<style>\n",
       ".list-inline {list-style: none; margin:0; padding: 0}\n",
       ".list-inline>li {display: inline-block}\n",
       ".list-inline>li:not(:last-child)::after {content: \"\\00b7\"; padding: 0 .5ex}\n",
       "</style>\n",
       "<ol class=list-inline><li>1031</li><li>11</li></ol>\n"
      ],
      "text/latex": [
       "\\begin{enumerate*}\n",
       "\\item 1031\n",
       "\\item 11\n",
       "\\end{enumerate*}\n"
      ],
      "text/markdown": [
       "1. 1031\n",
       "2. 11\n",
       "\n",
       "\n"
      ],
      "text/plain": [
       "[1] 1031   11"
      ]
     },
     "metadata": {},
     "output_type": "display_data"
    },
    {
     "data": {
      "text/html": [
       "<style>\n",
       ".list-inline {list-style: none; margin:0; padding: 0}\n",
       ".list-inline>li {display: inline-block}\n",
       ".list-inline>li:not(:last-child)::after {content: \"\\00b7\"; padding: 0 .5ex}\n",
       "</style>\n",
       "<ol class=list-inline><li>908</li><li>11</li></ol>\n"
      ],
      "text/latex": [
       "\\begin{enumerate*}\n",
       "\\item 908\n",
       "\\item 11\n",
       "\\end{enumerate*}\n"
      ],
      "text/markdown": [
       "1. 908\n",
       "2. 11\n",
       "\n",
       "\n"
      ],
      "text/plain": [
       "[1] 908  11"
      ]
     },
     "metadata": {},
     "output_type": "display_data"
    }
   ],
   "source": [
    "lr1 <- subset(CellChatDB$interaction, !grepl(\"\\\\+\", interaction_name_2))\n",
    "dim(lr1)\n",
    "\n",
    "lr2 <- subset(CellChatDB$interaction, grepl(\"\\\\+\", interaction_name_2))\n",
    "dim(lr2)"
   ]
  },
  {
   "cell_type": "code",
   "execution_count": 78,
   "id": "256695c9",
   "metadata": {},
   "outputs": [],
   "source": [
    "ligand <- trimws(unlist(lapply(lr1$interaction_name_2, function(x){\n",
    "  strsplit(x, split = \" - \")[[1]][1]\n",
    "} )))"
   ]
  },
  {
   "cell_type": "code",
   "execution_count": 48,
   "id": "1d014603",
   "metadata": {},
   "outputs": [
    {
     "name": "stderr",
     "output_type": "stream",
     "text": [
      "The following `from` values were not present in `x`: Inhbabb, Inhb, Il17af, Ifna, Npnt1, Npnt2, Jam1\n",
      "\n",
      "The following `from` values were not present in `x`: H2-m2, H2-m3, H2-m9, H2-q1, H2-q10, H2-q2, H2-q7, H2-q8, H2-t22, H2-T23, H2-t24, H2-t3, H2-t9, H2-m10.4, H2-m11, H2-m1, H2-m10.5, H2-m10.2, H2-m10.6, H2-t10, H2-q6, H2-m10.3, H2-bl, H2-d1, H2-k1, H2-m10.1, H2-t18, H2-q9, H2-l, H2-q4, H2-t-ps, H2-m5, H2-d1, H2-k1, H2-q1, H2-q10, H2-q2, H2-q4, H2-q6, H2-q7, H2-k1\n",
      "\n"
     ]
    }
   ],
   "source": [
    "# for mouse\n",
    "ligand <- plyr::mapvalues(ligand, \n",
    "                          from = c(\"Inhbabb\",\"Inhb\",\"Il17af\",\"Ifna\",\"Npnt1\",\"Npnt2\",\"Jam1\",\"H2-t23\",\"Inhaba\",\n",
    "                                   \"Inhabb\",\"Cxcl4\",\"Gh1\",\"Ngfa\"\n",
    "                                          ), \n",
    "                          to = c(\"Inhbb\",\"Inhbb\",\"Il17f\",\"Ifna1\",\"Npnt\",\"Npnt\",\"F11r\",\"H2-T23\",\"Inhbb\",\n",
    "                                 \"Inhbb\",\"Pf4\",\"Gh\",\"Klk1b4\"\n",
    "                                            ))\n",
    "\n",
    "h2 <- ligand[grepl(\"H2-\", ligand)]\n",
    "h2u <- toupper(h2)\n",
    "\n",
    "ligand <- plyr::mapvalues(ligand, from = h2, to = h2u)\n",
    "\n",
    "ligand <- plyr::mapvalues(ligand, \n",
    "                          from = c(\"H2-BL\",\"H2-T-PS\",\"H2-EA-PS\",\"H2-AA\",\n",
    "                                   \"H2-AB1\",\"H2-EB1\",\"H2-DMA\",\"H2-DMB1\",\"H2-DMB2\",\"H2-OA\",\"H2-OB\"\n",
    "                                          ), \n",
    "                          to = c(\"H2-Bl\",\"H2-T-ps\",\"H2-Ea\",\"H2-Aa\",\n",
    "                                 \"H2-Ab1\",\"H2-Eb1\",\"H2-DMa\",\"H2-DMb1\",\"H2-DMb2\",\"H2-Oa\",\"H2-Ob\"\n",
    "                                            ))"
   ]
  },
  {
   "cell_type": "code",
   "execution_count": 50,
   "id": "cd6f0dcd",
   "metadata": {},
   "outputs": [
    {
     "data": {
      "text/html": [
       "<style>\n",
       ".list-inline {list-style: none; margin:0; padding: 0}\n",
       ".list-inline>li {display: inline-block}\n",
       ".list-inline>li:not(:last-child)::after {content: \"\\00b7\"; padding: 0 .5ex}\n",
       "</style>\n",
       "<ol class=list-inline><li>'Cxcl11'</li><li>'Cxcl11'</li><li>'Cxcl11'</li><li>'C4a'</li><li>'Cd1d2'</li><li>'Cd99'</li><li>'Cd99'</li><li>'Clec2f'</li><li>'H2-Q8'</li><li>'H2-T9'</li><li>'H2-T10'</li><li>'H2-Bl'</li><li>'H2-T18'</li><li>'H2-Q9'</li><li>'H2-L'</li><li>'Gm10499'</li><li>'H2-T-ps'</li><li>'H2-Q8'</li><li>'H2-T9'</li><li>'H2-T10'</li><li>'H2-Bl'</li><li>'H2-T18'</li><li>'H2-Q9'</li><li>'H2-L'</li><li>'Gm10499'</li><li>'H2-T-ps'</li><li>'H2-BI'</li><li>'H2-D'</li><li>'Raet1a'</li><li>'H60a'</li><li>'H2-Ea'</li></ol>\n"
      ],
      "text/latex": [
       "\\begin{enumerate*}\n",
       "\\item 'Cxcl11'\n",
       "\\item 'Cxcl11'\n",
       "\\item 'Cxcl11'\n",
       "\\item 'C4a'\n",
       "\\item 'Cd1d2'\n",
       "\\item 'Cd99'\n",
       "\\item 'Cd99'\n",
       "\\item 'Clec2f'\n",
       "\\item 'H2-Q8'\n",
       "\\item 'H2-T9'\n",
       "\\item 'H2-T10'\n",
       "\\item 'H2-Bl'\n",
       "\\item 'H2-T18'\n",
       "\\item 'H2-Q9'\n",
       "\\item 'H2-L'\n",
       "\\item 'Gm10499'\n",
       "\\item 'H2-T-ps'\n",
       "\\item 'H2-Q8'\n",
       "\\item 'H2-T9'\n",
       "\\item 'H2-T10'\n",
       "\\item 'H2-Bl'\n",
       "\\item 'H2-T18'\n",
       "\\item 'H2-Q9'\n",
       "\\item 'H2-L'\n",
       "\\item 'Gm10499'\n",
       "\\item 'H2-T-ps'\n",
       "\\item 'H2-BI'\n",
       "\\item 'H2-D'\n",
       "\\item 'Raet1a'\n",
       "\\item 'H60a'\n",
       "\\item 'H2-Ea'\n",
       "\\end{enumerate*}\n"
      ],
      "text/markdown": [
       "1. 'Cxcl11'\n",
       "2. 'Cxcl11'\n",
       "3. 'Cxcl11'\n",
       "4. 'C4a'\n",
       "5. 'Cd1d2'\n",
       "6. 'Cd99'\n",
       "7. 'Cd99'\n",
       "8. 'Clec2f'\n",
       "9. 'H2-Q8'\n",
       "10. 'H2-T9'\n",
       "11. 'H2-T10'\n",
       "12. 'H2-Bl'\n",
       "13. 'H2-T18'\n",
       "14. 'H2-Q9'\n",
       "15. 'H2-L'\n",
       "16. 'Gm10499'\n",
       "17. 'H2-T-ps'\n",
       "18. 'H2-Q8'\n",
       "19. 'H2-T9'\n",
       "20. 'H2-T10'\n",
       "21. 'H2-Bl'\n",
       "22. 'H2-T18'\n",
       "23. 'H2-Q9'\n",
       "24. 'H2-L'\n",
       "25. 'Gm10499'\n",
       "26. 'H2-T-ps'\n",
       "27. 'H2-BI'\n",
       "28. 'H2-D'\n",
       "29. 'Raet1a'\n",
       "30. 'H60a'\n",
       "31. 'H2-Ea'\n",
       "\n",
       "\n"
      ],
      "text/plain": [
       " [1] \"Cxcl11\"  \"Cxcl11\"  \"Cxcl11\"  \"C4a\"     \"Cd1d2\"   \"Cd99\"    \"Cd99\"   \n",
       " [8] \"Clec2f\"  \"H2-Q8\"   \"H2-T9\"   \"H2-T10\"  \"H2-Bl\"   \"H2-T18\"  \"H2-Q9\"  \n",
       "[15] \"H2-L\"    \"Gm10499\" \"H2-T-ps\" \"H2-Q8\"   \"H2-T9\"   \"H2-T10\"  \"H2-Bl\"  \n",
       "[22] \"H2-T18\"  \"H2-Q9\"   \"H2-L\"    \"Gm10499\" \"H2-T-ps\" \"H2-BI\"   \"H2-D\"   \n",
       "[29] \"Raet1a\"  \"H60a\"    \"H2-Ea\"  "
      ]
     },
     "metadata": {},
     "output_type": "display_data"
    }
   ],
   "source": [
    "ligand[!ligand %in% gene.anno.mm10.v3$gene_name]"
   ]
  },
  {
   "cell_type": "code",
   "execution_count": 79,
   "id": "77a50f5b",
   "metadata": {},
   "outputs": [],
   "source": [
    "# for human\n",
    "ligand <- plyr::mapvalues(ligand, \n",
    "                          from = c(\"INHABA\",\"INHABB\",\"FGF15\",\"FASL\",\"HC\",\"TAC2\",\"KITL\",\"FLT3L\",\"NTF5\",\"GH\",\n",
    "                                   \"FCER2A\",\"CLEC2C\",\"ICOSL\"\n",
    "                                          ), \n",
    "                          to = c(\"INHBA\",\"INHBB\",\"FGF19\",\"FASLG\",\"CLTC\",\"TC2N\",\"KITLG\",\"FLT3LG\",\"NTF4\",\"GH1\",\n",
    "                                 \"FCER2\",\"CD69\",\"ICOSLG\"\n",
    "                                            ))"
   ]
  },
  {
   "cell_type": "code",
   "execution_count": 80,
   "id": "0cfd812a",
   "metadata": {
    "scrolled": true
   },
   "outputs": [
    {
     "data": {
      "text/html": [
       "<style>\n",
       ".list-inline {list-style: none; margin:0; padding: 0}\n",
       ".list-inline>li {display: inline-block}\n",
       ".list-inline>li:not(:last-child)::after {content: \"\\00b7\"; padding: 0 .5ex}\n",
       "</style>\n",
       "<ol class=list-inline><li>'CCL3L3'</li><li>'RAET1F'</li><li>'HLA-DRB3'</li><li>'HLA-DRB4'</li></ol>\n"
      ],
      "text/latex": [
       "\\begin{enumerate*}\n",
       "\\item 'CCL3L3'\n",
       "\\item 'RAET1F'\n",
       "\\item 'HLA-DRB3'\n",
       "\\item 'HLA-DRB4'\n",
       "\\end{enumerate*}\n"
      ],
      "text/markdown": [
       "1. 'CCL3L3'\n",
       "2. 'RAET1F'\n",
       "3. 'HLA-DRB3'\n",
       "4. 'HLA-DRB4'\n",
       "\n",
       "\n"
      ],
      "text/plain": [
       "[1] \"CCL3L3\"   \"RAET1F\"   \"HLA-DRB3\" \"HLA-DRB4\""
      ]
     },
     "metadata": {},
     "output_type": "display_data"
    }
   ],
   "source": [
    "ligand[!ligand %in% gene.anno.GRCh38.v3$gene_name]"
   ]
  },
  {
   "cell_type": "code",
   "execution_count": 81,
   "id": "5a6142dc",
   "metadata": {},
   "outputs": [],
   "source": [
    "lr1$ligand_name <- ligand"
   ]
  },
  {
   "cell_type": "code",
   "execution_count": 82,
   "id": "0a9b2a8e",
   "metadata": {},
   "outputs": [],
   "source": [
    "receptor <- trimws(unlist(lapply(lr1$interaction_name_2, function(x){\n",
    "  strsplit(x, split = \" - \")[[1]][2]\n",
    "} )))"
   ]
  },
  {
   "cell_type": "code",
   "execution_count": 53,
   "id": "a409c413",
   "metadata": {},
   "outputs": [],
   "source": [
    "# for mouse\n",
    "receptor <- plyr::mapvalues(receptor, \n",
    "                          from = c(\"Vegfr1\",\"Vegfr2\",\"Vegfr3\",\"Vegfr1r2\",\"Vegfr2r3\",\"Inssr\",\"Il4r\",\"Cd45\",\"Klra\"\n",
    "                                          ), \n",
    "                          to = c(\"Flt1\",\"Kdr\",\"Flt4\",\"Flt1\",\"Flt4\",\"Insr\",\"Il4ra\",\"Ptprc\",\"Klra12\"\n",
    "                                            ))"
   ]
  },
  {
   "cell_type": "code",
   "execution_count": 54,
   "id": "5fd9f885",
   "metadata": {},
   "outputs": [
    {
     "data": {
      "text/html": [
       "<style>\n",
       ".list-inline {list-style: none; margin:0; padding: 0}\n",
       ".list-inline>li {display: inline-block}\n",
       ".list-inline>li:not(:last-child)::after {content: \"\\00b7\"; padding: 0 .5ex}\n",
       "</style>\n",
       "<ol class=list-inline><li>'Ncr3-ps'</li><li>'Gp complex'</li><li>'Cd244a'</li><li>'Cd99'</li><li>'Klra12'</li><li>'Klra12'</li></ol>\n"
      ],
      "text/latex": [
       "\\begin{enumerate*}\n",
       "\\item 'Ncr3-ps'\n",
       "\\item 'Gp complex'\n",
       "\\item 'Cd244a'\n",
       "\\item 'Cd99'\n",
       "\\item 'Klra12'\n",
       "\\item 'Klra12'\n",
       "\\end{enumerate*}\n"
      ],
      "text/markdown": [
       "1. 'Ncr3-ps'\n",
       "2. 'Gp complex'\n",
       "3. 'Cd244a'\n",
       "4. 'Cd99'\n",
       "5. 'Klra12'\n",
       "6. 'Klra12'\n",
       "\n",
       "\n"
      ],
      "text/plain": [
       "[1] \"Ncr3-ps\"    \"Gp complex\" \"Cd244a\"     \"Cd99\"       \"Klra12\"    \n",
       "[6] \"Klra12\"    "
      ]
     },
     "metadata": {},
     "output_type": "display_data"
    }
   ],
   "source": [
    "receptor[!receptor %in% gene.anno.mm10.v3$gene_name]"
   ]
  },
  {
   "cell_type": "code",
   "execution_count": 83,
   "id": "d3972dc1",
   "metadata": {},
   "outputs": [],
   "source": [
    "# for human\n",
    "receptor <- plyr::mapvalues(receptor, \n",
    "                          from = c(\"VEGFR1\",\"VEGFR2\",\"VEGFR3\",\"VEGFR1R2\",\"VEGFR2R3\",\"INSSR\",\"PIRB\",\"AGTR1B\",\"CD45\",\n",
    "                                   \"NCR3-PS\",\"CD244A\",\"CD94:NKG2A\",\"CD94:NKG2C\",\"CD94:NKG2E\"\n",
    "                                          ), \n",
    "                          to = c(\"FLT1\",\"KDR\",\"FLT4\",\"FLT1\",\"FLT4\",\"INSRR\",\"LILRB3\",\"AGTR1\",\"PTPRC\",\n",
    "                                 \"NCR3\",\"CD244\",\"KLRD1\",\"KLRC2\",\"KLRC3\"\n",
    "                                            ))"
   ]
  },
  {
   "cell_type": "code",
   "execution_count": 84,
   "id": "c90ce1b4",
   "metadata": {},
   "outputs": [
    {
     "data": {
      "text/html": [
       "<style>\n",
       ".list-inline {list-style: none; margin:0; padding: 0}\n",
       ".list-inline>li {display: inline-block}\n",
       ".list-inline>li:not(:last-child)::after {content: \"\\00b7\"; padding: 0 .5ex}\n",
       "</style>\n",
       "<ol class=list-inline><li>'NPY6R'</li><li>'NPY6R'</li><li>'NPY6R'</li><li>'GP'</li><li>'KIR2DL2'</li><li>'KIR2DS1'</li><li>'KIR2DS4'</li><li>'KIR3DS1'</li><li>'GLYCAM1'</li></ol>\n"
      ],
      "text/latex": [
       "\\begin{enumerate*}\n",
       "\\item 'NPY6R'\n",
       "\\item 'NPY6R'\n",
       "\\item 'NPY6R'\n",
       "\\item 'GP'\n",
       "\\item 'KIR2DL2'\n",
       "\\item 'KIR2DS1'\n",
       "\\item 'KIR2DS4'\n",
       "\\item 'KIR3DS1'\n",
       "\\item 'GLYCAM1'\n",
       "\\end{enumerate*}\n"
      ],
      "text/markdown": [
       "1. 'NPY6R'\n",
       "2. 'NPY6R'\n",
       "3. 'NPY6R'\n",
       "4. 'GP'\n",
       "5. 'KIR2DL2'\n",
       "6. 'KIR2DS1'\n",
       "7. 'KIR2DS4'\n",
       "8. 'KIR3DS1'\n",
       "9. 'GLYCAM1'\n",
       "\n",
       "\n"
      ],
      "text/plain": [
       "[1] \"NPY6R\"   \"NPY6R\"   \"NPY6R\"   \"GP\"      \"KIR2DL2\" \"KIR2DS1\" \"KIR2DS4\"\n",
       "[8] \"KIR3DS1\" \"GLYCAM1\""
      ]
     },
     "metadata": {},
     "output_type": "display_data"
    }
   ],
   "source": [
    "receptor[!receptor %in% gene.anno.GRCh38.v3$gene_name]"
   ]
  },
  {
   "cell_type": "code",
   "execution_count": 85,
   "id": "0343d95c",
   "metadata": {},
   "outputs": [
    {
     "data": {
      "text/html": [
       "<table class=\"dataframe\">\n",
       "<caption>A data.frame: 6 × 13</caption>\n",
       "<thead>\n",
       "\t<tr><th></th><th scope=col>interaction_name</th><th scope=col>pathway_name</th><th scope=col>ligand</th><th scope=col>receptor</th><th scope=col>agonist</th><th scope=col>antagonist</th><th scope=col>co_A_receptor</th><th scope=col>co_I_receptor</th><th scope=col>evidence</th><th scope=col>annotation</th><th scope=col>interaction_name_2</th><th scope=col>ligand_name</th><th scope=col>receptor_name</th></tr>\n",
       "\t<tr><th></th><th scope=col>&lt;chr&gt;</th><th scope=col>&lt;chr&gt;</th><th scope=col>&lt;chr&gt;</th><th scope=col>&lt;chr&gt;</th><th scope=col>&lt;chr&gt;</th><th scope=col>&lt;chr&gt;</th><th scope=col>&lt;chr&gt;</th><th scope=col>&lt;chr&gt;</th><th scope=col>&lt;chr&gt;</th><th scope=col>&lt;chr&gt;</th><th scope=col>&lt;chr&gt;</th><th scope=col>&lt;chr&gt;</th><th scope=col>&lt;chr&gt;</th></tr>\n",
       "</thead>\n",
       "<tbody>\n",
       "\t<tr><th scope=row>GDF15_TGFBR2</th><td>GDF15_TGFBR2</td><td>GDF </td><td>GDF15</td><td>TGFBR2   </td><td></td><td></td><td></td><td></td><td>KEGG: hsa04350</td><td>Secreted Signaling</td><td>GDF15 - TGFBR2</td><td>GDF15</td><td>TGFBR2</td></tr>\n",
       "\t<tr><th scope=row>GDNF_GFRA1</th><td>GDNF_GFRA1  </td><td>GDNF</td><td>GDNF </td><td>GFRA1_RET</td><td></td><td></td><td></td><td></td><td>PMID: 11544105</td><td>Secreted Signaling</td><td>GDNF - GFRA1  </td><td>GDNF </td><td>GFRA1 </td></tr>\n",
       "\t<tr><th scope=row>NRTN_GFRA2</th><td>NRTN_GFRA2  </td><td>GDNF</td><td>NRTN </td><td>GFRA2_RET</td><td></td><td></td><td></td><td></td><td>PMID: 11544106</td><td>Secreted Signaling</td><td>NRTN - GFRA2  </td><td>NRTN </td><td>GFRA2 </td></tr>\n",
       "\t<tr><th scope=row>ARTN_GFRA3</th><td>ARTN_GFRA3  </td><td>GDNF</td><td>ARTN </td><td>GFRA3_RET</td><td></td><td></td><td></td><td></td><td>PMID: 11544107</td><td>Secreted Signaling</td><td>ARTN - GFRA3  </td><td>ARTN </td><td>GFRA3 </td></tr>\n",
       "\t<tr><th scope=row>PSPN_GFRA4</th><td>PSPN_GFRA4  </td><td>GDNF</td><td>PSPN </td><td>GFRA4_RET</td><td></td><td></td><td></td><td></td><td>PMID: 11544108</td><td>Secreted Signaling</td><td>PSPN - GFRA4  </td><td>PSPN </td><td>GFRA4 </td></tr>\n",
       "\t<tr><th scope=row>ARTN_GFRA1</th><td>ARTN_GFRA1  </td><td>GDNF</td><td>ARTN </td><td>GFRA1_RET</td><td></td><td></td><td></td><td></td><td>PMID: 11544109</td><td>Secreted Signaling</td><td>ARTN - GFRA1  </td><td>ARTN </td><td>GFRA1 </td></tr>\n",
       "</tbody>\n",
       "</table>\n"
      ],
      "text/latex": [
       "A data.frame: 6 × 13\n",
       "\\begin{tabular}{r|lllllllllllll}\n",
       "  & interaction\\_name & pathway\\_name & ligand & receptor & agonist & antagonist & co\\_A\\_receptor & co\\_I\\_receptor & evidence & annotation & interaction\\_name\\_2 & ligand\\_name & receptor\\_name\\\\\n",
       "  & <chr> & <chr> & <chr> & <chr> & <chr> & <chr> & <chr> & <chr> & <chr> & <chr> & <chr> & <chr> & <chr>\\\\\n",
       "\\hline\n",
       "\tGDF15\\_TGFBR2 & GDF15\\_TGFBR2 & GDF  & GDF15 & TGFBR2    &  &  &  &  & KEGG: hsa04350 & Secreted Signaling & GDF15 - TGFBR2 & GDF15 & TGFBR2\\\\\n",
       "\tGDNF\\_GFRA1 & GDNF\\_GFRA1   & GDNF & GDNF  & GFRA1\\_RET &  &  &  &  & PMID: 11544105 & Secreted Signaling & GDNF - GFRA1   & GDNF  & GFRA1 \\\\\n",
       "\tNRTN\\_GFRA2 & NRTN\\_GFRA2   & GDNF & NRTN  & GFRA2\\_RET &  &  &  &  & PMID: 11544106 & Secreted Signaling & NRTN - GFRA2   & NRTN  & GFRA2 \\\\\n",
       "\tARTN\\_GFRA3 & ARTN\\_GFRA3   & GDNF & ARTN  & GFRA3\\_RET &  &  &  &  & PMID: 11544107 & Secreted Signaling & ARTN - GFRA3   & ARTN  & GFRA3 \\\\\n",
       "\tPSPN\\_GFRA4 & PSPN\\_GFRA4   & GDNF & PSPN  & GFRA4\\_RET &  &  &  &  & PMID: 11544108 & Secreted Signaling & PSPN - GFRA4   & PSPN  & GFRA4 \\\\\n",
       "\tARTN\\_GFRA1 & ARTN\\_GFRA1   & GDNF & ARTN  & GFRA1\\_RET &  &  &  &  & PMID: 11544109 & Secreted Signaling & ARTN - GFRA1   & ARTN  & GFRA1 \\\\\n",
       "\\end{tabular}\n"
      ],
      "text/markdown": [
       "\n",
       "A data.frame: 6 × 13\n",
       "\n",
       "| <!--/--> | interaction_name &lt;chr&gt; | pathway_name &lt;chr&gt; | ligand &lt;chr&gt; | receptor &lt;chr&gt; | agonist &lt;chr&gt; | antagonist &lt;chr&gt; | co_A_receptor &lt;chr&gt; | co_I_receptor &lt;chr&gt; | evidence &lt;chr&gt; | annotation &lt;chr&gt; | interaction_name_2 &lt;chr&gt; | ligand_name &lt;chr&gt; | receptor_name &lt;chr&gt; |\n",
       "|---|---|---|---|---|---|---|---|---|---|---|---|---|---|\n",
       "| GDF15_TGFBR2 | GDF15_TGFBR2 | GDF  | GDF15 | TGFBR2    | <!----> | <!----> | <!----> | <!----> | KEGG: hsa04350 | Secreted Signaling | GDF15 - TGFBR2 | GDF15 | TGFBR2 |\n",
       "| GDNF_GFRA1 | GDNF_GFRA1   | GDNF | GDNF  | GFRA1_RET | <!----> | <!----> | <!----> | <!----> | PMID: 11544105 | Secreted Signaling | GDNF - GFRA1   | GDNF  | GFRA1  |\n",
       "| NRTN_GFRA2 | NRTN_GFRA2   | GDNF | NRTN  | GFRA2_RET | <!----> | <!----> | <!----> | <!----> | PMID: 11544106 | Secreted Signaling | NRTN - GFRA2   | NRTN  | GFRA2  |\n",
       "| ARTN_GFRA3 | ARTN_GFRA3   | GDNF | ARTN  | GFRA3_RET | <!----> | <!----> | <!----> | <!----> | PMID: 11544107 | Secreted Signaling | ARTN - GFRA3   | ARTN  | GFRA3  |\n",
       "| PSPN_GFRA4 | PSPN_GFRA4   | GDNF | PSPN  | GFRA4_RET | <!----> | <!----> | <!----> | <!----> | PMID: 11544108 | Secreted Signaling | PSPN - GFRA4   | PSPN  | GFRA4  |\n",
       "| ARTN_GFRA1 | ARTN_GFRA1   | GDNF | ARTN  | GFRA1_RET | <!----> | <!----> | <!----> | <!----> | PMID: 11544109 | Secreted Signaling | ARTN - GFRA1   | ARTN  | GFRA1  |\n",
       "\n"
      ],
      "text/plain": [
       "             interaction_name pathway_name ligand receptor  agonist antagonist\n",
       "GDF15_TGFBR2 GDF15_TGFBR2     GDF          GDF15  TGFBR2                      \n",
       "GDNF_GFRA1   GDNF_GFRA1       GDNF         GDNF   GFRA1_RET                   \n",
       "NRTN_GFRA2   NRTN_GFRA2       GDNF         NRTN   GFRA2_RET                   \n",
       "ARTN_GFRA3   ARTN_GFRA3       GDNF         ARTN   GFRA3_RET                   \n",
       "PSPN_GFRA4   PSPN_GFRA4       GDNF         PSPN   GFRA4_RET                   \n",
       "ARTN_GFRA1   ARTN_GFRA1       GDNF         ARTN   GFRA1_RET                   \n",
       "             co_A_receptor co_I_receptor evidence       annotation        \n",
       "GDF15_TGFBR2                             KEGG: hsa04350 Secreted Signaling\n",
       "GDNF_GFRA1                               PMID: 11544105 Secreted Signaling\n",
       "NRTN_GFRA2                               PMID: 11544106 Secreted Signaling\n",
       "ARTN_GFRA3                               PMID: 11544107 Secreted Signaling\n",
       "PSPN_GFRA4                               PMID: 11544108 Secreted Signaling\n",
       "ARTN_GFRA1                               PMID: 11544109 Secreted Signaling\n",
       "             interaction_name_2 ligand_name receptor_name\n",
       "GDF15_TGFBR2 GDF15 - TGFBR2     GDF15       TGFBR2       \n",
       "GDNF_GFRA1   GDNF - GFRA1       GDNF        GFRA1        \n",
       "NRTN_GFRA2   NRTN - GFRA2       NRTN        GFRA2        \n",
       "ARTN_GFRA3   ARTN - GFRA3       ARTN        GFRA3        \n",
       "PSPN_GFRA4   PSPN - GFRA4       PSPN        GFRA4        \n",
       "ARTN_GFRA1   ARTN - GFRA1       ARTN        GFRA1        "
      ]
     },
     "metadata": {},
     "output_type": "display_data"
    }
   ],
   "source": [
    "lr1$receptor_name <- receptor\n",
    "head(lr1)"
   ]
  },
  {
   "cell_type": "code",
   "execution_count": null,
   "id": "4f6e8c5f",
   "metadata": {},
   "outputs": [],
   "source": []
  },
  {
   "cell_type": "code",
   "execution_count": 86,
   "id": "2d437c52",
   "metadata": {},
   "outputs": [],
   "source": [
    "ligand <- trimws(unlist(lapply(lr2$interaction_name_2, function(x){\n",
    "  strsplit(x, split = \" - \")[[1]][1]\n",
    "} )))"
   ]
  },
  {
   "cell_type": "code",
   "execution_count": 57,
   "id": "8033fb40",
   "metadata": {},
   "outputs": [
    {
     "name": "stderr",
     "output_type": "stream",
     "text": [
      "The following `from` values were not present in `x`: Inhaba, Inhabb, Cxcl4, Gh1, Ngfa\n",
      "\n",
      "The following `from` values were not present in `x`: H2-T23\n",
      "\n",
      "The following `from` values were not present in `x`: H2-BL, H2-T-PS, H2-EA-PS, H2-AA, H2-AB1, H2-EB1, H2-DMA, H2-DMB1, H2-DMB2, H2-OA, H2-OB\n",
      "\n"
     ]
    }
   ],
   "source": [
    "ligand <- plyr::mapvalues(ligand, \n",
    "                          from = c(\"Inhbabb\",\"Inhb\",\"Il17af\",\"Ifna\",\"Npnt1\",\"Npnt2\",\"Jam1\",\"H2-t23\",\"Inhaba\",\n",
    "                                   \"Inhabb\",\"Cxcl4\",\"Gh1\",\"Ngfa\"\n",
    "                                          ), \n",
    "                          to = c(\"Inhbb\",\"Inhbb\",\"Il17f\",\"Ifna1\",\"Npnt\",\"Npnt\",\"F11r\",\"H2-T23\",\"Inhbb\",\n",
    "                                 \"Inhbb\",\"Pf4\",\"Gh\",\"Klk1b4\"\n",
    "                                            ))\n",
    "\n",
    "h2 <- ligand[grepl(\"H2-\", ligand)]\n",
    "h2u <- toupper(h2)\n",
    "\n",
    "ligand <- plyr::mapvalues(ligand, from = h2, to = h2u)\n",
    "\n",
    "ligand <- plyr::mapvalues(ligand, \n",
    "                          from = c(\"H2-BL\",\"H2-T-PS\",\"H2-EA-PS\",\"H2-AA\",\n",
    "                                   \"H2-AB1\",\"H2-EB1\",\"H2-DMA\",\"H2-DMB1\",\"H2-DMB2\",\"H2-OA\",\"H2-OB\"\n",
    "                                          ), \n",
    "                          to = c(\"H2-Bl\",\"H2-T-ps\",\"H2-Ea\",\"H2-Aa\",\n",
    "                                 \"H2-Ab1\",\"H2-Eb1\",\"H2-DMa\",\"H2-DMb1\",\"H2-DMb2\",\"H2-Oa\",\"H2-Ob\"\n",
    "                                            ))"
   ]
  },
  {
   "cell_type": "code",
   "execution_count": 58,
   "id": "a6ef28f6",
   "metadata": {},
   "outputs": [
    {
     "data": {
      "text/html": [],
      "text/latex": [],
      "text/markdown": [],
      "text/plain": [
       "character(0)"
      ]
     },
     "metadata": {},
     "output_type": "display_data"
    }
   ],
   "source": [
    "ligand[!ligand %in% gene.anno.mm10.v3$gene_name]"
   ]
  },
  {
   "cell_type": "code",
   "execution_count": 87,
   "id": "35c381a3",
   "metadata": {},
   "outputs": [
    {
     "name": "stderr",
     "output_type": "stream",
     "text": [
      "The following `from` values were not present in `x`: INHABA, INHABB, FGF15, FASL, HC, TAC2, KITL, FLT3L, NTF5, GH, CLEC2C, ICOSL, INHBABB, IL17AF\n",
      "\n"
     ]
    }
   ],
   "source": [
    "# for human\n",
    "ligand <- plyr::mapvalues(ligand, \n",
    "                          from = c(\"INHABA\",\"INHABB\",\"FGF15\",\"FASL\",\"HC\",\"TAC2\",\"KITL\",\"FLT3L\",\"NTF5\",\"GH\",\n",
    "                                   \"FCER2A\",\"CLEC2C\",\"ICOSL\",\"INHBABB\",\"INHBABB\",\"INHB\",\"IL1F5\",\"IL1F6\",\"IL1F8\",\n",
    "                                   \"IL1F9\",\"IL17AF\",\"IFNA9\",\"IL17AF\",\"NPNT1\",\"NPNT2\",\"JAM1\"\n",
    "                                          ), \n",
    "                          to = c(\"INHBA\",\"INHBB\",\"FGF19\",\"FASLG\",\"CLTC\",\"TC2N\",\"KITLG\",\"FLT3LG\",\"NTF4\",\"GH1\",\n",
    "                                 \"FCER2\",\"CD69\",\"ICOSLG\",\"INHBB\",\"INHBB\",\"INHBA\",\"IL36RN\",\"IL36A\",\"IL36B\",\n",
    "                                 \"IL36G\",\"IL17A\",\"IFNA14\",\"IL17A\",\"NPNT\",\"NPNT\",\"F11R\"\n",
    "                                            ))"
   ]
  },
  {
   "cell_type": "code",
   "execution_count": 88,
   "id": "0a7305ed",
   "metadata": {},
   "outputs": [
    {
     "data": {
      "text/html": [],
      "text/latex": [],
      "text/markdown": [],
      "text/plain": [
       "character(0)"
      ]
     },
     "metadata": {},
     "output_type": "display_data"
    }
   ],
   "source": [
    "ligand[!ligand %in% gene.anno.GRCh38.v3$gene_name]"
   ]
  },
  {
   "cell_type": "code",
   "execution_count": 89,
   "id": "2761a47c",
   "metadata": {},
   "outputs": [],
   "source": [
    "lr2$ligand_name <- ligand"
   ]
  },
  {
   "cell_type": "code",
   "execution_count": 90,
   "id": "041f0af4",
   "metadata": {},
   "outputs": [],
   "source": [
    "receptor_1 <- trimws(unlist(lapply(lr2$interaction_name_2, function(x){\n",
    "  y <- strsplit(x, split = \" - \")[[1]][2]\n",
    "   y <- trimws(y,whitespace = \"\\\\(\")\n",
    "    y <- trimws(y,whitespace = \"\\\\)\")\n",
    "    strsplit(y, split = \"\\\\+\")[[1]][1]\n",
    "} )))"
   ]
  },
  {
   "cell_type": "code",
   "execution_count": 61,
   "id": "0d06a767",
   "metadata": {},
   "outputs": [
    {
     "name": "stderr",
     "output_type": "stream",
     "text": [
      "The following `from` values were not present in `x`: Vegfr1, Vegfr2, Vegfr3, Vegfr1r2, Vegfr2r3, Inssr, Cd45, Klra\n",
      "\n"
     ]
    }
   ],
   "source": [
    "# for mouse\n",
    "receptor_1 <- plyr::mapvalues(receptor_1, \n",
    "                          from = c(\"Vegfr1\",\"Vegfr2\",\"Vegfr3\",\"Vegfr1r2\",\"Vegfr2r3\",\"Inssr\",\"Il4r\",\"Cd45\",\"Klra\",\"Il6r\"\n",
    "                                          ), \n",
    "                          to = c(\"Flt1\",\"Kdr\",\"Flt4\",\"Flt1\",\"Flt4\",\"Insr\",\"Il4ra\",\"Ptprc\",\"Klra12\",\"Il6ra\"\n",
    "                                            ))"
   ]
  },
  {
   "cell_type": "code",
   "execution_count": 62,
   "id": "cc6cc58c",
   "metadata": {},
   "outputs": [
    {
     "data": {
      "text/html": [],
      "text/latex": [],
      "text/markdown": [],
      "text/plain": [
       "character(0)"
      ]
     },
     "metadata": {},
     "output_type": "display_data"
    }
   ],
   "source": [
    "receptor_1[!receptor_1 %in% gene.anno.mm10.v3$gene_name]"
   ]
  },
  {
   "cell_type": "code",
   "execution_count": 91,
   "id": "ba2e48d7",
   "metadata": {},
   "outputs": [
    {
     "data": {
      "text/html": [],
      "text/latex": [],
      "text/markdown": [],
      "text/plain": [
       "character(0)"
      ]
     },
     "metadata": {},
     "output_type": "display_data"
    }
   ],
   "source": [
    "receptor_1[!receptor_1 %in% gene.anno.GRCh38.v3$gene_name]"
   ]
  },
  {
   "cell_type": "code",
   "execution_count": 92,
   "id": "fd9a413a",
   "metadata": {},
   "outputs": [],
   "source": [
    "lr2_1 <- lr2\n",
    "lr2_1$receptor_name <- receptor_1"
   ]
  },
  {
   "cell_type": "code",
   "execution_count": 93,
   "id": "5465b070",
   "metadata": {},
   "outputs": [],
   "source": [
    "receptor_2 <- trimws(unlist(lapply(lr2$interaction_name_2, function(x){\n",
    "  y <- strsplit(x, split = \" - \")[[1]][2]\n",
    "   y <- trimws(y,whitespace = \"\\\\(\")\n",
    "    y <- trimws(y,whitespace = \"\\\\)\")\n",
    "    strsplit(y, split = \"\\\\+\")[[1]][2]\n",
    "} )))"
   ]
  },
  {
   "cell_type": "code",
   "execution_count": 94,
   "id": "d52b0b5d",
   "metadata": {},
   "outputs": [
    {
     "data": {
      "text/html": [
       "<style>\n",
       ".list-inline {list-style: none; margin:0; padding: 0}\n",
       ".list-inline>li {display: inline-block}\n",
       ".list-inline>li:not(:last-child)::after {content: \"\\00b7\"; padding: 0 .5ex}\n",
       "</style>\n",
       "<ol class=list-inline><li>'TGFBR2'</li><li>'TGFBR2'</li><li>'TGFBR2'</li><li>'TGFBR2'</li><li>'TGFBR2'</li><li>'TGFBR2'</li></ol>\n"
      ],
      "text/latex": [
       "\\begin{enumerate*}\n",
       "\\item 'TGFBR2'\n",
       "\\item 'TGFBR2'\n",
       "\\item 'TGFBR2'\n",
       "\\item 'TGFBR2'\n",
       "\\item 'TGFBR2'\n",
       "\\item 'TGFBR2'\n",
       "\\end{enumerate*}\n"
      ],
      "text/markdown": [
       "1. 'TGFBR2'\n",
       "2. 'TGFBR2'\n",
       "3. 'TGFBR2'\n",
       "4. 'TGFBR2'\n",
       "5. 'TGFBR2'\n",
       "6. 'TGFBR2'\n",
       "\n",
       "\n"
      ],
      "text/plain": [
       "[1] \"TGFBR2\" \"TGFBR2\" \"TGFBR2\" \"TGFBR2\" \"TGFBR2\" \"TGFBR2\""
      ]
     },
     "metadata": {},
     "output_type": "display_data"
    }
   ],
   "source": [
    "head(receptor_2)"
   ]
  },
  {
   "cell_type": "code",
   "execution_count": 66,
   "id": "3f10e103",
   "metadata": {},
   "outputs": [
    {
     "name": "stderr",
     "output_type": "stream",
     "text": [
      "The following `from` values were not present in `x`: Vegfr1, Vegfr2, Vegfr3, Vegfr1r2, Vegfr2r3, Inssr, Il4r, Cd45, Klra, Il6r\n",
      "\n"
     ]
    }
   ],
   "source": [
    "# for mouse\n",
    "receptor_2 <- plyr::mapvalues(receptor_2, \n",
    "                          from = c(\"Vegfr1\",\"Vegfr2\",\"Vegfr3\",\"Vegfr1r2\",\"Vegfr2r3\",\"Inssr\",\"Il4r\",\"Cd45\",\"Klra\",\n",
    "                                   \"Il6r\",\"Lxa4\"\n",
    "                                          ), \n",
    "                          to = c(\"Flt1\",\"Kdr\",\"Flt4\",\"Flt1\",\"Flt4\",\"Insr\",\"Il4ra\",\"Ptprc\",\"Klra12\",\"Il6ra\",\"Fpr3\"\n",
    "                                            ))"
   ]
  },
  {
   "cell_type": "code",
   "execution_count": 67,
   "id": "f9dc95cf",
   "metadata": {},
   "outputs": [
    {
     "data": {
      "text/html": [],
      "text/latex": [],
      "text/markdown": [],
      "text/plain": [
       "character(0)"
      ]
     },
     "metadata": {},
     "output_type": "display_data"
    }
   ],
   "source": [
    "receptor_2[!receptor_2 %in% gene.anno.mm10.v3$gene_name]"
   ]
  },
  {
   "cell_type": "code",
   "execution_count": 95,
   "id": "0603b1c0",
   "metadata": {},
   "outputs": [],
   "source": [
    "receptor_2 <- plyr::mapvalues(receptor_2, \n",
    "                          from = c(\"LXA4\",\"CD8B1\"\n",
    "                                          ), \n",
    "                          to = c(\"FPR2\",\"CD8B\"\n",
    "                                            ))"
   ]
  },
  {
   "cell_type": "code",
   "execution_count": 96,
   "id": "c4c40abd",
   "metadata": {},
   "outputs": [
    {
     "data": {
      "text/html": [],
      "text/latex": [],
      "text/markdown": [],
      "text/plain": [
       "character(0)"
      ]
     },
     "metadata": {},
     "output_type": "display_data"
    }
   ],
   "source": [
    "receptor_2[!receptor_2 %in% gene.anno.GRCh38.v3$gene_name]"
   ]
  },
  {
   "cell_type": "code",
   "execution_count": 97,
   "id": "797a68d6",
   "metadata": {},
   "outputs": [],
   "source": [
    "lr2_2 <- lr2\n",
    "lr2_2$receptor_name <- receptor_2"
   ]
  },
  {
   "cell_type": "code",
   "execution_count": 98,
   "id": "03f6106b",
   "metadata": {},
   "outputs": [
    {
     "data": {
      "text/html": [
       "<table class=\"dataframe\">\n",
       "<caption>A data.frame: 6 × 13</caption>\n",
       "<thead>\n",
       "\t<tr><th></th><th scope=col>interaction_name</th><th scope=col>pathway_name</th><th scope=col>ligand</th><th scope=col>receptor</th><th scope=col>agonist</th><th scope=col>antagonist</th><th scope=col>co_A_receptor</th><th scope=col>co_I_receptor</th><th scope=col>evidence</th><th scope=col>annotation</th><th scope=col>interaction_name_2</th><th scope=col>ligand_name</th><th scope=col>receptor_name</th></tr>\n",
       "\t<tr><th></th><th scope=col>&lt;chr&gt;</th><th scope=col>&lt;chr&gt;</th><th scope=col>&lt;chr&gt;</th><th scope=col>&lt;chr&gt;</th><th scope=col>&lt;chr&gt;</th><th scope=col>&lt;chr&gt;</th><th scope=col>&lt;chr&gt;</th><th scope=col>&lt;chr&gt;</th><th scope=col>&lt;chr&gt;</th><th scope=col>&lt;chr&gt;</th><th scope=col>&lt;chr&gt;</th><th scope=col>&lt;chr&gt;</th><th scope=col>&lt;chr&gt;</th></tr>\n",
       "</thead>\n",
       "<tbody>\n",
       "\t<tr><th scope=row>GDF15_TGFBR2</th><td>GDF15_TGFBR2</td><td>GDF </td><td>GDF15</td><td>TGFBR2   </td><td></td><td></td><td></td><td></td><td>KEGG: hsa04350</td><td>Secreted Signaling</td><td>GDF15 - TGFBR2</td><td>GDF15</td><td>TGFBR2</td></tr>\n",
       "\t<tr><th scope=row>GDNF_GFRA1</th><td>GDNF_GFRA1  </td><td>GDNF</td><td>GDNF </td><td>GFRA1_RET</td><td></td><td></td><td></td><td></td><td>PMID: 11544105</td><td>Secreted Signaling</td><td>GDNF - GFRA1  </td><td>GDNF </td><td>GFRA1 </td></tr>\n",
       "\t<tr><th scope=row>NRTN_GFRA2</th><td>NRTN_GFRA2  </td><td>GDNF</td><td>NRTN </td><td>GFRA2_RET</td><td></td><td></td><td></td><td></td><td>PMID: 11544106</td><td>Secreted Signaling</td><td>NRTN - GFRA2  </td><td>NRTN </td><td>GFRA2 </td></tr>\n",
       "\t<tr><th scope=row>ARTN_GFRA3</th><td>ARTN_GFRA3  </td><td>GDNF</td><td>ARTN </td><td>GFRA3_RET</td><td></td><td></td><td></td><td></td><td>PMID: 11544107</td><td>Secreted Signaling</td><td>ARTN - GFRA3  </td><td>ARTN </td><td>GFRA3 </td></tr>\n",
       "\t<tr><th scope=row>PSPN_GFRA4</th><td>PSPN_GFRA4  </td><td>GDNF</td><td>PSPN </td><td>GFRA4_RET</td><td></td><td></td><td></td><td></td><td>PMID: 11544108</td><td>Secreted Signaling</td><td>PSPN - GFRA4  </td><td>PSPN </td><td>GFRA4 </td></tr>\n",
       "\t<tr><th scope=row>ARTN_GFRA1</th><td>ARTN_GFRA1  </td><td>GDNF</td><td>ARTN </td><td>GFRA1_RET</td><td></td><td></td><td></td><td></td><td>PMID: 11544109</td><td>Secreted Signaling</td><td>ARTN - GFRA1  </td><td>ARTN </td><td>GFRA1 </td></tr>\n",
       "</tbody>\n",
       "</table>\n"
      ],
      "text/latex": [
       "A data.frame: 6 × 13\n",
       "\\begin{tabular}{r|lllllllllllll}\n",
       "  & interaction\\_name & pathway\\_name & ligand & receptor & agonist & antagonist & co\\_A\\_receptor & co\\_I\\_receptor & evidence & annotation & interaction\\_name\\_2 & ligand\\_name & receptor\\_name\\\\\n",
       "  & <chr> & <chr> & <chr> & <chr> & <chr> & <chr> & <chr> & <chr> & <chr> & <chr> & <chr> & <chr> & <chr>\\\\\n",
       "\\hline\n",
       "\tGDF15\\_TGFBR2 & GDF15\\_TGFBR2 & GDF  & GDF15 & TGFBR2    &  &  &  &  & KEGG: hsa04350 & Secreted Signaling & GDF15 - TGFBR2 & GDF15 & TGFBR2\\\\\n",
       "\tGDNF\\_GFRA1 & GDNF\\_GFRA1   & GDNF & GDNF  & GFRA1\\_RET &  &  &  &  & PMID: 11544105 & Secreted Signaling & GDNF - GFRA1   & GDNF  & GFRA1 \\\\\n",
       "\tNRTN\\_GFRA2 & NRTN\\_GFRA2   & GDNF & NRTN  & GFRA2\\_RET &  &  &  &  & PMID: 11544106 & Secreted Signaling & NRTN - GFRA2   & NRTN  & GFRA2 \\\\\n",
       "\tARTN\\_GFRA3 & ARTN\\_GFRA3   & GDNF & ARTN  & GFRA3\\_RET &  &  &  &  & PMID: 11544107 & Secreted Signaling & ARTN - GFRA3   & ARTN  & GFRA3 \\\\\n",
       "\tPSPN\\_GFRA4 & PSPN\\_GFRA4   & GDNF & PSPN  & GFRA4\\_RET &  &  &  &  & PMID: 11544108 & Secreted Signaling & PSPN - GFRA4   & PSPN  & GFRA4 \\\\\n",
       "\tARTN\\_GFRA1 & ARTN\\_GFRA1   & GDNF & ARTN  & GFRA1\\_RET &  &  &  &  & PMID: 11544109 & Secreted Signaling & ARTN - GFRA1   & ARTN  & GFRA1 \\\\\n",
       "\\end{tabular}\n"
      ],
      "text/markdown": [
       "\n",
       "A data.frame: 6 × 13\n",
       "\n",
       "| <!--/--> | interaction_name &lt;chr&gt; | pathway_name &lt;chr&gt; | ligand &lt;chr&gt; | receptor &lt;chr&gt; | agonist &lt;chr&gt; | antagonist &lt;chr&gt; | co_A_receptor &lt;chr&gt; | co_I_receptor &lt;chr&gt; | evidence &lt;chr&gt; | annotation &lt;chr&gt; | interaction_name_2 &lt;chr&gt; | ligand_name &lt;chr&gt; | receptor_name &lt;chr&gt; |\n",
       "|---|---|---|---|---|---|---|---|---|---|---|---|---|---|\n",
       "| GDF15_TGFBR2 | GDF15_TGFBR2 | GDF  | GDF15 | TGFBR2    | <!----> | <!----> | <!----> | <!----> | KEGG: hsa04350 | Secreted Signaling | GDF15 - TGFBR2 | GDF15 | TGFBR2 |\n",
       "| GDNF_GFRA1 | GDNF_GFRA1   | GDNF | GDNF  | GFRA1_RET | <!----> | <!----> | <!----> | <!----> | PMID: 11544105 | Secreted Signaling | GDNF - GFRA1   | GDNF  | GFRA1  |\n",
       "| NRTN_GFRA2 | NRTN_GFRA2   | GDNF | NRTN  | GFRA2_RET | <!----> | <!----> | <!----> | <!----> | PMID: 11544106 | Secreted Signaling | NRTN - GFRA2   | NRTN  | GFRA2  |\n",
       "| ARTN_GFRA3 | ARTN_GFRA3   | GDNF | ARTN  | GFRA3_RET | <!----> | <!----> | <!----> | <!----> | PMID: 11544107 | Secreted Signaling | ARTN - GFRA3   | ARTN  | GFRA3  |\n",
       "| PSPN_GFRA4 | PSPN_GFRA4   | GDNF | PSPN  | GFRA4_RET | <!----> | <!----> | <!----> | <!----> | PMID: 11544108 | Secreted Signaling | PSPN - GFRA4   | PSPN  | GFRA4  |\n",
       "| ARTN_GFRA1 | ARTN_GFRA1   | GDNF | ARTN  | GFRA1_RET | <!----> | <!----> | <!----> | <!----> | PMID: 11544109 | Secreted Signaling | ARTN - GFRA1   | ARTN  | GFRA1  |\n",
       "\n"
      ],
      "text/plain": [
       "             interaction_name pathway_name ligand receptor  agonist antagonist\n",
       "GDF15_TGFBR2 GDF15_TGFBR2     GDF          GDF15  TGFBR2                      \n",
       "GDNF_GFRA1   GDNF_GFRA1       GDNF         GDNF   GFRA1_RET                   \n",
       "NRTN_GFRA2   NRTN_GFRA2       GDNF         NRTN   GFRA2_RET                   \n",
       "ARTN_GFRA3   ARTN_GFRA3       GDNF         ARTN   GFRA3_RET                   \n",
       "PSPN_GFRA4   PSPN_GFRA4       GDNF         PSPN   GFRA4_RET                   \n",
       "ARTN_GFRA1   ARTN_GFRA1       GDNF         ARTN   GFRA1_RET                   \n",
       "             co_A_receptor co_I_receptor evidence       annotation        \n",
       "GDF15_TGFBR2                             KEGG: hsa04350 Secreted Signaling\n",
       "GDNF_GFRA1                               PMID: 11544105 Secreted Signaling\n",
       "NRTN_GFRA2                               PMID: 11544106 Secreted Signaling\n",
       "ARTN_GFRA3                               PMID: 11544107 Secreted Signaling\n",
       "PSPN_GFRA4                               PMID: 11544108 Secreted Signaling\n",
       "ARTN_GFRA1                               PMID: 11544109 Secreted Signaling\n",
       "             interaction_name_2 ligand_name receptor_name\n",
       "GDF15_TGFBR2 GDF15 - TGFBR2     GDF15       TGFBR2       \n",
       "GDNF_GFRA1   GDNF - GFRA1       GDNF        GFRA1        \n",
       "NRTN_GFRA2   NRTN - GFRA2       NRTN        GFRA2        \n",
       "ARTN_GFRA3   ARTN - GFRA3       ARTN        GFRA3        \n",
       "PSPN_GFRA4   PSPN - GFRA4       PSPN        GFRA4        \n",
       "ARTN_GFRA1   ARTN - GFRA1       ARTN        GFRA1        "
      ]
     },
     "metadata": {},
     "output_type": "display_data"
    },
    {
     "data": {
      "text/html": [
       "<style>\n",
       ".list-inline {list-style: none; margin:0; padding: 0}\n",
       ".list-inline>li {display: inline-block}\n",
       ".list-inline>li:not(:last-child)::after {content: \"\\00b7\"; padding: 0 .5ex}\n",
       "</style>\n",
       "<ol class=list-inline><li>2847</li><li>13</li></ol>\n"
      ],
      "text/latex": [
       "\\begin{enumerate*}\n",
       "\\item 2847\n",
       "\\item 13\n",
       "\\end{enumerate*}\n"
      ],
      "text/markdown": [
       "1. 2847\n",
       "2. 13\n",
       "\n",
       "\n"
      ],
      "text/plain": [
       "[1] 2847   13"
      ]
     },
     "metadata": {},
     "output_type": "display_data"
    },
    {
     "data": {
      "text/html": [
       "<style>\n",
       ".list-inline {list-style: none; margin:0; padding: 0}\n",
       ".list-inline>li {display: inline-block}\n",
       ".list-inline>li:not(:last-child)::after {content: \"\\00b7\"; padding: 0 .5ex}\n",
       "</style>\n",
       "<ol class=list-inline><li>1959</li><li>13</li></ol>\n"
      ],
      "text/latex": [
       "\\begin{enumerate*}\n",
       "\\item 1959\n",
       "\\item 13\n",
       "\\end{enumerate*}\n"
      ],
      "text/markdown": [
       "1. 1959\n",
       "2. 13\n",
       "\n",
       "\n"
      ],
      "text/plain": [
       "[1] 1959   13"
      ]
     },
     "metadata": {},
     "output_type": "display_data"
    }
   ],
   "source": [
    "lr2.expand <- rbind(lr2_1,lr2_2)\n",
    "\n",
    "lr.pair.all <- rbind(lr1, lr2.expand)\n",
    "\n",
    "head(lr.pair.all)\n",
    "\n",
    "dim(lr.pair.all)\n",
    "\n",
    "lr.pair.all.uniq <- lr.pair.all[!duplicated(lr.pair.all[,c(\"ligand_name\",\"receptor_name\")]),]\n",
    "\n",
    "dim(lr.pair.all.uniq)"
   ]
  },
  {
   "cell_type": "code",
   "execution_count": 70,
   "id": "c4042ebb",
   "metadata": {},
   "outputs": [],
   "source": [
    "# for mouse\n",
    "lr.pair.all.uniq <- subset(lr.pair.all.uniq, ligand_name %in% gene.anno.mm10.v3$gene_name & receptor_name %in% gene.anno.mm10.v3$gene_name)"
   ]
  },
  {
   "cell_type": "code",
   "execution_count": 99,
   "id": "629e712a",
   "metadata": {},
   "outputs": [],
   "source": [
    "# for human\n",
    "lr.pair.all.uniq <- subset(lr.pair.all.uniq, ligand_name %in% gene.anno.GRCh38.v3$gene_name & receptor_name %in% gene.anno.GRCh38.v3$gene_name)"
   ]
  },
  {
   "cell_type": "code",
   "execution_count": 100,
   "id": "4a990a99",
   "metadata": {},
   "outputs": [
    {
     "data": {
      "text/html": [
       "<style>\n",
       ".list-inline {list-style: none; margin:0; padding: 0}\n",
       ".list-inline>li {display: inline-block}\n",
       ".list-inline>li:not(:last-child)::after {content: \"\\00b7\"; padding: 0 .5ex}\n",
       "</style>\n",
       "<ol class=list-inline><li>1946</li><li>13</li></ol>\n"
      ],
      "text/latex": [
       "\\begin{enumerate*}\n",
       "\\item 1946\n",
       "\\item 13\n",
       "\\end{enumerate*}\n"
      ],
      "text/markdown": [
       "1. 1946\n",
       "2. 13\n",
       "\n",
       "\n"
      ],
      "text/plain": [
       "[1] 1946   13"
      ]
     },
     "metadata": {},
     "output_type": "display_data"
    }
   ],
   "source": [
    "dim(lr.pair.all.uniq)\n",
    "\n",
    "# table(lr.pair.all.uniq$pathway_name)\n",
    "\n",
    "# subset(lr.pair.all, ligand_name==\"Bmp2\" & receptor_name==\"Bmpr1a\")"
   ]
  },
  {
   "cell_type": "code",
   "execution_count": 72,
   "id": "fbd6b585",
   "metadata": {},
   "outputs": [
    {
     "data": {
      "text/html": [
       "<style>\n",
       ".list-inline {list-style: none; margin:0; padding: 0}\n",
       ".list-inline>li {display: inline-block}\n",
       ".list-inline>li:not(:last-child)::after {content: \"\\00b7\"; padding: 0 .5ex}\n",
       "</style>\n",
       "<ol class=list-inline><li>2006</li><li>13</li></ol>\n"
      ],
      "text/latex": [
       "\\begin{enumerate*}\n",
       "\\item 2006\n",
       "\\item 13\n",
       "\\end{enumerate*}\n"
      ],
      "text/markdown": [
       "1. 2006\n",
       "2. 13\n",
       "\n",
       "\n"
      ],
      "text/plain": [
       "[1] 2006   13"
      ]
     },
     "metadata": {},
     "output_type": "display_data"
    }
   ],
   "source": [
    "lr.pair.all.uniq.mm <- lr.pair.all.uniq\n",
    "dim(lr.pair.all.uniq.mm)"
   ]
  },
  {
   "cell_type": "code",
   "execution_count": 75,
   "id": "25211395",
   "metadata": {},
   "outputs": [
    {
     "data": {
      "text/html": [
       "<table class=\"dataframe\">\n",
       "<caption>A data.frame: 6 × 13</caption>\n",
       "<thead>\n",
       "\t<tr><th></th><th scope=col>interaction_name</th><th scope=col>pathway_name</th><th scope=col>ligand</th><th scope=col>receptor</th><th scope=col>agonist</th><th scope=col>antagonist</th><th scope=col>co_A_receptor</th><th scope=col>co_I_receptor</th><th scope=col>evidence</th><th scope=col>annotation</th><th scope=col>interaction_name_2</th><th scope=col>ligand_name</th><th scope=col>receptor_name</th></tr>\n",
       "\t<tr><th></th><th scope=col>&lt;chr&gt;</th><th scope=col>&lt;chr&gt;</th><th scope=col>&lt;chr&gt;</th><th scope=col>&lt;chr&gt;</th><th scope=col>&lt;chr&gt;</th><th scope=col>&lt;chr&gt;</th><th scope=col>&lt;chr&gt;</th><th scope=col>&lt;chr&gt;</th><th scope=col>&lt;chr&gt;</th><th scope=col>&lt;chr&gt;</th><th scope=col>&lt;chr&gt;</th><th scope=col>&lt;chr&gt;</th><th scope=col>&lt;chr&gt;</th></tr>\n",
       "</thead>\n",
       "<tbody>\n",
       "\t<tr><th scope=row>SEMA6D_PLXNA1_TREM21</th><td>SEMA6D_PLXNA1_TREM2</td><td>SEMA6</td><td>Sema6d     </td><td>PLXNA1_TREM2</td><td></td><td></td><td></td><td></td><td>PMID: 22325954                </td><td>Cell-Cell Contact</td><td>Sema6d  - (Plxna1+Trem2)</td><td>Sema6d</td><td>Trem2</td></tr>\n",
       "\t<tr><th scope=row>SEMA7A_ITGB1_ITGA11</th><td>SEMA7A_ITGB1_ITGA1 </td><td>SEMA7</td><td>Sema7a     </td><td>ITGB1_ITGA1 </td><td></td><td></td><td></td><td></td><td>PMID: 22325954                </td><td>Cell-Cell Contact</td><td>Sema7a  - (Itgb1+Itga1) </td><td>Sema7a</td><td>Itga1</td></tr>\n",
       "\t<tr><th scope=row>THY1_ITGAM_ITGB21</th><td>THY1_ITGAM_ITGB2   </td><td>THY1 </td><td>Thy1       </td><td>ITGAM_ITGB2 </td><td></td><td></td><td></td><td></td><td>PMID: 15850796                </td><td>Cell-Cell Contact</td><td>Thy1  - (Itgam+Itgb2)   </td><td>Thy1  </td><td>Itgb2</td></tr>\n",
       "\t<tr><th scope=row>THY1_ITGAV_ITGB31</th><td>THY1_ITGAV_ITGB3   </td><td>THY1 </td><td>Thy1       </td><td>ITGAV_ITGB3 </td><td></td><td></td><td></td><td></td><td>PMID: 29212879; PMID: 18346467</td><td>Cell-Cell Contact</td><td>Thy1  - (Itgav+Itgb3)   </td><td>Thy1  </td><td>Itgb3</td></tr>\n",
       "\t<tr><th scope=row>ITGA4_ITGB1_VCAM11</th><td>ITGA4_ITGB1_VCAM1  </td><td>VCAM </td><td>ITGA4_ITGB1</td><td>Vcam1       </td><td></td><td></td><td></td><td></td><td>KEGG: mmu04514                </td><td>Cell-Cell Contact</td><td>Vcam1 - (Itga4+Itgb1)   </td><td>Vcam1 </td><td>Itgb1</td></tr>\n",
       "\t<tr><th scope=row>ITGA4_ITGB7_VCAM11</th><td>ITGA4_ITGB7_VCAM1  </td><td>VCAM </td><td>ITGA4_ITGB7</td><td>Vcam1       </td><td></td><td></td><td></td><td></td><td>KEGG: mmu04514                </td><td>Cell-Cell Contact</td><td>Vcam1 - (Itga4+Itgb7)   </td><td>Vcam1 </td><td>Itgb7</td></tr>\n",
       "</tbody>\n",
       "</table>\n"
      ],
      "text/latex": [
       "A data.frame: 6 × 13\n",
       "\\begin{tabular}{r|lllllllllllll}\n",
       "  & interaction\\_name & pathway\\_name & ligand & receptor & agonist & antagonist & co\\_A\\_receptor & co\\_I\\_receptor & evidence & annotation & interaction\\_name\\_2 & ligand\\_name & receptor\\_name\\\\\n",
       "  & <chr> & <chr> & <chr> & <chr> & <chr> & <chr> & <chr> & <chr> & <chr> & <chr> & <chr> & <chr> & <chr>\\\\\n",
       "\\hline\n",
       "\tSEMA6D\\_PLXNA1\\_TREM21 & SEMA6D\\_PLXNA1\\_TREM2 & SEMA6 & Sema6d      & PLXNA1\\_TREM2 &  &  &  &  & PMID: 22325954                 & Cell-Cell Contact & Sema6d  - (Plxna1+Trem2) & Sema6d & Trem2\\\\\n",
       "\tSEMA7A\\_ITGB1\\_ITGA11 & SEMA7A\\_ITGB1\\_ITGA1  & SEMA7 & Sema7a      & ITGB1\\_ITGA1  &  &  &  &  & PMID: 22325954                 & Cell-Cell Contact & Sema7a  - (Itgb1+Itga1)  & Sema7a & Itga1\\\\\n",
       "\tTHY1\\_ITGAM\\_ITGB21 & THY1\\_ITGAM\\_ITGB2    & THY1  & Thy1        & ITGAM\\_ITGB2  &  &  &  &  & PMID: 15850796                 & Cell-Cell Contact & Thy1  - (Itgam+Itgb2)    & Thy1   & Itgb2\\\\\n",
       "\tTHY1\\_ITGAV\\_ITGB31 & THY1\\_ITGAV\\_ITGB3    & THY1  & Thy1        & ITGAV\\_ITGB3  &  &  &  &  & PMID: 29212879; PMID: 18346467 & Cell-Cell Contact & Thy1  - (Itgav+Itgb3)    & Thy1   & Itgb3\\\\\n",
       "\tITGA4\\_ITGB1\\_VCAM11 & ITGA4\\_ITGB1\\_VCAM1   & VCAM  & ITGA4\\_ITGB1 & Vcam1        &  &  &  &  & KEGG: mmu04514                 & Cell-Cell Contact & Vcam1 - (Itga4+Itgb1)    & Vcam1  & Itgb1\\\\\n",
       "\tITGA4\\_ITGB7\\_VCAM11 & ITGA4\\_ITGB7\\_VCAM1   & VCAM  & ITGA4\\_ITGB7 & Vcam1        &  &  &  &  & KEGG: mmu04514                 & Cell-Cell Contact & Vcam1 - (Itga4+Itgb7)    & Vcam1  & Itgb7\\\\\n",
       "\\end{tabular}\n"
      ],
      "text/markdown": [
       "\n",
       "A data.frame: 6 × 13\n",
       "\n",
       "| <!--/--> | interaction_name &lt;chr&gt; | pathway_name &lt;chr&gt; | ligand &lt;chr&gt; | receptor &lt;chr&gt; | agonist &lt;chr&gt; | antagonist &lt;chr&gt; | co_A_receptor &lt;chr&gt; | co_I_receptor &lt;chr&gt; | evidence &lt;chr&gt; | annotation &lt;chr&gt; | interaction_name_2 &lt;chr&gt; | ligand_name &lt;chr&gt; | receptor_name &lt;chr&gt; |\n",
       "|---|---|---|---|---|---|---|---|---|---|---|---|---|---|\n",
       "| SEMA6D_PLXNA1_TREM21 | SEMA6D_PLXNA1_TREM2 | SEMA6 | Sema6d      | PLXNA1_TREM2 | <!----> | <!----> | <!----> | <!----> | PMID: 22325954                 | Cell-Cell Contact | Sema6d  - (Plxna1+Trem2) | Sema6d | Trem2 |\n",
       "| SEMA7A_ITGB1_ITGA11 | SEMA7A_ITGB1_ITGA1  | SEMA7 | Sema7a      | ITGB1_ITGA1  | <!----> | <!----> | <!----> | <!----> | PMID: 22325954                 | Cell-Cell Contact | Sema7a  - (Itgb1+Itga1)  | Sema7a | Itga1 |\n",
       "| THY1_ITGAM_ITGB21 | THY1_ITGAM_ITGB2    | THY1  | Thy1        | ITGAM_ITGB2  | <!----> | <!----> | <!----> | <!----> | PMID: 15850796                 | Cell-Cell Contact | Thy1  - (Itgam+Itgb2)    | Thy1   | Itgb2 |\n",
       "| THY1_ITGAV_ITGB31 | THY1_ITGAV_ITGB3    | THY1  | Thy1        | ITGAV_ITGB3  | <!----> | <!----> | <!----> | <!----> | PMID: 29212879; PMID: 18346467 | Cell-Cell Contact | Thy1  - (Itgav+Itgb3)    | Thy1   | Itgb3 |\n",
       "| ITGA4_ITGB1_VCAM11 | ITGA4_ITGB1_VCAM1   | VCAM  | ITGA4_ITGB1 | Vcam1        | <!----> | <!----> | <!----> | <!----> | KEGG: mmu04514                 | Cell-Cell Contact | Vcam1 - (Itga4+Itgb1)    | Vcam1  | Itgb1 |\n",
       "| ITGA4_ITGB7_VCAM11 | ITGA4_ITGB7_VCAM1   | VCAM  | ITGA4_ITGB7 | Vcam1        | <!----> | <!----> | <!----> | <!----> | KEGG: mmu04514                 | Cell-Cell Contact | Vcam1 - (Itga4+Itgb7)    | Vcam1  | Itgb7 |\n",
       "\n"
      ],
      "text/plain": [
       "                     interaction_name    pathway_name ligand      receptor    \n",
       "SEMA6D_PLXNA1_TREM21 SEMA6D_PLXNA1_TREM2 SEMA6        Sema6d      PLXNA1_TREM2\n",
       "SEMA7A_ITGB1_ITGA11  SEMA7A_ITGB1_ITGA1  SEMA7        Sema7a      ITGB1_ITGA1 \n",
       "THY1_ITGAM_ITGB21    THY1_ITGAM_ITGB2    THY1         Thy1        ITGAM_ITGB2 \n",
       "THY1_ITGAV_ITGB31    THY1_ITGAV_ITGB3    THY1         Thy1        ITGAV_ITGB3 \n",
       "ITGA4_ITGB1_VCAM11   ITGA4_ITGB1_VCAM1   VCAM         ITGA4_ITGB1 Vcam1       \n",
       "ITGA4_ITGB7_VCAM11   ITGA4_ITGB7_VCAM1   VCAM         ITGA4_ITGB7 Vcam1       \n",
       "                     agonist antagonist co_A_receptor co_I_receptor\n",
       "SEMA6D_PLXNA1_TREM21                                               \n",
       "SEMA7A_ITGB1_ITGA11                                                \n",
       "THY1_ITGAM_ITGB21                                                  \n",
       "THY1_ITGAV_ITGB31                                                  \n",
       "ITGA4_ITGB1_VCAM11                                                 \n",
       "ITGA4_ITGB7_VCAM11                                                 \n",
       "                     evidence                       annotation       \n",
       "SEMA6D_PLXNA1_TREM21 PMID: 22325954                 Cell-Cell Contact\n",
       "SEMA7A_ITGB1_ITGA11  PMID: 22325954                 Cell-Cell Contact\n",
       "THY1_ITGAM_ITGB21    PMID: 15850796                 Cell-Cell Contact\n",
       "THY1_ITGAV_ITGB31    PMID: 29212879; PMID: 18346467 Cell-Cell Contact\n",
       "ITGA4_ITGB1_VCAM11   KEGG: mmu04514                 Cell-Cell Contact\n",
       "ITGA4_ITGB7_VCAM11   KEGG: mmu04514                 Cell-Cell Contact\n",
       "                     interaction_name_2       ligand_name receptor_name\n",
       "SEMA6D_PLXNA1_TREM21 Sema6d  - (Plxna1+Trem2) Sema6d      Trem2        \n",
       "SEMA7A_ITGB1_ITGA11  Sema7a  - (Itgb1+Itga1)  Sema7a      Itga1        \n",
       "THY1_ITGAM_ITGB21    Thy1  - (Itgam+Itgb2)    Thy1        Itgb2        \n",
       "THY1_ITGAV_ITGB31    Thy1  - (Itgav+Itgb3)    Thy1        Itgb3        \n",
       "ITGA4_ITGB1_VCAM11   Vcam1 - (Itga4+Itgb1)    Vcam1       Itgb1        \n",
       "ITGA4_ITGB7_VCAM11   Vcam1 - (Itga4+Itgb7)    Vcam1       Itgb7        "
      ]
     },
     "metadata": {},
     "output_type": "display_data"
    }
   ],
   "source": [
    "tail(lr.pair.all.uniq.mm)"
   ]
  },
  {
   "cell_type": "code",
   "execution_count": 101,
   "id": "088e4140",
   "metadata": {},
   "outputs": [
    {
     "data": {
      "text/html": [
       "<style>\n",
       ".list-inline {list-style: none; margin:0; padding: 0}\n",
       ".list-inline>li {display: inline-block}\n",
       ".list-inline>li:not(:last-child)::after {content: \"\\00b7\"; padding: 0 .5ex}\n",
       "</style>\n",
       "<ol class=list-inline><li>1946</li><li>13</li></ol>\n"
      ],
      "text/latex": [
       "\\begin{enumerate*}\n",
       "\\item 1946\n",
       "\\item 13\n",
       "\\end{enumerate*}\n"
      ],
      "text/markdown": [
       "1. 1946\n",
       "2. 13\n",
       "\n",
       "\n"
      ],
      "text/plain": [
       "[1] 1946   13"
      ]
     },
     "metadata": {},
     "output_type": "display_data"
    }
   ],
   "source": [
    "lr.pair.all.uniq.hs <- lr.pair.all.uniq\n",
    "dim(lr.pair.all.uniq.hs)"
   ]
  },
  {
   "cell_type": "code",
   "execution_count": 103,
   "id": "7b57c269",
   "metadata": {},
   "outputs": [
    {
     "data": {
      "text/html": [
       "<table class=\"dataframe\">\n",
       "<caption>A data.frame: 6 × 13</caption>\n",
       "<thead>\n",
       "\t<tr><th></th><th scope=col>interaction_name</th><th scope=col>pathway_name</th><th scope=col>ligand</th><th scope=col>receptor</th><th scope=col>agonist</th><th scope=col>antagonist</th><th scope=col>co_A_receptor</th><th scope=col>co_I_receptor</th><th scope=col>evidence</th><th scope=col>annotation</th><th scope=col>interaction_name_2</th><th scope=col>ligand_name</th><th scope=col>receptor_name</th></tr>\n",
       "\t<tr><th></th><th scope=col>&lt;chr&gt;</th><th scope=col>&lt;chr&gt;</th><th scope=col>&lt;chr&gt;</th><th scope=col>&lt;chr&gt;</th><th scope=col>&lt;chr&gt;</th><th scope=col>&lt;chr&gt;</th><th scope=col>&lt;chr&gt;</th><th scope=col>&lt;chr&gt;</th><th scope=col>&lt;chr&gt;</th><th scope=col>&lt;chr&gt;</th><th scope=col>&lt;chr&gt;</th><th scope=col>&lt;chr&gt;</th><th scope=col>&lt;chr&gt;</th></tr>\n",
       "</thead>\n",
       "<tbody>\n",
       "\t<tr><th scope=row>SEMA6D_PLXNA1_TREM21</th><td>SEMA6D_PLXNA1_TREM2</td><td>SEMA6</td><td>SEMA6D     </td><td>PLXNA1_TREM2</td><td></td><td></td><td></td><td></td><td>PMID: 22325954                </td><td>Cell-Cell Contact</td><td>SEMA6D - (PLXNA1+TREM2)</td><td>SEMA6D</td><td>TREM2</td></tr>\n",
       "\t<tr><th scope=row>SEMA7A_ITGB1_ITGA11</th><td>SEMA7A_ITGB1_ITGA1 </td><td>SEMA7</td><td>SEMA7A     </td><td>ITGB1_ITGA1 </td><td></td><td></td><td></td><td></td><td>PMID: 22325954                </td><td>Cell-Cell Contact</td><td>SEMA7A - (ITGB1+ITGA1) </td><td>SEMA7A</td><td>ITGA1</td></tr>\n",
       "\t<tr><th scope=row>THY1_ITGAM_ITGB21</th><td>THY1_ITGAM_ITGB2   </td><td>THY1 </td><td>THY1       </td><td>ITGAM_ITGB2 </td><td></td><td></td><td></td><td></td><td>PMID: 15850796                </td><td>Cell-Cell Contact</td><td>THY1 - (ITGAM+ITGB2)   </td><td>THY1  </td><td>ITGB2</td></tr>\n",
       "\t<tr><th scope=row>THY1_ITGAV_ITGB31</th><td>THY1_ITGAV_ITGB3   </td><td>THY1 </td><td>THY1       </td><td>ITGAV_ITGB3 </td><td></td><td></td><td></td><td></td><td>PMID: 29212879; PMID: 18346467</td><td>Cell-Cell Contact</td><td>THY1 - (ITGAV+ITGB3)   </td><td>THY1  </td><td>ITGB3</td></tr>\n",
       "\t<tr><th scope=row>ITGA4_ITGB1_VCAM11</th><td>ITGA4_ITGB1_VCAM1  </td><td>VCAM </td><td>ITGA4_ITGB1</td><td>VCAM1       </td><td></td><td></td><td></td><td></td><td>KEGG: hsa04514                </td><td>Cell-Cell Contact</td><td>VCAM1 - (ITGA4+ITGB1)  </td><td>VCAM1 </td><td>ITGB1</td></tr>\n",
       "\t<tr><th scope=row>ITGA4_ITGB7_VCAM11</th><td>ITGA4_ITGB7_VCAM1  </td><td>VCAM </td><td>ITGA4_ITGB7</td><td>VCAM1       </td><td></td><td></td><td></td><td></td><td>KEGG: hsa04514                </td><td>Cell-Cell Contact</td><td>VCAM1 - (ITGA4+ITGB7)  </td><td>VCAM1 </td><td>ITGB7</td></tr>\n",
       "</tbody>\n",
       "</table>\n"
      ],
      "text/latex": [
       "A data.frame: 6 × 13\n",
       "\\begin{tabular}{r|lllllllllllll}\n",
       "  & interaction\\_name & pathway\\_name & ligand & receptor & agonist & antagonist & co\\_A\\_receptor & co\\_I\\_receptor & evidence & annotation & interaction\\_name\\_2 & ligand\\_name & receptor\\_name\\\\\n",
       "  & <chr> & <chr> & <chr> & <chr> & <chr> & <chr> & <chr> & <chr> & <chr> & <chr> & <chr> & <chr> & <chr>\\\\\n",
       "\\hline\n",
       "\tSEMA6D\\_PLXNA1\\_TREM21 & SEMA6D\\_PLXNA1\\_TREM2 & SEMA6 & SEMA6D      & PLXNA1\\_TREM2 &  &  &  &  & PMID: 22325954                 & Cell-Cell Contact & SEMA6D - (PLXNA1+TREM2) & SEMA6D & TREM2\\\\\n",
       "\tSEMA7A\\_ITGB1\\_ITGA11 & SEMA7A\\_ITGB1\\_ITGA1  & SEMA7 & SEMA7A      & ITGB1\\_ITGA1  &  &  &  &  & PMID: 22325954                 & Cell-Cell Contact & SEMA7A - (ITGB1+ITGA1)  & SEMA7A & ITGA1\\\\\n",
       "\tTHY1\\_ITGAM\\_ITGB21 & THY1\\_ITGAM\\_ITGB2    & THY1  & THY1        & ITGAM\\_ITGB2  &  &  &  &  & PMID: 15850796                 & Cell-Cell Contact & THY1 - (ITGAM+ITGB2)    & THY1   & ITGB2\\\\\n",
       "\tTHY1\\_ITGAV\\_ITGB31 & THY1\\_ITGAV\\_ITGB3    & THY1  & THY1        & ITGAV\\_ITGB3  &  &  &  &  & PMID: 29212879; PMID: 18346467 & Cell-Cell Contact & THY1 - (ITGAV+ITGB3)    & THY1   & ITGB3\\\\\n",
       "\tITGA4\\_ITGB1\\_VCAM11 & ITGA4\\_ITGB1\\_VCAM1   & VCAM  & ITGA4\\_ITGB1 & VCAM1        &  &  &  &  & KEGG: hsa04514                 & Cell-Cell Contact & VCAM1 - (ITGA4+ITGB1)   & VCAM1  & ITGB1\\\\\n",
       "\tITGA4\\_ITGB7\\_VCAM11 & ITGA4\\_ITGB7\\_VCAM1   & VCAM  & ITGA4\\_ITGB7 & VCAM1        &  &  &  &  & KEGG: hsa04514                 & Cell-Cell Contact & VCAM1 - (ITGA4+ITGB7)   & VCAM1  & ITGB7\\\\\n",
       "\\end{tabular}\n"
      ],
      "text/markdown": [
       "\n",
       "A data.frame: 6 × 13\n",
       "\n",
       "| <!--/--> | interaction_name &lt;chr&gt; | pathway_name &lt;chr&gt; | ligand &lt;chr&gt; | receptor &lt;chr&gt; | agonist &lt;chr&gt; | antagonist &lt;chr&gt; | co_A_receptor &lt;chr&gt; | co_I_receptor &lt;chr&gt; | evidence &lt;chr&gt; | annotation &lt;chr&gt; | interaction_name_2 &lt;chr&gt; | ligand_name &lt;chr&gt; | receptor_name &lt;chr&gt; |\n",
       "|---|---|---|---|---|---|---|---|---|---|---|---|---|---|\n",
       "| SEMA6D_PLXNA1_TREM21 | SEMA6D_PLXNA1_TREM2 | SEMA6 | SEMA6D      | PLXNA1_TREM2 | <!----> | <!----> | <!----> | <!----> | PMID: 22325954                 | Cell-Cell Contact | SEMA6D - (PLXNA1+TREM2) | SEMA6D | TREM2 |\n",
       "| SEMA7A_ITGB1_ITGA11 | SEMA7A_ITGB1_ITGA1  | SEMA7 | SEMA7A      | ITGB1_ITGA1  | <!----> | <!----> | <!----> | <!----> | PMID: 22325954                 | Cell-Cell Contact | SEMA7A - (ITGB1+ITGA1)  | SEMA7A | ITGA1 |\n",
       "| THY1_ITGAM_ITGB21 | THY1_ITGAM_ITGB2    | THY1  | THY1        | ITGAM_ITGB2  | <!----> | <!----> | <!----> | <!----> | PMID: 15850796                 | Cell-Cell Contact | THY1 - (ITGAM+ITGB2)    | THY1   | ITGB2 |\n",
       "| THY1_ITGAV_ITGB31 | THY1_ITGAV_ITGB3    | THY1  | THY1        | ITGAV_ITGB3  | <!----> | <!----> | <!----> | <!----> | PMID: 29212879; PMID: 18346467 | Cell-Cell Contact | THY1 - (ITGAV+ITGB3)    | THY1   | ITGB3 |\n",
       "| ITGA4_ITGB1_VCAM11 | ITGA4_ITGB1_VCAM1   | VCAM  | ITGA4_ITGB1 | VCAM1        | <!----> | <!----> | <!----> | <!----> | KEGG: hsa04514                 | Cell-Cell Contact | VCAM1 - (ITGA4+ITGB1)   | VCAM1  | ITGB1 |\n",
       "| ITGA4_ITGB7_VCAM11 | ITGA4_ITGB7_VCAM1   | VCAM  | ITGA4_ITGB7 | VCAM1        | <!----> | <!----> | <!----> | <!----> | KEGG: hsa04514                 | Cell-Cell Contact | VCAM1 - (ITGA4+ITGB7)   | VCAM1  | ITGB7 |\n",
       "\n"
      ],
      "text/plain": [
       "                     interaction_name    pathway_name ligand      receptor    \n",
       "SEMA6D_PLXNA1_TREM21 SEMA6D_PLXNA1_TREM2 SEMA6        SEMA6D      PLXNA1_TREM2\n",
       "SEMA7A_ITGB1_ITGA11  SEMA7A_ITGB1_ITGA1  SEMA7        SEMA7A      ITGB1_ITGA1 \n",
       "THY1_ITGAM_ITGB21    THY1_ITGAM_ITGB2    THY1         THY1        ITGAM_ITGB2 \n",
       "THY1_ITGAV_ITGB31    THY1_ITGAV_ITGB3    THY1         THY1        ITGAV_ITGB3 \n",
       "ITGA4_ITGB1_VCAM11   ITGA4_ITGB1_VCAM1   VCAM         ITGA4_ITGB1 VCAM1       \n",
       "ITGA4_ITGB7_VCAM11   ITGA4_ITGB7_VCAM1   VCAM         ITGA4_ITGB7 VCAM1       \n",
       "                     agonist antagonist co_A_receptor co_I_receptor\n",
       "SEMA6D_PLXNA1_TREM21                                               \n",
       "SEMA7A_ITGB1_ITGA11                                                \n",
       "THY1_ITGAM_ITGB21                                                  \n",
       "THY1_ITGAV_ITGB31                                                  \n",
       "ITGA4_ITGB1_VCAM11                                                 \n",
       "ITGA4_ITGB7_VCAM11                                                 \n",
       "                     evidence                       annotation       \n",
       "SEMA6D_PLXNA1_TREM21 PMID: 22325954                 Cell-Cell Contact\n",
       "SEMA7A_ITGB1_ITGA11  PMID: 22325954                 Cell-Cell Contact\n",
       "THY1_ITGAM_ITGB21    PMID: 15850796                 Cell-Cell Contact\n",
       "THY1_ITGAV_ITGB31    PMID: 29212879; PMID: 18346467 Cell-Cell Contact\n",
       "ITGA4_ITGB1_VCAM11   KEGG: hsa04514                 Cell-Cell Contact\n",
       "ITGA4_ITGB7_VCAM11   KEGG: hsa04514                 Cell-Cell Contact\n",
       "                     interaction_name_2      ligand_name receptor_name\n",
       "SEMA6D_PLXNA1_TREM21 SEMA6D - (PLXNA1+TREM2) SEMA6D      TREM2        \n",
       "SEMA7A_ITGB1_ITGA11  SEMA7A - (ITGB1+ITGA1)  SEMA7A      ITGA1        \n",
       "THY1_ITGAM_ITGB21    THY1 - (ITGAM+ITGB2)    THY1        ITGB2        \n",
       "THY1_ITGAV_ITGB31    THY1 - (ITGAV+ITGB3)    THY1        ITGB3        \n",
       "ITGA4_ITGB1_VCAM11   VCAM1 - (ITGA4+ITGB1)   VCAM1       ITGB1        \n",
       "ITGA4_ITGB7_VCAM11   VCAM1 - (ITGA4+ITGB7)   VCAM1       ITGB7        "
      ]
     },
     "metadata": {},
     "output_type": "display_data"
    }
   ],
   "source": [
    "tail(lr.pair.all.uniq.hs)"
   ]
  },
  {
   "cell_type": "code",
   "execution_count": 104,
   "id": "ecd81d1d",
   "metadata": {},
   "outputs": [],
   "source": [
    "save(gene.anno.GRCh38.v3, gene.anno.mm10.v3, MGI.gene.pairs, HGNC.gene.pairs, JASPAR.motif.rmDup, \n",
    "     lr.pair.all.uniq.mm, lr.pair.all.uniq.hs,\n",
    "                file = \"/home/lizhixin/project/bt2m/bt2m/data/GRCh38.mm10.gene.annotation.Rdata\")"
   ]
  },
  {
   "cell_type": "code",
   "execution_count": null,
   "id": "aaed6e05",
   "metadata": {},
   "outputs": [],
   "source": []
  }
 ],
 "metadata": {
  "kernelspec": {
   "display_name": "R 4.1",
   "language": "R",
   "name": "ir41"
  },
  "language_info": {
   "codemirror_mode": "r",
   "file_extension": ".r",
   "mimetype": "text/x-r-source",
   "name": "R",
   "pygments_lexer": "r",
   "version": "4.1.3"
  },
  "toc": {
   "base_numbering": 1,
   "nav_menu": {},
   "number_sections": true,
   "sideBar": true,
   "skip_h1_title": false,
   "title_cell": "Table of Contents",
   "title_sidebar": "Contents",
   "toc_cell": false,
   "toc_position": {
    "height": "calc(100% - 180px)",
    "left": "10px",
    "top": "150px",
    "width": "384px"
   },
   "toc_section_display": true,
   "toc_window_display": true
  }
 },
 "nbformat": 4,
 "nbformat_minor": 5
}
